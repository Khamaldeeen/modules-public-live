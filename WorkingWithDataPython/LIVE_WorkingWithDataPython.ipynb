{
 "cells": [
  {
   "cell_type": "markdown",
   "id": "b401f1a1",
   "metadata": {},
   "source": [
    "# Working with Data: Introduction to Python\n",
    "<font color=indigo>Live Workshop</font>\n",
    "\n",
    "---\n",
    "\n",
    "* This document is a technical brainstorm (like whiteboarding with code). \n",
    "    * I'll give you this and any other assets over the break. \n",
    "    * No need to follow along live.\n",
    "* If you don't have access to a jupyter installation, you can try the following link, \n",
    "    * https://jupyterlite.readthedocs.io/en/latest/_static/retro/notebooks/index.html\n",
    "    * Press `File > New`\n",
    "    * **this may take a few minutes to load**\n",
    "---\n",
    " "
   ]
  },
  {
   "cell_type": "markdown",
   "id": "9cadc951",
   "metadata": {},
   "source": [
    "## Lesson Plan\n",
    "\n",
    "* <font color=green>Introductions (20 min)</font>\n",
    "* <font color=green>Part 0: Review (30 min)</font>\n",
    "    * Python Warm Up (15 min)\n",
    "    * <font color=blue>Individual Challenge (15 min)</font>\n",
    "* <font color=green>Break & Admin (20 min)</font>\n",
    "    * Our Values, Learning Objectives, Menti Self-Assess, ...\n",
    "* <font color=green>Part 1: Basic Syntax (40 min)</font>\n",
    "    * Discussion (20 min)\n",
    "    * <font color=blue>Individual Challenges (20 min)</font>\n",
    "* <font color=green>Part 2: Looping (40 min)</font>\n",
    "    * Discussion (10 min)\n",
    "    * <font color=blue>Group Challenges (30 min)</font>\n",
    "* <font color=green>Break (10min)</font>\n",
    "* <font color=green>Part 3: Advanced Syntax (40 min)</font>\n",
    "    * Discussion (20 min)\n",
    "    * <font color=blue>Individual Challenges (20 min)</font>\n",
    "* <font color=green>Reivew & End (>5 min)</font>"
   ]
  },
  {
   "cell_type": "markdown",
   "id": "f2142062",
   "metadata": {},
   "source": [
    "## Introductions\n",
    "* Name\n",
    "* Background/Role\n",
    "* Prior Experience\n",
    "* Hobby"
   ]
  },
  {
   "cell_type": "markdown",
   "id": "2853320a",
   "metadata": {},
   "source": [
    "---"
   ]
  },
  {
   "cell_type": "markdown",
   "id": "aca32d19",
   "metadata": {},
   "source": [
    "## Part 0: Review"
   ]
  },
  {
   "cell_type": "markdown",
   "id": "06fadc45",
   "metadata": {},
   "source": [
    "### Variables & Operations"
   ]
  },
  {
   "cell_type": "markdown",
   "id": "c2e3a4bc",
   "metadata": {},
   "source": [
    "Q. What symbol *assigns* a value to a variable?"
   ]
  },
  {
   "cell_type": "code",
   "execution_count": 169,
   "id": "045c3414",
   "metadata": {},
   "outputs": [],
   "source": [
    "name = \"Michael Burgess\" # ASSIGNMENT OPERATOR\n",
    "age = 33\n",
    "height = 1.81\n",
    "is_tired = True"
   ]
  },
  {
   "cell_type": "markdown",
   "id": "7ee977e4",
   "metadata": {},
   "source": [
    "Q. What's the type of this data?"
   ]
  },
  {
   "cell_type": "code",
   "execution_count": 171,
   "id": "b665a483",
   "metadata": {},
   "outputs": [
    {
     "data": {
      "text/plain": [
       "(str, int, float, bool)"
      ]
     },
     "execution_count": 171,
     "metadata": {},
     "output_type": "execute_result"
    }
   ],
   "source": [
    "type(name), type(age), type(height), type(is_tired)"
   ]
  },
  {
   "cell_type": "markdown",
   "id": "56d53bd7",
   "metadata": {},
   "source": [
    "### Printing"
   ]
  },
  {
   "cell_type": "code",
   "execution_count": 4,
   "id": "60c5813b",
   "metadata": {},
   "outputs": [
    {
     "name": "stdout",
     "output_type": "stream",
     "text": [
      "Hello my name is Michael\n"
     ]
    }
   ],
   "source": [
    "print(\"Hello my name is Michael\")"
   ]
  },
  {
   "cell_type": "markdown",
   "id": "9e8dc3de",
   "metadata": {},
   "source": [
    "**Aside**: You can include the value of variables using `{}` (braces) if you prefix the *string* with an `f` symbol,"
   ]
  },
  {
   "cell_type": "code",
   "execution_count": 5,
   "id": "38520690",
   "metadata": {},
   "outputs": [
    {
     "name": "stdout",
     "output_type": "stream",
     "text": [
      "Hello my name is Michael Burgess and my age is 33\n"
     ]
    }
   ],
   "source": [
    "print(f\"Hello my name is {name} and my age is {age}\")"
   ]
  },
  {
   "cell_type": "markdown",
   "id": "f46c25f9",
   "metadata": {},
   "source": [
    "...`f` for *format*"
   ]
  },
  {
   "cell_type": "markdown",
   "id": "21e4c6c9",
   "metadata": {},
   "source": [
    "### Data Structures & Conversions"
   ]
  },
  {
   "cell_type": "code",
   "execution_count": 9,
   "id": "f3db88a3",
   "metadata": {},
   "outputs": [],
   "source": [
    "hobbies = [\"Sailing\", \"Ceramics\", \"Arguing\"]"
   ]
  },
  {
   "cell_type": "markdown",
   "id": "85cc3d1c",
   "metadata": {},
   "source": [
    "Q. What's the type of `hobbies`?"
   ]
  },
  {
   "cell_type": "code",
   "execution_count": 33,
   "id": "97159661",
   "metadata": {},
   "outputs": [
    {
     "data": {
      "text/plain": [
       "list"
      ]
     },
     "execution_count": 33,
     "metadata": {},
     "output_type": "execute_result"
    }
   ],
   "source": [
    "type(hobbies)"
   ]
  },
  {
   "cell_type": "markdown",
   "id": "ad56ba95",
   "metadata": {},
   "source": [
    "The first `hobbies` is a string,"
   ]
  },
  {
   "cell_type": "code",
   "execution_count": 8,
   "id": "b063f8e1",
   "metadata": {},
   "outputs": [
    {
     "data": {
      "text/plain": [
       "'Sailing'"
      ]
     },
     "execution_count": 8,
     "metadata": {},
     "output_type": "execute_result"
    }
   ],
   "source": [
    "hobbies[0]"
   ]
  },
  {
   "cell_type": "markdown",
   "id": "6b9f9872",
   "metadata": {},
   "source": [
    "The *indexes* of a list are (somewhat like) page numbers, in that they identify the position of some data, "
   ]
  },
  {
   "cell_type": "code",
   "execution_count": 16,
   "id": "17fb74e9",
   "metadata": {},
   "outputs": [],
   "source": [
    "page = 0"
   ]
  },
  {
   "cell_type": "code",
   "execution_count": 17,
   "id": "85e2e5c1",
   "metadata": {},
   "outputs": [
    {
     "name": "stdout",
     "output_type": "stream",
     "text": [
      "Sailing\n"
     ]
    }
   ],
   "source": [
    "print(hobbies[page])"
   ]
  },
  {
   "cell_type": "code",
   "execution_count": 15,
   "id": "e57cd184",
   "metadata": {},
   "outputs": [
    {
     "name": "stdout",
     "output_type": "stream",
     "text": [
      "Sailing Ceramics\n"
     ]
    }
   ],
   "source": [
    "print(hobbies[0], hobbies[1])"
   ]
  },
  {
   "cell_type": "markdown",
   "id": "a07c9f15",
   "metadata": {},
   "source": [
    "---"
   ]
  },
  {
   "cell_type": "markdown",
   "id": "9747f2e5",
   "metadata": {},
   "source": [
    "#### Aside\n",
    "Python has other complex data structures. Eg., consider a *dictionary* which relates *keys* to *values*,"
   ]
  },
  {
   "cell_type": "code",
   "execution_count": 11,
   "id": "95f71ec7",
   "metadata": {},
   "outputs": [],
   "source": [
    "register = {\n",
    "    # KEY : VALUE\n",
    "    'Jaz': True,\n",
    "    'Sara': True,\n",
    "    'Sherlock': False\n",
    "}"
   ]
  },
  {
   "cell_type": "code",
   "execution_count": 12,
   "id": "016d690b",
   "metadata": {},
   "outputs": [
    {
     "data": {
      "text/plain": [
       "(list, dict)"
      ]
     },
     "execution_count": 12,
     "metadata": {},
     "output_type": "execute_result"
    }
   ],
   "source": [
    "type(hobbies), type(register)"
   ]
  },
  {
   "cell_type": "markdown",
   "id": "7691bf0e",
   "metadata": {},
   "source": [
    "A dictionary allows you to use a named index (rather than just a *sequential* index, ie., a counted one), "
   ]
  },
  {
   "cell_type": "code",
   "execution_count": 18,
   "id": "9e56a113",
   "metadata": {},
   "outputs": [
    {
     "data": {
      "text/plain": [
       "True"
      ]
     },
     "execution_count": 18,
     "metadata": {},
     "output_type": "execute_result"
    }
   ],
   "source": [
    "register['Jaz']"
   ]
  },
  {
   "cell_type": "markdown",
   "id": "4e443691",
   "metadata": {},
   "source": [
    "---"
   ]
  },
  {
   "cell_type": "markdown",
   "id": "1349d205",
   "metadata": {},
   "source": [
    "### Importing"
   ]
  },
  {
   "cell_type": "markdown",
   "id": "8444eeb4",
   "metadata": {},
   "source": [
    "Q. What keyword *imports* a module?"
   ]
  },
  {
   "cell_type": "code",
   "execution_count": 21,
   "id": "f844d46e",
   "metadata": {},
   "outputs": [],
   "source": [
    "import statistics"
   ]
  },
  {
   "cell_type": "markdown",
   "id": "cf9efd77",
   "metadata": {},
   "source": [
    "Q. How would I run the `mean` function ( defined *inside* the `statistics` module)?"
   ]
  },
  {
   "cell_type": "code",
   "execution_count": 23,
   "id": "d5edecc4",
   "metadata": {
    "scrolled": true
   },
   "outputs": [
    {
     "data": {
      "text/plain": [
       "<function statistics.mean(data)>"
      ]
     },
     "execution_count": 23,
     "metadata": {},
     "output_type": "execute_result"
    }
   ],
   "source": [
    "statistics.mean # the name of the function"
   ]
  },
  {
   "cell_type": "markdown",
   "id": "89ca5fa7",
   "metadata": {},
   "source": [
    "Running the function,"
   ]
  },
  {
   "cell_type": "code",
   "execution_count": 26,
   "id": "0cae638c",
   "metadata": {
    "scrolled": true
   },
   "outputs": [
    {
     "data": {
      "text/plain": [
       "4.333333333333333"
      ]
     },
     "execution_count": 26,
     "metadata": {},
     "output_type": "execute_result"
    }
   ],
   "source": [
    "statistics.mean([2, 4, 7]) # to run the function we write () parentheses after the name"
   ]
  },
  {
   "cell_type": "markdown",
   "id": "8c564515",
   "metadata": {},
   "source": [
    "### Summarizing Functions"
   ]
  },
  {
   "cell_type": "markdown",
   "id": "d0433f55",
   "metadata": {},
   "source": [
    "Q. What built-in functions would help me describe a data-set?"
   ]
  },
  {
   "cell_type": "markdown",
   "id": "56abe2cf",
   "metadata": {},
   "source": [
    "* `len`\n",
    "* `sum`\n",
    "* `statistics.mean`\n",
    "* `statistics.median`\n",
    "* `statistics.mode`\n",
    "* `statistics.stdev`"
   ]
  },
  {
   "cell_type": "markdown",
   "id": "02110bfb",
   "metadata": {},
   "source": [
    "There are `6` elements in the following list,"
   ]
  },
  {
   "cell_type": "code",
   "execution_count": 30,
   "id": "4a8018bf",
   "metadata": {},
   "outputs": [
    {
     "data": {
      "text/plain": [
       "6"
      ]
     },
     "execution_count": 30,
     "metadata": {},
     "output_type": "execute_result"
    }
   ],
   "source": [
    "cities = [0, 2, 2, 2, 2, 4]\n",
    "\n",
    "len(cities)"
   ]
  },
  {
   "cell_type": "markdown",
   "id": "0488c2cc",
   "metadata": {},
   "source": [
    "---"
   ]
  },
  {
   "cell_type": "markdown",
   "id": "13876b5d",
   "metadata": {},
   "source": [
    "### Challenges (<= 15min)\n",
    "\n",
    "#### 0. Summarizing Data \n",
    "\n",
    "* Create a new notebook in your jupyter application\n",
    "* Consider a problem of your own choosing\n",
    "    * eg., in retail, finance, health, ....\n",
    "    * consider a numerical dataset (ie., a quantitative variable = float)\n",
    "        * define a variable which is a list of numbers with **7** entries\n",
    "    * consider a categorical dataset (ie., a qualitative variable = string)\n",
    "        * define a variable which is a list of string **7** entries\n",
    "* Run the above summary functions on your lists\n",
    "    * STRETCH: neatly print out the results"
   ]
  },
  {
   "cell_type": "code",
   "execution_count": 111,
   "id": "9080b998",
   "metadata": {},
   "outputs": [],
   "source": [
    "# SOLUTION"
   ]
  },
  {
   "cell_type": "markdown",
   "id": "940306b3",
   "metadata": {},
   "source": [
    "    \n",
    "#### Solution 0. Summarizing Data"
   ]
  },
  {
   "cell_type": "code",
   "execution_count": 91,
   "id": "bd7fd431",
   "metadata": {},
   "outputs": [
    {
     "name": "stdout",
     "output_type": "stream",
     "text": [
      "CAFFEINE REPORT\n",
      "No. Entires:  5\n",
      "Total:  1350\n",
      "Mean:  270\n",
      "Mode:  300\n",
      "Median:  200\n",
      "\n",
      "SLEEP REPORT\n",
      "No. Entires:  5\n",
      "Mode:  GOOD\n",
      "Median:  GOOD\n"
     ]
    }
   ],
   "source": [
    "caffeine = [300, 600, 100, 200, 150]\n",
    "sleep = [\"GOOD\", \"BAD\", \"EXCELLENT\", \"GOOD\", \"OK\"]\n",
    "\n",
    "print(\"CAFFEINE REPORT\")\n",
    "print(\"No. Entires: \", len(caffeine))\n",
    "print(\"Total: \", sum(caffeine))\n",
    "print(\"Mean: \", statistics.mean(caffeine))\n",
    "print(\"Mode: \", statistics.mode(caffeine))\n",
    "print(\"Median: \", statistics.median(caffeine))\n",
    "print() # an empty line\n",
    "\n",
    "print(\"SLEEP REPORT\")\n",
    "print(\"No. Entires: \", len(sleep))\n",
    "print(\"Mode: \", statistics.mode(sleep))\n",
    "print(\"Median: \", statistics.median(sleep))\n"
   ]
  },
  {
   "cell_type": "markdown",
   "id": "37a4ecff",
   "metadata": {},
   "source": [
    "---"
   ]
  },
  {
   "cell_type": "markdown",
   "id": "4cac528f",
   "metadata": {},
   "source": [
    "## Part 1: Basic Syntax"
   ]
  },
  {
   "cell_type": "markdown",
   "id": "d356a8ea",
   "metadata": {},
   "source": [
    "### Lists"
   ]
  },
  {
   "cell_type": "markdown",
   "id": "83404544",
   "metadata": {},
   "source": [
    "Lists are defined with square brackets,"
   ]
  },
  {
   "cell_type": "code",
   "execution_count": 44,
   "id": "16b8c2d6",
   "metadata": {},
   "outputs": [],
   "source": [
    "prices = [1.20, 2.40, 5.5]"
   ]
  },
  {
   "cell_type": "markdown",
   "id": "094b373f",
   "metadata": {},
   "source": [
    "indexes start at zero and increase by one,"
   ]
  },
  {
   "cell_type": "code",
   "execution_count": 47,
   "id": "d6df5240",
   "metadata": {},
   "outputs": [
    {
     "data": {
      "text/plain": [
       "(1.2, 2.4, 5.5)"
      ]
     },
     "execution_count": 47,
     "metadata": {},
     "output_type": "execute_result"
    }
   ],
   "source": [
    "prices[0], prices[1], prices[2]"
   ]
  },
  {
   "cell_type": "markdown",
   "id": "2d415154",
   "metadata": {},
   "source": [
    "We can also go backwards through a list, *ending* at `-1`, (end page: 2, also: -1)"
   ]
  },
  {
   "cell_type": "code",
   "execution_count": 49,
   "id": "f6abf619",
   "metadata": {},
   "outputs": [
    {
     "data": {
      "text/plain": [
       "(5.5, 2.4)"
      ]
     },
     "execution_count": 49,
     "metadata": {},
     "output_type": "execute_result"
    }
   ],
   "source": [
    "prices[-1], prices[-2]"
   ]
  },
  {
   "cell_type": "markdown",
   "id": "9edd8b44",
   "metadata": {},
   "source": [
    "Q. How do you add elements to a list?"
   ]
  },
  {
   "cell_type": "code",
   "execution_count": 70,
   "id": "eb2643a5",
   "metadata": {},
   "outputs": [],
   "source": [
    "prices.append(6.55)"
   ]
  },
  {
   "cell_type": "code",
   "execution_count": 51,
   "id": "a5f67263",
   "metadata": {},
   "outputs": [
    {
     "data": {
      "text/plain": [
       "[1.2, 2.4, 5.5, 6.55]"
      ]
     },
     "execution_count": 51,
     "metadata": {},
     "output_type": "execute_result"
    }
   ],
   "source": [
    "prices"
   ]
  },
  {
   "cell_type": "markdown",
   "id": "81568f14",
   "metadata": {},
   "source": [
    "Q. How do you add an element *at a position*?"
   ]
  },
  {
   "cell_type": "code",
   "execution_count": 52,
   "id": "ea73a4cc",
   "metadata": {},
   "outputs": [],
   "source": [
    "prices.insert(0, 0.51)"
   ]
  },
  {
   "cell_type": "code",
   "execution_count": 53,
   "id": "29048331",
   "metadata": {},
   "outputs": [
    {
     "data": {
      "text/plain": [
       "[0.51, 1.2, 2.4, 5.5, 6.55]"
      ]
     },
     "execution_count": 53,
     "metadata": {},
     "output_type": "execute_result"
    }
   ],
   "source": [
    "prices"
   ]
  },
  {
   "cell_type": "markdown",
   "id": "c4cb83f1",
   "metadata": {},
   "source": [
    "recall, `sleep`, "
   ]
  },
  {
   "cell_type": "code",
   "execution_count": 54,
   "id": "94373688",
   "metadata": {},
   "outputs": [
    {
     "data": {
      "text/plain": [
       "['GOOD', 'BAD', 'EXCELLENT', 'GOOD', 'OK']"
      ]
     },
     "execution_count": 54,
     "metadata": {},
     "output_type": "execute_result"
    }
   ],
   "source": [
    "sleep"
   ]
  },
  {
   "cell_type": "markdown",
   "id": "7336abac",
   "metadata": {},
   "source": [
    "Q. How do you count the number of entires which match a given value?"
   ]
  },
  {
   "cell_type": "code",
   "execution_count": 56,
   "id": "92daf8e6",
   "metadata": {},
   "outputs": [
    {
     "data": {
      "text/plain": [
       "2"
      ]
     },
     "execution_count": 56,
     "metadata": {},
     "output_type": "execute_result"
    }
   ],
   "source": [
    "sleep.count(\"GOOD\")"
   ]
  },
  {
   "cell_type": "markdown",
   "id": "c547cf70",
   "metadata": {},
   "source": [
    "In the syntax `o.m()` we refer to the dataset `o` as an *object* and the operation which is applied to the data, a *method*. "
   ]
  },
  {
   "cell_type": "markdown",
   "id": "0331ac8e",
   "metadata": {},
   "source": [
    "### Syntax Errors"
   ]
  },
  {
   "cell_type": "markdown",
   "id": "47d125d1",
   "metadata": {},
   "source": [
    "Learning python takes years.\n",
    "\n",
    "* learning to program (years)\n",
    "    * <font color=indigo>**learning syntax**</font> (important early skill)\n",
    "        * adjusting your *reading* to technical code \n",
    "        * not like mathematics, or literature -- both ambiguous\n",
    "        * highly precise\n",
    "    * learning algorithms\n",
    "        * and their behaviour\n",
    "    * learning phrasing\n",
    "* learning python\n",
    "    * specifics of pythons: syntax, ....\n"
   ]
  },
  {
   "cell_type": "markdown",
   "id": "393a1ef7",
   "metadata": {},
   "source": [
    "##### Equality & Assignment"
   ]
  },
  {
   "cell_type": "markdown",
   "id": "31880da5",
   "metadata": {},
   "source": [
    "In mathematics: $x = y$ is the same as $y = x$"
   ]
  },
  {
   "cell_type": "markdown",
   "id": "05bd41b4",
   "metadata": {},
   "source": [
    "In python programming `=` means *assignement*, it only reads/works *LEFT-TO-RIGHT*,"
   ]
  },
  {
   "cell_type": "code",
   "execution_count": 66,
   "id": "6313192a",
   "metadata": {},
   "outputs": [],
   "source": [
    "name = \"Michael\""
   ]
  },
  {
   "cell_type": "code",
   "execution_count": 67,
   "id": "49ae7288",
   "metadata": {},
   "outputs": [
    {
     "ename": "SyntaxError",
     "evalue": "cannot assign to literal (2134918280.py, line 1)",
     "output_type": "error",
     "traceback": [
      "\u001b[0;36m  Input \u001b[0;32mIn [67]\u001b[0;36m\u001b[0m\n\u001b[0;31m    \"Michael\" = name\u001b[0m\n\u001b[0m    ^\u001b[0m\n\u001b[0;31mSyntaxError\u001b[0m\u001b[0;31m:\u001b[0m cannot assign to literal\n"
     ]
    }
   ],
   "source": [
    "\"Michael\" = name"
   ]
  },
  {
   "cell_type": "markdown",
   "id": "fe0a4811",
   "metadata": {},
   "source": [
    "Q. What is the symbol for equality?"
   ]
  },
  {
   "cell_type": "code",
   "execution_count": 68,
   "id": "c7c43ba6",
   "metadata": {},
   "outputs": [
    {
     "data": {
      "text/plain": [
       "True"
      ]
     },
     "execution_count": 68,
     "metadata": {},
     "output_type": "execute_result"
    }
   ],
   "source": [
    "5 == (1 + 4)"
   ]
  },
  {
   "cell_type": "code",
   "execution_count": 69,
   "id": "71cda049",
   "metadata": {},
   "outputs": [
    {
     "data": {
      "text/plain": [
       "True"
      ]
     },
     "execution_count": 69,
     "metadata": {},
     "output_type": "execute_result"
    }
   ],
   "source": [
    "(1 + 4) == 5"
   ]
  },
  {
   "cell_type": "markdown",
   "id": "667d973b",
   "metadata": {},
   "source": [
    "##### Quotes"
   ]
  },
  {
   "cell_type": "markdown",
   "id": "a7f68492",
   "metadata": {},
   "source": [
    "Quotes need to be exact,"
   ]
  },
  {
   "cell_type": "code",
   "execution_count": 57,
   "id": "22aafbec",
   "metadata": {},
   "outputs": [
    {
     "ename": "SyntaxError",
     "evalue": "EOL while scanning string literal (3403272755.py, line 1)",
     "output_type": "error",
     "traceback": [
      "\u001b[0;36m  Input \u001b[0;32mIn [57]\u001b[0;36m\u001b[0m\n\u001b[0;31m    \" Hello   '\u001b[0m\n\u001b[0m               ^\u001b[0m\n\u001b[0;31mSyntaxError\u001b[0m\u001b[0;31m:\u001b[0m EOL while scanning string literal\n"
     ]
    }
   ],
   "source": [
    "\" Hello   '"
   ]
  },
  {
   "cell_type": "markdown",
   "id": "0f43c3f3",
   "metadata": {},
   "source": [
    "##### Brackets"
   ]
  },
  {
   "cell_type": "markdown",
   "id": "1e518a3f",
   "metadata": {},
   "source": [
    "* `()` parentheses\n",
    "* `[]` square brackets\n",
    "* `{}` braces"
   ]
  },
  {
   "cell_type": "code",
   "execution_count": 59,
   "id": "873a23e2",
   "metadata": {},
   "outputs": [
    {
     "ename": "TypeError",
     "evalue": "'list' object is not callable",
     "output_type": "error",
     "traceback": [
      "\u001b[0;31m---------------------------------------------------------------------------\u001b[0m",
      "\u001b[0;31mTypeError\u001b[0m                                 Traceback (most recent call last)",
      "Input \u001b[0;32mIn [59]\u001b[0m, in \u001b[0;36m<cell line: 1>\u001b[0;34m()\u001b[0m\n\u001b[0;32m----> 1\u001b[0m \u001b[43mprices\u001b[49m\u001b[43m(\u001b[49m\u001b[38;5;241;43m0\u001b[39;49m\u001b[43m)\u001b[49m\n",
      "\u001b[0;31mTypeError\u001b[0m: 'list' object is not callable"
     ]
    }
   ],
   "source": [
    "prices(0)"
   ]
  },
  {
   "cell_type": "markdown",
   "id": "25409dd6",
   "metadata": {},
   "source": [
    "Q. Rather than *parentheses*, we should use..?"
   ]
  },
  {
   "cell_type": "code",
   "execution_count": 60,
   "id": "fc8fabf9",
   "metadata": {},
   "outputs": [
    {
     "data": {
      "text/plain": [
       "0.51"
      ]
     },
     "execution_count": 60,
     "metadata": {},
     "output_type": "execute_result"
    }
   ],
   "source": [
    "prices[0]"
   ]
  },
  {
   "cell_type": "markdown",
   "id": "5dc13d0c",
   "metadata": {},
   "source": [
    "---"
   ]
  },
  {
   "cell_type": "markdown",
   "id": "6383e7df",
   "metadata": {},
   "source": [
    "##### Aside: Examples of Brackets in Python"
   ]
  },
  {
   "cell_type": "markdown",
   "id": "4c5afa48",
   "metadata": {},
   "source": [
    "Running a function,"
   ]
  },
  {
   "cell_type": "code",
   "execution_count": 61,
   "id": "e23e3279",
   "metadata": {},
   "outputs": [
    {
     "name": "stdout",
     "output_type": "stream",
     "text": [
      "Running a function\n"
     ]
    }
   ],
   "source": [
    "print(\"Running a function\")"
   ]
  },
  {
   "cell_type": "markdown",
   "id": "2705f101",
   "metadata": {},
   "source": [
    "Grouping mathematical operations,"
   ]
  },
  {
   "cell_type": "code",
   "execution_count": 62,
   "id": "eff3ecac",
   "metadata": {},
   "outputs": [
    {
     "data": {
      "text/plain": [
       "16"
      ]
     },
     "execution_count": 62,
     "metadata": {},
     "output_type": "execute_result"
    }
   ],
   "source": [
    "(2 * 3) + 10"
   ]
  },
  {
   "cell_type": "markdown",
   "id": "ecfc36c7",
   "metadata": {},
   "source": [
    "*tuples* (are like lists) are often presented in parentheses, *tuples* do as much as lists do, *except* they cant be modified,"
   ]
  },
  {
   "cell_type": "code",
   "execution_count": 63,
   "id": "55cc2bb0",
   "metadata": {},
   "outputs": [],
   "source": [
    "pair = (1, 2)"
   ]
  },
  {
   "cell_type": "markdown",
   "id": "6f9a3819",
   "metadata": {},
   "source": [
    "In python square brakets are *always* indexes,"
   ]
  },
  {
   "cell_type": "code",
   "execution_count": 64,
   "id": "8b1c3929",
   "metadata": {},
   "outputs": [
    {
     "data": {
      "text/plain": [
       "'Sailing'"
      ]
     },
     "execution_count": 64,
     "metadata": {},
     "output_type": "execute_result"
    }
   ],
   "source": [
    "hobbies[0]"
   ]
  },
  {
   "cell_type": "markdown",
   "id": "c2cb9cd9",
   "metadata": {},
   "source": [
    "There are two uses of braces (dictionaries, and sets),"
   ]
  },
  {
   "cell_type": "code",
   "execution_count": 65,
   "id": "de5a2005",
   "metadata": {},
   "outputs": [],
   "source": [
    "eg = {\"Ham\": 10, \"Bread\": 3}\n",
    "\n",
    "people = {\"Alice\", \"Eve\", \"Bob\"}"
   ]
  },
  {
   "cell_type": "markdown",
   "id": "78114bb8",
   "metadata": {},
   "source": [
    "----"
   ]
  },
  {
   "cell_type": "markdown",
   "id": "4bf1ae8d",
   "metadata": {},
   "source": [
    "### Comparisons & Tests"
   ]
  },
  {
   "cell_type": "markdown",
   "id": "ea1fa25f",
   "metadata": {},
   "source": [
    "Recall the variables defined earlier,"
   ]
  },
  {
   "cell_type": "code",
   "execution_count": 72,
   "id": "b5e89514",
   "metadata": {},
   "outputs": [
    {
     "name": "stdout",
     "output_type": "stream",
     "text": [
      "Michael 33 1.81 True\n"
     ]
    }
   ],
   "source": [
    "print(name, age, height, is_tired)"
   ]
  },
  {
   "cell_type": "markdown",
   "id": "146811a1",
   "metadata": {},
   "source": [
    "Q. What would I write to determine if i were: an adult?"
   ]
  },
  {
   "cell_type": "code",
   "execution_count": 75,
   "id": "429b7608",
   "metadata": {},
   "outputs": [
    {
     "data": {
      "text/plain": [
       "True"
      ]
     },
     "execution_count": 75,
     "metadata": {},
     "output_type": "execute_result"
    }
   ],
   "source": [
    "age >= 18 # operator = symbol"
   ]
  },
  {
   "cell_type": "markdown",
   "id": "84478bbe",
   "metadata": {},
   "source": [
    "Q. How would I determine if my name starts with an `M` ?"
   ]
  },
  {
   "cell_type": "code",
   "execution_count": 76,
   "id": "a570936b",
   "metadata": {},
   "outputs": [
    {
     "data": {
      "text/plain": [
       "True"
      ]
     },
     "execution_count": 76,
     "metadata": {},
     "output_type": "execute_result"
    }
   ],
   "source": [
    "name.startswith(\"M\") # method = name of an operation"
   ]
  },
  {
   "cell_type": "markdown",
   "id": "33943c41",
   "metadata": {},
   "source": [
    "Q. How would I determine if my age is an odd number?"
   ]
  },
  {
   "cell_type": "code",
   "execution_count": 78,
   "id": "c115b2a5",
   "metadata": {},
   "outputs": [
    {
     "data": {
      "text/plain": [
       "1"
      ]
     },
     "execution_count": 78,
     "metadata": {},
     "output_type": "execute_result"
    }
   ],
   "source": [
    "age % 2 # The remainder when age is divided by 2"
   ]
  },
  {
   "cell_type": "code",
   "execution_count": 79,
   "id": "d159a257",
   "metadata": {},
   "outputs": [
    {
     "data": {
      "text/plain": [
       "True"
      ]
     },
     "execution_count": 79,
     "metadata": {},
     "output_type": "execute_result"
    }
   ],
   "source": [
    "age % 2 == 1"
   ]
  },
  {
   "cell_type": "markdown",
   "id": "e8ea2417",
   "metadata": {},
   "source": [
    "We usually write whether `age % 2` *is not* `0`, ie., is not even,"
   ]
  },
  {
   "cell_type": "code",
   "execution_count": 80,
   "id": "963eccf1",
   "metadata": {},
   "outputs": [
    {
     "data": {
      "text/plain": [
       "True"
      ]
     },
     "execution_count": 80,
     "metadata": {},
     "output_type": "execute_result"
    }
   ],
   "source": [
    "age % 2 != 0"
   ]
  },
  {
   "cell_type": "markdown",
   "id": "48f79350",
   "metadata": {},
   "source": [
    "### Logical Combinations of Comparisons (Tests)"
   ]
  },
  {
   "cell_type": "markdown",
   "id": "e90f8ffd",
   "metadata": {},
   "source": [
    "We can ask for *both* conditions to be true,"
   ]
  },
  {
   "cell_type": "code",
   "execution_count": 98,
   "id": "cf7ef92d",
   "metadata": {},
   "outputs": [
    {
     "data": {
      "text/plain": [
       "False"
      ]
     },
     "execution_count": 98,
     "metadata": {},
     "output_type": "execute_result"
    }
   ],
   "source": [
    "(age >= 18) and (age % 2 == 0) # both that age is >=18    AND    that age is even"
   ]
  },
  {
   "cell_type": "markdown",
   "id": "9a188168",
   "metadata": {},
   "source": [
    "Or either,"
   ]
  },
  {
   "cell_type": "code",
   "execution_count": 99,
   "id": "29f46227",
   "metadata": {},
   "outputs": [
    {
     "data": {
      "text/plain": [
       "True"
      ]
     },
     "execution_count": 99,
     "metadata": {},
     "output_type": "execute_result"
    }
   ],
   "source": [
    "(age >= 18) or (age % 2 == 0) # either that age is >=18    OR    that age is even"
   ]
  },
  {
   "cell_type": "markdown",
   "id": "046689c1",
   "metadata": {},
   "source": [
    "Or that they arent true,"
   ]
  },
  {
   "cell_type": "code",
   "execution_count": 101,
   "id": "a6eb9ce6",
   "metadata": {},
   "outputs": [
    {
     "data": {
      "text/plain": [
       "True"
      ]
     },
     "execution_count": 101,
     "metadata": {},
     "output_type": "execute_result"
    }
   ],
   "source": [
    "not ((age >= 18) and (age % 2 == 0)) # not that both..."
   ]
  },
  {
   "cell_type": "markdown",
   "id": "015382b1",
   "metadata": {},
   "source": [
    "### Decision-Making"
   ]
  },
  {
   "cell_type": "markdown",
   "id": "53fb6b75",
   "metadata": {},
   "source": [
    "```python\n",
    "if ...:\n",
    "    action\n",
    "```"
   ]
  },
  {
   "cell_type": "markdown",
   "id": "e1f22b22",
   "metadata": {},
   "source": [
    "Q. What are the other keywords I can use to specialize or expand an `if`?"
   ]
  },
  {
   "cell_type": "markdown",
   "id": "64f6b8a4",
   "metadata": {},
   "source": [
    "```python\n",
    "if ...:\n",
    "    ...\n",
    "elif:\n",
    "    ...\n",
    "else:\n",
    "    ...\n",
    "```"
   ]
  },
  {
   "cell_type": "markdown",
   "id": "9f3a4b8c",
   "metadata": {},
   "source": [
    "Suppose I want to perform some number of actions based on some tests. Eg., suppose 4 different actions. \n",
    "\n",
    "```python\n",
    "\n",
    "if ....:\n",
    "    ACTION1\n",
    "elif ...:\n",
    "    ACTION2\n",
    "elif ...:\n",
    "    ACTION3\n",
    "else:\n",
    "    ACTION4\n",
    "```"
   ]
  },
  {
   "cell_type": "markdown",
   "id": "c9506e1c",
   "metadata": {},
   "source": [
    "Only one group of statements is performed, statements are *grouped* using indentation *whitespace*,"
   ]
  },
  {
   "cell_type": "code",
   "execution_count": 172,
   "id": "d3dceaf4",
   "metadata": {},
   "outputs": [
    {
     "name": "stdout",
     "output_type": "stream",
     "text": [
      "I am at least 81\n"
     ]
    }
   ],
   "source": [
    "\n",
    "age = 81\n",
    "#Q. What action will be performed?\n",
    "\n",
    "if (age >= 18) and (age <= 80):\n",
    "    #Q. What age am I here?\n",
    "    print(\"I am at least 18\")\n",
    "    print(\"I am at least 18\")\n",
    "    print(\"I am at least 18\")\n",
    "    # these three statements execute because they are indented to the same level\n",
    "elif age > 80:\n",
    "    #Q. What age am I here?\n",
    "    print(\"I am at least 81\")\n",
    "else:\n",
    "    #Q. What age am I here?\n",
    "    print(\"I am less than 18\")\n"
   ]
  },
  {
   "cell_type": "markdown",
   "id": "456823c9",
   "metadata": {},
   "source": [
    "Note, `else` and other clauses are optional,"
   ]
  },
  {
   "cell_type": "code",
   "execution_count": 165,
   "id": "3f45eef8",
   "metadata": {},
   "outputs": [
    {
     "name": "stdout",
     "output_type": "stream",
     "text": [
      "Hello people!\n",
      "DISPENSE drink!\n",
      "Bye people!\n"
     ]
    }
   ],
   "source": [
    "print(\"Hello people!\")\n",
    "if age >= 18:\n",
    "    print(\"DISPENSE drink!\")\n",
    "print(\"Bye people!\")"
   ]
  },
  {
   "cell_type": "markdown",
   "id": "be299041",
   "metadata": {},
   "source": [
    "---"
   ]
  },
  {
   "cell_type": "markdown",
   "id": "e955f1ca",
   "metadata": {},
   "source": [
    "### Challenges (20 min)"
   ]
  },
  {
   "cell_type": "markdown",
   "id": "750f5536",
   "metadata": {},
   "source": [
    "* copy the code to your own notebook\n",
    "    * and complete the challenge"
   ]
  },
  {
   "cell_type": "markdown",
   "id": "d2fd1343",
   "metadata": {},
   "source": [
    "#### Challenge 1a. Syntax Errors"
   ]
  },
  {
   "cell_type": "markdown",
   "id": "e46b5981",
   "metadata": {},
   "source": [
    "Fix the syntax in the following example,"
   ]
  },
  {
   "cell_type": "code",
   "execution_count": 93,
   "id": "508b0f2d",
   "metadata": {},
   "outputs": [
    {
     "ename": "SyntaxError",
     "evalue": "invalid syntax (924352493.py, line 1)",
     "output_type": "error",
     "traceback": [
      "\u001b[0;36m  Input \u001b[0;32mIn [93]\u001b[0;36m\u001b[0m\n\u001b[0;31m    prices = [2, 4, 6 8)\u001b[0m\n\u001b[0m                      ^\u001b[0m\n\u001b[0;31mSyntaxError\u001b[0m\u001b[0;31m:\u001b[0m invalid syntax\n"
     ]
    }
   ],
   "source": [
    "ages = [12, 41, 61 18)\n",
    "\n",
    "print(len[ages])\n",
    "print(ages[-1])"
   ]
  },
  {
   "cell_type": "markdown",
   "id": "8f515473",
   "metadata": {},
   "source": [
    "#### Challenge 1b. Comparisons & Tests: Odd Numbers"
   ]
  },
  {
   "cell_type": "code",
   "execution_count": 95,
   "id": "5704ef84",
   "metadata": {},
   "outputs": [],
   "source": [
    "prices = [1, 3, 4, 5, 9]"
   ]
  },
  {
   "cell_type": "markdown",
   "id": "31a68d44",
   "metadata": {},
   "source": [
    "Select the first price,"
   ]
  },
  {
   "cell_type": "code",
   "execution_count": null,
   "id": "5c88edb3",
   "metadata": {},
   "outputs": [],
   "source": [
    "# SOLUTION"
   ]
  },
  {
   "cell_type": "markdown",
   "id": "c98be837",
   "metadata": {},
   "source": [
    "Determine if the price is odd"
   ]
  },
  {
   "cell_type": "code",
   "execution_count": null,
   "id": "a58a3ff9",
   "metadata": {},
   "outputs": [],
   "source": [
    "# SOLUTION"
   ]
  },
  {
   "cell_type": "markdown",
   "id": "0da4901d",
   "metadata": {},
   "source": [
    "#### Challenge 1c. Comparisons & Tests: Prefixes"
   ]
  },
  {
   "cell_type": "code",
   "execution_count": 96,
   "id": "a41020d7",
   "metadata": {},
   "outputs": [],
   "source": [
    "address = \"London, United Kingdom\""
   ]
  },
  {
   "cell_type": "markdown",
   "id": "83ba1acc",
   "metadata": {},
   "source": [
    "Using `.startswith` and `.endswith`, determine if the address starts with \"London\" and ends with \"Texas\","
   ]
  },
  {
   "cell_type": "code",
   "execution_count": null,
   "id": "15cf88a5",
   "metadata": {},
   "outputs": [],
   "source": [
    "# SOLUTION"
   ]
  },
  {
   "cell_type": "markdown",
   "id": "c3117847",
   "metadata": {},
   "source": [
    "#### Challenge 1d. Decision-Making"
   ]
  },
  {
   "cell_type": "markdown",
   "id": "e165520d",
   "metadata": {},
   "source": [
    "* If the address starts with \"London\" *and* ends with \"United Kingdom\", print \"Welcome to the UK capital!\".\n",
    "* Otherwise if it ends with \"Texas\", print \"Welcome to Kimble!\"\n",
    "* Otherwise, print \"Hi, wherever you are!\""
   ]
  },
  {
   "cell_type": "code",
   "execution_count": null,
   "id": "9d50ae41",
   "metadata": {},
   "outputs": [],
   "source": [
    "# SOLUTION"
   ]
  },
  {
   "cell_type": "markdown",
   "id": "f18fbab2",
   "metadata": {},
   "source": [
    "#### Challenge 1e. STRETCH CHALLENGE\n",
    "\n",
    "If you finish the above challenges quickly, modify your summary report (completed earlier) and use various tests and decision-making syntax (if, else, etc.) to expand the report. (Eg., test the means, modes, ...)"
   ]
  },
  {
   "cell_type": "markdown",
   "id": "15384932",
   "metadata": {},
   "source": [
    "### Solutions"
   ]
  },
  {
   "cell_type": "code",
   "execution_count": 115,
   "id": "c4348602",
   "metadata": {},
   "outputs": [
    {
     "name": "stdout",
     "output_type": "stream",
     "text": [
      "4\n",
      "18\n"
     ]
    }
   ],
   "source": [
    "#1.              COMMA   BRAKET\n",
    "ages = [12, 41, 61, 18]\n",
    "\n",
    "#2.    PARENTHESES\n",
    "print(len(ages))\n",
    "\n",
    "#3. NO ISSUE\n",
    "print(ages[-1]) # -1 is an index which refers to the *last* element"
   ]
  },
  {
   "cell_type": "code",
   "execution_count": 95,
   "id": "1d3eb228",
   "metadata": {},
   "outputs": [],
   "source": [
    "prices = [1, 3, 4, 5, 9]"
   ]
  },
  {
   "cell_type": "code",
   "execution_count": 116,
   "id": "4ea598b4",
   "metadata": {},
   "outputs": [
    {
     "data": {
      "text/plain": [
       "1"
      ]
     },
     "execution_count": 116,
     "metadata": {},
     "output_type": "execute_result"
    }
   ],
   "source": [
    "prices[0]"
   ]
  },
  {
   "cell_type": "code",
   "execution_count": 120,
   "id": "adc7539b",
   "metadata": {},
   "outputs": [
    {
     "data": {
      "text/plain": [
       "True"
      ]
     },
     "execution_count": 120,
     "metadata": {},
     "output_type": "execute_result"
    }
   ],
   "source": [
    "prices[0] % 2 != 0"
   ]
  },
  {
   "cell_type": "code",
   "execution_count": 117,
   "id": "e2252dd2",
   "metadata": {},
   "outputs": [],
   "source": [
    "address = \"London, United Kingdom\""
   ]
  },
  {
   "cell_type": "code",
   "execution_count": 122,
   "id": "1ad64055",
   "metadata": {},
   "outputs": [
    {
     "data": {
      "text/plain": [
       "True"
      ]
     },
     "execution_count": 122,
     "metadata": {},
     "output_type": "execute_result"
    }
   ],
   "source": [
    "address.startswith(\"London\")"
   ]
  },
  {
   "cell_type": "code",
   "execution_count": 123,
   "id": "8cc2a1a4",
   "metadata": {},
   "outputs": [
    {
     "data": {
      "text/plain": [
       "False"
      ]
     },
     "execution_count": 123,
     "metadata": {},
     "output_type": "execute_result"
    }
   ],
   "source": [
    "address.endswith(\"London\")"
   ]
  },
  {
   "cell_type": "code",
   "execution_count": 124,
   "id": "a801c4e9",
   "metadata": {},
   "outputs": [
    {
     "data": {
      "text/plain": [
       "False"
      ]
     },
     "execution_count": 124,
     "metadata": {},
     "output_type": "execute_result"
    }
   ],
   "source": [
    "address.startswith(\"London\") and address.endswith(\"Texas\")"
   ]
  },
  {
   "cell_type": "markdown",
   "id": "b3a18953",
   "metadata": {},
   "source": [
    "If you get a working if/else, great... the acutal solution doesnt matter,"
   ]
  },
  {
   "cell_type": "code",
   "execution_count": 126,
   "id": "a0988f88",
   "metadata": {
    "scrolled": true
   },
   "outputs": [
    {
     "name": "stdout",
     "output_type": "stream",
     "text": [
      "Welcome to the UK\n"
     ]
    }
   ],
   "source": [
    "if address.startswith(\"London\")   and    address.endswith(\"United Kingdom\"):\n",
    "    print(\"Welcome to the UK\")\n",
    "elif address.startswith(\"London\") and    address.endswith(\"Texas\"):\n",
    "    print(\"Welcome to Texas\")\n",
    "else:\n",
    "    print(\"Hi, wherever you are!\")"
   ]
  },
  {
   "cell_type": "markdown",
   "id": "048fc501",
   "metadata": {},
   "source": [
    "---"
   ]
  },
  {
   "cell_type": "markdown",
   "id": "94cf8d5c",
   "metadata": {},
   "source": [
    "## Part 2: Looping "
   ]
  },
  {
   "cell_type": "markdown",
   "id": "6a0eb874",
   "metadata": {},
   "source": [
    "#### Looping"
   ]
  },
  {
   "cell_type": "markdown",
   "id": "79cb5eea",
   "metadata": {},
   "source": [
    "So far we've applied operations to single entires in lists,"
   ]
  },
  {
   "cell_type": "code",
   "execution_count": 152,
   "id": "5504c7ea",
   "metadata": {},
   "outputs": [
    {
     "data": {
      "text/plain": [
       "['London, UK', 'Manchester, UK', 'Paris, FR']"
      ]
     },
     "execution_count": 152,
     "metadata": {},
     "output_type": "execute_result"
    }
   ],
   "source": [
    "cities = [\"London, UK\", \"Manchester, UK\", \"Paris, FR\"]\n",
    "cities"
   ]
  },
  {
   "cell_type": "markdown",
   "id": "d49ce694",
   "metadata": {},
   "source": [
    "Q. How do I apply an operation to *every* entry? (What's the *keyword*...)"
   ]
  },
  {
   "cell_type": "code",
   "execution_count": 153,
   "id": "0214c512",
   "metadata": {},
   "outputs": [
    {
     "name": "stdout",
     "output_type": "stream",
     "text": [
      "London, UK\n",
      "Manchester, UK\n",
      "Paris, FR\n"
     ]
    }
   ],
   "source": [
    "for c in cities:\n",
    "    print(c)"
   ]
  },
  {
   "cell_type": "markdown",
   "id": "ef2efde0",
   "metadata": {},
   "source": [
    "Recall, indentation is important,"
   ]
  },
  {
   "cell_type": "code",
   "execution_count": 154,
   "id": "5507e358",
   "metadata": {},
   "outputs": [
    {
     "name": "stdout",
     "output_type": "stream",
     "text": [
      "BEFORE\n",
      "London, UK\n",
      "London, UK\n",
      "Manchester, UK\n",
      "Manchester, UK\n",
      "Paris, FR\n",
      "Paris, FR\n",
      "AFTER\n"
     ]
    }
   ],
   "source": [
    "print(\"BEFORE\")\n",
    "for city in cities:\n",
    "    print(city)\n",
    "    print(city)\n",
    "print(\"AFTER\")"
   ]
  },
  {
   "cell_type": "markdown",
   "id": "454066f0",
   "metadata": {},
   "source": [
    "### Reading Loops\n",
    "\n",
    "How do you *read* this syntax? What does it do?"
   ]
  },
  {
   "cell_type": "markdown",
   "id": "42447e9f",
   "metadata": {},
   "source": [
    "We could manually write it out,"
   ]
  },
  {
   "cell_type": "code",
   "execution_count": 155,
   "id": "449d5961",
   "metadata": {},
   "outputs": [
    {
     "name": "stdout",
     "output_type": "stream",
     "text": [
      "London, UK\n",
      "Manchester, UK\n",
      "Paris, FR\n"
     ]
    }
   ],
   "source": [
    "# SET the variable p to be the first price\n",
    "p = cities[0]\n",
    "print(p) # REPEAT\n",
    "\n",
    "# then the second\n",
    "p = cities[1]\n",
    "print(p)  # REPEAT\n",
    "\n",
    "# until the last\n",
    "p = cities[2]\n",
    "print(p) # REPEAT\n"
   ]
  },
  {
   "cell_type": "code",
   "execution_count": 156,
   "id": "7826a6de",
   "metadata": {},
   "outputs": [
    {
     "name": "stdout",
     "output_type": "stream",
     "text": [
      "London, UK\n",
      "Manchester, UK\n",
      "Paris, FR\n"
     ]
    }
   ],
   "source": [
    "#   c = cities[0] ... cities[2]\n",
    "for c in cities:\n",
    "    print(c)"
   ]
  },
  {
   "cell_type": "markdown",
   "id": "925b73a1",
   "metadata": {},
   "source": [
    "#### Looping & Filtering"
   ]
  },
  {
   "cell_type": "markdown",
   "id": "8794e08e",
   "metadata": {},
   "source": [
    "Q. How do I filter elements of data in a dataset, as I loop over them?"
   ]
  },
  {
   "cell_type": "code",
   "execution_count": 158,
   "id": "ac39a85b",
   "metadata": {},
   "outputs": [
    {
     "name": "stdout",
     "output_type": "stream",
     "text": [
      "London, UK\n",
      "Manchester, UK\n"
     ]
    }
   ],
   "source": [
    "for city in cities:\n",
    "    if city.endswith(\"UK\"):\n",
    "        print(city)"
   ]
  },
  {
   "cell_type": "markdown",
   "id": "35137dd2",
   "metadata": {},
   "source": [
    "### Further Examples of Looping"
   ]
  },
  {
   "cell_type": "code",
   "execution_count": 160,
   "id": "4ed82499",
   "metadata": {},
   "outputs": [],
   "source": [
    "ratings = [4, 7, 7, 8, 9]"
   ]
  },
  {
   "cell_type": "markdown",
   "id": "4885ef4e",
   "metadata": {},
   "source": [
    "Suppose I want to count the number of elements above `5`, "
   ]
  },
  {
   "cell_type": "code",
   "execution_count": 162,
   "id": "1eea66a1",
   "metadata": {},
   "outputs": [
    {
     "name": "stdout",
     "output_type": "stream",
     "text": [
      "4\n"
     ]
    }
   ],
   "source": [
    "count = 0\n",
    "\n",
    "for r in ratings:\n",
    "    if r > 5:\n",
    "        # SET count =  old-count + 1\n",
    "        count       =  count     + 1\n",
    "\n",
    "print(count)"
   ]
  },
  {
   "cell_type": "markdown",
   "id": "73fc011d",
   "metadata": {},
   "source": [
    "---"
   ]
  },
  {
   "cell_type": "markdown",
   "id": "ebc50ba2",
   "metadata": {},
   "source": [
    "### Challenges (25 min)"
   ]
  },
  {
   "cell_type": "markdown",
   "id": "08a7caf0",
   "metadata": {},
   "source": [
    "#### Challenge 2a. Looping: Even Numbers"
   ]
  },
  {
   "cell_type": "markdown",
   "id": "6aaef19b",
   "metadata": {},
   "source": [
    "* define `dinner_guests` in which each entry represents a group arriving for dinner at a restaurant\n",
    "* print() each number which is even\n",
    "    * aside: why would a restaurant want to know which groups were even?\n",
    "    * possible answer: seating, table arragement, etc."
   ]
  },
  {
   "cell_type": "code",
   "execution_count": 107,
   "id": "4c712e8b",
   "metadata": {},
   "outputs": [],
   "source": [
    "# SOLUTION"
   ]
  },
  {
   "cell_type": "markdown",
   "id": "73f8caa3",
   "metadata": {},
   "source": [
    "#### Challenge 2b. Looping: Averages\n",
    "* compute the total of all the numbers using a loop\n",
    "* report the total and the mean after the loop\n",
    "    * using `len()` with the total\n"
   ]
  },
  {
   "cell_type": "code",
   "execution_count": 108,
   "id": "82b2ed30",
   "metadata": {},
   "outputs": [],
   "source": [
    "# SOLUTION"
   ]
  },
  {
   "cell_type": "markdown",
   "id": "55f78cee",
   "metadata": {},
   "source": [
    "#### Challenge 2c. Looping: Filtering\n",
    "* compute a total *of just* the odd numbers\n",
    "* compute a total *of just* the even numbers\n",
    "* report their averages seperately"
   ]
  },
  {
   "cell_type": "code",
   "execution_count": 109,
   "id": "612321b2",
   "metadata": {},
   "outputs": [],
   "source": [
    "# SOLUTION"
   ]
  },
  {
   "cell_type": "markdown",
   "id": "1bc524b2",
   "metadata": {},
   "source": [
    "#### Challenge 2d. STRETCH: Looping: Maximums & Minimums"
   ]
  },
  {
   "cell_type": "markdown",
   "id": "a803de84",
   "metadata": {},
   "source": [
    "If you get the above challenges done quickly, find the maximum and minimum group size using a loop (ie., not using `min`, `max`, etc.).\n",
    "\n",
    "HINT: You'll need a variable for each defined before the loop (eg., `min_entry`, `max_entry`) and these should be initialized to a useful starting value..."
   ]
  },
  {
   "cell_type": "code",
   "execution_count": 110,
   "id": "76917e56",
   "metadata": {},
   "outputs": [],
   "source": [
    "# SOLUTION"
   ]
  },
  {
   "cell_type": "markdown",
   "id": "82e74b49",
   "metadata": {},
   "source": [
    "---"
   ]
  },
  {
   "cell_type": "markdown",
   "id": "b46bd9fb",
   "metadata": {},
   "source": [
    "## Part 3: Advanced Syntax"
   ]
  },
  {
   "cell_type": "markdown",
   "id": "23a58ade",
   "metadata": {},
   "source": [
    "#### Functions"
   ]
  },
  {
   "cell_type": "markdown",
   "id": "cb184208",
   "metadata": {},
   "source": [
    "#### Error Handling"
   ]
  },
  {
   "cell_type": "markdown",
   "id": "44f4c21b",
   "metadata": {},
   "source": [
    "### Challenges (20 min)"
   ]
  },
  {
   "cell_type": "markdown",
   "id": "4b998410",
   "metadata": {},
   "source": [
    "#### Challenge 3a: Functions"
   ]
  },
  {
   "cell_type": "markdown",
   "id": "6d7f4b9d",
   "metadata": {},
   "source": [
    "* define a summary function \n",
    "    * which requires two *arguments*: numerical, categorical\n",
    "    * and prints a statistical summary of both"
   ]
  },
  {
   "cell_type": "markdown",
   "id": "d799319f",
   "metadata": {},
   "source": [
    "#### Challenge 3b: Error Handling: Conversions"
   ]
  },
  {
   "cell_type": "markdown",
   "id": "141d7d15",
   "metadata": {},
   "source": [
    "* modify your above code to `try` to perform the summary functions which are likely to fail\n",
    "    * eg., `mode`\n",
    "    * rather than fail, just print \"could not perform\" that action"
   ]
  },
  {
   "cell_type": "markdown",
   "id": "7478d3d8",
   "metadata": {},
   "source": [
    "---"
   ]
  },
  {
   "cell_type": "markdown",
   "id": "4d4892c8",
   "metadata": {},
   "source": [
    "## Review & End"
   ]
  },
  {
   "cell_type": "markdown",
   "id": "9bf20b76",
   "metadata": {},
   "source": [
    "---"
   ]
  },
  {
   "cell_type": "markdown",
   "id": "0106914c",
   "metadata": {},
   "source": [
    "## Appendix"
   ]
  },
  {
   "cell_type": "markdown",
   "id": "fae56ca9",
   "metadata": {},
   "source": [
    "### Terminology\n",
    "\n",
    "#### Syntax\n",
    "* keywords `for`, `while`\n",
    "* operators `+=`\n",
    "* variables `name`\n",
    "* functions `names()` \n",
    "    * these are programmer-given names"
   ]
  },
  {
   "cell_type": "markdown",
   "id": "63adb8cd",
   "metadata": {},
   "source": [
    "### Dictionaries "
   ]
  },
  {
   "cell_type": "markdown",
   "id": "db466b7a",
   "metadata": {},
   "source": [
    "Dictionaries are data structures which relate *keys* to *values*, where the *keys* are typically strings,"
   ]
  },
  {
   "cell_type": "code",
   "execution_count": 19,
   "id": "35ff90b6",
   "metadata": {},
   "outputs": [],
   "source": [
    "boats = {\n",
    "    \"Happy\": \"120ft\",\n",
    "    \"Big\": \"300ft\"\n",
    "}"
   ]
  },
  {
   "cell_type": "markdown",
   "id": "033fd09e",
   "metadata": {},
   "source": [
    "The net effect of this is to allow for string *indexes*,"
   ]
  },
  {
   "cell_type": "code",
   "execution_count": 31,
   "id": "0e75d1e1",
   "metadata": {},
   "outputs": [
    {
     "data": {
      "text/plain": [
       "'300ft'"
      ]
     },
     "execution_count": 31,
     "metadata": {},
     "output_type": "execute_result"
    }
   ],
   "source": [
    "boats[\"Big\"]"
   ]
  },
  {
   "cell_type": "markdown",
   "id": "8a08765a",
   "metadata": {},
   "source": [
    "Vales can be anything, including lists,"
   ]
  },
  {
   "cell_type": "code",
   "execution_count": 20,
   "id": "9253e74c",
   "metadata": {},
   "outputs": [],
   "source": [
    "groceries = {\n",
    "    \"Michael\": [\"Eggs\", \"Ham\"],\n",
    "    \"Alice\": [\"Eggs\", \"Ham\"],\n",
    "}"
   ]
  },
  {
   "cell_type": "markdown",
   "id": "9f8b0d45",
   "metadata": {},
   "source": [
    "So the `Michael` entry is a list,"
   ]
  },
  {
   "cell_type": "code",
   "execution_count": 168,
   "id": "ea061d32",
   "metadata": {},
   "outputs": [
    {
     "data": {
      "text/plain": [
       "['Eggs', 'Ham']"
      ]
     },
     "execution_count": 168,
     "metadata": {},
     "output_type": "execute_result"
    }
   ],
   "source": [
    "groceries[\"Michael\"]"
   ]
  },
  {
   "cell_type": "markdown",
   "id": "99516aa3",
   "metadata": {},
   "source": [
    "So it has a first element,"
   ]
  },
  {
   "cell_type": "code",
   "execution_count": 32,
   "id": "1dff9f7e",
   "metadata": {
    "scrolled": true
   },
   "outputs": [
    {
     "data": {
      "text/plain": [
       "'Eggs'"
      ]
     },
     "execution_count": 32,
     "metadata": {},
     "output_type": "execute_result"
    }
   ],
   "source": [
    "groceries[\"Michael\"][0]"
   ]
  },
  {
   "cell_type": "markdown",
   "id": "712ed6a3",
   "metadata": {},
   "source": [
    "### Comprehensions"
   ]
  },
  {
   "cell_type": "markdown",
   "id": "486db2b6",
   "metadata": {},
   "source": [
    "It's very common to derive a new list from an old one,"
   ]
  },
  {
   "cell_type": "code",
   "execution_count": 166,
   "id": "eaed693c",
   "metadata": {},
   "outputs": [
    {
     "data": {
      "text/plain": [
       "[3, 5, 7]"
      ]
     },
     "execution_count": 166,
     "metadata": {},
     "output_type": "execute_result"
    }
   ],
   "source": [
    "old = [2, 4, 6]\n",
    "new = []\n",
    "\n",
    "for element in old:\n",
    "    new.append(element + 1)\n",
    "\n",
    "new"
   ]
  },
  {
   "cell_type": "markdown",
   "id": "97dd1b5d",
   "metadata": {},
   "source": [
    "In python *comprehensions* allow you to do this is one go,"
   ]
  },
  {
   "cell_type": "code",
   "execution_count": 167,
   "id": "af415684",
   "metadata": {},
   "outputs": [
    {
     "data": {
      "text/plain": [
       "[3, 5, 7]"
      ]
     },
     "execution_count": 167,
     "metadata": {},
     "output_type": "execute_result"
    }
   ],
   "source": [
    "[e + 1 for e in old]"
   ]
  },
  {
   "cell_type": "markdown",
   "id": "c84ad49b",
   "metadata": {},
   "source": [
    "#### Challenge: Comprehensions"
   ]
  },
  {
   "cell_type": "markdown",
   "id": "34ca9f23",
   "metadata": {},
   "source": [
    "Consider the following comprehension, which computes a predictor variable $y$ from an $x$ drawn from the range $0 \\text{ to } 10$,"
   ]
  },
  {
   "cell_type": "code",
   "execution_count": 103,
   "id": "ee30a477",
   "metadata": {},
   "outputs": [
    {
     "data": {
      "text/plain": [
       "[1, 3, 5, 7, 9, 11, 13, 15, 17, 19]"
      ]
     },
     "execution_count": 103,
     "metadata": {},
     "output_type": "execute_result"
    }
   ],
   "source": [
    "y = [2 * x + 1 for x in range(0, 10)]\n",
    "y"
   ]
  },
  {
   "cell_type": "markdown",
   "id": "6e19f00f",
   "metadata": {},
   "source": [
    "Rather than using `range(0,10)`, use your own dataset,\n",
    "\n",
    "* define a variable called, eg., `heart_rates`, to be a numerical list\n",
    "* replace `range(0, 10)` in the example with your variable (ie., `heart_rates`)"
   ]
  },
  {
   "cell_type": "code",
   "execution_count": 106,
   "id": "f5c9ca5f",
   "metadata": {},
   "outputs": [],
   "source": [
    "# SOLUTION"
   ]
  },
  {
   "cell_type": "markdown",
   "id": "ab74fb98",
   "metadata": {},
   "source": [
    "Suppose you want to ignore some data in your list based on a test. Consider the following,"
   ]
  },
  {
   "cell_type": "code",
   "execution_count": 104,
   "id": "2855bf73",
   "metadata": {},
   "outputs": [
    {
     "data": {
      "text/plain": [
       "[13, 15, 17, 19]"
      ]
     },
     "execution_count": 104,
     "metadata": {},
     "output_type": "execute_result"
    }
   ],
   "source": [
    "y = [2 * x + 1 for x in range(0, 10) if x > 5]\n",
    "y"
   ]
  },
  {
   "cell_type": "markdown",
   "id": "80b2cd48",
   "metadata": {},
   "source": [
    "Filter your own dataset,\n",
    "* replace `range(0, 10)` \n",
    "* and the test `x>5` \n",
    "* to create a `y` more meaningful to your case.\n",
    "\n",
    "Eg., suppose we ignore HRs `<30, and >200` on the basis that they arent likely to be real data."
   ]
  },
  {
   "cell_type": "code",
   "execution_count": 105,
   "id": "51284a10",
   "metadata": {},
   "outputs": [],
   "source": [
    "# SOLUTION"
   ]
  }
 ],
 "metadata": {
  "kernelspec": {
   "display_name": "Python 3 (ipykernel)",
   "language": "python",
   "name": "python3"
  },
  "language_info": {
   "codemirror_mode": {
    "name": "ipython",
    "version": 3
   },
   "file_extension": ".py",
   "mimetype": "text/x-python",
   "name": "python",
   "nbconvert_exporter": "python",
   "pygments_lexer": "ipython3",
   "version": "3.9.7"
  }
 },
 "nbformat": 4,
 "nbformat_minor": 5
}
