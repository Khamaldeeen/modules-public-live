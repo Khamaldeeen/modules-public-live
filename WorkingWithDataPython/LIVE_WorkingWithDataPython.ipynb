{
 "cells": [
  {
   "cell_type": "markdown",
   "id": "b401f1a1",
   "metadata": {},
   "source": [
    "# Working with Data: Introduction to Python\n",
    "<font color=indigo>Live Workshop</font>\n",
    "\n",
    "---\n",
    "\n",
    "* This document is a technical brainstorm (like whiteboarding with code). \n",
    "    * I'll give you this and any other assets over the break. \n",
    "    * No need to follow along live.\n",
    "* If you don't have access to a jupyter installation, you can try the following link, \n",
    "    * https://jupyterlite.readthedocs.io/en/latest/_static/retro/notebooks/index.html\n",
    "    * Press `File > New`\n",
    "    * **this may take a few minutes to load**\n",
    "---\n",
    " "
   ]
  },
  {
   "cell_type": "markdown",
   "id": "9cadc951",
   "metadata": {},
   "source": [
    "## Lesson Plan\n",
    "\n",
    "* <font color=green>Introductions (20 min)</font>\n",
    "* <font color=green>Part 0: Review (30 min)</font>\n",
    "    * Python Warm Up (15 min)\n",
    "    * <font color=blue>Individual Challenge (15 min)</font>\n",
    "* <font color=green>Break & Admin (20 min)</font>\n",
    "    * Our Values, Learning Objectives, Menti Self-Assess, ...\n",
    "* <font color=green>Part 1: Basic Syntax (40 min)</font>\n",
    "    * Discussion (20 min)\n",
    "    * <font color=blue>Individual Challenges (20 min)</font>\n",
    "* <font color=green>Part 2: Looping (40 min)</font>\n",
    "    * Discussion (10 min)\n",
    "    * <font color=blue>Group Challenges (30 min)</font>\n",
    "* <font color=green>Break (10min)</font>\n",
    "* <font color=green>Part 3: Advanced Syntax (40 min)</font>\n",
    "    * Discussion (20 min)\n",
    "    * <font color=blue>Individual Challenges (20 min)</font>\n",
    "* <font color=green>Reivew & End (>5 min)</font>"
   ]
  },
  {
   "cell_type": "markdown",
   "id": "d446bddf",
   "metadata": {},
   "source": [
    "## Introductions\n",
    "* Name\n",
    "* Background/Role\n",
    "* Prior Experience\n",
    "* Hobby"
   ]
  },
  {
   "cell_type": "markdown",
   "id": "fda648f0",
   "metadata": {},
   "source": [
    "---"
   ]
  },
  {
   "cell_type": "markdown",
   "id": "aca32d19",
   "metadata": {},
   "source": [
    "## Part 0: Review"
   ]
  },
  {
   "cell_type": "markdown",
   "id": "06fadc45",
   "metadata": {},
   "source": [
    "### Variables & Operations"
   ]
  },
  {
   "cell_type": "markdown",
   "id": "a9eeb8b0",
   "metadata": {},
   "source": [
    "Q. What symbol *assigns* a value to a variable?"
   ]
  },
  {
   "cell_type": "markdown",
   "id": "d2936c10",
   "metadata": {},
   "source": [
    "Q. What's the type of this data?"
   ]
  },
  {
   "cell_type": "markdown",
   "id": "56d53bd7",
   "metadata": {},
   "source": [
    "### Printing"
   ]
  },
  {
   "cell_type": "markdown",
   "id": "41a12189",
   "metadata": {},
   "source": [
    "**Aside**: You can include the value of variables using `{}` (braces) if you prefix the *string* with an `f` symbol,"
   ]
  },
  {
   "cell_type": "markdown",
   "id": "5321bb87",
   "metadata": {},
   "source": [
    "...`f` for *format*"
   ]
  },
  {
   "cell_type": "markdown",
   "id": "21e4c6c9",
   "metadata": {},
   "source": [
    "### Data Structures & Conversions"
   ]
  },
  {
   "cell_type": "markdown",
   "id": "89a82916",
   "metadata": {},
   "source": [
    "Q. What's the type of `hobbies`?"
   ]
  },
  {
   "cell_type": "markdown",
   "id": "e8c97f8b",
   "metadata": {},
   "source": [
    "Q. What index is first?"
   ]
  },
  {
   "cell_type": "markdown",
   "id": "1349d205",
   "metadata": {},
   "source": [
    "### Importing"
   ]
  },
  {
   "cell_type": "markdown",
   "id": "13804303",
   "metadata": {},
   "source": [
    "Q. What keyword *imports* a module?"
   ]
  },
  {
   "cell_type": "markdown",
   "id": "344b202c",
   "metadata": {},
   "source": [
    "Q. How would I run the `mean` function ( defined *inside* the `statistics` module)?"
   ]
  },
  {
   "cell_type": "markdown",
   "id": "0b275ca5",
   "metadata": {},
   "source": [
    "### Summarizing Functions"
   ]
  },
  {
   "cell_type": "markdown",
   "id": "4b5d37a0",
   "metadata": {},
   "source": [
    "Q. What built-in functions would help me describe a data-set?"
   ]
  },
  {
   "cell_type": "markdown",
   "id": "b46fd24c",
   "metadata": {},
   "source": [
    "---"
   ]
  },
  {
   "cell_type": "markdown",
   "id": "7d9a849e",
   "metadata": {},
   "source": [
    "### Challenges (<= 15min)\n",
    "\n",
    "#### 0. Summarizing Data \n",
    "\n",
    "* Create a new notebook in your jupyter application\n",
    "* Consider a problem of your own choosing\n",
    "    * eg., in retail, finance, health, ....\n",
    "    * consider a numerical dataset (ie., a quantitative variable = float)\n",
    "        * define a variable which is a list of numbers with **7** entries\n",
    "    * consider a categorical dataset (ie., a qualitative variable = string)\n",
    "        * define a variable which is a list of string **7** entries\n",
    "* Run the above summary functions on your lists\n",
    "    * STRETCH: neatly print out the results"
   ]
  },
  {
   "cell_type": "code",
   "execution_count": 111,
   "id": "99e93066",
   "metadata": {},
   "outputs": [],
   "source": [
    "# SOLUTION"
   ]
  },
  {
   "cell_type": "markdown",
   "id": "6f1caa96",
   "metadata": {},
   "source": [
    "    \n",
    "#### Solution 0. Summarizing Data"
   ]
  },
  {
   "cell_type": "markdown",
   "id": "37a4ecff",
   "metadata": {},
   "source": [
    "---"
   ]
  },
  {
   "cell_type": "markdown",
   "id": "4cac528f",
   "metadata": {},
   "source": [
    "## Part 1: Basic Syntax"
   ]
  },
  {
   "cell_type": "markdown",
   "id": "75a4e397",
   "metadata": {},
   "source": [
    "### Lists"
   ]
  },
  {
   "cell_type": "markdown",
   "id": "53b68777",
   "metadata": {},
   "source": [
    "Lists are defined with square brackets,"
   ]
  },
  {
   "cell_type": "markdown",
   "id": "070769ef",
   "metadata": {},
   "source": [
    "indexes start at zero and increase by one,"
   ]
  },
  {
   "cell_type": "markdown",
   "id": "c91d8fd7",
   "metadata": {},
   "source": [
    "We can also go backwards through a list, *ending* at `-1`, (end page: 2, also: -1)"
   ]
  },
  {
   "cell_type": "markdown",
   "id": "a2020a78",
   "metadata": {},
   "source": [
    "Q. How do you add elements to a list?"
   ]
  },
  {
   "cell_type": "markdown",
   "id": "4aa1531a",
   "metadata": {},
   "source": [
    "Q. How do you add an element *at a position*?"
   ]
  },
  {
   "cell_type": "markdown",
   "id": "d131b021",
   "metadata": {},
   "source": [
    "Q. How do you count the number of entires which match a given value?"
   ]
  },
  {
   "cell_type": "markdown",
   "id": "542d0d5f",
   "metadata": {},
   "source": [
    "In the syntax `o.m()` we refer to the dataset `o` as an *object* and the operation which is applied to the data, a *method*. "
   ]
  },
  {
   "cell_type": "markdown",
   "id": "0331ac8e",
   "metadata": {},
   "source": [
    "### Syntax Errors"
   ]
  },
  {
   "cell_type": "markdown",
   "id": "368a56c3",
   "metadata": {},
   "source": [
    "##### Equality & Assignment"
   ]
  },
  {
   "cell_type": "markdown",
   "id": "e516466f",
   "metadata": {},
   "source": [
    "Q. What is the symbol for equality?"
   ]
  },
  {
   "cell_type": "markdown",
   "id": "be6535ce",
   "metadata": {},
   "source": [
    "##### Quotes"
   ]
  },
  {
   "cell_type": "markdown",
   "id": "5c6f8ec1",
   "metadata": {},
   "source": [
    "##### Brackets"
   ]
  },
  {
   "cell_type": "markdown",
   "id": "c4bd0d5b",
   "metadata": {},
   "source": [
    "* `()` parentheses\n",
    "* `[]` square brackets\n",
    "* `{}` braces"
   ]
  },
  {
   "cell_type": "markdown",
   "id": "e2ce3dcf",
   "metadata": {},
   "source": [
    "Q. Rather than *parentheses*, we should use..?"
   ]
  },
  {
   "cell_type": "markdown",
   "id": "4bf1ae8d",
   "metadata": {},
   "source": [
    "### Comparisons & Tests"
   ]
  },
  {
   "cell_type": "markdown",
   "id": "6e40bff8",
   "metadata": {},
   "source": [
    "Q. What would I write to determine if i were: an adult?"
   ]
  },
  {
   "cell_type": "markdown",
   "id": "de0f78b2",
   "metadata": {},
   "source": [
    "Q. How would I determine if my name starts with an `M` ?"
   ]
  },
  {
   "cell_type": "markdown",
   "id": "4c527378",
   "metadata": {},
   "source": [
    "Q. How would I determine if my age is an odd number?"
   ]
  },
  {
   "cell_type": "markdown",
   "id": "e6ff176a",
   "metadata": {},
   "source": [
    "### Logical Combinations of Comparisons (Tests)"
   ]
  },
  {
   "cell_type": "markdown",
   "id": "bea1d304",
   "metadata": {},
   "source": [
    "We can ask for *both* conditions to be true,"
   ]
  },
  {
   "cell_type": "markdown",
   "id": "36287875",
   "metadata": {},
   "source": [
    "Or either,"
   ]
  },
  {
   "cell_type": "markdown",
   "id": "65869be9",
   "metadata": {},
   "source": [
    "Or that they arent true,"
   ]
  },
  {
   "cell_type": "markdown",
   "id": "015382b1",
   "metadata": {},
   "source": [
    "### Decision-Making"
   ]
  },
  {
   "cell_type": "markdown",
   "id": "353e2983",
   "metadata": {},
   "source": [
    "```python\n",
    "if ...:\n",
    "    action\n",
    "```"
   ]
  },
  {
   "cell_type": "markdown",
   "id": "d994689b",
   "metadata": {},
   "source": [
    "Q. What are the other keywords I can use to specialize or expand an `if`?"
   ]
  },
  {
   "cell_type": "markdown",
   "id": "838d0b27",
   "metadata": {},
   "source": [
    "Only one group of statements is performed, statements are *grouped* using indentation *whitespace*,"
   ]
  },
  {
   "cell_type": "markdown",
   "id": "7dcf8f0d",
   "metadata": {},
   "source": [
    "Note, `else` and other clauses are optional,"
   ]
  },
  {
   "cell_type": "markdown",
   "id": "8b49c101",
   "metadata": {},
   "source": [
    "---"
   ]
  },
  {
   "cell_type": "markdown",
   "id": "21432b0a",
   "metadata": {},
   "source": [
    "### Challenges "
   ]
  },
  {
   "cell_type": "markdown",
   "id": "1138f4ff",
   "metadata": {},
   "source": [
    "* copy the code to your own notebook\n",
    "    * and complete the challenge"
   ]
  },
  {
   "cell_type": "markdown",
   "id": "d2fd1343",
   "metadata": {},
   "source": [
    "#### Challenge 1a. Syntax Errors"
   ]
  },
  {
   "cell_type": "markdown",
   "id": "f47927f8",
   "metadata": {},
   "source": [
    "Fix the syntax in the following example,"
   ]
  },
  {
   "cell_type": "code",
   "execution_count": 93,
   "id": "7814a3d7",
   "metadata": {},
   "outputs": [
    {
     "ename": "SyntaxError",
     "evalue": "invalid syntax (924352493.py, line 1)",
     "output_type": "error",
     "traceback": [
      "\u001b[0;36m  Input \u001b[0;32mIn [93]\u001b[0;36m\u001b[0m\n\u001b[0;31m    prices = [2, 4, 6 8)\u001b[0m\n\u001b[0m                      ^\u001b[0m\n\u001b[0;31mSyntaxError\u001b[0m\u001b[0;31m:\u001b[0m invalid syntax\n"
     ]
    }
   ],
   "source": [
    "ages = [12, 41, 61 18)\n",
    "\n",
    "print(len[ages])\n",
    "print(ages[-1])"
   ]
  },
  {
   "cell_type": "markdown",
   "id": "38d9cf44",
   "metadata": {},
   "source": [
    "**Solution**"
   ]
  },
  {
   "cell_type": "code",
   "execution_count": 1,
   "id": "631e5c73",
   "metadata": {},
   "outputs": [],
   "source": [
    "# SOLUTION"
   ]
  },
  {
   "cell_type": "markdown",
   "id": "997a5643",
   "metadata": {},
   "source": [
    "#### Challenge 1e. STRETCH CHALLENGE\n",
    "\n",
    "If you finish the above challenges quickly, modify your summary report (completed earlier) and use various tests and decision-making syntax (if, else, etc.) to expand the report. (Eg., test the means, modes, ...)"
   ]
  },
  {
   "cell_type": "markdown",
   "id": "048fc501",
   "metadata": {},
   "source": [
    "---"
   ]
  },
  {
   "cell_type": "markdown",
   "id": "94cf8d5c",
   "metadata": {},
   "source": [
    "## Part 2: Looping "
   ]
  },
  {
   "cell_type": "markdown",
   "id": "6a0eb874",
   "metadata": {},
   "source": [
    "#### Looping"
   ]
  },
  {
   "cell_type": "markdown",
   "id": "b7620771",
   "metadata": {},
   "source": [
    "Q. How do I apply an operation to *every* entry? (What's the *keyword*...)"
   ]
  },
  {
   "cell_type": "markdown",
   "id": "524bc103",
   "metadata": {},
   "source": [
    "Recall, indentation is important."
   ]
  },
  {
   "cell_type": "markdown",
   "id": "6ee14ea3",
   "metadata": {},
   "source": [
    "### Reading Loops\n",
    "\n",
    "How do you *read* this syntax? What does it do?"
   ]
  },
  {
   "cell_type": "markdown",
   "id": "925b73a1",
   "metadata": {},
   "source": [
    "#### Looping & Filtering"
   ]
  },
  {
   "cell_type": "markdown",
   "id": "bdabcb5f",
   "metadata": {},
   "source": [
    "Q. How do I filter elements of data in a dataset, as I loop over them?"
   ]
  },
  {
   "cell_type": "markdown",
   "id": "3a33d295",
   "metadata": {},
   "source": [
    "### Further Examples of Looping: Counting"
   ]
  },
  {
   "cell_type": "markdown",
   "id": "eff8584b",
   "metadata": {},
   "source": [
    "---"
   ]
  },
  {
   "cell_type": "markdown",
   "id": "cf5f8e84",
   "metadata": {},
   "source": [
    "### Challenges"
   ]
  },
  {
   "cell_type": "markdown",
   "id": "08a7caf0",
   "metadata": {},
   "source": [
    "#### Challenge 2a. Looping: Even Numbers"
   ]
  },
  {
   "cell_type": "markdown",
   "id": "63917238",
   "metadata": {},
   "source": [
    "* define `dinner_guests` in which each entry represents a group arriving for dinner at a restaurant\n",
    "* print() each number which is even\n",
    "    * aside: why would a restaurant want to know which groups were even?\n",
    "    * possible answer: seating, table arragement, etc."
   ]
  },
  {
   "cell_type": "code",
   "execution_count": 107,
   "id": "3ef354f9",
   "metadata": {},
   "outputs": [],
   "source": [
    "# SOLUTION"
   ]
  },
  {
   "cell_type": "markdown",
   "id": "f4446a2d",
   "metadata": {},
   "source": [
    "#### Challenge 2b. Looping: Averages\n",
    "* compute the total of all the numbers using a loop\n",
    "* report the total and the mean after the loop\n",
    "    * using `len()` with the total\n"
   ]
  },
  {
   "cell_type": "code",
   "execution_count": 110,
   "id": "8dc3e5e5",
   "metadata": {},
   "outputs": [],
   "source": [
    "# SOLUTION"
   ]
  },
  {
   "cell_type": "markdown",
   "id": "55f78cee",
   "metadata": {},
   "source": [
    "#### Challenge 2c. Looping: Filtering\n",
    "* compute a total *of just* the odd numbers\n",
    "* compute a total *of just* the even numbers\n",
    "* report their totals seperately"
   ]
  },
  {
   "cell_type": "code",
   "execution_count": 110,
   "id": "732f2e29",
   "metadata": {},
   "outputs": [],
   "source": [
    "# SOLUTION"
   ]
  },
  {
   "cell_type": "markdown",
   "id": "c0d9b033",
   "metadata": {},
   "source": [
    "#### Challenge 2d. STRETCH: Looping: Maximums & Minimums"
   ]
  },
  {
   "cell_type": "markdown",
   "id": "f2ea07ce",
   "metadata": {},
   "source": [
    "If you get the above challenges done quickly, find the maximum and minimum group size using a loop (ie., not using `min`, `max`, etc.).\n",
    "\n",
    "HINT: You'll need a variable for each defined before the loop (eg., `min_entry`, `max_entry`) and these should be initialized to a useful starting value..."
   ]
  },
  {
   "cell_type": "code",
   "execution_count": 110,
   "id": "d9e9c485",
   "metadata": {},
   "outputs": [],
   "source": [
    "# SOLUTION"
   ]
  },
  {
   "cell_type": "markdown",
   "id": "82e74b49",
   "metadata": {},
   "source": [
    "---"
   ]
  },
  {
   "cell_type": "markdown",
   "id": "b46bd9fb",
   "metadata": {},
   "source": [
    "## Part 3: Advanced Syntax"
   ]
  },
  {
   "cell_type": "markdown",
   "id": "305252cf",
   "metadata": {},
   "source": [
    "### Error Handling"
   ]
  },
  {
   "cell_type": "markdown",
   "id": "b305a09c",
   "metadata": {},
   "source": [
    "**Aside:** Error handling can get more complex and specailized. Eg., it's possible to handle different types of errors, *differently*,"
   ]
  },
  {
   "cell_type": "markdown",
   "id": "8d9a78bb",
   "metadata": {},
   "source": [
    "---"
   ]
  },
  {
   "cell_type": "markdown",
   "id": "a2304065",
   "metadata": {},
   "source": [
    "### Functions"
   ]
  },
  {
   "cell_type": "markdown",
   "id": "d890c98b",
   "metadata": {},
   "source": [
    "Q. How do we define our own functions? (What's the keyword..)\n",
    "\n",
    "Q. What do we put between the parenthese?"
   ]
  },
  {
   "cell_type": "markdown",
   "id": "261e5fae",
   "metadata": {},
   "source": [
    "*Defining* a function does not mean *running* any operation. \n",
    "\n",
    "When we define a function we're provide a *template* of an algorithm,"
   ]
  },
  {
   "cell_type": "markdown",
   "id": "3ebbdb9e",
   "metadata": {},
   "source": [
    "Functions can *return* values: they can place values *in-memory* when the function is finished running. \n",
    "\n",
    "*printing* means *outputing to the screen* and **never places values back into memory**,"
   ]
  },
  {
   "cell_type": "markdown",
   "id": "fd335dd9",
   "metadata": {},
   "source": [
    "Q. How do we *return* a value? How do we modify the defintion, "
   ]
  },
  {
   "cell_type": "markdown",
   "id": "2c14bb4c",
   "metadata": {},
   "source": [
    "#### Aside: scope\n",
    "\n",
    "*Scope* is the visible area/region of the code where a variable is defined. Each function is its own *scope* meaning it's a self-contained world of variables, which won't \"leak out\". Variables defined inside functions, stay in functions. "
   ]
  },
  {
   "cell_type": "markdown",
   "id": "e3eb6bb3",
   "metadata": {},
   "source": [
    "Why can't I just define variables I want to save inside functions?"
   ]
  },
  {
   "cell_type": "markdown",
   "id": "8952fdc9",
   "metadata": {},
   "source": [
    "### Challenges "
   ]
  },
  {
   "cell_type": "markdown",
   "id": "6a6d549e",
   "metadata": {},
   "source": [
    "#### Challenge 3a: Functions"
   ]
  },
  {
   "cell_type": "markdown",
   "id": "5835953d",
   "metadata": {},
   "source": [
    "* define a summary function \n",
    "    * which requires two *arguments*: numerical, categorical\n",
    "    * and prints a statistical summary of both"
   ]
  },
  {
   "cell_type": "code",
   "execution_count": 245,
   "id": "fae1c38a",
   "metadata": {},
   "outputs": [],
   "source": [
    "# SOLUTION"
   ]
  },
  {
   "cell_type": "markdown",
   "id": "d799319f",
   "metadata": {},
   "source": [
    "#### Challenge 3b: Error Handling: Conversions"
   ]
  },
  {
   "cell_type": "markdown",
   "id": "61d421d8",
   "metadata": {},
   "source": [
    "* modify your above code to `try` to perform the summary functions which are likely to fail\n",
    "    * eg., `mode`\n",
    "    * rather than fail, just print \"could not perform\" that action"
   ]
  },
  {
   "cell_type": "code",
   "execution_count": 244,
   "id": "0e698a86",
   "metadata": {},
   "outputs": [],
   "source": [
    "# SOLUTION"
   ]
  },
  {
   "cell_type": "markdown",
   "id": "7478d3d8",
   "metadata": {},
   "source": [
    "---"
   ]
  },
  {
   "cell_type": "markdown",
   "id": "e0e79c46",
   "metadata": {},
   "source": [
    "## Review & End"
   ]
  },
  {
   "cell_type": "markdown",
   "id": "aa4c3d98",
   "metadata": {},
   "source": [
    "* starting place with python\n",
    "    * basics\n",
    "* takes a long time to learn\n",
    "    * keep practicing"
   ]
  },
  {
   "cell_type": "markdown",
   "id": "8086031d",
   "metadata": {},
   "source": [
    "---"
   ]
  },
  {
   "cell_type": "markdown",
   "id": "d65507c7",
   "metadata": {},
   "source": [
    "# STRETCH"
   ]
  },
  {
   "cell_type": "markdown",
   "id": "81012c07",
   "metadata": {},
   "source": [
    "### Comprehensions"
   ]
  },
  {
   "cell_type": "markdown",
   "id": "cb8c0d79",
   "metadata": {},
   "source": [
    "It's very common to derive a new list from an old one,"
   ]
  },
  {
   "cell_type": "code",
   "execution_count": 166,
   "id": "d338d385",
   "metadata": {},
   "outputs": [
    {
     "data": {
      "text/plain": [
       "[3, 5, 7]"
      ]
     },
     "execution_count": 166,
     "metadata": {},
     "output_type": "execute_result"
    }
   ],
   "source": [
    "old = [2, 4, 6]\n",
    "new = []\n",
    "\n",
    "for element in old:\n",
    "    new.append(element + 1)\n",
    "\n",
    "new"
   ]
  },
  {
   "cell_type": "markdown",
   "id": "4624af88",
   "metadata": {},
   "source": [
    "In python *comprehensions* allow you to do this is one go,"
   ]
  },
  {
   "cell_type": "code",
   "execution_count": 167,
   "id": "d9d17d48",
   "metadata": {},
   "outputs": [
    {
     "data": {
      "text/plain": [
       "[3, 5, 7]"
      ]
     },
     "execution_count": 167,
     "metadata": {},
     "output_type": "execute_result"
    }
   ],
   "source": [
    "[e + 1 for e in old]"
   ]
  },
  {
   "cell_type": "markdown",
   "id": "dcdf11e0",
   "metadata": {},
   "source": [
    "#### Challenge: Comprehensions"
   ]
  },
  {
   "cell_type": "markdown",
   "id": "9fb82b8a",
   "metadata": {},
   "source": [
    "Consider the following comprehension, which computes a predictor variable $y$ from an $x$ drawn from the range $0 \\text{ to } 10$,"
   ]
  },
  {
   "cell_type": "code",
   "execution_count": 103,
   "id": "fabf88bf",
   "metadata": {},
   "outputs": [
    {
     "data": {
      "text/plain": [
       "[1, 3, 5, 7, 9, 11, 13, 15, 17, 19]"
      ]
     },
     "execution_count": 103,
     "metadata": {},
     "output_type": "execute_result"
    }
   ],
   "source": [
    "y = [2 * x + 1 for x in range(0, 10)]\n",
    "y"
   ]
  },
  {
   "cell_type": "markdown",
   "id": "6c18b6a6",
   "metadata": {},
   "source": [
    "Rather than using `range(0,10)`, use your own dataset,\n",
    "\n",
    "* define a variable called, eg., `heart_rates`, to be a numerical list\n",
    "* replace `range(0, 10)` in the example with your variable (ie., `heart_rates`)"
   ]
  },
  {
   "cell_type": "code",
   "execution_count": 106,
   "id": "2fc780e3",
   "metadata": {},
   "outputs": [],
   "source": [
    "# SOLUTION"
   ]
  },
  {
   "cell_type": "markdown",
   "id": "ca08d9a2",
   "metadata": {},
   "source": [
    "Suppose you want to ignore some data in your list based on a test. Consider the following,"
   ]
  },
  {
   "cell_type": "code",
   "execution_count": 104,
   "id": "c9289ec9",
   "metadata": {},
   "outputs": [
    {
     "data": {
      "text/plain": [
       "[13, 15, 17, 19]"
      ]
     },
     "execution_count": 104,
     "metadata": {},
     "output_type": "execute_result"
    }
   ],
   "source": [
    "y = [2 * x + 1 for x in range(0, 10) if x > 5]\n",
    "y"
   ]
  },
  {
   "cell_type": "markdown",
   "id": "f7cdb6e3",
   "metadata": {},
   "source": [
    "Filter your own dataset,\n",
    "* replace `range(0, 10)` \n",
    "* and the test `x>5` \n",
    "* to create a `y` more meaningful to your case.\n",
    "\n",
    "Eg., suppose we ignore HRs `<30, and >200` on the basis that they arent likely to be real data."
   ]
  },
  {
   "cell_type": "code",
   "execution_count": 105,
   "id": "88172c6b",
   "metadata": {},
   "outputs": [],
   "source": [
    "# SOLUTION"
   ]
  },
  {
   "cell_type": "markdown",
   "id": "6eaff263",
   "metadata": {},
   "source": [
    "---"
   ]
  },
  {
   "cell_type": "markdown",
   "id": "39f60a31",
   "metadata": {},
   "source": [
    "## Appendix"
   ]
  },
  {
   "cell_type": "markdown",
   "id": "e75d95bf",
   "metadata": {},
   "source": [
    "### Terminology\n",
    "\n",
    "#### Syntax\n",
    "* `def` define *a function*\n",
    "    * *define* to mean either assign a variable `=`, or anything else\n",
    "* keywords `for`, `while`\n",
    "* operators `+=`\n",
    "* variables `name`\n",
    "* functions `names()` \n",
    "    * these are programmer-given names"
   ]
  },
  {
   "cell_type": "markdown",
   "id": "48d02c09",
   "metadata": {},
   "source": [
    "### Help"
   ]
  },
  {
   "cell_type": "code",
   "execution_count": 211,
   "id": "34f866d2",
   "metadata": {},
   "outputs": [
    {
     "name": "stdout",
     "output_type": "stream",
     "text": [
      "Help on function mean in module statistics:\n",
      "\n",
      "mean(data)\n",
      "    Return the sample arithmetic mean of data.\n",
      "    \n",
      "    >>> mean([1, 2, 3, 4, 4])\n",
      "    2.8\n",
      "    \n",
      "    >>> from fractions import Fraction as F\n",
      "    >>> mean([F(3, 7), F(1, 21), F(5, 3), F(1, 3)])\n",
      "    Fraction(13, 21)\n",
      "    \n",
      "    >>> from decimal import Decimal as D\n",
      "    >>> mean([D(\"0.5\"), D(\"0.75\"), D(\"0.625\"), D(\"0.375\")])\n",
      "    Decimal('0.5625')\n",
      "    \n",
      "    If ``data`` is empty, StatisticsError will be raised.\n",
      "\n"
     ]
    }
   ],
   "source": [
    "help(statistics.mean)"
   ]
  },
  {
   "cell_type": "markdown",
   "id": "2664e210",
   "metadata": {},
   "source": [
    "---"
   ]
  }
 ],
 "metadata": {
  "kernelspec": {
   "display_name": "Python 3 (ipykernel)",
   "language": "python",
   "name": "python3"
  },
  "language_info": {
   "codemirror_mode": {
    "name": "ipython",
    "version": 3
   },
   "file_extension": ".py",
   "mimetype": "text/x-python",
   "name": "python",
   "nbconvert_exporter": "python",
   "pygments_lexer": "ipython3",
   "version": "3.9.7"
  }
 },
 "nbformat": 4,
 "nbformat_minor": 5
}
