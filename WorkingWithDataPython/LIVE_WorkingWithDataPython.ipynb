{
 "cells": [
  {
   "cell_type": "markdown",
   "id": "b401f1a1",
   "metadata": {},
   "source": [
    "# Working with Data: Introduction to Python\n",
    "<font color=indigo>Live Workshop</font>\n",
    "\n",
    "---\n",
    "\n",
    "* This document is a technical brainstorm (like whiteboarding with code). \n",
    "    * I'll give you this and any other assets over the break. \n",
    "    * No need to follow along live.\n",
    "* If you don't have access to a jupyter installation, you can try the following link, \n",
    "    * https://jupyterlite.readthedocs.io/en/latest/_static/retro/notebooks/index.html\n",
    "    * Press `File > New`\n",
    "    * **this may take a few minutes to load**\n",
    "---\n",
    " "
   ]
  },
  {
   "cell_type": "markdown",
   "id": "9cadc951",
   "metadata": {},
   "source": [
    "## Lesson Plan\n",
    "\n",
    "* <font color=green>Introductions (20 min)</font>\n",
    "* <font color=green>Part 0: Review (30 min)</font>\n",
    "    * Python Warm Up (15 min)\n",
    "    * <font color=blue>Individual Challenge (15 min)</font>\n",
    "* <font color=green>Break & Admin (20 min)</font>\n",
    "    * Our Values, Learning Objectives, Menti Self-Assess, ...\n",
    "* <font color=green>Part 1: Basic Syntax (40 min)</font>\n",
    "    * Discussion (20 min)\n",
    "    * <font color=blue>Individual Challenges (20 min)</font>\n",
    "* <font color=green>Part 2: Looping (40 min)</font>\n",
    "    * Discussion (10 min)\n",
    "    * <font color=blue>Group Challenges (30 min)</font>\n",
    "* <font color=green>Break (10min)</font>\n",
    "* <font color=green>Part 3: Advanced Syntax (40 min)</font>\n",
    "    * Discussion (20 min)\n",
    "    * <font color=blue>Individual Challenges (20 min)</font>\n",
    "* <font color=green>Reivew & End (>5 min)</font>"
   ]
  },
  {
   "cell_type": "markdown",
   "id": "c44454a4",
   "metadata": {},
   "source": [
    "## Introductions\n",
    "* Name\n",
    "* Background/Role\n",
    "* Prior Experience\n",
    "* Hobby"
   ]
  },
  {
   "cell_type": "markdown",
   "id": "3331b0e9",
   "metadata": {},
   "source": [
    "---"
   ]
  },
  {
   "cell_type": "markdown",
   "id": "aca32d19",
   "metadata": {},
   "source": [
    "## Part 0: Review"
   ]
  },
  {
   "cell_type": "markdown",
   "id": "06fadc45",
   "metadata": {},
   "source": [
    "### Variables & Operations"
   ]
  },
  {
   "cell_type": "markdown",
   "id": "50cbe79d",
   "metadata": {},
   "source": [
    "Q. What symbol *assigns* a value to a variable?"
   ]
  },
  {
   "cell_type": "code",
   "execution_count": 169,
   "id": "70c749e8",
   "metadata": {},
   "outputs": [],
   "source": [
    "name = \"Michael Burgess\" # ASSIGNMENT OPERATOR\n",
    "age = 33\n",
    "height = 1.81\n",
    "is_tired = True"
   ]
  },
  {
   "cell_type": "markdown",
   "id": "5c81490b",
   "metadata": {},
   "source": [
    "Q. What's the type of this data?"
   ]
  },
  {
   "cell_type": "code",
   "execution_count": 171,
   "id": "17cde551",
   "metadata": {},
   "outputs": [
    {
     "data": {
      "text/plain": [
       "(str, int, float, bool)"
      ]
     },
     "execution_count": 171,
     "metadata": {},
     "output_type": "execute_result"
    }
   ],
   "source": [
    "type(name), type(age), type(height), type(is_tired)"
   ]
  },
  {
   "cell_type": "markdown",
   "id": "56d53bd7",
   "metadata": {},
   "source": [
    "### Printing"
   ]
  },
  {
   "cell_type": "code",
   "execution_count": 4,
   "id": "f437267c",
   "metadata": {},
   "outputs": [
    {
     "name": "stdout",
     "output_type": "stream",
     "text": [
      "Hello my name is Michael\n"
     ]
    }
   ],
   "source": [
    "print(\"Hello my name is Michael\")"
   ]
  },
  {
   "cell_type": "markdown",
   "id": "110bf492",
   "metadata": {},
   "source": [
    "**Aside**: You can include the value of variables using `{}` (braces) if you prefix the *string* with an `f` symbol,"
   ]
  },
  {
   "cell_type": "code",
   "execution_count": 5,
   "id": "18627431",
   "metadata": {},
   "outputs": [
    {
     "name": "stdout",
     "output_type": "stream",
     "text": [
      "Hello my name is Michael Burgess and my age is 33\n"
     ]
    }
   ],
   "source": [
    "print(f\"Hello my name is {name} and my age is {age}\")"
   ]
  },
  {
   "cell_type": "markdown",
   "id": "faffcf60",
   "metadata": {},
   "source": [
    "...`f` for *format*"
   ]
  },
  {
   "cell_type": "markdown",
   "id": "21e4c6c9",
   "metadata": {},
   "source": [
    "### Data Structures & Conversions"
   ]
  },
  {
   "cell_type": "code",
   "execution_count": 9,
   "id": "518b8e39",
   "metadata": {},
   "outputs": [],
   "source": [
    "hobbies = [\"Sailing\", \"Ceramics\", \"Arguing\"]"
   ]
  },
  {
   "cell_type": "markdown",
   "id": "f921e5db",
   "metadata": {},
   "source": [
    "Q. What's the type of `hobbies`?"
   ]
  },
  {
   "cell_type": "code",
   "execution_count": 33,
   "id": "95b73d37",
   "metadata": {},
   "outputs": [
    {
     "data": {
      "text/plain": [
       "list"
      ]
     },
     "execution_count": 33,
     "metadata": {},
     "output_type": "execute_result"
    }
   ],
   "source": [
    "type(hobbies)"
   ]
  },
  {
   "cell_type": "markdown",
   "id": "464a4915",
   "metadata": {},
   "source": [
    "The first `hobbies` is a string,"
   ]
  },
  {
   "cell_type": "code",
   "execution_count": 8,
   "id": "afb3b7d7",
   "metadata": {},
   "outputs": [
    {
     "data": {
      "text/plain": [
       "'Sailing'"
      ]
     },
     "execution_count": 8,
     "metadata": {},
     "output_type": "execute_result"
    }
   ],
   "source": [
    "hobbies[0]"
   ]
  },
  {
   "cell_type": "markdown",
   "id": "c4f3b7c4",
   "metadata": {},
   "source": [
    "The *indexes* of a list are (somewhat like) page numbers, in that they identify the position of some data, "
   ]
  },
  {
   "cell_type": "code",
   "execution_count": 16,
   "id": "112d383f",
   "metadata": {},
   "outputs": [],
   "source": [
    "page = 0"
   ]
  },
  {
   "cell_type": "code",
   "execution_count": 17,
   "id": "311ce6a7",
   "metadata": {},
   "outputs": [
    {
     "name": "stdout",
     "output_type": "stream",
     "text": [
      "Sailing\n"
     ]
    }
   ],
   "source": [
    "print(hobbies[page])"
   ]
  },
  {
   "cell_type": "code",
   "execution_count": 15,
   "id": "c8468066",
   "metadata": {},
   "outputs": [
    {
     "name": "stdout",
     "output_type": "stream",
     "text": [
      "Sailing Ceramics\n"
     ]
    }
   ],
   "source": [
    "print(hobbies[0], hobbies[1])"
   ]
  },
  {
   "cell_type": "markdown",
   "id": "0e5ae1b1",
   "metadata": {},
   "source": [
    "---"
   ]
  },
  {
   "cell_type": "markdown",
   "id": "d9d761ab",
   "metadata": {},
   "source": [
    "#### Aside\n",
    "Python has other complex data structures. Eg., consider a *dictionary* which relates *keys* to *values*,"
   ]
  },
  {
   "cell_type": "code",
   "execution_count": 11,
   "id": "9f9c49fd",
   "metadata": {},
   "outputs": [],
   "source": [
    "register = {\n",
    "    # KEY : VALUE\n",
    "    'Jaz': True,\n",
    "    'Sara': True,\n",
    "    'Sherlock': False\n",
    "}"
   ]
  },
  {
   "cell_type": "code",
   "execution_count": 12,
   "id": "27360352",
   "metadata": {},
   "outputs": [
    {
     "data": {
      "text/plain": [
       "(list, dict)"
      ]
     },
     "execution_count": 12,
     "metadata": {},
     "output_type": "execute_result"
    }
   ],
   "source": [
    "type(hobbies), type(register)"
   ]
  },
  {
   "cell_type": "markdown",
   "id": "6c4ec721",
   "metadata": {},
   "source": [
    "A dictionary allows you to use a named index (rather than just a *sequential* index, ie., a counted one), "
   ]
  },
  {
   "cell_type": "code",
   "execution_count": 18,
   "id": "44a2aaa3",
   "metadata": {},
   "outputs": [
    {
     "data": {
      "text/plain": [
       "True"
      ]
     },
     "execution_count": 18,
     "metadata": {},
     "output_type": "execute_result"
    }
   ],
   "source": [
    "register['Jaz']"
   ]
  },
  {
   "cell_type": "markdown",
   "id": "ca943a70",
   "metadata": {},
   "source": [
    "---"
   ]
  },
  {
   "cell_type": "markdown",
   "id": "1349d205",
   "metadata": {},
   "source": [
    "### Importing"
   ]
  },
  {
   "cell_type": "markdown",
   "id": "624dc9dc",
   "metadata": {},
   "source": [
    "Q. What keyword *imports* a module?"
   ]
  },
  {
   "cell_type": "code",
   "execution_count": 21,
   "id": "d3d25d6e",
   "metadata": {},
   "outputs": [],
   "source": [
    "import statistics"
   ]
  },
  {
   "cell_type": "markdown",
   "id": "27f21f79",
   "metadata": {},
   "source": [
    "Q. How would I run the `mean` function ( defined *inside* the `statistics` module)?"
   ]
  },
  {
   "cell_type": "code",
   "execution_count": 23,
   "id": "1058b61b",
   "metadata": {
    "scrolled": true
   },
   "outputs": [
    {
     "data": {
      "text/plain": [
       "<function statistics.mean(data)>"
      ]
     },
     "execution_count": 23,
     "metadata": {},
     "output_type": "execute_result"
    }
   ],
   "source": [
    "statistics.mean # the name of the function"
   ]
  },
  {
   "cell_type": "markdown",
   "id": "ecf6c35a",
   "metadata": {},
   "source": [
    "Running the function,"
   ]
  },
  {
   "cell_type": "code",
   "execution_count": 26,
   "id": "f0c0f8da",
   "metadata": {
    "scrolled": true
   },
   "outputs": [
    {
     "data": {
      "text/plain": [
       "4.333333333333333"
      ]
     },
     "execution_count": 26,
     "metadata": {},
     "output_type": "execute_result"
    }
   ],
   "source": [
    "statistics.mean([2, 4, 7]) # to run the function we write () parentheses after the name"
   ]
  },
  {
   "cell_type": "markdown",
   "id": "67e3aca8",
   "metadata": {},
   "source": [
    "### Summarizing Functions"
   ]
  },
  {
   "cell_type": "markdown",
   "id": "65630269",
   "metadata": {},
   "source": [
    "Q. What built-in functions would help me describe a data-set?"
   ]
  },
  {
   "cell_type": "markdown",
   "id": "a03144d0",
   "metadata": {},
   "source": [
    "* `len`\n",
    "* `sum`\n",
    "* `statistics.mean`\n",
    "* `statistics.median`\n",
    "* `statistics.mode`\n",
    "* `statistics.stdev`"
   ]
  },
  {
   "cell_type": "markdown",
   "id": "09210b1d",
   "metadata": {},
   "source": [
    "There are `6` elements in the following list,"
   ]
  },
  {
   "cell_type": "code",
   "execution_count": 30,
   "id": "a0723f42",
   "metadata": {},
   "outputs": [
    {
     "data": {
      "text/plain": [
       "6"
      ]
     },
     "execution_count": 30,
     "metadata": {},
     "output_type": "execute_result"
    }
   ],
   "source": [
    "cities = [0, 2, 2, 2, 2, 4]\n",
    "\n",
    "len(cities)"
   ]
  },
  {
   "cell_type": "markdown",
   "id": "89f9a522",
   "metadata": {},
   "source": [
    "---"
   ]
  },
  {
   "cell_type": "markdown",
   "id": "4d2ddd57",
   "metadata": {},
   "source": [
    "### Challenges (<= 15min)\n",
    "\n",
    "#### 0. Summarizing Data \n",
    "\n",
    "* Create a new notebook in your jupyter application\n",
    "* Consider a problem of your own choosing\n",
    "    * eg., in retail, finance, health, ....\n",
    "    * consider a numerical dataset (ie., a quantitative variable = float)\n",
    "        * define a variable which is a list of numbers with **7** entries\n",
    "    * consider a categorical dataset (ie., a qualitative variable = string)\n",
    "        * define a variable which is a list of string **7** entries\n",
    "* Run the above summary functions on your lists\n",
    "    * STRETCH: neatly print out the results"
   ]
  },
  {
   "cell_type": "code",
   "execution_count": 111,
   "id": "9806f1b1",
   "metadata": {},
   "outputs": [],
   "source": [
    "# SOLUTION"
   ]
  },
  {
   "cell_type": "markdown",
   "id": "13a81798",
   "metadata": {},
   "source": [
    "    \n",
    "#### Solution 0. Summarizing Data"
   ]
  },
  {
   "cell_type": "code",
   "execution_count": 91,
   "id": "b7ee7465",
   "metadata": {},
   "outputs": [
    {
     "name": "stdout",
     "output_type": "stream",
     "text": [
      "CAFFEINE REPORT\n",
      "No. Entires:  5\n",
      "Total:  1350\n",
      "Mean:  270\n",
      "Mode:  300\n",
      "Median:  200\n",
      "\n",
      "SLEEP REPORT\n",
      "No. Entires:  5\n",
      "Mode:  GOOD\n",
      "Median:  GOOD\n"
     ]
    }
   ],
   "source": [
    "caffeine = [300, 600, 100, 200, 150]\n",
    "sleep = [\"GOOD\", \"BAD\", \"EXCELLENT\", \"GOOD\", \"OK\"]\n",
    "\n",
    "print(\"CAFFEINE REPORT\")\n",
    "print(\"No. Entires: \", len(caffeine))\n",
    "print(\"Total: \", sum(caffeine))\n",
    "print(\"Mean: \", statistics.mean(caffeine))\n",
    "print(\"Mode: \", statistics.mode(caffeine))\n",
    "print(\"Median: \", statistics.median(caffeine))\n",
    "print() # an empty line\n",
    "\n",
    "print(\"SLEEP REPORT\")\n",
    "print(\"No. Entires: \", len(sleep))\n",
    "print(\"Mode: \", statistics.mode(sleep))\n",
    "print(\"Median: \", statistics.median(sleep))\n"
   ]
  },
  {
   "cell_type": "markdown",
   "id": "37a4ecff",
   "metadata": {},
   "source": [
    "---"
   ]
  },
  {
   "cell_type": "markdown",
   "id": "4cac528f",
   "metadata": {},
   "source": [
    "## Part 1: Basic Syntax"
   ]
  },
  {
   "cell_type": "markdown",
   "id": "49780292",
   "metadata": {},
   "source": [
    "### Lists"
   ]
  },
  {
   "cell_type": "markdown",
   "id": "5c94b4af",
   "metadata": {},
   "source": [
    "Lists are defined with square brackets,"
   ]
  },
  {
   "cell_type": "code",
   "execution_count": 44,
   "id": "6ae6f757",
   "metadata": {},
   "outputs": [],
   "source": [
    "prices = [1.20, 2.40, 5.5]"
   ]
  },
  {
   "cell_type": "markdown",
   "id": "093149c6",
   "metadata": {},
   "source": [
    "indexes start at zero and increase by one,"
   ]
  },
  {
   "cell_type": "code",
   "execution_count": 47,
   "id": "1c5921e6",
   "metadata": {},
   "outputs": [
    {
     "data": {
      "text/plain": [
       "(1.2, 2.4, 5.5)"
      ]
     },
     "execution_count": 47,
     "metadata": {},
     "output_type": "execute_result"
    }
   ],
   "source": [
    "prices[0], prices[1], prices[2]"
   ]
  },
  {
   "cell_type": "markdown",
   "id": "45bd15f3",
   "metadata": {},
   "source": [
    "We can also go backwards through a list, *ending* at `-1`, (end page: 2, also: -1)"
   ]
  },
  {
   "cell_type": "code",
   "execution_count": 49,
   "id": "e1769709",
   "metadata": {},
   "outputs": [
    {
     "data": {
      "text/plain": [
       "(5.5, 2.4)"
      ]
     },
     "execution_count": 49,
     "metadata": {},
     "output_type": "execute_result"
    }
   ],
   "source": [
    "prices[-1], prices[-2]"
   ]
  },
  {
   "cell_type": "markdown",
   "id": "b9675699",
   "metadata": {},
   "source": [
    "Q. How do you add elements to a list?"
   ]
  },
  {
   "cell_type": "code",
   "execution_count": 70,
   "id": "6a59e529",
   "metadata": {},
   "outputs": [],
   "source": [
    "prices.append(6.55)"
   ]
  },
  {
   "cell_type": "code",
   "execution_count": 51,
   "id": "8691e25f",
   "metadata": {},
   "outputs": [
    {
     "data": {
      "text/plain": [
       "[1.2, 2.4, 5.5, 6.55]"
      ]
     },
     "execution_count": 51,
     "metadata": {},
     "output_type": "execute_result"
    }
   ],
   "source": [
    "prices"
   ]
  },
  {
   "cell_type": "markdown",
   "id": "0e874886",
   "metadata": {},
   "source": [
    "Q. How do you add an element *at a position*?"
   ]
  },
  {
   "cell_type": "code",
   "execution_count": 52,
   "id": "b7c6f807",
   "metadata": {},
   "outputs": [],
   "source": [
    "prices.insert(0, 0.51)"
   ]
  },
  {
   "cell_type": "code",
   "execution_count": 53,
   "id": "6ee90a0e",
   "metadata": {},
   "outputs": [
    {
     "data": {
      "text/plain": [
       "[0.51, 1.2, 2.4, 5.5, 6.55]"
      ]
     },
     "execution_count": 53,
     "metadata": {},
     "output_type": "execute_result"
    }
   ],
   "source": [
    "prices"
   ]
  },
  {
   "cell_type": "markdown",
   "id": "eef0b76b",
   "metadata": {},
   "source": [
    "recall, `sleep`, "
   ]
  },
  {
   "cell_type": "code",
   "execution_count": 54,
   "id": "be30a1b8",
   "metadata": {},
   "outputs": [
    {
     "data": {
      "text/plain": [
       "['GOOD', 'BAD', 'EXCELLENT', 'GOOD', 'OK']"
      ]
     },
     "execution_count": 54,
     "metadata": {},
     "output_type": "execute_result"
    }
   ],
   "source": [
    "sleep"
   ]
  },
  {
   "cell_type": "markdown",
   "id": "c7946ebe",
   "metadata": {},
   "source": [
    "Q. How do you count the number of entires which match a given value?"
   ]
  },
  {
   "cell_type": "code",
   "execution_count": 56,
   "id": "fdd68ed8",
   "metadata": {},
   "outputs": [
    {
     "data": {
      "text/plain": [
       "2"
      ]
     },
     "execution_count": 56,
     "metadata": {},
     "output_type": "execute_result"
    }
   ],
   "source": [
    "sleep.count(\"GOOD\")"
   ]
  },
  {
   "cell_type": "markdown",
   "id": "556decb2",
   "metadata": {},
   "source": [
    "In the syntax `o.m()` we refer to the dataset `o` as an *object* and the operation which is applied to the data, a *method*. "
   ]
  },
  {
   "cell_type": "markdown",
   "id": "0331ac8e",
   "metadata": {},
   "source": [
    "### Syntax Errors"
   ]
  },
  {
   "cell_type": "markdown",
   "id": "bbde8c13",
   "metadata": {},
   "source": [
    "Learning python takes years.\n",
    "\n",
    "* learning to program\n",
    "    * <font color=indigo>**learning syntax**</font> (important early skill)\n",
    "        * adjusting your *reading* to technical code \n",
    "        * not like mathematics, or literature -- both ambiguous\n",
    "        * highly precise\n",
    "    * learning algorithms\n",
    "        * and their behaviour\n",
    "    * learning phrasing\n",
    "* learning python\n",
    "    * specifics of pythons: syntax, ....\n"
   ]
  },
  {
   "cell_type": "markdown",
   "id": "dcdb364c",
   "metadata": {},
   "source": [
    "##### Equality & Assignment"
   ]
  },
  {
   "cell_type": "markdown",
   "id": "47cc9e17",
   "metadata": {},
   "source": [
    "In mathematics: $x = y$ is the same as $y = x$"
   ]
  },
  {
   "cell_type": "markdown",
   "id": "e6840f44",
   "metadata": {},
   "source": [
    "In python programming `=` means *assignement*, it only reads/works *LEFT-TO-RIGHT*,"
   ]
  },
  {
   "cell_type": "code",
   "execution_count": 66,
   "id": "817206eb",
   "metadata": {},
   "outputs": [],
   "source": [
    "name = \"Michael\""
   ]
  },
  {
   "cell_type": "code",
   "execution_count": 67,
   "id": "ac6d5305",
   "metadata": {},
   "outputs": [
    {
     "ename": "SyntaxError",
     "evalue": "cannot assign to literal (2134918280.py, line 1)",
     "output_type": "error",
     "traceback": [
      "\u001b[0;36m  Input \u001b[0;32mIn [67]\u001b[0;36m\u001b[0m\n\u001b[0;31m    \"Michael\" = name\u001b[0m\n\u001b[0m    ^\u001b[0m\n\u001b[0;31mSyntaxError\u001b[0m\u001b[0;31m:\u001b[0m cannot assign to literal\n"
     ]
    }
   ],
   "source": [
    "\"Michael\" = name"
   ]
  },
  {
   "cell_type": "markdown",
   "id": "9aca9178",
   "metadata": {},
   "source": [
    "Q. What is the symbol for equality?"
   ]
  },
  {
   "cell_type": "code",
   "execution_count": 68,
   "id": "65d0f59f",
   "metadata": {},
   "outputs": [
    {
     "data": {
      "text/plain": [
       "True"
      ]
     },
     "execution_count": 68,
     "metadata": {},
     "output_type": "execute_result"
    }
   ],
   "source": [
    "5 == (1 + 4)"
   ]
  },
  {
   "cell_type": "code",
   "execution_count": 69,
   "id": "b76f6b41",
   "metadata": {},
   "outputs": [
    {
     "data": {
      "text/plain": [
       "True"
      ]
     },
     "execution_count": 69,
     "metadata": {},
     "output_type": "execute_result"
    }
   ],
   "source": [
    "(1 + 4) == 5"
   ]
  },
  {
   "cell_type": "markdown",
   "id": "cf99f11c",
   "metadata": {},
   "source": [
    "##### Quotes"
   ]
  },
  {
   "cell_type": "markdown",
   "id": "c7c286ec",
   "metadata": {},
   "source": [
    "Quotes need to be exact,"
   ]
  },
  {
   "cell_type": "code",
   "execution_count": 246,
   "id": "decdc608",
   "metadata": {},
   "outputs": [
    {
     "ename": "SyntaxError",
     "evalue": "EOL while scanning string literal (3880519148.py, line 1)",
     "output_type": "error",
     "traceback": [
      "\u001b[0;36m  Input \u001b[0;32mIn [246]\u001b[0;36m\u001b[0m\n\u001b[0;31m    \" Hello, that's not yours!   '\u001b[0m\n\u001b[0m                                  ^\u001b[0m\n\u001b[0;31mSyntaxError\u001b[0m\u001b[0;31m:\u001b[0m EOL while scanning string literal\n"
     ]
    }
   ],
   "source": [
    "\" Hello, that's not yours!   '"
   ]
  },
  {
   "cell_type": "markdown",
   "id": "67a824c8",
   "metadata": {},
   "source": [
    "Q. What's the fix?"
   ]
  },
  {
   "cell_type": "code",
   "execution_count": 247,
   "id": "eb233458",
   "metadata": {},
   "outputs": [
    {
     "data": {
      "text/plain": [
       "\" Hello, that's not yours!   \""
      ]
     },
     "execution_count": 247,
     "metadata": {},
     "output_type": "execute_result"
    }
   ],
   "source": [
    "\" Hello, that's not yours!   \""
   ]
  },
  {
   "cell_type": "markdown",
   "id": "1aa1ccad",
   "metadata": {},
   "source": [
    "##### Brackets"
   ]
  },
  {
   "cell_type": "markdown",
   "id": "149b3982",
   "metadata": {},
   "source": [
    "* `()` parentheses\n",
    "* `[]` square brackets\n",
    "* `{}` braces"
   ]
  },
  {
   "cell_type": "code",
   "execution_count": 59,
   "id": "a6379fe8",
   "metadata": {},
   "outputs": [
    {
     "ename": "TypeError",
     "evalue": "'list' object is not callable",
     "output_type": "error",
     "traceback": [
      "\u001b[0;31m---------------------------------------------------------------------------\u001b[0m",
      "\u001b[0;31mTypeError\u001b[0m                                 Traceback (most recent call last)",
      "Input \u001b[0;32mIn [59]\u001b[0m, in \u001b[0;36m<cell line: 1>\u001b[0;34m()\u001b[0m\n\u001b[0;32m----> 1\u001b[0m \u001b[43mprices\u001b[49m\u001b[43m(\u001b[49m\u001b[38;5;241;43m0\u001b[39;49m\u001b[43m)\u001b[49m\n",
      "\u001b[0;31mTypeError\u001b[0m: 'list' object is not callable"
     ]
    }
   ],
   "source": [
    "prices(0)"
   ]
  },
  {
   "cell_type": "markdown",
   "id": "92b159c6",
   "metadata": {},
   "source": [
    "Q. Rather than *parentheses*, we should use..?"
   ]
  },
  {
   "cell_type": "code",
   "execution_count": 60,
   "id": "203114b4",
   "metadata": {},
   "outputs": [
    {
     "data": {
      "text/plain": [
       "0.51"
      ]
     },
     "execution_count": 60,
     "metadata": {},
     "output_type": "execute_result"
    }
   ],
   "source": [
    "prices[0]"
   ]
  },
  {
   "cell_type": "markdown",
   "id": "8ed9ffe9",
   "metadata": {},
   "source": [
    "---"
   ]
  },
  {
   "cell_type": "markdown",
   "id": "d9ee42c8",
   "metadata": {},
   "source": [
    "##### Aside: Examples of Brackets in Python"
   ]
  },
  {
   "cell_type": "markdown",
   "id": "a3a50fd3",
   "metadata": {},
   "source": [
    "Running a function,"
   ]
  },
  {
   "cell_type": "code",
   "execution_count": 61,
   "id": "ab8dd995",
   "metadata": {},
   "outputs": [
    {
     "name": "stdout",
     "output_type": "stream",
     "text": [
      "Running a function\n"
     ]
    }
   ],
   "source": [
    "print(\"Running a function\")"
   ]
  },
  {
   "cell_type": "markdown",
   "id": "606f22c6",
   "metadata": {},
   "source": [
    "Grouping mathematical operations,"
   ]
  },
  {
   "cell_type": "code",
   "execution_count": 62,
   "id": "4499e0da",
   "metadata": {},
   "outputs": [
    {
     "data": {
      "text/plain": [
       "16"
      ]
     },
     "execution_count": 62,
     "metadata": {},
     "output_type": "execute_result"
    }
   ],
   "source": [
    "(2 * 3) + 10"
   ]
  },
  {
   "cell_type": "markdown",
   "id": "99b5ebbf",
   "metadata": {},
   "source": [
    "*tuples* (are like lists) are often presented in parentheses, *tuples* do as much as lists do, *except* they cant be modified,"
   ]
  },
  {
   "cell_type": "code",
   "execution_count": 63,
   "id": "bfa79688",
   "metadata": {},
   "outputs": [],
   "source": [
    "pair = (1, 2)"
   ]
  },
  {
   "cell_type": "markdown",
   "id": "09951c81",
   "metadata": {},
   "source": [
    "In python square brakets are *always* indexes,"
   ]
  },
  {
   "cell_type": "code",
   "execution_count": 64,
   "id": "66b79f74",
   "metadata": {},
   "outputs": [
    {
     "data": {
      "text/plain": [
       "'Sailing'"
      ]
     },
     "execution_count": 64,
     "metadata": {},
     "output_type": "execute_result"
    }
   ],
   "source": [
    "hobbies[0]"
   ]
  },
  {
   "cell_type": "markdown",
   "id": "8700c7bb",
   "metadata": {},
   "source": [
    "There are two uses of braces (dictionaries, and sets),"
   ]
  },
  {
   "cell_type": "code",
   "execution_count": 65,
   "id": "12296762",
   "metadata": {},
   "outputs": [],
   "source": [
    "eg = {\"Ham\": 10, \"Bread\": 3}\n",
    "\n",
    "people = {\"Alice\", \"Eve\", \"Bob\"}"
   ]
  },
  {
   "cell_type": "markdown",
   "id": "aaf736c2",
   "metadata": {},
   "source": [
    "----"
   ]
  },
  {
   "cell_type": "markdown",
   "id": "4bf1ae8d",
   "metadata": {},
   "source": [
    "### Comparisons & Tests"
   ]
  },
  {
   "cell_type": "markdown",
   "id": "85edc422",
   "metadata": {},
   "source": [
    "Recall the variables defined earlier,"
   ]
  },
  {
   "cell_type": "code",
   "execution_count": 72,
   "id": "eb3aa76a",
   "metadata": {},
   "outputs": [
    {
     "name": "stdout",
     "output_type": "stream",
     "text": [
      "Michael 33 1.81 True\n"
     ]
    }
   ],
   "source": [
    "print(name, age, height, is_tired)"
   ]
  },
  {
   "cell_type": "markdown",
   "id": "dba2cd09",
   "metadata": {},
   "source": [
    "Q. What would I write to determine if i were: an adult?"
   ]
  },
  {
   "cell_type": "code",
   "execution_count": 75,
   "id": "34502900",
   "metadata": {},
   "outputs": [
    {
     "data": {
      "text/plain": [
       "True"
      ]
     },
     "execution_count": 75,
     "metadata": {},
     "output_type": "execute_result"
    }
   ],
   "source": [
    "age >= 18 # operator = symbol"
   ]
  },
  {
   "cell_type": "markdown",
   "id": "f10ab655",
   "metadata": {},
   "source": [
    "Q. How would I determine if my name starts with an `M` ?"
   ]
  },
  {
   "cell_type": "code",
   "execution_count": 76,
   "id": "5ea784a5",
   "metadata": {},
   "outputs": [
    {
     "data": {
      "text/plain": [
       "True"
      ]
     },
     "execution_count": 76,
     "metadata": {},
     "output_type": "execute_result"
    }
   ],
   "source": [
    "name.startswith(\"M\") # method = name of an operation"
   ]
  },
  {
   "cell_type": "markdown",
   "id": "999aa645",
   "metadata": {},
   "source": [
    "Q. How would I determine if my age is an odd number?"
   ]
  },
  {
   "cell_type": "code",
   "execution_count": 78,
   "id": "22b8658a",
   "metadata": {},
   "outputs": [
    {
     "data": {
      "text/plain": [
       "1"
      ]
     },
     "execution_count": 78,
     "metadata": {},
     "output_type": "execute_result"
    }
   ],
   "source": [
    "age % 2 # The remainder when age is divided by 2"
   ]
  },
  {
   "cell_type": "code",
   "execution_count": 79,
   "id": "4b9cbaf1",
   "metadata": {},
   "outputs": [
    {
     "data": {
      "text/plain": [
       "True"
      ]
     },
     "execution_count": 79,
     "metadata": {},
     "output_type": "execute_result"
    }
   ],
   "source": [
    "age % 2 == 1"
   ]
  },
  {
   "cell_type": "markdown",
   "id": "4127fdde",
   "metadata": {},
   "source": [
    "We usually write whether `age % 2` *is not* `0`, ie., is not even,"
   ]
  },
  {
   "cell_type": "code",
   "execution_count": 80,
   "id": "5c8199dc",
   "metadata": {},
   "outputs": [
    {
     "data": {
      "text/plain": [
       "True"
      ]
     },
     "execution_count": 80,
     "metadata": {},
     "output_type": "execute_result"
    }
   ],
   "source": [
    "age % 2 != 0"
   ]
  },
  {
   "cell_type": "markdown",
   "id": "6b8873ea",
   "metadata": {},
   "source": [
    "### Logical Combinations of Comparisons (Tests)"
   ]
  },
  {
   "cell_type": "markdown",
   "id": "a388ac20",
   "metadata": {},
   "source": [
    "We can ask for *both* conditions to be true,"
   ]
  },
  {
   "cell_type": "code",
   "execution_count": 98,
   "id": "9a446fb6",
   "metadata": {},
   "outputs": [
    {
     "data": {
      "text/plain": [
       "False"
      ]
     },
     "execution_count": 98,
     "metadata": {},
     "output_type": "execute_result"
    }
   ],
   "source": [
    "(age >= 18) and (age % 2 == 0) # both that age is >=18    AND    that age is even"
   ]
  },
  {
   "cell_type": "markdown",
   "id": "8da4e8d2",
   "metadata": {},
   "source": [
    "Or either,"
   ]
  },
  {
   "cell_type": "code",
   "execution_count": 99,
   "id": "dd10e8eb",
   "metadata": {},
   "outputs": [
    {
     "data": {
      "text/plain": [
       "True"
      ]
     },
     "execution_count": 99,
     "metadata": {},
     "output_type": "execute_result"
    }
   ],
   "source": [
    "(age >= 18) or (age % 2 == 0) # either that age is >=18    OR    that age is even"
   ]
  },
  {
   "cell_type": "markdown",
   "id": "12ff1158",
   "metadata": {},
   "source": [
    "Or that they arent true,"
   ]
  },
  {
   "cell_type": "code",
   "execution_count": 101,
   "id": "9bfc4f15",
   "metadata": {},
   "outputs": [
    {
     "data": {
      "text/plain": [
       "True"
      ]
     },
     "execution_count": 101,
     "metadata": {},
     "output_type": "execute_result"
    }
   ],
   "source": [
    "not ((age >= 18) and (age % 2 == 0)) # not that both..."
   ]
  },
  {
   "cell_type": "markdown",
   "id": "015382b1",
   "metadata": {},
   "source": [
    "### Decision-Making"
   ]
  },
  {
   "cell_type": "markdown",
   "id": "30118d83",
   "metadata": {},
   "source": [
    "```python\n",
    "if ...:\n",
    "    action\n",
    "```"
   ]
  },
  {
   "cell_type": "markdown",
   "id": "8dce298f",
   "metadata": {},
   "source": [
    "Q. What are the other keywords I can use to specialize or expand an `if`?"
   ]
  },
  {
   "cell_type": "markdown",
   "id": "56e81555",
   "metadata": {},
   "source": [
    "```python\n",
    "if ...:\n",
    "    ...\n",
    "elif:\n",
    "    ...\n",
    "else:\n",
    "    ...\n",
    "```"
   ]
  },
  {
   "cell_type": "markdown",
   "id": "0ccb5798",
   "metadata": {},
   "source": [
    "Suppose I want to perform some number of actions based on some tests. Eg., suppose 4 different actions. \n",
    "\n",
    "```python\n",
    "\n",
    "if ....:\n",
    "    ACTION1\n",
    "elif ...:\n",
    "    ACTION2\n",
    "elif ...:\n",
    "    ACTION3\n",
    "else:\n",
    "    ACTION4\n",
    "```"
   ]
  },
  {
   "cell_type": "markdown",
   "id": "78a0068b",
   "metadata": {},
   "source": [
    "Only one group of statements is performed, statements are *grouped* using indentation *whitespace*,"
   ]
  },
  {
   "cell_type": "code",
   "execution_count": 172,
   "id": "80293cbb",
   "metadata": {},
   "outputs": [
    {
     "name": "stdout",
     "output_type": "stream",
     "text": [
      "I am at least 81\n"
     ]
    }
   ],
   "source": [
    "\n",
    "age = 81\n",
    "#Q. What action will be performed?\n",
    "\n",
    "if (age >= 18) and (age <= 80):\n",
    "    #Q. What age am I here?\n",
    "    print(\"I am at least 18\")\n",
    "    print(\"I am at least 18\")\n",
    "    print(\"I am at least 18\")\n",
    "    # these three statements execute because they are indented to the same level\n",
    "elif age > 80:\n",
    "    #Q. What age am I here?\n",
    "    print(\"I am at least 81\")\n",
    "else:\n",
    "    #Q. What age am I here?\n",
    "    print(\"I am less than 18\")\n"
   ]
  },
  {
   "cell_type": "markdown",
   "id": "791ccf7b",
   "metadata": {},
   "source": [
    "Note, `else` and other clauses are optional,"
   ]
  },
  {
   "cell_type": "code",
   "execution_count": 165,
   "id": "b8795c01",
   "metadata": {},
   "outputs": [
    {
     "name": "stdout",
     "output_type": "stream",
     "text": [
      "Hello people!\n",
      "DISPENSE drink!\n",
      "Bye people!\n"
     ]
    }
   ],
   "source": [
    "print(\"Hello people!\")\n",
    "if age >= 18:\n",
    "    print(\"DISPENSE drink!\")\n",
    "print(\"Bye people!\")"
   ]
  },
  {
   "cell_type": "markdown",
   "id": "9ca8634b",
   "metadata": {},
   "source": [
    "---"
   ]
  },
  {
   "cell_type": "markdown",
   "id": "62dd7285",
   "metadata": {},
   "source": [
    "### Challenges "
   ]
  },
  {
   "cell_type": "markdown",
   "id": "713c6228",
   "metadata": {},
   "source": [
    "* copy the code to your own notebook\n",
    "    * and complete the challenge"
   ]
  },
  {
   "cell_type": "markdown",
   "id": "d2fd1343",
   "metadata": {},
   "source": [
    "#### Challenge 1a. Syntax Errors"
   ]
  },
  {
   "cell_type": "markdown",
   "id": "aabb8c77",
   "metadata": {},
   "source": [
    "Fix the syntax in the following example,"
   ]
  },
  {
   "cell_type": "code",
   "execution_count": 93,
   "id": "4d284683",
   "metadata": {},
   "outputs": [
    {
     "ename": "SyntaxError",
     "evalue": "invalid syntax (924352493.py, line 1)",
     "output_type": "error",
     "traceback": [
      "\u001b[0;36m  Input \u001b[0;32mIn [93]\u001b[0;36m\u001b[0m\n\u001b[0;31m    prices = [2, 4, 6 8)\u001b[0m\n\u001b[0m                      ^\u001b[0m\n\u001b[0;31mSyntaxError\u001b[0m\u001b[0;31m:\u001b[0m invalid syntax\n"
     ]
    }
   ],
   "source": [
    "ages = [12, 41, 61 18)\n",
    "\n",
    "print(len[ages])\n",
    "print(ages[-1])"
   ]
  },
  {
   "cell_type": "markdown",
   "id": "d1937d54",
   "metadata": {},
   "source": [
    "**Solution**"
   ]
  },
  {
   "cell_type": "code",
   "execution_count": 115,
   "id": "ee5fe4e6",
   "metadata": {},
   "outputs": [
    {
     "name": "stdout",
     "output_type": "stream",
     "text": [
      "4\n",
      "18\n"
     ]
    }
   ],
   "source": [
    "#1.              COMMA   BRAKET\n",
    "ages = [12, 41, 61, 18]\n",
    "\n",
    "#2.    PARENTHESES\n",
    "print(len(ages))\n",
    "\n",
    "#3. NO ISSUE\n",
    "print(ages[-1]) # -1 is an index which refers to the *last* element"
   ]
  },
  {
   "cell_type": "markdown",
   "id": "8f515473",
   "metadata": {},
   "source": [
    "#### Challenge 1b. Comparisons & Tests: Odd Numbers"
   ]
  },
  {
   "cell_type": "code",
   "execution_count": 95,
   "id": "0468ea59",
   "metadata": {},
   "outputs": [],
   "source": [
    "prices = [1, 3, 4, 5, 9]"
   ]
  },
  {
   "cell_type": "markdown",
   "id": "1b7fa3a8",
   "metadata": {},
   "source": [
    "Select the first price,"
   ]
  },
  {
   "cell_type": "code",
   "execution_count": null,
   "id": "c2a22531",
   "metadata": {},
   "outputs": [],
   "source": [
    "# SOLUTION"
   ]
  },
  {
   "cell_type": "code",
   "execution_count": 116,
   "id": "e60bbd00",
   "metadata": {},
   "outputs": [
    {
     "data": {
      "text/plain": [
       "1"
      ]
     },
     "execution_count": 116,
     "metadata": {},
     "output_type": "execute_result"
    }
   ],
   "source": [
    "prices[0]"
   ]
  },
  {
   "cell_type": "markdown",
   "id": "ebf515ff",
   "metadata": {},
   "source": [
    "Determine if the price is odd"
   ]
  },
  {
   "cell_type": "code",
   "execution_count": null,
   "id": "5bf9af02",
   "metadata": {},
   "outputs": [],
   "source": [
    "# SOLUTION"
   ]
  },
  {
   "cell_type": "code",
   "execution_count": 120,
   "id": "ddeaedb1",
   "metadata": {},
   "outputs": [
    {
     "data": {
      "text/plain": [
       "True"
      ]
     },
     "execution_count": 120,
     "metadata": {},
     "output_type": "execute_result"
    }
   ],
   "source": [
    "prices[0] % 2 != 0"
   ]
  },
  {
   "cell_type": "markdown",
   "id": "0da4901d",
   "metadata": {},
   "source": [
    "#### Challenge 1c. Comparisons & Tests: Prefixes"
   ]
  },
  {
   "cell_type": "code",
   "execution_count": 96,
   "id": "61ef39d3",
   "metadata": {},
   "outputs": [],
   "source": [
    "address = \"London, United Kingdom\""
   ]
  },
  {
   "cell_type": "markdown",
   "id": "97a77713",
   "metadata": {},
   "source": [
    "Using `.startswith` and `.endswith`, determine if the address starts with \"London\" and ends with \"Texas\","
   ]
  },
  {
   "cell_type": "code",
   "execution_count": null,
   "id": "b4f204df",
   "metadata": {},
   "outputs": [],
   "source": [
    "# SOLUTION"
   ]
  },
  {
   "cell_type": "code",
   "execution_count": 122,
   "id": "cbb77282",
   "metadata": {},
   "outputs": [
    {
     "data": {
      "text/plain": [
       "True"
      ]
     },
     "execution_count": 122,
     "metadata": {},
     "output_type": "execute_result"
    }
   ],
   "source": [
    "address.startswith(\"London\")"
   ]
  },
  {
   "cell_type": "code",
   "execution_count": 123,
   "id": "d8b8b3a0",
   "metadata": {},
   "outputs": [
    {
     "data": {
      "text/plain": [
       "False"
      ]
     },
     "execution_count": 123,
     "metadata": {},
     "output_type": "execute_result"
    }
   ],
   "source": [
    "address.endswith(\"London\")"
   ]
  },
  {
   "cell_type": "code",
   "execution_count": 124,
   "id": "602c79d7",
   "metadata": {},
   "outputs": [
    {
     "data": {
      "text/plain": [
       "False"
      ]
     },
     "execution_count": 124,
     "metadata": {},
     "output_type": "execute_result"
    }
   ],
   "source": [
    "address.startswith(\"London\") and address.endswith(\"Texas\")"
   ]
  },
  {
   "cell_type": "markdown",
   "id": "c3117847",
   "metadata": {},
   "source": [
    "#### Challenge 1d. Decision-Making"
   ]
  },
  {
   "cell_type": "markdown",
   "id": "2cac5767",
   "metadata": {},
   "source": [
    "* If the address starts with \"London\" *and* ends with \"United Kingdom\", print \"Welcome to the UK capital!\".\n",
    "* Otherwise if it ends with \"Texas\", print \"Welcome to Kimble!\"\n",
    "* Otherwise, print \"Hi, wherever you are!\""
   ]
  },
  {
   "cell_type": "code",
   "execution_count": null,
   "id": "a009e20d",
   "metadata": {},
   "outputs": [],
   "source": [
    "# SOLUTION"
   ]
  },
  {
   "cell_type": "markdown",
   "id": "d49f86bb",
   "metadata": {},
   "source": [
    "If you get a working if/else, great... the actual solution doesnt matter,"
   ]
  },
  {
   "cell_type": "code",
   "execution_count": 126,
   "id": "6e509900",
   "metadata": {
    "scrolled": true
   },
   "outputs": [
    {
     "name": "stdout",
     "output_type": "stream",
     "text": [
      "Welcome to the UK\n"
     ]
    }
   ],
   "source": [
    "if address.startswith(\"London\")   and    address.endswith(\"United Kingdom\"):\n",
    "    print(\"Welcome to the UK\")\n",
    "elif address.startswith(\"London\") and    address.endswith(\"Texas\"):\n",
    "    print(\"Welcome to Texas\")\n",
    "else:\n",
    "    print(\"Hi, wherever you are!\")"
   ]
  },
  {
   "cell_type": "markdown",
   "id": "397be155",
   "metadata": {},
   "source": [
    "#### Challenge 1e. STRETCH CHALLENGE\n",
    "\n",
    "If you finish the above challenges quickly, modify your summary report (completed earlier) and use various tests and decision-making syntax (if, else, etc.) to expand the report. (Eg., test the means, modes, ...)"
   ]
  },
  {
   "cell_type": "markdown",
   "id": "048fc501",
   "metadata": {},
   "source": [
    "---"
   ]
  },
  {
   "cell_type": "markdown",
   "id": "94cf8d5c",
   "metadata": {},
   "source": [
    "## Part 2: Looping "
   ]
  },
  {
   "cell_type": "markdown",
   "id": "6a0eb874",
   "metadata": {},
   "source": [
    "#### Looping"
   ]
  },
  {
   "cell_type": "markdown",
   "id": "014694d2",
   "metadata": {},
   "source": [
    "So far we've applied operations to single entires in lists,"
   ]
  },
  {
   "cell_type": "code",
   "execution_count": 152,
   "id": "06d6c9bd",
   "metadata": {},
   "outputs": [
    {
     "data": {
      "text/plain": [
       "['London, UK', 'Manchester, UK', 'Paris, FR']"
      ]
     },
     "execution_count": 152,
     "metadata": {},
     "output_type": "execute_result"
    }
   ],
   "source": [
    "cities = [\"London, UK\", \"Manchester, UK\", \"Paris, FR\"]\n",
    "cities"
   ]
  },
  {
   "cell_type": "markdown",
   "id": "e45f2023",
   "metadata": {},
   "source": [
    "Q. How do I apply an operation to *every* entry? (What's the *keyword*...)"
   ]
  },
  {
   "cell_type": "code",
   "execution_count": 153,
   "id": "bf31ca66",
   "metadata": {},
   "outputs": [
    {
     "name": "stdout",
     "output_type": "stream",
     "text": [
      "London, UK\n",
      "Manchester, UK\n",
      "Paris, FR\n"
     ]
    }
   ],
   "source": [
    "for c in cities:\n",
    "    print(c)"
   ]
  },
  {
   "cell_type": "markdown",
   "id": "e5729687",
   "metadata": {},
   "source": [
    "Recall, indentation is important,"
   ]
  },
  {
   "cell_type": "code",
   "execution_count": 154,
   "id": "69a1940a",
   "metadata": {},
   "outputs": [
    {
     "name": "stdout",
     "output_type": "stream",
     "text": [
      "BEFORE\n",
      "London, UK\n",
      "London, UK\n",
      "Manchester, UK\n",
      "Manchester, UK\n",
      "Paris, FR\n",
      "Paris, FR\n",
      "AFTER\n"
     ]
    }
   ],
   "source": [
    "print(\"BEFORE\")\n",
    "for city in cities:\n",
    "    print(city)\n",
    "    print(city)\n",
    "print(\"AFTER\")"
   ]
  },
  {
   "cell_type": "markdown",
   "id": "5a1461a3",
   "metadata": {},
   "source": [
    "### Reading Loops\n",
    "\n",
    "How do you *read* this syntax? What does it do?"
   ]
  },
  {
   "cell_type": "markdown",
   "id": "98c49779",
   "metadata": {},
   "source": [
    "We could manually write it out,"
   ]
  },
  {
   "cell_type": "code",
   "execution_count": 155,
   "id": "de7e930b",
   "metadata": {},
   "outputs": [
    {
     "name": "stdout",
     "output_type": "stream",
     "text": [
      "London, UK\n",
      "Manchester, UK\n",
      "Paris, FR\n"
     ]
    }
   ],
   "source": [
    "# SET the variable p to be the first price\n",
    "p = cities[0]\n",
    "print(p) # REPEAT\n",
    "\n",
    "# then the second\n",
    "p = cities[1]\n",
    "print(p)  # REPEAT\n",
    "\n",
    "# until the last\n",
    "p = cities[2]\n",
    "print(p) # REPEAT\n"
   ]
  },
  {
   "cell_type": "code",
   "execution_count": 156,
   "id": "87ac853a",
   "metadata": {},
   "outputs": [
    {
     "name": "stdout",
     "output_type": "stream",
     "text": [
      "London, UK\n",
      "Manchester, UK\n",
      "Paris, FR\n"
     ]
    }
   ],
   "source": [
    "#   c = cities[0] ... cities[2]\n",
    "for c in cities:\n",
    "    print(c)"
   ]
  },
  {
   "cell_type": "markdown",
   "id": "925b73a1",
   "metadata": {},
   "source": [
    "#### Looping & Filtering"
   ]
  },
  {
   "cell_type": "markdown",
   "id": "9bbd4d02",
   "metadata": {},
   "source": [
    "Q. How do I filter elements of data in a dataset, as I loop over them?"
   ]
  },
  {
   "cell_type": "code",
   "execution_count": 158,
   "id": "9dada5f9",
   "metadata": {},
   "outputs": [
    {
     "name": "stdout",
     "output_type": "stream",
     "text": [
      "London, UK\n",
      "Manchester, UK\n"
     ]
    }
   ],
   "source": [
    "for city in cities:\n",
    "    if city.endswith(\"UK\"):\n",
    "        print(city)"
   ]
  },
  {
   "cell_type": "markdown",
   "id": "81e06465",
   "metadata": {},
   "source": [
    "### Further Examples of Looping"
   ]
  },
  {
   "cell_type": "code",
   "execution_count": 160,
   "id": "abdb02b1",
   "metadata": {},
   "outputs": [],
   "source": [
    "ratings = [4, 7, 7, 8, 9]"
   ]
  },
  {
   "cell_type": "markdown",
   "id": "78755c01",
   "metadata": {},
   "source": [
    "Suppose I want to count the number of elements above `5`, "
   ]
  },
  {
   "cell_type": "code",
   "execution_count": 162,
   "id": "fa6fcbe8",
   "metadata": {},
   "outputs": [
    {
     "name": "stdout",
     "output_type": "stream",
     "text": [
      "4\n"
     ]
    }
   ],
   "source": [
    "count = 0\n",
    "\n",
    "for r in ratings:\n",
    "    if r > 5:\n",
    "        # SET count =  old-count + 1\n",
    "        count       =  count     + 1\n",
    "\n",
    "print(count)"
   ]
  },
  {
   "cell_type": "markdown",
   "id": "1c816dcd",
   "metadata": {},
   "source": [
    "---"
   ]
  },
  {
   "cell_type": "markdown",
   "id": "f6c7aecc",
   "metadata": {},
   "source": [
    "### Challenges"
   ]
  },
  {
   "cell_type": "markdown",
   "id": "08a7caf0",
   "metadata": {},
   "source": [
    "#### Challenge 2a. Looping: Even Numbers"
   ]
  },
  {
   "cell_type": "markdown",
   "id": "24be6839",
   "metadata": {},
   "source": [
    "* define `dinner_guests` in which each entry represents a group arriving for dinner at a restaurant\n",
    "* print() each number which is even\n",
    "    * aside: why would a restaurant want to know which groups were even?\n",
    "    * possible answer: seating, table arragement, etc."
   ]
  },
  {
   "cell_type": "code",
   "execution_count": 107,
   "id": "3bfb54f7",
   "metadata": {},
   "outputs": [],
   "source": [
    "# SOLUTION"
   ]
  },
  {
   "cell_type": "code",
   "execution_count": 173,
   "id": "ac85cb17",
   "metadata": {},
   "outputs": [],
   "source": [
    "dinner_guests = [3, 5, 8, 6]"
   ]
  },
  {
   "cell_type": "code",
   "execution_count": 174,
   "id": "65c9175b",
   "metadata": {},
   "outputs": [
    {
     "name": "stdout",
     "output_type": "stream",
     "text": [
      "3\n",
      "5\n",
      "8\n",
      "6\n"
     ]
    }
   ],
   "source": [
    "for d in dinner_guests:\n",
    "    print(d)"
   ]
  },
  {
   "cell_type": "code",
   "execution_count": 175,
   "id": "66aaab95",
   "metadata": {},
   "outputs": [
    {
     "name": "stdout",
     "output_type": "stream",
     "text": [
      "8\n",
      "6\n"
     ]
    }
   ],
   "source": [
    "for d in dinner_guests:\n",
    "    # Q. how do I modify the above?\n",
    "    # Q. what test do I use?\n",
    "    if d % 2 == 0:\n",
    "        print(d)"
   ]
  },
  {
   "cell_type": "markdown",
   "id": "3fc239af",
   "metadata": {},
   "source": [
    "#### Challenge 2b. Looping: Averages\n",
    "* compute the total of all the numbers using a loop\n",
    "* report the total and the mean after the loop\n",
    "    * using `len()` with the total\n"
   ]
  },
  {
   "cell_type": "code",
   "execution_count": 108,
   "id": "a4ace934",
   "metadata": {},
   "outputs": [],
   "source": [
    "# SOLUTION"
   ]
  },
  {
   "cell_type": "code",
   "execution_count": 189,
   "id": "3086aabe",
   "metadata": {},
   "outputs": [
    {
     "name": "stdout",
     "output_type": "stream",
     "text": [
      "Total: 22\n",
      "Mean: 5.5\n"
     ]
    }
   ],
   "source": [
    "total = 0\n",
    "for d in dinner_guests:\n",
    "    # Q. what is the RHS here?\n",
    "    \n",
    "    total = total + d\n",
    "\n",
    "print(\"Total:\", total)\n",
    "print(\"Mean:\", total / len(dinner_guests)) # mean = total / count "
   ]
  },
  {
   "cell_type": "markdown",
   "id": "55f78cee",
   "metadata": {},
   "source": [
    "#### Challenge 2c. Looping: Filtering\n",
    "* compute a total *of just* the odd numbers\n",
    "* compute a total *of just* the even numbers\n",
    "* report their totals seperately"
   ]
  },
  {
   "cell_type": "code",
   "execution_count": 109,
   "id": "a4750543",
   "metadata": {},
   "outputs": [],
   "source": [
    "# SOLUTION"
   ]
  },
  {
   "cell_type": "code",
   "execution_count": 178,
   "id": "fa8da818",
   "metadata": {},
   "outputs": [
    {
     "name": "stdout",
     "output_type": "stream",
     "text": [
      "3\n",
      "5\n",
      "8\n",
      "6\n"
     ]
    }
   ],
   "source": [
    "for d in dinner_guests:\n",
    "    # Q. how do I modify this to also print the odd numbers?\n",
    "    if d % 2 == 0:\n",
    "        print(d)\n",
    "    else:\n",
    "        print(d)"
   ]
  },
  {
   "cell_type": "code",
   "execution_count": 185,
   "id": "4434a8e9",
   "metadata": {},
   "outputs": [
    {
     "name": "stdout",
     "output_type": "stream",
     "text": [
      "Total Odd: 8\n",
      "Total Even: 14\n"
     ]
    }
   ],
   "source": [
    "# Q. how many totals am I tracking?\n",
    "total_odd = 0\n",
    "total_even = 0\n",
    "\n",
    "for d in dinner_guests:\n",
    "    # Q. rather than print, I update....\n",
    "    if d % 2 == 0:\n",
    "        total_even = total_even + d\n",
    "    else:\n",
    "        total_odd = total_odd + d\n",
    "        \n",
    "print(\"Total Odd:\", total_odd )\n",
    "print(\"Total Even:\", total_even )"
   ]
  },
  {
   "cell_type": "markdown",
   "id": "dd865586",
   "metadata": {},
   "source": [
    "If we wanted averages, we would need a count also,"
   ]
  },
  {
   "cell_type": "code",
   "execution_count": 184,
   "id": "861d263e",
   "metadata": {},
   "outputs": [
    {
     "name": "stdout",
     "output_type": "stream",
     "text": [
      "EVEN Avg: 7.0\n",
      "ODD Avg: 4.0\n"
     ]
    }
   ],
   "source": [
    "# Q. how many totals am I tracking?\n",
    "total_odd = 0\n",
    "count_odd = 0\n",
    "\n",
    "total_even = 0\n",
    "count_even = 0\n",
    "\n",
    "for d in dinner_guests:\n",
    "    # Q. rather than print, I update....\n",
    "    if d % 2 == 0:\n",
    "        total_even = total_even + d\n",
    "        count_even = count_even + 1\n",
    "    else:\n",
    "        total_odd = total_odd + d\n",
    "        count_odd = count_odd + 1\n",
    "        \n",
    "print(\"EVEN Avg:\", total_even/count_even)\n",
    "print(\"ODD Avg:\", total_odd/count_odd)"
   ]
  },
  {
   "cell_type": "markdown",
   "id": "354fc8d6",
   "metadata": {},
   "source": [
    "#### Challenge 2d. STRETCH: Looping: Maximums & Minimums"
   ]
  },
  {
   "cell_type": "markdown",
   "id": "78ace5dc",
   "metadata": {},
   "source": [
    "If you get the above challenges done quickly, find the maximum and minimum group size using a loop (ie., not using `min`, `max`, etc.).\n",
    "\n",
    "HINT: You'll need a variable for each defined before the loop (eg., `min_entry`, `max_entry`) and these should be initialized to a useful starting value..."
   ]
  },
  {
   "cell_type": "code",
   "execution_count": 110,
   "id": "84b939a2",
   "metadata": {},
   "outputs": [],
   "source": [
    "# SOLUTION"
   ]
  },
  {
   "cell_type": "code",
   "execution_count": 188,
   "id": "d2f00202",
   "metadata": {},
   "outputs": [
    {
     "name": "stdout",
     "output_type": "stream",
     "text": [
      "3\n",
      "3\n"
     ]
    }
   ],
   "source": [
    "min_entry = dinner_guests[0]\n",
    "\n",
    "for d in dinner_guests:\n",
    "    if d < min_entry:\n",
    "        min_entry = d\n",
    "\n",
    "print(min_entry)\n",
    "print(min(dinner_guests))"
   ]
  },
  {
   "cell_type": "markdown",
   "id": "82e74b49",
   "metadata": {},
   "source": [
    "---"
   ]
  },
  {
   "cell_type": "markdown",
   "id": "b46bd9fb",
   "metadata": {},
   "source": [
    "## Part 3: Advanced Syntax"
   ]
  },
  {
   "cell_type": "markdown",
   "id": "c790e4a8",
   "metadata": {},
   "source": [
    "### Error Handling"
   ]
  },
  {
   "cell_type": "markdown",
   "id": "153806eb",
   "metadata": {},
   "source": [
    "Recall that `statistics` has some functions we can give us errors used on the wrong data types,"
   ]
  },
  {
   "cell_type": "code",
   "execution_count": 191,
   "id": "fc4c83f5",
   "metadata": {},
   "outputs": [],
   "source": [
    "import statistics"
   ]
  },
  {
   "cell_type": "markdown",
   "id": "56d8dbf0",
   "metadata": {},
   "source": [
    "An error in python prevents the progam from continuing, eg., below \"AFTER\" isnt printed,"
   ]
  },
  {
   "cell_type": "code",
   "execution_count": 196,
   "id": "669c9bf3",
   "metadata": {},
   "outputs": [
    {
     "name": "stdout",
     "output_type": "stream",
     "text": [
      "BEFORE\n"
     ]
    },
    {
     "ename": "TypeError",
     "evalue": "can't convert type 'str' to numerator/denominator",
     "output_type": "error",
     "traceback": [
      "\u001b[0;31m---------------------------------------------------------------------------\u001b[0m",
      "\u001b[0;31mTypeError\u001b[0m                                 Traceback (most recent call last)",
      "Input \u001b[0;32mIn [196]\u001b[0m, in \u001b[0;36m<cell line: 2>\u001b[0;34m()\u001b[0m\n\u001b[1;32m      1\u001b[0m \u001b[38;5;28mprint\u001b[39m(\u001b[38;5;124m\"\u001b[39m\u001b[38;5;124mBEFORE\u001b[39m\u001b[38;5;124m\"\u001b[39m)\n\u001b[0;32m----> 2\u001b[0m \u001b[43mstatistics\u001b[49m\u001b[38;5;241;43m.\u001b[39;49m\u001b[43mmean\u001b[49m\u001b[43m(\u001b[49m\u001b[43m[\u001b[49m\u001b[38;5;124;43m\"\u001b[39;49m\u001b[38;5;124;43mLondon\u001b[39;49m\u001b[38;5;124;43m\"\u001b[39;49m\u001b[43m,\u001b[49m\u001b[43m \u001b[49m\u001b[38;5;124;43m\"\u001b[39;49m\u001b[38;5;124;43mParis\u001b[39;49m\u001b[38;5;124;43m\"\u001b[39;49m\u001b[43m]\u001b[49m\u001b[43m)\u001b[49m\n\u001b[1;32m      3\u001b[0m \u001b[38;5;28mprint\u001b[39m(\u001b[38;5;124m\"\u001b[39m\u001b[38;5;124mAFTER\u001b[39m\u001b[38;5;124m\"\u001b[39m)\n",
      "File \u001b[0;32m~/miniconda3/lib/python3.9/statistics.py:316\u001b[0m, in \u001b[0;36mmean\u001b[0;34m(data)\u001b[0m\n\u001b[1;32m    314\u001b[0m \u001b[38;5;28;01mif\u001b[39;00m n \u001b[38;5;241m<\u001b[39m \u001b[38;5;241m1\u001b[39m:\n\u001b[1;32m    315\u001b[0m     \u001b[38;5;28;01mraise\u001b[39;00m StatisticsError(\u001b[38;5;124m'\u001b[39m\u001b[38;5;124mmean requires at least one data point\u001b[39m\u001b[38;5;124m'\u001b[39m)\n\u001b[0;32m--> 316\u001b[0m T, total, count \u001b[38;5;241m=\u001b[39m \u001b[43m_sum\u001b[49m\u001b[43m(\u001b[49m\u001b[43mdata\u001b[49m\u001b[43m)\u001b[49m\n\u001b[1;32m    317\u001b[0m \u001b[38;5;28;01massert\u001b[39;00m count \u001b[38;5;241m==\u001b[39m n\n\u001b[1;32m    318\u001b[0m \u001b[38;5;28;01mreturn\u001b[39;00m _convert(total \u001b[38;5;241m/\u001b[39m n, T)\n",
      "File \u001b[0;32m~/miniconda3/lib/python3.9/statistics.py:166\u001b[0m, in \u001b[0;36m_sum\u001b[0;34m(data, start)\u001b[0m\n\u001b[1;32m    164\u001b[0m \u001b[38;5;28;01mfor\u001b[39;00m typ, values \u001b[38;5;129;01min\u001b[39;00m groupby(data, \u001b[38;5;28mtype\u001b[39m):\n\u001b[1;32m    165\u001b[0m     T \u001b[38;5;241m=\u001b[39m _coerce(T, typ)  \u001b[38;5;66;03m# or raise TypeError\u001b[39;00m\n\u001b[0;32m--> 166\u001b[0m     \u001b[38;5;28;01mfor\u001b[39;00m n, d \u001b[38;5;129;01min\u001b[39;00m \u001b[38;5;28mmap\u001b[39m(_exact_ratio, values):\n\u001b[1;32m    167\u001b[0m         count \u001b[38;5;241m+\u001b[39m\u001b[38;5;241m=\u001b[39m \u001b[38;5;241m1\u001b[39m\n\u001b[1;32m    168\u001b[0m         partials[d] \u001b[38;5;241m=\u001b[39m partials_get(d, \u001b[38;5;241m0\u001b[39m) \u001b[38;5;241m+\u001b[39m n\n",
      "File \u001b[0;32m~/miniconda3/lib/python3.9/statistics.py:248\u001b[0m, in \u001b[0;36m_exact_ratio\u001b[0;34m(x)\u001b[0m\n\u001b[1;32m    246\u001b[0m     \u001b[38;5;28;01mreturn\u001b[39;00m (x, \u001b[38;5;28;01mNone\u001b[39;00m)\n\u001b[1;32m    247\u001b[0m msg \u001b[38;5;241m=\u001b[39m \u001b[38;5;124m\"\u001b[39m\u001b[38;5;124mcan\u001b[39m\u001b[38;5;124m'\u001b[39m\u001b[38;5;124mt convert type \u001b[39m\u001b[38;5;124m'\u001b[39m\u001b[38;5;132;01m{}\u001b[39;00m\u001b[38;5;124m'\u001b[39m\u001b[38;5;124m to numerator/denominator\u001b[39m\u001b[38;5;124m\"\u001b[39m\n\u001b[0;32m--> 248\u001b[0m \u001b[38;5;28;01mraise\u001b[39;00m \u001b[38;5;167;01mTypeError\u001b[39;00m(msg\u001b[38;5;241m.\u001b[39mformat(\u001b[38;5;28mtype\u001b[39m(x)\u001b[38;5;241m.\u001b[39m\u001b[38;5;18m__name__\u001b[39m))\n",
      "\u001b[0;31mTypeError\u001b[0m: can't convert type 'str' to numerator/denominator"
     ]
    }
   ],
   "source": [
    "print(\"BEFORE\")\n",
    "statistics.mean([\"London\", \"Paris\"])\n",
    "print(\"AFTER\")"
   ]
  },
  {
   "cell_type": "markdown",
   "id": "d17d79e0",
   "metadata": {},
   "source": [
    "Note below we succeed in *continuing* the program so that \"AFTER\" is printed,"
   ]
  },
  {
   "cell_type": "code",
   "execution_count": 197,
   "id": "8d1613e4",
   "metadata": {},
   "outputs": [
    {
     "name": "stdout",
     "output_type": "stream",
     "text": [
      "BEFORE\n",
      "didn't work\n",
      "AFTER\n"
     ]
    }
   ],
   "source": [
    "print(\"BEFORE\")\n",
    "\n",
    "\n",
    "\n",
    "try:\n",
    "    statistics.mean([\"London\", \"Paris\"])\n",
    "except:\n",
    "    print(\"didn't work\")\n",
    "    \n",
    "    \n",
    "    \n",
    "    \n",
    "print(\"AFTER\")"
   ]
  },
  {
   "cell_type": "markdown",
   "id": "17ff9001",
   "metadata": {},
   "source": [
    "...this is called error *handling*. "
   ]
  },
  {
   "cell_type": "markdown",
   "id": "c7d8e86e",
   "metadata": {},
   "source": [
    "The `try` block \"watches\" a block of code for a possible error, and the `except` block is *triggered* if an error is caused..."
   ]
  },
  {
   "cell_type": "code",
   "execution_count": 198,
   "id": "46bf6965",
   "metadata": {},
   "outputs": [
    {
     "name": "stdout",
     "output_type": "stream",
     "text": [
      "BEFORE\n",
      "didn't work\n",
      "AFTER\n"
     ]
    }
   ],
   "source": [
    "print(\"BEFORE\")\n",
    "\n",
    "\n",
    "try:\n",
    "    # code which can break\n",
    "    statistics.mean([\"London\", \"Paris\"])\n",
    "    \n",
    "# else, if there's an erorr:\n",
    "\n",
    "except:\n",
    "    # how we're going to handle it breaking\n",
    "    print(\"didn't work\")\n",
    "    \n",
    "    \n",
    "    \n",
    "    \n",
    "print(\"AFTER\")"
   ]
  },
  {
   "cell_type": "markdown",
   "id": "e65cf157",
   "metadata": {},
   "source": [
    "**Aside:** Error handling can get more complex and specailized. Eg., it's possible to handle different types of errors, *differently*,"
   ]
  },
  {
   "cell_type": "code",
   "execution_count": 199,
   "id": "0b280bbc",
   "metadata": {},
   "outputs": [
    {
     "ename": "ZeroDivisionError",
     "evalue": "division by zero",
     "output_type": "error",
     "traceback": [
      "\u001b[0;31m---------------------------------------------------------------------------\u001b[0m",
      "\u001b[0;31mZeroDivisionError\u001b[0m                         Traceback (most recent call last)",
      "Input \u001b[0;32mIn [199]\u001b[0m, in \u001b[0;36m<cell line: 1>\u001b[0;34m()\u001b[0m\n\u001b[0;32m----> 1\u001b[0m \u001b[38;5;241;43m10\u001b[39;49m\u001b[38;5;241;43m/\u001b[39;49m\u001b[38;5;241;43m0\u001b[39;49m\n",
      "\u001b[0;31mZeroDivisionError\u001b[0m: division by zero"
     ]
    }
   ],
   "source": [
    "10/0"
   ]
  },
  {
   "cell_type": "code",
   "execution_count": 200,
   "id": "35b59018",
   "metadata": {},
   "outputs": [
    {
     "name": "stdout",
     "output_type": "stream",
     "text": [
      "we got this one!\n"
     ]
    }
   ],
   "source": [
    "try:\n",
    "    10/0\n",
    "    statistics.mean([\"London\", \"Paris\"])\n",
    "except ZeroDivisionError:\n",
    "    print(\"we got this one!\")\n",
    "except TypeError:\n",
    "    print(\"we go this one\")"
   ]
  },
  {
   "cell_type": "markdown",
   "id": "a46f15c3",
   "metadata": {},
   "source": [
    "...ie, you can *filter* the type of error you handle. "
   ]
  },
  {
   "cell_type": "markdown",
   "id": "95e15af3",
   "metadata": {},
   "source": [
    "---"
   ]
  },
  {
   "cell_type": "markdown",
   "id": "67bdc2fa",
   "metadata": {},
   "source": [
    "### Functions"
   ]
  },
  {
   "cell_type": "markdown",
   "id": "87dfb786",
   "metadata": {},
   "source": [
    "Python provides us with some functions,"
   ]
  },
  {
   "cell_type": "code",
   "execution_count": 201,
   "id": "f95cb760",
   "metadata": {},
   "outputs": [
    {
     "data": {
      "text/plain": [
       "[1, 3, 4]"
      ]
     },
     "execution_count": 201,
     "metadata": {},
     "output_type": "execute_result"
    }
   ],
   "source": [
    "prices"
   ]
  },
  {
   "cell_type": "code",
   "execution_count": 202,
   "id": "fc7e10c4",
   "metadata": {},
   "outputs": [
    {
     "data": {
      "text/plain": [
       "3"
      ]
     },
     "execution_count": 202,
     "metadata": {},
     "output_type": "execute_result"
    }
   ],
   "source": [
    "len(prices)"
   ]
  },
  {
   "cell_type": "markdown",
   "id": "0434b0cd",
   "metadata": {},
   "source": [
    "Q. How do we define our own functions? (What's the keyword..)\n",
    "\n",
    "Q. What do we put between the parenthese?"
   ]
  },
  {
   "cell_type": "markdown",
   "id": "1dd1aa8c",
   "metadata": {},
   "source": [
    "```python\n",
    "\n",
    "def   OUR_CHOICE_OF_NAME(  arguments...   ):\n",
    "    INDENT     STATEMENTS_OF_CODE\n",
    "    INDENT     STATEMENTS_OF_CODE\n",
    "    INDENT     STATEMENTS_OF_CODE\n",
    "    \n",
    "```"
   ]
  },
  {
   "cell_type": "markdown",
   "id": "eda6b92c",
   "metadata": {},
   "source": [
    "Arguments are inputs to the function,"
   ]
  },
  {
   "cell_type": "code",
   "execution_count": 208,
   "id": "b3633034",
   "metadata": {
    "slideshow": {
     "slide_type": "fragment"
    }
   },
   "outputs": [],
   "source": [
    "def report(prices):\n",
    "    print(\"Max\", max(prices))\n",
    "    print(\"Min\", min(prices))\n",
    "    print(\"Sum\", sum(prices))"
   ]
  },
  {
   "cell_type": "code",
   "execution_count": 207,
   "id": "5c30b372",
   "metadata": {},
   "outputs": [
    {
     "name": "stdout",
     "output_type": "stream",
     "text": [
      "Max 4\n",
      "Min 2\n",
      "Sum 9\n"
     ]
    }
   ],
   "source": [
    "report([2, 3, 4])"
   ]
  },
  {
   "cell_type": "markdown",
   "id": "a2a0c53b",
   "metadata": {},
   "source": [
    "*Defining* a function does not mean *running* any operation. \n",
    "\n",
    "When we define a function we're provide a *template* of an algorithm,"
   ]
  },
  {
   "cell_type": "code",
   "execution_count": 209,
   "id": "1845dbc5",
   "metadata": {},
   "outputs": [],
   "source": [
    "#   TEMPALTE( WHEN GIVEN AN INPUT called prices)\n",
    "def report(prices):\n",
    "    # THEN RUN THE FOLLOWING...\n",
    "    print(\"Max\", max(prices))\n",
    "    print(\"Min\", min(prices))\n",
    "    print(\"Sum\", sum(prices))"
   ]
  },
  {
   "cell_type": "markdown",
   "id": "d45dc182",
   "metadata": {},
   "source": [
    "To provide the input, I *run* (call, execute, apply) the function,"
   ]
  },
  {
   "cell_type": "code",
   "execution_count": 210,
   "id": "042ad0dc",
   "metadata": {},
   "outputs": [
    {
     "name": "stdout",
     "output_type": "stream",
     "text": [
      "Max 8\n",
      "Min 6\n",
      "Sum 21\n"
     ]
    }
   ],
   "source": [
    "report([6, 7, 8])"
   ]
  },
  {
   "cell_type": "markdown",
   "id": "d25a09f9",
   "metadata": {},
   "source": [
    "Functions can *return* values: they can place values *in-memory* when the function is finished running. \n",
    "\n",
    "*printing* means *outputing to the screen* and **never places values back into memory**,"
   ]
  },
  {
   "cell_type": "code",
   "execution_count": 227,
   "id": "7b2883db",
   "metadata": {},
   "outputs": [],
   "source": [
    "def calc(x):\n",
    "    print(2 * x)"
   ]
  },
  {
   "cell_type": "markdown",
   "id": "925afa56",
   "metadata": {},
   "source": [
    "`print()`s to the screen,"
   ]
  },
  {
   "cell_type": "code",
   "execution_count": 228,
   "id": "2363d39f",
   "metadata": {},
   "outputs": [
    {
     "name": "stdout",
     "output_type": "stream",
     "text": [
      "20\n"
     ]
    }
   ],
   "source": [
    "y = calc(10)"
   ]
  },
  {
   "cell_type": "code",
   "execution_count": 229,
   "id": "77a62cc0",
   "metadata": {},
   "outputs": [
    {
     "ename": "TypeError",
     "evalue": "unsupported operand type(s) for *: 'NoneType' and 'int'",
     "output_type": "error",
     "traceback": [
      "\u001b[0;31m---------------------------------------------------------------------------\u001b[0m",
      "\u001b[0;31mTypeError\u001b[0m                                 Traceback (most recent call last)",
      "Input \u001b[0;32mIn [229]\u001b[0m, in \u001b[0;36m<cell line: 1>\u001b[0;34m()\u001b[0m\n\u001b[0;32m----> 1\u001b[0m \u001b[43my\u001b[49m\u001b[43m \u001b[49m\u001b[38;5;241;43m*\u001b[39;49m\u001b[43m \u001b[49m\u001b[38;5;241;43m2\u001b[39;49m\n",
      "\u001b[0;31mTypeError\u001b[0m: unsupported operand type(s) for *: 'NoneType' and 'int'"
     ]
    }
   ],
   "source": [
    "y * 2"
   ]
  },
  {
   "cell_type": "markdown",
   "id": "a9b5085e",
   "metadata": {},
   "source": [
    "But nothing is returned,"
   ]
  },
  {
   "cell_type": "code",
   "execution_count": 230,
   "id": "46007f19",
   "metadata": {},
   "outputs": [],
   "source": [
    "y # this is empty!"
   ]
  },
  {
   "cell_type": "markdown",
   "id": "a6e63fb5",
   "metadata": {},
   "source": [
    "Q. How do we *return* a value? How do we modify the defintion, "
   ]
  },
  {
   "cell_type": "code",
   "execution_count": 241,
   "id": "35c927d5",
   "metadata": {},
   "outputs": [],
   "source": [
    "def calc(x):     # SINGLE INPUT ARGUMENT\n",
    "    return 2 * x # SINGLE OUPUT"
   ]
  },
  {
   "cell_type": "code",
   "execution_count": 233,
   "id": "d728f001",
   "metadata": {},
   "outputs": [],
   "source": [
    "z = calc(10) # not printed"
   ]
  },
  {
   "cell_type": "code",
   "execution_count": 234,
   "id": "b84eaa7d",
   "metadata": {},
   "outputs": [
    {
     "data": {
      "text/plain": [
       "20"
      ]
     },
     "execution_count": 234,
     "metadata": {},
     "output_type": "execute_result"
    }
   ],
   "source": [
    "z # saved to the variable"
   ]
  },
  {
   "cell_type": "code",
   "execution_count": 235,
   "id": "b1aeaca9",
   "metadata": {},
   "outputs": [
    {
     "data": {
      "text/plain": [
       "40"
      ]
     },
     "execution_count": 235,
     "metadata": {},
     "output_type": "execute_result"
    }
   ],
   "source": [
    "z * 2"
   ]
  },
  {
   "cell_type": "markdown",
   "id": "f3a3a887",
   "metadata": {},
   "source": [
    "#### Aside: scope\n",
    "\n",
    "*Scope* is the visible area/region of the code where a variable is defined. Each function is its own *scope* meaning it's a self-contained world of variables, which won't \"leak out\". Variables defined inside functions, stay in functions. "
   ]
  },
  {
   "cell_type": "markdown",
   "id": "46a16922",
   "metadata": {},
   "source": [
    "Why can't I just define variables I want to save inside functions?"
   ]
  },
  {
   "cell_type": "code",
   "execution_count": 237,
   "id": "37920a06",
   "metadata": {},
   "outputs": [
    {
     "ename": "NameError",
     "evalue": "name 'q' is not defined",
     "output_type": "error",
     "traceback": [
      "\u001b[0;31m---------------------------------------------------------------------------\u001b[0m",
      "\u001b[0;31mNameError\u001b[0m                                 Traceback (most recent call last)",
      "Input \u001b[0;32mIn [237]\u001b[0m, in \u001b[0;36m<cell line: 5>\u001b[0;34m()\u001b[0m\n\u001b[1;32m      2\u001b[0m     q \u001b[38;5;241m=\u001b[39m \u001b[38;5;241m100\u001b[39m\n\u001b[1;32m      4\u001b[0m myfn()\n\u001b[0;32m----> 5\u001b[0m \u001b[43mq\u001b[49m\n",
      "\u001b[0;31mNameError\u001b[0m: name 'q' is not defined"
     ]
    }
   ],
   "source": [
    "def myfn():\n",
    "    q = 100\n",
    "    \n",
    "myfn()\n",
    "q"
   ]
  },
  {
   "cell_type": "markdown",
   "id": "2d559308",
   "metadata": {},
   "source": [
    "...in some languages you can, not in python -- and it's never a good idea anyway.\n",
    "\n",
    "It's always a bad idea because functions are *templates* that will run multiple times on different datasets; and we dont want them just \"randomly\" (from our pov) defining variables.\n",
    "\n",
    "We want to control their output and their input,"
   ]
  },
  {
   "cell_type": "code",
   "execution_count": 240,
   "id": "bc1de89b",
   "metadata": {},
   "outputs": [],
   "source": [
    "count = len(prices) # INPUT: arguments, OUTPUT: return value"
   ]
  },
  {
   "cell_type": "markdown",
   "id": "3afbd598",
   "metadata": {},
   "source": [
    "*I* want to define `count`,"
   ]
  },
  {
   "cell_type": "code",
   "execution_count": 239,
   "id": "ff437351",
   "metadata": {},
   "outputs": [
    {
     "name": "stdout",
     "output_type": "stream",
     "text": [
      "3\n"
     ]
    }
   ],
   "source": [
    "print(count)"
   ]
  },
  {
   "cell_type": "markdown",
   "id": "d7cbe216",
   "metadata": {},
   "source": [
    "### Challenges "
   ]
  },
  {
   "cell_type": "markdown",
   "id": "65b9876c",
   "metadata": {},
   "source": [
    "#### Challenge 3a: Functions"
   ]
  },
  {
   "cell_type": "markdown",
   "id": "9c65c643",
   "metadata": {},
   "source": [
    "* define a summary function \n",
    "    * which requires two *arguments*: numerical, categorical\n",
    "    * and prints a statistical summary of both"
   ]
  },
  {
   "cell_type": "code",
   "execution_count": 245,
   "id": "5c0f2d31",
   "metadata": {},
   "outputs": [],
   "source": [
    "# SOLUTION"
   ]
  },
  {
   "cell_type": "markdown",
   "id": "d799319f",
   "metadata": {},
   "source": [
    "#### Challenge 3b: Error Handling: Conversions"
   ]
  },
  {
   "cell_type": "markdown",
   "id": "14e994e7",
   "metadata": {},
   "source": [
    "* modify your above code to `try` to perform the summary functions which are likely to fail\n",
    "    * eg., `mode`\n",
    "    * rather than fail, just print \"could not perform\" that action"
   ]
  },
  {
   "cell_type": "code",
   "execution_count": 244,
   "id": "eff24f35",
   "metadata": {},
   "outputs": [],
   "source": [
    "# SOLUTION"
   ]
  },
  {
   "cell_type": "markdown",
   "id": "7478d3d8",
   "metadata": {},
   "source": [
    "---"
   ]
  },
  {
   "cell_type": "markdown",
   "id": "43123c64",
   "metadata": {},
   "source": [
    "## Review & End"
   ]
  },
  {
   "cell_type": "markdown",
   "id": "a4534e88",
   "metadata": {},
   "source": [
    "---"
   ]
  },
  {
   "cell_type": "markdown",
   "id": "d192724f",
   "metadata": {},
   "source": [
    "## Appendix"
   ]
  },
  {
   "cell_type": "markdown",
   "id": "f64ee292",
   "metadata": {},
   "source": [
    "### Terminology\n",
    "\n",
    "#### Syntax\n",
    "* `def` define *a function*\n",
    "    * *define* to mean either assign a variable `=`, or anything else\n",
    "* keywords `for`, `while`\n",
    "* operators `+=`\n",
    "* variables `name`\n",
    "* functions `names()` \n",
    "    * these are programmer-given names"
   ]
  },
  {
   "cell_type": "markdown",
   "id": "db98d5af",
   "metadata": {},
   "source": [
    "### Dictionaries "
   ]
  },
  {
   "cell_type": "markdown",
   "id": "5981e250",
   "metadata": {},
   "source": [
    "Dictionaries are data structures which relate *keys* to *values*, where the *keys* are typically strings,"
   ]
  },
  {
   "cell_type": "code",
   "execution_count": 19,
   "id": "73487a01",
   "metadata": {},
   "outputs": [],
   "source": [
    "boats = {\n",
    "    \"Happy\": \"120ft\",\n",
    "    \"Big\": \"300ft\"\n",
    "}"
   ]
  },
  {
   "cell_type": "markdown",
   "id": "5ee37368",
   "metadata": {},
   "source": [
    "The net effect of this is to allow for string *indexes*,"
   ]
  },
  {
   "cell_type": "code",
   "execution_count": 31,
   "id": "7d234ea7",
   "metadata": {},
   "outputs": [
    {
     "data": {
      "text/plain": [
       "'300ft'"
      ]
     },
     "execution_count": 31,
     "metadata": {},
     "output_type": "execute_result"
    }
   ],
   "source": [
    "boats[\"Big\"]"
   ]
  },
  {
   "cell_type": "markdown",
   "id": "32977cfb",
   "metadata": {},
   "source": [
    "Vales can be anything, including lists,"
   ]
  },
  {
   "cell_type": "code",
   "execution_count": 20,
   "id": "bc05c79c",
   "metadata": {},
   "outputs": [],
   "source": [
    "groceries = {\n",
    "    \"Michael\": [\"Eggs\", \"Ham\"],\n",
    "    \"Alice\": [\"Eggs\", \"Ham\"],\n",
    "}"
   ]
  },
  {
   "cell_type": "markdown",
   "id": "36752cdf",
   "metadata": {},
   "source": [
    "So the `Michael` entry is a list,"
   ]
  },
  {
   "cell_type": "code",
   "execution_count": 168,
   "id": "12f1d8fd",
   "metadata": {},
   "outputs": [
    {
     "data": {
      "text/plain": [
       "['Eggs', 'Ham']"
      ]
     },
     "execution_count": 168,
     "metadata": {},
     "output_type": "execute_result"
    }
   ],
   "source": [
    "groceries[\"Michael\"]"
   ]
  },
  {
   "cell_type": "markdown",
   "id": "fd77ac65",
   "metadata": {},
   "source": [
    "So it has a first element,"
   ]
  },
  {
   "cell_type": "code",
   "execution_count": 32,
   "id": "5e5af38f",
   "metadata": {
    "scrolled": true
   },
   "outputs": [
    {
     "data": {
      "text/plain": [
       "'Eggs'"
      ]
     },
     "execution_count": 32,
     "metadata": {},
     "output_type": "execute_result"
    }
   ],
   "source": [
    "groceries[\"Michael\"][0]"
   ]
  },
  {
   "cell_type": "markdown",
   "id": "e884ae9d",
   "metadata": {},
   "source": [
    "### Comprehensions"
   ]
  },
  {
   "cell_type": "markdown",
   "id": "377d0f0b",
   "metadata": {},
   "source": [
    "It's very common to derive a new list from an old one,"
   ]
  },
  {
   "cell_type": "code",
   "execution_count": 166,
   "id": "60435380",
   "metadata": {},
   "outputs": [
    {
     "data": {
      "text/plain": [
       "[3, 5, 7]"
      ]
     },
     "execution_count": 166,
     "metadata": {},
     "output_type": "execute_result"
    }
   ],
   "source": [
    "old = [2, 4, 6]\n",
    "new = []\n",
    "\n",
    "for element in old:\n",
    "    new.append(element + 1)\n",
    "\n",
    "new"
   ]
  },
  {
   "cell_type": "markdown",
   "id": "648a18be",
   "metadata": {},
   "source": [
    "In python *comprehensions* allow you to do this is one go,"
   ]
  },
  {
   "cell_type": "code",
   "execution_count": 167,
   "id": "8da0079c",
   "metadata": {},
   "outputs": [
    {
     "data": {
      "text/plain": [
       "[3, 5, 7]"
      ]
     },
     "execution_count": 167,
     "metadata": {},
     "output_type": "execute_result"
    }
   ],
   "source": [
    "[e + 1 for e in old]"
   ]
  },
  {
   "cell_type": "markdown",
   "id": "14021d90",
   "metadata": {},
   "source": [
    "#### Challenge: Comprehensions"
   ]
  },
  {
   "cell_type": "markdown",
   "id": "33525233",
   "metadata": {},
   "source": [
    "Consider the following comprehension, which computes a predictor variable $y$ from an $x$ drawn from the range $0 \\text{ to } 10$,"
   ]
  },
  {
   "cell_type": "code",
   "execution_count": 103,
   "id": "7cb87fd5",
   "metadata": {},
   "outputs": [
    {
     "data": {
      "text/plain": [
       "[1, 3, 5, 7, 9, 11, 13, 15, 17, 19]"
      ]
     },
     "execution_count": 103,
     "metadata": {},
     "output_type": "execute_result"
    }
   ],
   "source": [
    "y = [2 * x + 1 for x in range(0, 10)]\n",
    "y"
   ]
  },
  {
   "cell_type": "markdown",
   "id": "656d1e9a",
   "metadata": {},
   "source": [
    "Rather than using `range(0,10)`, use your own dataset,\n",
    "\n",
    "* define a variable called, eg., `heart_rates`, to be a numerical list\n",
    "* replace `range(0, 10)` in the example with your variable (ie., `heart_rates`)"
   ]
  },
  {
   "cell_type": "code",
   "execution_count": 106,
   "id": "22463302",
   "metadata": {},
   "outputs": [],
   "source": [
    "# SOLUTION"
   ]
  },
  {
   "cell_type": "markdown",
   "id": "ed5f3187",
   "metadata": {},
   "source": [
    "Suppose you want to ignore some data in your list based on a test. Consider the following,"
   ]
  },
  {
   "cell_type": "code",
   "execution_count": 104,
   "id": "327e8aa4",
   "metadata": {},
   "outputs": [
    {
     "data": {
      "text/plain": [
       "[13, 15, 17, 19]"
      ]
     },
     "execution_count": 104,
     "metadata": {},
     "output_type": "execute_result"
    }
   ],
   "source": [
    "y = [2 * x + 1 for x in range(0, 10) if x > 5]\n",
    "y"
   ]
  },
  {
   "cell_type": "markdown",
   "id": "ad397df8",
   "metadata": {},
   "source": [
    "Filter your own dataset,\n",
    "* replace `range(0, 10)` \n",
    "* and the test `x>5` \n",
    "* to create a `y` more meaningful to your case.\n",
    "\n",
    "Eg., suppose we ignore HRs `<30, and >200` on the basis that they arent likely to be real data."
   ]
  },
  {
   "cell_type": "code",
   "execution_count": 105,
   "id": "ff199044",
   "metadata": {},
   "outputs": [],
   "source": [
    "# SOLUTION"
   ]
  },
  {
   "cell_type": "markdown",
   "id": "ee502d1c",
   "metadata": {},
   "source": [
    "---"
   ]
  },
  {
   "cell_type": "code",
   "execution_count": 211,
   "id": "2ac9c4cb",
   "metadata": {},
   "outputs": [
    {
     "name": "stdout",
     "output_type": "stream",
     "text": [
      "Help on function mean in module statistics:\n",
      "\n",
      "mean(data)\n",
      "    Return the sample arithmetic mean of data.\n",
      "    \n",
      "    >>> mean([1, 2, 3, 4, 4])\n",
      "    2.8\n",
      "    \n",
      "    >>> from fractions import Fraction as F\n",
      "    >>> mean([F(3, 7), F(1, 21), F(5, 3), F(1, 3)])\n",
      "    Fraction(13, 21)\n",
      "    \n",
      "    >>> from decimal import Decimal as D\n",
      "    >>> mean([D(\"0.5\"), D(\"0.75\"), D(\"0.625\"), D(\"0.375\")])\n",
      "    Decimal('0.5625')\n",
      "    \n",
      "    If ``data`` is empty, StatisticsError will be raised.\n",
      "\n"
     ]
    }
   ],
   "source": [
    "help(statistics.mean)"
   ]
  }
 ],
 "metadata": {
  "kernelspec": {
   "display_name": "Python 3 (ipykernel)",
   "language": "python",
   "name": "python3"
  },
  "language_info": {
   "codemirror_mode": {
    "name": "ipython",
    "version": 3
   },
   "file_extension": ".py",
   "mimetype": "text/x-python",
   "name": "python",
   "nbconvert_exporter": "python",
   "pygments_lexer": "ipython3",
   "version": "3.9.7"
  }
 },
 "nbformat": 4,
 "nbformat_minor": 5
}
