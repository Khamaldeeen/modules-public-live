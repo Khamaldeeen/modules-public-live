{
 "cells": [
  {
   "cell_type": "markdown",
   "id": "b401f1a1",
   "metadata": {},
   "source": [
    "# Working with Data: Introduction to Python\n",
    "<font color=indigo>Live Workshop</font>\n",
    "\n",
    "---\n",
    "\n",
    "* This document is a technical brainstorm (like whiteboarding with code). \n",
    "    * I'll give you this and any other assets over the break. \n",
    "    * No need to follow along live.\n",
    "* If you don't have access to a jupyter, you can try the following link, \n",
    "    * https://jupyterlite.readthedocs.io/en/latest/_static/retro/notebooks/index.html\n",
    "    * Press `File > New`\n",
    "    * **this may take a few minutes to load**\n",
    "---\n",
    " "
   ]
  },
  {
   "cell_type": "markdown",
   "id": "9cadc951",
   "metadata": {},
   "source": [
    "## Lesson Plan\n",
    "\n",
    "* Introductions (15 min)\n",
    "* Part 0: Review (30 min)\n",
    "    * Python Warm Up (15 min)\n",
    "    * Individual Challenge (15 min)\n",
    "* BREAK & ADMIN\n",
    "* Part 1: Basic Syntax (45 min)\n",
    "    * Review (20 min)\n",
    "    * Individual Challenges (15 min)\n",
    "* Part 2: Looping (45 min)\n",
    "    * Review (20 min)\n",
    "    * Group Challenges (25 min)\n",
    "* BREAK\n",
    "* Part 3: Advanced Syntax (45 min)\n",
    "    * Review (20 min)\n",
    "    * Individual Challenges (25 min)\n",
    "* Reivew & End (5min)\n",
    "\n",
    "## Introductions\n",
    "\n"
   ]
  },
  {
   "cell_type": "markdown",
   "id": "b5f64e2a",
   "metadata": {},
   "source": [
    "* Name\n",
    "* Background/Role\n",
    "* Prior Experience\n",
    "* Hobby"
   ]
  },
  {
   "cell_type": "markdown",
   "id": "8bc5180a",
   "metadata": {},
   "source": [
    "---"
   ]
  },
  {
   "cell_type": "markdown",
   "id": "aca32d19",
   "metadata": {},
   "source": [
    "## Part 0: Review"
   ]
  },
  {
   "cell_type": "markdown",
   "id": "06fadc45",
   "metadata": {},
   "source": [
    "#### Variables & Operations"
   ]
  },
  {
   "cell_type": "code",
   "execution_count": 2,
   "id": "f3f5f8b8",
   "metadata": {},
   "outputs": [],
   "source": [
    "name = \"Michael Burgess\"\n",
    "age = 33\n",
    "height = 1.81\n",
    "is_tired = True"
   ]
  },
  {
   "cell_type": "markdown",
   "id": "26bf254e",
   "metadata": {},
   "source": [
    "What's the type of this data?"
   ]
  },
  {
   "cell_type": "code",
   "execution_count": 3,
   "id": "8ddb2952",
   "metadata": {},
   "outputs": [
    {
     "data": {
      "text/plain": [
       "(str, int, float, bool)"
      ]
     },
     "execution_count": 3,
     "metadata": {},
     "output_type": "execute_result"
    }
   ],
   "source": [
    "type(name), type(age), type(height), type(is_tired)"
   ]
  },
  {
   "cell_type": "markdown",
   "id": "56d53bd7",
   "metadata": {},
   "source": [
    "#### Printing"
   ]
  },
  {
   "cell_type": "code",
   "execution_count": 4,
   "id": "04ff8f53",
   "metadata": {},
   "outputs": [
    {
     "name": "stdout",
     "output_type": "stream",
     "text": [
      "Hello my name is Michael\n"
     ]
    }
   ],
   "source": [
    "print(\"Hello my name is Michael\")"
   ]
  },
  {
   "cell_type": "markdown",
   "id": "798159eb",
   "metadata": {},
   "source": [
    "* **Aside**\n",
    "    * You can include the value of variables using `{}` (braces) if you prefix the *string* with an `f` symbol,"
   ]
  },
  {
   "cell_type": "code",
   "execution_count": 5,
   "id": "8fcbcd0a",
   "metadata": {},
   "outputs": [
    {
     "name": "stdout",
     "output_type": "stream",
     "text": [
      "Hello my name is Michael Burgess and my age is 33\n"
     ]
    }
   ],
   "source": [
    "print(f\"Hello my name is {name} and my age is {age}\")"
   ]
  },
  {
   "cell_type": "markdown",
   "id": "bf945836",
   "metadata": {},
   "source": [
    "...`f` for *format*"
   ]
  },
  {
   "cell_type": "markdown",
   "id": "21e4c6c9",
   "metadata": {},
   "source": [
    "#### Data Structures & Conversions"
   ]
  },
  {
   "cell_type": "code",
   "execution_count": 9,
   "id": "e5be4c64",
   "metadata": {},
   "outputs": [],
   "source": [
    "hobbies = [\"Sailing\", \"Ceramics\", \"Arguing\"]"
   ]
  },
  {
   "cell_type": "markdown",
   "id": "29394c98",
   "metadata": {},
   "source": [
    "What's the type of `hobbies`?"
   ]
  },
  {
   "cell_type": "code",
   "execution_count": 33,
   "id": "c4178d93",
   "metadata": {},
   "outputs": [
    {
     "data": {
      "text/plain": [
       "list"
      ]
     },
     "execution_count": 33,
     "metadata": {},
     "output_type": "execute_result"
    }
   ],
   "source": [
    "type(hobbies)"
   ]
  },
  {
   "cell_type": "markdown",
   "id": "84332671",
   "metadata": {},
   "source": [
    "The first `hobbies` is a string,"
   ]
  },
  {
   "cell_type": "code",
   "execution_count": 8,
   "id": "21307277",
   "metadata": {},
   "outputs": [
    {
     "data": {
      "text/plain": [
       "'Sailing'"
      ]
     },
     "execution_count": 8,
     "metadata": {},
     "output_type": "execute_result"
    }
   ],
   "source": [
    "hobbies[0]"
   ]
  },
  {
   "cell_type": "markdown",
   "id": "ad2c6689",
   "metadata": {},
   "source": [
    "The *indexes* of a list are (somewhat like) page numbers, in that they identify the position of some data, "
   ]
  },
  {
   "cell_type": "code",
   "execution_count": 16,
   "id": "0cd36343",
   "metadata": {},
   "outputs": [],
   "source": [
    "page = 0"
   ]
  },
  {
   "cell_type": "code",
   "execution_count": 17,
   "id": "1a28cdc1",
   "metadata": {},
   "outputs": [
    {
     "name": "stdout",
     "output_type": "stream",
     "text": [
      "Sailing\n"
     ]
    }
   ],
   "source": [
    "print(hobbies[page])"
   ]
  },
  {
   "cell_type": "code",
   "execution_count": 15,
   "id": "a5f55333",
   "metadata": {},
   "outputs": [
    {
     "name": "stdout",
     "output_type": "stream",
     "text": [
      "Sailing Ceramics\n"
     ]
    }
   ],
   "source": [
    "print(hobbies[0], hobbies[1])"
   ]
  },
  {
   "cell_type": "markdown",
   "id": "6e1ae7c1",
   "metadata": {},
   "source": [
    "---"
   ]
  },
  {
   "cell_type": "markdown",
   "id": "b3b39c2d",
   "metadata": {},
   "source": [
    "#### Aside\n",
    "Python has other complex data structures. Eg., consider a *dictionary* which relates *keys* to *values*,"
   ]
  },
  {
   "cell_type": "code",
   "execution_count": 11,
   "id": "8614f793",
   "metadata": {},
   "outputs": [],
   "source": [
    "register = {\n",
    "    # KEY : VALUE\n",
    "    'Jaz': True,\n",
    "    'Sara': True,\n",
    "    'Sherlock': False\n",
    "}"
   ]
  },
  {
   "cell_type": "code",
   "execution_count": 12,
   "id": "75cc0876",
   "metadata": {},
   "outputs": [
    {
     "data": {
      "text/plain": [
       "(list, dict)"
      ]
     },
     "execution_count": 12,
     "metadata": {},
     "output_type": "execute_result"
    }
   ],
   "source": [
    "type(hobbies), type(register)"
   ]
  },
  {
   "cell_type": "markdown",
   "id": "61762fc3",
   "metadata": {},
   "source": [
    "A dictionary allows you to use a named index (rather than just a *sequential* index, ie., a counted one), "
   ]
  },
  {
   "cell_type": "code",
   "execution_count": 18,
   "id": "cf173645",
   "metadata": {},
   "outputs": [
    {
     "data": {
      "text/plain": [
       "True"
      ]
     },
     "execution_count": 18,
     "metadata": {},
     "output_type": "execute_result"
    }
   ],
   "source": [
    "register['Jaz']"
   ]
  },
  {
   "cell_type": "markdown",
   "id": "3490e3f8",
   "metadata": {},
   "source": [
    "---"
   ]
  },
  {
   "cell_type": "markdown",
   "id": "1349d205",
   "metadata": {},
   "source": [
    "#### Importing"
   ]
  },
  {
   "cell_type": "code",
   "execution_count": 21,
   "id": "7b6aef77",
   "metadata": {},
   "outputs": [],
   "source": [
    "import statistics"
   ]
  },
  {
   "cell_type": "markdown",
   "id": "7b861fdb",
   "metadata": {},
   "source": [
    "How would I run the `mean` function *inside* the `statistics` module?"
   ]
  },
  {
   "cell_type": "code",
   "execution_count": 23,
   "id": "bb5bc907",
   "metadata": {
    "scrolled": true
   },
   "outputs": [
    {
     "data": {
      "text/plain": [
       "<function statistics.mean(data)>"
      ]
     },
     "execution_count": 23,
     "metadata": {},
     "output_type": "execute_result"
    }
   ],
   "source": [
    "statistics.mean # the name of the function"
   ]
  },
  {
   "cell_type": "markdown",
   "id": "b37857cc",
   "metadata": {},
   "source": [
    "Running the function,"
   ]
  },
  {
   "cell_type": "code",
   "execution_count": 26,
   "id": "5ac9a0a0",
   "metadata": {
    "scrolled": true
   },
   "outputs": [
    {
     "data": {
      "text/plain": [
       "4.333333333333333"
      ]
     },
     "execution_count": 26,
     "metadata": {},
     "output_type": "execute_result"
    }
   ],
   "source": [
    "statistics.mean([2, 4, 7]) # to run the function we write () parentheses after the name"
   ]
  },
  {
   "cell_type": "markdown",
   "id": "9a3b8be9",
   "metadata": {},
   "source": [
    "#### Summarizing Functions\n",
    "\n",
    "What built-in functions would help me describe a data-set?\n",
    "\n",
    "* `len`\n",
    "* `sum`\n",
    "* `statistics.mean`\n",
    "* `statistics.median`\n",
    "* `statistics.mode`\n",
    "* `statistics.stdev`"
   ]
  },
  {
   "cell_type": "markdown",
   "id": "865c3c41",
   "metadata": {},
   "source": [
    "There are `6` elements in the following list,"
   ]
  },
  {
   "cell_type": "code",
   "execution_count": 30,
   "id": "9b687344",
   "metadata": {},
   "outputs": [
    {
     "data": {
      "text/plain": [
       "6"
      ]
     },
     "execution_count": 30,
     "metadata": {},
     "output_type": "execute_result"
    }
   ],
   "source": [
    "cities = [0, 2, 2, 2, 2, 4]\n",
    "\n",
    "len(cities)"
   ]
  },
  {
   "cell_type": "markdown",
   "id": "fd0b6e4f",
   "metadata": {},
   "source": [
    "---\n",
    "\n",
    "### Challenge 0. Summarizing Data (15 min)\n",
    "\n",
    "* Create a new notebook in your jupyter application\n",
    "* Consider a problem of your own choosing\n",
    "    * eg., in retail, finance, health, ....\n",
    "    * consider a numerical dataset (ie., a quantitative variable = float)\n",
    "        * define a variable which is a list of numbers with **7** entries\n",
    "    * consider a categorical dataset (ie., a qualitative variable = string)\n",
    "        * define a variable which is a list of string **7** entries\n",
    "* Run the above summary functions on your lists\n",
    "    * STRETCH: neatly print out the results"
   ]
  },
  {
   "cell_type": "markdown",
   "id": "114568d3",
   "metadata": {},
   "source": [
    "    \n",
    "### Solution 0. Summarizing Data"
   ]
  },
  {
   "cell_type": "code",
   "execution_count": 91,
   "id": "a7f7b693",
   "metadata": {},
   "outputs": [
    {
     "name": "stdout",
     "output_type": "stream",
     "text": [
      "CAFFEINE REPORT\n",
      "No. Entires:  5\n",
      "Total:  1350\n",
      "Mean:  270\n",
      "Mode:  300\n",
      "Median:  200\n",
      "\n",
      "SLEEP REPORT\n",
      "No. Entires:  5\n",
      "Mode:  GOOD\n",
      "Median:  GOOD\n"
     ]
    }
   ],
   "source": [
    "caffeine = [300, 600, 100, 200, 150]\n",
    "sleep = [\"GOOD\", \"BAD\", \"EXCELLENT\", \"GOOD\", \"OK\"]\n",
    "\n",
    "print(\"CAFFEINE REPORT\")\n",
    "print(\"No. Entires: \", len(caffeine))\n",
    "print(\"Total: \", sum(caffeine))\n",
    "print(\"Mean: \", statistics.mean(caffeine))\n",
    "print(\"Mode: \", statistics.mode(caffeine))\n",
    "print(\"Median: \", statistics.median(caffeine))\n",
    "print() # an empty line\n",
    "\n",
    "print(\"SLEEP REPORT\")\n",
    "print(\"No. Entires: \", len(sleep))\n",
    "print(\"Mode: \", statistics.mode(sleep))\n",
    "print(\"Median: \", statistics.median(sleep))\n"
   ]
  },
  {
   "cell_type": "markdown",
   "id": "37a4ecff",
   "metadata": {},
   "source": [
    "---"
   ]
  },
  {
   "cell_type": "markdown",
   "id": "4cac528f",
   "metadata": {},
   "source": [
    "## Part 1: Basic Syntax"
   ]
  },
  {
   "cell_type": "markdown",
   "id": "82d6824d",
   "metadata": {},
   "source": [
    "#### Lists"
   ]
  },
  {
   "cell_type": "code",
   "execution_count": 44,
   "id": "b7db5ccc",
   "metadata": {},
   "outputs": [],
   "source": [
    "prices = [1.20, 2.40, 5.5]"
   ]
  },
  {
   "cell_type": "markdown",
   "id": "ff8d5471",
   "metadata": {},
   "source": [
    "indexes start at zero and count,  ( start page: 0)"
   ]
  },
  {
   "cell_type": "code",
   "execution_count": 47,
   "id": "3fcd34a9",
   "metadata": {},
   "outputs": [
    {
     "data": {
      "text/plain": [
       "(1.2, 2.4, 5.5)"
      ]
     },
     "execution_count": 47,
     "metadata": {},
     "output_type": "execute_result"
    }
   ],
   "source": [
    "prices[0], prices[1], prices[2]"
   ]
  },
  {
   "cell_type": "markdown",
   "id": "b83c9cc5",
   "metadata": {},
   "source": [
    "We can also go backwards through a list, *ending* at `-1`, (end page: 2, also: -1)"
   ]
  },
  {
   "cell_type": "code",
   "execution_count": 49,
   "id": "58c42428",
   "metadata": {},
   "outputs": [
    {
     "data": {
      "text/plain": [
       "(5.5, 2.4)"
      ]
     },
     "execution_count": 49,
     "metadata": {},
     "output_type": "execute_result"
    }
   ],
   "source": [
    "prices[-1], prices[-2]"
   ]
  },
  {
   "cell_type": "markdown",
   "id": "fd33b017",
   "metadata": {},
   "source": [
    "How do you add elements to a list?"
   ]
  },
  {
   "cell_type": "code",
   "execution_count": 70,
   "id": "ea5899d1",
   "metadata": {},
   "outputs": [],
   "source": [
    "prices.append(6.55)"
   ]
  },
  {
   "cell_type": "code",
   "execution_count": 51,
   "id": "64c34c4a",
   "metadata": {},
   "outputs": [
    {
     "data": {
      "text/plain": [
       "[1.2, 2.4, 5.5, 6.55]"
      ]
     },
     "execution_count": 51,
     "metadata": {},
     "output_type": "execute_result"
    }
   ],
   "source": [
    "prices"
   ]
  },
  {
   "cell_type": "markdown",
   "id": "254cf8ef",
   "metadata": {},
   "source": [
    "How do you add an element *at a position*?"
   ]
  },
  {
   "cell_type": "code",
   "execution_count": 52,
   "id": "6ef91a94",
   "metadata": {},
   "outputs": [],
   "source": [
    "prices.insert(0, 0.51)"
   ]
  },
  {
   "cell_type": "code",
   "execution_count": 53,
   "id": "f6d366e2",
   "metadata": {},
   "outputs": [
    {
     "data": {
      "text/plain": [
       "[0.51, 1.2, 2.4, 5.5, 6.55]"
      ]
     },
     "execution_count": 53,
     "metadata": {},
     "output_type": "execute_result"
    }
   ],
   "source": [
    "prices"
   ]
  },
  {
   "cell_type": "markdown",
   "id": "75b9a52c",
   "metadata": {},
   "source": [
    "recall, `sleep`, "
   ]
  },
  {
   "cell_type": "code",
   "execution_count": 54,
   "id": "5f1cc0cd",
   "metadata": {},
   "outputs": [
    {
     "data": {
      "text/plain": [
       "['GOOD', 'BAD', 'EXCELLENT', 'GOOD', 'OK']"
      ]
     },
     "execution_count": 54,
     "metadata": {},
     "output_type": "execute_result"
    }
   ],
   "source": [
    "sleep"
   ]
  },
  {
   "cell_type": "code",
   "execution_count": 56,
   "id": "b3c6a873",
   "metadata": {},
   "outputs": [
    {
     "data": {
      "text/plain": [
       "2"
      ]
     },
     "execution_count": 56,
     "metadata": {},
     "output_type": "execute_result"
    }
   ],
   "source": [
    "sleep.count(\"GOOD\")"
   ]
  },
  {
   "cell_type": "markdown",
   "id": "4e642912",
   "metadata": {},
   "source": [
    "In the syntax `o.m()` we refer to the dataset `o` as an *object* and the operation which is applied to the data, a *method*. "
   ]
  },
  {
   "cell_type": "markdown",
   "id": "0331ac8e",
   "metadata": {},
   "source": [
    "#### Syntax Errors"
   ]
  },
  {
   "cell_type": "markdown",
   "id": "0c0b43cb",
   "metadata": {},
   "source": [
    "* learning python takes years\n",
    "    * learning to program (years)\n",
    "        * <font color=indigo>**learning syntax**</font> (important early skill)\n",
    "            * adjusting your *reading* to technical code \n",
    "            * not like mathematics, or literature -- both ambiguous\n",
    "            * highly precise\n",
    "        * learning algorithms\n",
    "            * and their behaviour\n",
    "        * learning phrasing\n",
    "    * learning python\n",
    "        * specifics of pythons: syntax, ....\n",
    "    "
   ]
  },
  {
   "cell_type": "markdown",
   "id": "fbcd8604",
   "metadata": {},
   "source": [
    "##### Equality & Assignment"
   ]
  },
  {
   "cell_type": "markdown",
   "id": "ad416f48",
   "metadata": {},
   "source": [
    "In mathematics: $x = y$ is the same as $y = x$"
   ]
  },
  {
   "cell_type": "markdown",
   "id": "cb3c0762",
   "metadata": {},
   "source": [
    "In python programming `=` means *assignement*, it only reads/works *LEFT-TO-RIGHT*,"
   ]
  },
  {
   "cell_type": "code",
   "execution_count": 66,
   "id": "9344966d",
   "metadata": {},
   "outputs": [],
   "source": [
    "name = \"Michael\""
   ]
  },
  {
   "cell_type": "code",
   "execution_count": 67,
   "id": "62c5b905",
   "metadata": {},
   "outputs": [
    {
     "ename": "SyntaxError",
     "evalue": "cannot assign to literal (2134918280.py, line 1)",
     "output_type": "error",
     "traceback": [
      "\u001b[0;36m  Input \u001b[0;32mIn [67]\u001b[0;36m\u001b[0m\n\u001b[0;31m    \"Michael\" = name\u001b[0m\n\u001b[0m    ^\u001b[0m\n\u001b[0;31mSyntaxError\u001b[0m\u001b[0;31m:\u001b[0m cannot assign to literal\n"
     ]
    }
   ],
   "source": [
    "\"Michael\" = name"
   ]
  },
  {
   "cell_type": "markdown",
   "id": "77b81c5f",
   "metadata": {},
   "source": [
    "* What is the symbol for equality?"
   ]
  },
  {
   "cell_type": "code",
   "execution_count": 68,
   "id": "316bef43",
   "metadata": {},
   "outputs": [
    {
     "data": {
      "text/plain": [
       "True"
      ]
     },
     "execution_count": 68,
     "metadata": {},
     "output_type": "execute_result"
    }
   ],
   "source": [
    "5 == (1 + 4)"
   ]
  },
  {
   "cell_type": "code",
   "execution_count": 69,
   "id": "a2e09437",
   "metadata": {},
   "outputs": [
    {
     "data": {
      "text/plain": [
       "True"
      ]
     },
     "execution_count": 69,
     "metadata": {},
     "output_type": "execute_result"
    }
   ],
   "source": [
    "(1 + 4) == 5"
   ]
  },
  {
   "cell_type": "markdown",
   "id": "d8160128",
   "metadata": {},
   "source": [
    "##### Quotes"
   ]
  },
  {
   "cell_type": "markdown",
   "id": "a99e4e44",
   "metadata": {},
   "source": [
    "Quotes need to be exact,"
   ]
  },
  {
   "cell_type": "code",
   "execution_count": 57,
   "id": "2efaae80",
   "metadata": {},
   "outputs": [
    {
     "ename": "SyntaxError",
     "evalue": "EOL while scanning string literal (3403272755.py, line 1)",
     "output_type": "error",
     "traceback": [
      "\u001b[0;36m  Input \u001b[0;32mIn [57]\u001b[0;36m\u001b[0m\n\u001b[0;31m    \" Hello   '\u001b[0m\n\u001b[0m               ^\u001b[0m\n\u001b[0;31mSyntaxError\u001b[0m\u001b[0;31m:\u001b[0m EOL while scanning string literal\n"
     ]
    }
   ],
   "source": [
    "\" Hello   '"
   ]
  },
  {
   "cell_type": "markdown",
   "id": "b2a790ec",
   "metadata": {},
   "source": [
    "##### Brackets"
   ]
  },
  {
   "cell_type": "code",
   "execution_count": 59,
   "id": "efaedeb4",
   "metadata": {},
   "outputs": [
    {
     "ename": "TypeError",
     "evalue": "'list' object is not callable",
     "output_type": "error",
     "traceback": [
      "\u001b[0;31m---------------------------------------------------------------------------\u001b[0m",
      "\u001b[0;31mTypeError\u001b[0m                                 Traceback (most recent call last)",
      "Input \u001b[0;32mIn [59]\u001b[0m, in \u001b[0;36m<cell line: 1>\u001b[0;34m()\u001b[0m\n\u001b[0;32m----> 1\u001b[0m \u001b[43mprices\u001b[49m\u001b[43m(\u001b[49m\u001b[38;5;241;43m0\u001b[39;49m\u001b[43m)\u001b[49m\n",
      "\u001b[0;31mTypeError\u001b[0m: 'list' object is not callable"
     ]
    }
   ],
   "source": [
    "prices(0)"
   ]
  },
  {
   "cell_type": "markdown",
   "id": "8a788719",
   "metadata": {},
   "source": [
    "Rather than *parentheses*, I should use.."
   ]
  },
  {
   "cell_type": "code",
   "execution_count": 60,
   "id": "6e294bed",
   "metadata": {},
   "outputs": [
    {
     "data": {
      "text/plain": [
       "0.51"
      ]
     },
     "execution_count": 60,
     "metadata": {},
     "output_type": "execute_result"
    }
   ],
   "source": [
    "prices[0]"
   ]
  },
  {
   "cell_type": "markdown",
   "id": "22768d43",
   "metadata": {},
   "source": [
    "* `()` parentheses\n",
    "* `[]` square brackets\n",
    "* `{}` braces\n",
    "* double quote, single quote, colon, newline, ... \n"
   ]
  },
  {
   "cell_type": "markdown",
   "id": "689e0dfc",
   "metadata": {},
   "source": [
    "The machine will not \"infer\" what you mean, you have to say *exactly*. "
   ]
  },
  {
   "cell_type": "markdown",
   "id": "b2e23ff3",
   "metadata": {},
   "source": [
    "---"
   ]
  },
  {
   "cell_type": "markdown",
   "id": "921e08f3",
   "metadata": {},
   "source": [
    "##### Aside: Examples of Brackets in Python"
   ]
  },
  {
   "cell_type": "markdown",
   "id": "2ba5e4a3",
   "metadata": {},
   "source": [
    "Running a function,"
   ]
  },
  {
   "cell_type": "code",
   "execution_count": 61,
   "id": "b9031aad",
   "metadata": {},
   "outputs": [
    {
     "name": "stdout",
     "output_type": "stream",
     "text": [
      "Running a function\n"
     ]
    }
   ],
   "source": [
    "print(\"Running a function\")"
   ]
  },
  {
   "cell_type": "markdown",
   "id": "989bfdcb",
   "metadata": {},
   "source": [
    "Grouping mathematical operations,"
   ]
  },
  {
   "cell_type": "code",
   "execution_count": 62,
   "id": "334e4853",
   "metadata": {},
   "outputs": [
    {
     "data": {
      "text/plain": [
       "16"
      ]
     },
     "execution_count": 62,
     "metadata": {},
     "output_type": "execute_result"
    }
   ],
   "source": [
    "(2 * 3) + 10"
   ]
  },
  {
   "cell_type": "markdown",
   "id": "cca57ec4",
   "metadata": {},
   "source": [
    "*tuples* (are like lists) are often presented in parentheses, *tuples* do as much as lists do, *except* they cant be modified,"
   ]
  },
  {
   "cell_type": "code",
   "execution_count": 63,
   "id": "ad71e7f5",
   "metadata": {},
   "outputs": [],
   "source": [
    "pair = (1, 2)"
   ]
  },
  {
   "cell_type": "markdown",
   "id": "623f4e52",
   "metadata": {},
   "source": [
    "In python square brakets are *always* indexes,"
   ]
  },
  {
   "cell_type": "code",
   "execution_count": 64,
   "id": "aef38541",
   "metadata": {},
   "outputs": [
    {
     "data": {
      "text/plain": [
       "'Sailing'"
      ]
     },
     "execution_count": 64,
     "metadata": {},
     "output_type": "execute_result"
    }
   ],
   "source": [
    "hobbies[0]"
   ]
  },
  {
   "cell_type": "markdown",
   "id": "85b9b676",
   "metadata": {},
   "source": [
    "There are two uses of braces (dictionaries, and sets),"
   ]
  },
  {
   "cell_type": "code",
   "execution_count": 65,
   "id": "10439c51",
   "metadata": {},
   "outputs": [],
   "source": [
    "eg = {\"Ham\": 10, \"Bread\": 3}\n",
    "\n",
    "people = {\"Alice\", \"Eve\", \"Bob\"}"
   ]
  },
  {
   "cell_type": "markdown",
   "id": "ffbbfe59",
   "metadata": {},
   "source": [
    "----"
   ]
  },
  {
   "cell_type": "markdown",
   "id": "4bf1ae8d",
   "metadata": {},
   "source": [
    "#### Comparisons & Tests"
   ]
  },
  {
   "cell_type": "code",
   "execution_count": 72,
   "id": "6f27f344",
   "metadata": {},
   "outputs": [
    {
     "name": "stdout",
     "output_type": "stream",
     "text": [
      "Michael 33 1.81 True\n"
     ]
    }
   ],
   "source": [
    "print(name, age, height, is_tired)"
   ]
  },
  {
   "cell_type": "markdown",
   "id": "dc19a2c1",
   "metadata": {},
   "source": [
    "What would I write to determine if i were: an adult?"
   ]
  },
  {
   "cell_type": "code",
   "execution_count": 75,
   "id": "09c3dc3d",
   "metadata": {},
   "outputs": [
    {
     "data": {
      "text/plain": [
       "True"
      ]
     },
     "execution_count": 75,
     "metadata": {},
     "output_type": "execute_result"
    }
   ],
   "source": [
    "age >= 18 # operator = symbol"
   ]
  },
  {
   "cell_type": "markdown",
   "id": "24ee450f",
   "metadata": {},
   "source": [
    "How would I determine if my name starts with an `M` ?"
   ]
  },
  {
   "cell_type": "code",
   "execution_count": 76,
   "id": "16609e80",
   "metadata": {},
   "outputs": [
    {
     "data": {
      "text/plain": [
       "True"
      ]
     },
     "execution_count": 76,
     "metadata": {},
     "output_type": "execute_result"
    }
   ],
   "source": [
    "name.startswith(\"M\") # method = name of an operation"
   ]
  },
  {
   "cell_type": "markdown",
   "id": "c4a85a9e",
   "metadata": {},
   "source": [
    "How would I determine if my age is an odd number?"
   ]
  },
  {
   "cell_type": "code",
   "execution_count": 78,
   "id": "aa8dde97",
   "metadata": {},
   "outputs": [
    {
     "data": {
      "text/plain": [
       "1"
      ]
     },
     "execution_count": 78,
     "metadata": {},
     "output_type": "execute_result"
    }
   ],
   "source": [
    "age % 2 # The remainder when age is divided by 2"
   ]
  },
  {
   "cell_type": "code",
   "execution_count": 79,
   "id": "b913c483",
   "metadata": {},
   "outputs": [
    {
     "data": {
      "text/plain": [
       "True"
      ]
     },
     "execution_count": 79,
     "metadata": {},
     "output_type": "execute_result"
    }
   ],
   "source": [
    "age % 2 == 1"
   ]
  },
  {
   "cell_type": "markdown",
   "id": "69f9bbc3",
   "metadata": {},
   "source": [
    "We usually write whether `age % 2` *is not* `0`, ie., is not even,"
   ]
  },
  {
   "cell_type": "code",
   "execution_count": 80,
   "id": "50cb526c",
   "metadata": {},
   "outputs": [
    {
     "data": {
      "text/plain": [
       "True"
      ]
     },
     "execution_count": 80,
     "metadata": {},
     "output_type": "execute_result"
    }
   ],
   "source": [
    "age % 2 != 0"
   ]
  },
  {
   "cell_type": "markdown",
   "id": "015382b1",
   "metadata": {},
   "source": [
    "#### Decision-Making"
   ]
  },
  {
   "cell_type": "markdown",
   "id": "7c6be2ca",
   "metadata": {},
   "source": [
    "```python\n",
    "if ...:\n",
    "    action\n",
    "```"
   ]
  },
  {
   "cell_type": "markdown",
   "id": "dce08fd1",
   "metadata": {},
   "source": [
    "What are the other keywords I can use with `if`?"
   ]
  },
  {
   "cell_type": "markdown",
   "id": "cb0abf4b",
   "metadata": {},
   "source": [
    "```python\n",
    "if ...:\n",
    "    ...\n",
    "elif:\n",
    "    ...\n",
    "else:\n",
    "    ...\n",
    "```"
   ]
  },
  {
   "cell_type": "markdown",
   "id": "01f811aa",
   "metadata": {},
   "source": [
    "Suppose I want to perform some number of actions based on some tests. Eg., suppose 4 different actions. \n",
    "\n",
    "```python\n",
    "\n",
    "if ....:\n",
    "    ACTION1\n",
    "elif ...:\n",
    "    ACTION2\n",
    "elif ...:\n",
    "    ACTION3\n",
    "else:\n",
    "    ACTION4\n",
    "```"
   ]
  },
  {
   "cell_type": "markdown",
   "id": "31615527",
   "metadata": {},
   "source": [
    "Only one group of statements is performed, statements are *grouped* using indentation *whitespace*,"
   ]
  },
  {
   "cell_type": "code",
   "execution_count": 90,
   "id": "a660a2a7",
   "metadata": {},
   "outputs": [
    {
     "name": "stdout",
     "output_type": "stream",
     "text": [
      "I am at least 81\n"
     ]
    }
   ],
   "source": [
    "# What action will be performed?\n",
    "age = 81\n",
    "\n",
    "if (age >= 18) and (age <= 80):\n",
    "    # What age am I here?\n",
    "    print(\"I am at least 18\")\n",
    "    print(\"I am at least 18\")\n",
    "    print(\"I am at least 18\")\n",
    "    # these three statements execute because they are indented to the same level\n",
    "elif age > 80:\n",
    "    # What age am I here?\n",
    "    print(\"I am at least 81\")\n",
    "else:\n",
    "    # What age am I here?\n",
    "    print(\"I am less than 18\")\n"
   ]
  },
  {
   "cell_type": "markdown",
   "id": "d2fd1343",
   "metadata": {},
   "source": [
    "### Challenge 1a. Syntax Errors"
   ]
  },
  {
   "cell_type": "markdown",
   "id": "3c6741ee",
   "metadata": {},
   "source": [
    "Fix the syntax in the following example,"
   ]
  },
  {
   "cell_type": "code",
   "execution_count": 93,
   "id": "9a1cc7ec",
   "metadata": {},
   "outputs": [
    {
     "ename": "SyntaxError",
     "evalue": "invalid syntax (924352493.py, line 1)",
     "output_type": "error",
     "traceback": [
      "\u001b[0;36m  Input \u001b[0;32mIn [93]\u001b[0;36m\u001b[0m\n\u001b[0;31m    prices = [2, 4, 6 8)\u001b[0m\n\u001b[0m                      ^\u001b[0m\n\u001b[0;31mSyntaxError\u001b[0m\u001b[0;31m:\u001b[0m invalid syntax\n"
     ]
    }
   ],
   "source": [
    "ages = [12, 41, 61 18)\n",
    "\n",
    "print(len[ages])\n",
    "print(ages[-1])"
   ]
  },
  {
   "cell_type": "markdown",
   "id": "8f515473",
   "metadata": {},
   "source": [
    "### Challenge 1b. Comparisons & Tests: Odd Numbers"
   ]
  },
  {
   "cell_type": "code",
   "execution_count": 95,
   "id": "67699669",
   "metadata": {},
   "outputs": [],
   "source": [
    "prices = [1, 3, 4, 5, 9]"
   ]
  },
  {
   "cell_type": "markdown",
   "id": "552ebdda",
   "metadata": {},
   "source": [
    "Select the first price,"
   ]
  },
  {
   "cell_type": "code",
   "execution_count": null,
   "id": "f51f659a",
   "metadata": {},
   "outputs": [],
   "source": []
  },
  {
   "cell_type": "markdown",
   "id": "fea3a354",
   "metadata": {},
   "source": [
    "Determine if the price is odd"
   ]
  },
  {
   "cell_type": "code",
   "execution_count": null,
   "id": "6957abd4",
   "metadata": {},
   "outputs": [],
   "source": []
  },
  {
   "cell_type": "markdown",
   "id": "0da4901d",
   "metadata": {},
   "source": [
    "### Challenge 1c. Comparisons & Tests: Prefixes"
   ]
  },
  {
   "cell_type": "code",
   "execution_count": 96,
   "id": "ff7c78c4",
   "metadata": {},
   "outputs": [],
   "source": [
    "address = \"London, United Kingdom\""
   ]
  },
  {
   "cell_type": "markdown",
   "id": "c9bfa190",
   "metadata": {},
   "source": [
    "Using `.startswith` and `.endswith`, determine if the address starts with \"London\" and ends with \"Texas\","
   ]
  },
  {
   "cell_type": "code",
   "execution_count": null,
   "id": "e0976cb7",
   "metadata": {},
   "outputs": [],
   "source": []
  },
  {
   "cell_type": "markdown",
   "id": "c3117847",
   "metadata": {},
   "source": [
    "### Challenge 1d. Decision-Making"
   ]
  },
  {
   "cell_type": "markdown",
   "id": "396cd02d",
   "metadata": {},
   "source": [
    "* If the address starts with \"London\" *and* ends with \"United Kingdom\", print \"Welcome to the UK capital!\".\n",
    "* Otherwise if it ends with \"Texas\", print \"Welcome to Kimble!\"\n",
    "* Otherwise, print \"Hi, wherever you are!\""
   ]
  },
  {
   "cell_type": "code",
   "execution_count": null,
   "id": "d38563a7",
   "metadata": {},
   "outputs": [],
   "source": []
  },
  {
   "cell_type": "markdown",
   "id": "048fc501",
   "metadata": {},
   "source": [
    "---"
   ]
  },
  {
   "cell_type": "markdown",
   "id": "94cf8d5c",
   "metadata": {},
   "source": [
    "## Part 2: Looping "
   ]
  },
  {
   "cell_type": "markdown",
   "id": "6a0eb874",
   "metadata": {},
   "source": [
    "#### Looping"
   ]
  },
  {
   "cell_type": "markdown",
   "id": "925b73a1",
   "metadata": {},
   "source": [
    "#### Looping & Filtering"
   ]
  },
  {
   "cell_type": "markdown",
   "id": "08a7caf0",
   "metadata": {},
   "source": [
    "### Challenge 2a. Looping: Even Numbers"
   ]
  },
  {
   "cell_type": "markdown",
   "id": "bccdfa88",
   "metadata": {},
   "source": [
    "### Challenge 2b. Looping: Maximums"
   ]
  },
  {
   "cell_type": "markdown",
   "id": "984b4e03",
   "metadata": {},
   "source": [
    "### Challenge 2c. Looping: Averages"
   ]
  },
  {
   "cell_type": "markdown",
   "id": "55f78cee",
   "metadata": {},
   "source": [
    "### Challenge 2d. Looping: Filtering"
   ]
  },
  {
   "cell_type": "markdown",
   "id": "82e74b49",
   "metadata": {},
   "source": [
    "---"
   ]
  },
  {
   "cell_type": "markdown",
   "id": "b46bd9fb",
   "metadata": {},
   "source": [
    "## Part 3: Advanced Syntax"
   ]
  },
  {
   "cell_type": "markdown",
   "id": "489071a1",
   "metadata": {},
   "source": [
    "#### Functions"
   ]
  },
  {
   "cell_type": "markdown",
   "id": "cb184208",
   "metadata": {},
   "source": [
    "#### Error Handling"
   ]
  },
  {
   "cell_type": "markdown",
   "id": "017e154c",
   "metadata": {},
   "source": [
    "#### Comprehensions"
   ]
  },
  {
   "cell_type": "markdown",
   "id": "d799319f",
   "metadata": {},
   "source": [
    "### Challenge 3a: Error Handling: Conversions"
   ]
  },
  {
   "cell_type": "markdown",
   "id": "7478d3d8",
   "metadata": {},
   "source": [
    "### Challenge 3b: Comprehensions\n",
    "\n",
    "---"
   ]
  },
  {
   "cell_type": "markdown",
   "id": "be91179c",
   "metadata": {},
   "source": [
    "## Review & End"
   ]
  },
  {
   "cell_type": "markdown",
   "id": "78ad6f8a",
   "metadata": {},
   "source": [
    "---"
   ]
  },
  {
   "cell_type": "markdown",
   "id": "dea220c5",
   "metadata": {},
   "source": [
    "## Appendix"
   ]
  },
  {
   "cell_type": "markdown",
   "id": "0517ffce",
   "metadata": {},
   "source": [
    "#### Dictionaries (Examples)"
   ]
  },
  {
   "cell_type": "code",
   "execution_count": 19,
   "id": "826ca725",
   "metadata": {},
   "outputs": [],
   "source": [
    "boats = {\n",
    "    \"Happy\": \"120ft\",\n",
    "    \"Big\": \"300ft\"\n",
    "}"
   ]
  },
  {
   "cell_type": "code",
   "execution_count": 31,
   "id": "2912a1ee",
   "metadata": {},
   "outputs": [
    {
     "data": {
      "text/plain": [
       "'300ft'"
      ]
     },
     "execution_count": 31,
     "metadata": {},
     "output_type": "execute_result"
    }
   ],
   "source": [
    "boats[\"Big\"]"
   ]
  },
  {
   "cell_type": "code",
   "execution_count": 20,
   "id": "46263385",
   "metadata": {},
   "outputs": [],
   "source": [
    "groceries = {\n",
    "    \"Michael\": [\"Eggs\", \"Ham\"],\n",
    "    \"Alice\": [\"Eggs\", \"Ham\"],\n",
    "}"
   ]
  },
  {
   "cell_type": "code",
   "execution_count": 32,
   "id": "270fff0f",
   "metadata": {},
   "outputs": [
    {
     "data": {
      "text/plain": [
       "'Eggs'"
      ]
     },
     "execution_count": 32,
     "metadata": {},
     "output_type": "execute_result"
    }
   ],
   "source": [
    "groceries[\"Michael\"][0]"
   ]
  }
 ],
 "metadata": {
  "kernelspec": {
   "display_name": "Python 3 (ipykernel)",
   "language": "python",
   "name": "python3"
  },
  "language_info": {
   "codemirror_mode": {
    "name": "ipython",
    "version": 3
   },
   "file_extension": ".py",
   "mimetype": "text/x-python",
   "name": "python",
   "nbconvert_exporter": "python",
   "pygments_lexer": "ipython3",
   "version": "3.9.7"
  }
 },
 "nbformat": 4,
 "nbformat_minor": 5
}
