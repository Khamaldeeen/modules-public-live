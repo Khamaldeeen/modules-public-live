{
 "cells": [
  {
   "cell_type": "markdown",
   "id": "b401f1a1",
   "metadata": {},
   "source": [
    "# Working with Data: Introduction to Python\n",
    "<font color=indigo>Live Workshop</font>\n",
    "\n",
    "---\n",
    "\n",
    "* This document is a technical brainstorm (like whiteboarding with code). \n",
    "    * I'll give you this and any other assets over the break. \n",
    "    * No need to follow along live.\n",
    "* If you don't have access to a jupyter installation, you can try the following link, \n",
    "    * https://jupyterlite.readthedocs.io/en/latest/_static/retro/notebooks/index.html\n",
    "    * Press `File > New`\n",
    "    * **this may take a few minutes to load**\n",
    "---\n",
    " "
   ]
  },
  {
   "cell_type": "markdown",
   "id": "9cadc951",
   "metadata": {},
   "source": [
    "## Lesson Plan\n",
    "\n",
    "* <font color=green>Introductions (20 min)</font>\n",
    "* <font color=green>Part 0: Review (30 min)</font>\n",
    "    * Python Warm Up (15 min)\n",
    "    * <font color=blue>Individual Challenge (15 min)</font>\n",
    "* <font color=green>Break & Admin (20 min)</font>\n",
    "    * Our Values, Learning Objectives, Menti Self-Assess, ...\n",
    "* <font color=green>Part 1: Basic Syntax (40 min)</font>\n",
    "    * Discussion (20 min)\n",
    "    * <font color=blue>Individual Challenges (20 min)</font>\n",
    "* <font color=green>Part 2: Looping (40 min)</font>\n",
    "    * Discussion (10 min)\n",
    "    * <font color=blue>Group Challenges (30 min)</font>\n",
    "* <font color=green>Break (10min)</font>\n",
    "* <font color=green>Part 3: Advanced Syntax (40 min)</font>\n",
    "    * Discussion (20 min)\n",
    "    * <font color=blue>Individual Challenges (20 min)</font>\n",
    "* <font color=green>Reivew & End (>5 min)</font>"
   ]
  },
  {
   "cell_type": "markdown",
   "id": "d446bddf",
   "metadata": {},
   "source": [
    "## Introductions\n",
    "* Name\n",
    "* Background/Role\n",
    "* Prior Experience\n",
    "* Expectations\n",
    "* Hobby"
   ]
  },
  {
   "cell_type": "markdown",
   "id": "2d300ae7",
   "metadata": {},
   "source": [
    "* Michael Burgess\n",
    "    * michael.burgess@decoded.com\n",
    "* Head of Technical Solutions\n",
    "    * recently joined decoded\n",
    "    * defence, telephony, ... physics\n",
    "* Arguing, Philosophy..."
   ]
  },
  {
   "cell_type": "markdown",
   "id": "fda648f0",
   "metadata": {},
   "source": [
    "---"
   ]
  },
  {
   "cell_type": "markdown",
   "id": "53fa46a7",
   "metadata": {},
   "source": [
    "---"
   ]
  },
  {
   "cell_type": "markdown",
   "id": "aca32d19",
   "metadata": {},
   "source": [
    "## Part 0: Review"
   ]
  },
  {
   "cell_type": "markdown",
   "id": "06fadc45",
   "metadata": {},
   "source": [
    "### Variables & Operations"
   ]
  },
  {
   "cell_type": "code",
   "execution_count": 5,
   "id": "2a70b0c3",
   "metadata": {},
   "outputs": [],
   "source": [
    "# tag \"name\" is tagged to the value \"Michael Burgess\"\n",
    "name = \"Michael Burgess\"\n",
    "age = 33 \n",
    "height = 1.81\n",
    "is_tired = True"
   ]
  },
  {
   "cell_type": "code",
   "execution_count": 6,
   "id": "3bbbe25d",
   "metadata": {},
   "outputs": [
    {
     "data": {
      "text/plain": [
       "'Michael Burgess'"
      ]
     },
     "execution_count": 6,
     "metadata": {},
     "output_type": "execute_result"
    }
   ],
   "source": [
    "name"
   ]
  },
  {
   "cell_type": "markdown",
   "id": "a9eeb8b0",
   "metadata": {},
   "source": [
    "Q. What symbol *assigns* a value to a variable?"
   ]
  },
  {
   "cell_type": "markdown",
   "id": "19d183ad",
   "metadata": {},
   "source": [
    "Equals sign... `=`"
   ]
  },
  {
   "cell_type": "markdown",
   "id": "d2936c10",
   "metadata": {},
   "source": [
    "Q. What's the type of this data?"
   ]
  },
  {
   "cell_type": "code",
   "execution_count": 4,
   "id": "db9efbf9",
   "metadata": {},
   "outputs": [
    {
     "data": {
      "text/plain": [
       "(str, int, float, bool)"
      ]
     },
     "execution_count": 4,
     "metadata": {},
     "output_type": "execute_result"
    }
   ],
   "source": [
    "type(name), type(age), type(height), type(is_tired)"
   ]
  },
  {
   "cell_type": "markdown",
   "id": "56d53bd7",
   "metadata": {},
   "source": [
    "### Printing"
   ]
  },
  {
   "cell_type": "code",
   "execution_count": 8,
   "id": "9cbee1c2",
   "metadata": {},
   "outputs": [
    {
     "name": "stdout",
     "output_type": "stream",
     "text": [
      "Michael Burgess 33 1.81 True\n"
     ]
    }
   ],
   "source": [
    "print(name, age, height, is_tired)"
   ]
  },
  {
   "cell_type": "markdown",
   "id": "5da1bdb3",
   "metadata": {},
   "source": [
    "`f` prefix, *format*, \"\" (quotes).... instead of usual quotes, *format* their contents..>"
   ]
  },
  {
   "cell_type": "code",
   "execution_count": 10,
   "id": "548b88f4",
   "metadata": {},
   "outputs": [
    {
     "name": "stdout",
     "output_type": "stream",
     "text": [
      "Michael Burgess is 33 years old\n"
     ]
    }
   ],
   "source": [
    "print(f\"{name} is {age} years old\") # {name} substituted for \"Michael Burgess\""
   ]
  },
  {
   "cell_type": "markdown",
   "id": "41a12189",
   "metadata": {},
   "source": [
    "**Aside**: You can include the value of variables using `{}` (braces) if you prefix the *string* with an `f` symbol,"
   ]
  },
  {
   "cell_type": "markdown",
   "id": "5321bb87",
   "metadata": {},
   "source": [
    "...`f` for *format*"
   ]
  },
  {
   "cell_type": "markdown",
   "id": "21e4c6c9",
   "metadata": {},
   "source": [
    "### Data Structures & Conversions"
   ]
  },
  {
   "cell_type": "code",
   "execution_count": 17,
   "id": "f43e144c",
   "metadata": {},
   "outputs": [],
   "source": [
    "hobbies = [\n",
    "    # 0,        1,           2 \n",
    "    \"running\", \"absailing\", \"arguing\", \"...\"\n",
    "    #    -4     -3         -2         -1\n",
    "]"
   ]
  },
  {
   "cell_type": "markdown",
   "id": "89a82916",
   "metadata": {},
   "source": [
    "Q. What's the type of `hobbies`?"
   ]
  },
  {
   "cell_type": "code",
   "execution_count": 12,
   "id": "745657f8",
   "metadata": {},
   "outputs": [
    {
     "data": {
      "text/plain": [
       "list"
      ]
     },
     "execution_count": 12,
     "metadata": {},
     "output_type": "execute_result"
    }
   ],
   "source": [
    "type(hobbies)"
   ]
  },
  {
   "cell_type": "markdown",
   "id": "bc410275",
   "metadata": {},
   "source": [
    "Q. What index is first?"
   ]
  },
  {
   "cell_type": "code",
   "execution_count": 18,
   "id": "671dbfd1",
   "metadata": {},
   "outputs": [
    {
     "data": {
      "text/plain": [
       "'running'"
      ]
     },
     "execution_count": 18,
     "metadata": {},
     "output_type": "execute_result"
    }
   ],
   "source": [
    "hobbies[0]"
   ]
  },
  {
   "cell_type": "markdown",
   "id": "0aff9bf6",
   "metadata": {},
   "source": [
    "**Aside: ... what's the index of the last entry?**"
   ]
  },
  {
   "cell_type": "code",
   "execution_count": 19,
   "id": "1baf903f",
   "metadata": {},
   "outputs": [
    {
     "data": {
      "text/plain": [
       "'...'"
      ]
     },
     "execution_count": 19,
     "metadata": {},
     "output_type": "execute_result"
    }
   ],
   "source": [
    "hobbies[3]"
   ]
  },
  {
   "cell_type": "code",
   "execution_count": 20,
   "id": "efece34b",
   "metadata": {},
   "outputs": [
    {
     "data": {
      "text/plain": [
       "'...'"
      ]
     },
     "execution_count": 20,
     "metadata": {},
     "output_type": "execute_result"
    }
   ],
   "source": [
    "hobbies[-1]"
   ]
  },
  {
   "cell_type": "markdown",
   "id": "1349d205",
   "metadata": {},
   "source": [
    "### Importing"
   ]
  },
  {
   "cell_type": "markdown",
   "id": "ccfede7a",
   "metadata": {},
   "source": [
    "How would I import a module *called* `statistics` ?"
   ]
  },
  {
   "cell_type": "markdown",
   "id": "13804303",
   "metadata": {},
   "source": [
    "Q. What keyword *imports* a module?"
   ]
  },
  {
   "cell_type": "code",
   "execution_count": 21,
   "id": "70d259e5",
   "metadata": {},
   "outputs": [],
   "source": [
    "import statistics"
   ]
  },
  {
   "cell_type": "markdown",
   "id": "42d1c3f8",
   "metadata": {},
   "source": [
    "Q. How would I alias (rename) the module for convenience, `st`,"
   ]
  },
  {
   "cell_type": "code",
   "execution_count": 22,
   "id": "a4f752f1",
   "metadata": {},
   "outputs": [],
   "source": [
    "import statistics as st"
   ]
  },
  {
   "cell_type": "markdown",
   "id": "344b202c",
   "metadata": {},
   "source": [
    "Q. How would I run the `mean` function ( defined *inside* the `statistics` module)?"
   ]
  },
  {
   "cell_type": "code",
   "execution_count": 25,
   "id": "8b41d0ec",
   "metadata": {},
   "outputs": [],
   "source": [
    "from statistics import mean "
   ]
  },
  {
   "cell_type": "code",
   "execution_count": 26,
   "id": "9ea6881c",
   "metadata": {},
   "outputs": [
    {
     "data": {
      "text/plain": [
       "2"
      ]
     },
     "execution_count": 26,
     "metadata": {},
     "output_type": "execute_result"
    }
   ],
   "source": [
    "mean([1, 2, 3])"
   ]
  },
  {
   "cell_type": "markdown",
   "id": "52d5af79",
   "metadata": {},
   "source": [
    "Suppose that the `statistics` module provides us a *mean* function, "
   ]
  },
  {
   "cell_type": "code",
   "execution_count": 27,
   "id": "370c3dd7",
   "metadata": {},
   "outputs": [
    {
     "data": {
      "text/plain": [
       "2.5"
      ]
     },
     "execution_count": 27,
     "metadata": {},
     "output_type": "execute_result"
    }
   ],
   "source": [
    "statistics.mean([1, 2, 3, 4])"
   ]
  },
  {
   "cell_type": "markdown",
   "id": "a112ec75",
   "metadata": {},
   "source": [
    "`module.fn_part([1, 2,])`\n",
    "\n",
    "`object.method([1, 2, 3])`"
   ]
  },
  {
   "cell_type": "markdown",
   "id": "0b275ca5",
   "metadata": {},
   "source": [
    "### Summarizing Functions"
   ]
  },
  {
   "cell_type": "markdown",
   "id": "4b5d37a0",
   "metadata": {},
   "source": [
    "Q. What built-in functions would help me describe a data-set?"
   ]
  },
  {
   "cell_type": "markdown",
   "id": "df889431",
   "metadata": {},
   "source": [
    "#### Brainstorm... what functions allow us to describe a dataset?\n",
    "\n",
    "* without importing we can use...\n",
    "    * `min`, `max`\n",
    "    * `len`\n",
    "    * `sum`\n",
    "* `statistics`\n",
    "    * `mean`, `mode`, `median`, `stdev`"
   ]
  },
  {
   "cell_type": "markdown",
   "id": "ae0e2a46",
   "metadata": {},
   "source": [
    "#### Function Calling"
   ]
  },
  {
   "cell_type": "markdown",
   "id": "33a4708f",
   "metadata": {},
   "source": [
    "Running `len` (operation, function, behaviour... algorithm) *on* `\"Michael\"`..."
   ]
  },
  {
   "cell_type": "code",
   "execution_count": 29,
   "id": "02502e14",
   "metadata": {},
   "outputs": [
    {
     "data": {
      "text/plain": [
       "7"
      ]
     },
     "execution_count": 29,
     "metadata": {},
     "output_type": "execute_result"
    }
   ],
   "source": [
    "len(\"Michael\")"
   ]
  },
  {
   "cell_type": "markdown",
   "id": "9e59ef3a",
   "metadata": {},
   "source": [
    "... what are the inputs to functions? **Arguments** -- always the input to a function. `input` is a bit ambigious "
   ]
  },
  {
   "cell_type": "markdown",
   "id": "b46fd24c",
   "metadata": {},
   "source": [
    "---"
   ]
  },
  {
   "cell_type": "markdown",
   "id": "7d9a849e",
   "metadata": {},
   "source": [
    "### Challenges (<= 15min)\n",
    "\n",
    "#### 0. Summarizing Data \n",
    "\n",
    "* Create a new notebook in your jupyter application\n",
    "* Consider a problem of your own choosing\n",
    "    * eg., in retail, finance, health, ....\n",
    "    * consider a numerical dataset (ie., a quantitative variable = float)\n",
    "        * define a variable which is a list of numbers with **7** entries\n",
    "    * consider a categorical dataset (ie., a qualitative variable = string)\n",
    "        * define a variable which is a list of string **7** entries\n",
    "* Run the above summary functions on your lists\n",
    "    * construct a statistical report using the syntax & ideas above\n",
    "    * STRETCH: neatly print out the results"
   ]
  },
  {
   "cell_type": "code",
   "execution_count": 111,
   "id": "99e93066",
   "metadata": {},
   "outputs": [],
   "source": [
    "# SOLUTION"
   ]
  },
  {
   "cell_type": "code",
   "execution_count": 32,
   "id": "a8156be0",
   "metadata": {},
   "outputs": [
    {
     "name": "stdout",
     "output_type": "stream",
     "text": [
      "[1.81, 1.75, 1.6] ['London', 'London', 'Leeds']\n"
     ]
    }
   ],
   "source": [
    "measures = [1.81, 1.75, 1.6]\n",
    "labels = [\"London\", \"London\", \"Leeds\"]\n",
    "\n",
    "print(measures, labels)"
   ]
  },
  {
   "cell_type": "code",
   "execution_count": 33,
   "id": "3f25cb2d",
   "metadata": {},
   "outputs": [
    {
     "name": "stdout",
     "output_type": "stream",
     "text": [
      "1.6 London\n"
     ]
    }
   ],
   "source": [
    "print(measures[-1], labels[0])"
   ]
  },
  {
   "cell_type": "code",
   "execution_count": 35,
   "id": "f777734b",
   "metadata": {},
   "outputs": [
    {
     "name": "stdout",
     "output_type": "stream",
     "text": [
      "[15.2, 18.3, 24.3, 26.4, 27.8, 32.2, 35.0]\n",
      "['meh', 'Nice!', 'Bit warm!', 'blooming lovely!', 'Its Hot!', 'Its well Hot!', 'costa del london!']\n",
      "35.0\n",
      "costa del london!\n"
     ]
    }
   ],
   "source": [
    "temp_list = [15.2, 18.3, 24.3, 26.4, 27.8, 32.2, 35.0]\n",
    "print(temp_list)\n",
    "\n",
    "\n",
    "british_sayings = [\"meh\", \"Nice!\", \"Bit warm!\", \"blooming lovely!\", \"Its Hot!\", \"Its well Hot!\",\"costa del london!\"]\n",
    "print(british_sayings)\n",
    "\n",
    "print(max(temp_list))\n",
    "print(british_sayings[6])"
   ]
  },
  {
   "cell_type": "code",
   "execution_count": 37,
   "id": "e21a2665",
   "metadata": {},
   "outputs": [],
   "source": [
    "ages =  [23, 47, 73, 71, 65, 82, 74]\n",
    "locs = [\"London\", \"Leeds\", \"Glasgow\", \"Inverness\", \"London\", \"Chichester\", \"London\"]"
   ]
  },
  {
   "cell_type": "markdown",
   "id": "1248607b",
   "metadata": {},
   "source": [
    "Eliminate duplicates,"
   ]
  },
  {
   "cell_type": "code",
   "execution_count": 42,
   "id": "18c831d9",
   "metadata": {},
   "outputs": [
    {
     "data": {
      "text/plain": [
       "{'Chichester', 'Glasgow', 'Inverness', 'Leeds', 'London'}"
      ]
     },
     "execution_count": 42,
     "metadata": {},
     "output_type": "execute_result"
    }
   ],
   "source": [
    "set( locs )"
   ]
  },
  {
   "cell_type": "code",
   "execution_count": 39,
   "id": "c14ac549",
   "metadata": {},
   "outputs": [],
   "source": [
    "locset = set(locs)"
   ]
  },
  {
   "cell_type": "code",
   "execution_count": 47,
   "id": "3b7139e9",
   "metadata": {},
   "outputs": [
    {
     "name": "stdout",
     "output_type": "stream",
     "text": [
      "\n",
      "run Michael Burgess\n",
      "across  4\n",
      "multiple\n",
      "lines\n",
      "\n"
     ]
    }
   ],
   "source": [
    "print(f\"\"\"\n",
    "run { name }\n",
    "across  { len(hobbies )}\n",
    "multiple\n",
    "lines\n",
    "\"\"\")"
   ]
  },
  {
   "cell_type": "code",
   "execution_count": 48,
   "id": "667f043b",
   "metadata": {},
   "outputs": [
    {
     "name": "stdout",
     "output_type": "stream",
     "text": [
      "The yougest person is 23.\n",
      "        \n",
      "The average age is 62.1.\n",
      "        \n",
      "The median age is 71.\n",
      "        \n",
      "The oldest person is 82.\n",
      "        \n",
      "I've found that the people come from: {'Leeds', 'Inverness', 'London', 'Chichester', 'Glasgow'}.\n"
     ]
    }
   ],
   "source": [
    "import statistics as st\n",
    "\n",
    "print(f\"\"\"The yougest person is {min(ages)}.\n",
    "        \\nThe average age is {round(st.mean(ages), 1)}.\n",
    "        \\nThe median age is {st.median(ages)}.\n",
    "        \\nThe oldest person is {max(ages)}.\n",
    "        \\nI've found that the people come from: {locset}.\"\"\")"
   ]
  },
  {
   "cell_type": "markdown",
   "id": "86c4956f",
   "metadata": {},
   "source": [
    "\n",
    "\n",
    "----\n",
    "safeguarding@decoded.com"
   ]
  },
  {
   "cell_type": "markdown",
   "id": "37a4ecff",
   "metadata": {},
   "source": [
    "---"
   ]
  },
  {
   "cell_type": "markdown",
   "id": "4cac528f",
   "metadata": {},
   "source": [
    "## Part 1: Basic Syntax"
   ]
  },
  {
   "cell_type": "markdown",
   "id": "84049ad4",
   "metadata": {},
   "source": [
    "## Dictionary"
   ]
  },
  {
   "cell_type": "code",
   "execution_count": 51,
   "id": "bc7f05b2",
   "metadata": {},
   "outputs": [],
   "source": [
    "record = {\n",
    "    \"TitleOfBook\": \"Contents\",\n",
    "    \n",
    "}"
   ]
  },
  {
   "cell_type": "markdown",
   "id": "75a4e397",
   "metadata": {},
   "source": [
    "### Lists"
   ]
  },
  {
   "cell_type": "markdown",
   "id": "53b68777",
   "metadata": {},
   "source": [
    "Lists are **defined** with square brackets,"
   ]
  },
  {
   "cell_type": "code",
   "execution_count": 50,
   "id": "2b2c5d6c",
   "metadata": {},
   "outputs": [],
   "source": [
    "names = [\"Michael\", \"Sherlock\"] # [  ,  ]"
   ]
  },
  {
   "cell_type": "markdown",
   "id": "7ccd1ef3",
   "metadata": {},
   "source": [
    "Q. ...where else do we use square brackets?"
   ]
  },
  {
   "cell_type": "code",
   "execution_count": 53,
   "id": "914e7119",
   "metadata": {},
   "outputs": [
    {
     "data": {
      "text/plain": [
       "'Michael'"
      ]
     },
     "execution_count": 53,
     "metadata": {},
     "output_type": "execute_result"
    }
   ],
   "source": [
    "names[0] #  variable_name[  index   ] "
   ]
  },
  {
   "cell_type": "markdown",
   "id": "a2020a78",
   "metadata": {},
   "source": [
    "Q. How do you add elements to a list?"
   ]
  },
  {
   "cell_type": "code",
   "execution_count": 56,
   "id": "898248b2",
   "metadata": {},
   "outputs": [],
   "source": [
    "names.extend([\n",
    "    \"Watson\", \n",
    "    \"Irene\"\n",
    "])"
   ]
  },
  {
   "cell_type": "code",
   "execution_count": 57,
   "id": "b9c7bef5",
   "metadata": {},
   "outputs": [
    {
     "data": {
      "text/plain": [
       "['Michael', 'Sherlock', 'Watson', 'Irene', 'Watson', 'Irene']"
      ]
     },
     "execution_count": 57,
     "metadata": {},
     "output_type": "execute_result"
    }
   ],
   "source": [
    "names"
   ]
  },
  {
   "cell_type": "code",
   "execution_count": 59,
   "id": "fc1ad946",
   "metadata": {},
   "outputs": [],
   "source": [
    "names.append(\"Hound\")"
   ]
  },
  {
   "cell_type": "code",
   "execution_count": 60,
   "id": "acb5fba0",
   "metadata": {},
   "outputs": [
    {
     "data": {
      "text/plain": [
       "['Michael', 'Sherlock', 'Watson', 'Irene', 'Watson', 'Irene', 'Hound']"
      ]
     },
     "execution_count": 60,
     "metadata": {},
     "output_type": "execute_result"
    }
   ],
   "source": [
    "names"
   ]
  },
  {
   "cell_type": "markdown",
   "id": "4aa1531a",
   "metadata": {},
   "source": [
    "Q. How do you add an element *at a position*?"
   ]
  },
  {
   "cell_type": "code",
   "execution_count": 67,
   "id": "dbbba64c",
   "metadata": {},
   "outputs": [],
   "source": [
    "names.insert(0, \"Alice\")"
   ]
  },
  {
   "cell_type": "code",
   "execution_count": 68,
   "id": "a716950d",
   "metadata": {},
   "outputs": [
    {
     "data": {
      "text/plain": [
       "['Alice',\n",
       " 'Alice',\n",
       " 'Alice',\n",
       " 'Alice',\n",
       " 'Alice',\n",
       " 'Michael',\n",
       " 'Sherlock',\n",
       " 'Watson',\n",
       " 'Irene',\n",
       " 'Watson',\n",
       " 'Irene',\n",
       " 'Hound']"
      ]
     },
     "execution_count": 68,
     "metadata": {},
     "output_type": "execute_result"
    }
   ],
   "source": [
    "names"
   ]
  },
  {
   "cell_type": "markdown",
   "id": "d131b021",
   "metadata": {},
   "source": [
    "Q. How do you count the number of entires which match a given value?"
   ]
  },
  {
   "cell_type": "code",
   "execution_count": 69,
   "id": "f7bfabe5",
   "metadata": {},
   "outputs": [
    {
     "data": {
      "text/plain": [
       "5"
      ]
     },
     "execution_count": 69,
     "metadata": {},
     "output_type": "execute_result"
    }
   ],
   "source": [
    "names.count(\"Alice\")"
   ]
  },
  {
   "cell_type": "markdown",
   "id": "542d0d5f",
   "metadata": {},
   "source": [
    "In the syntax `o.m()` we refer to the dataset `o` as an *object* and the operation which is applied to the data, a *method*. "
   ]
  },
  {
   "cell_type": "markdown",
   "id": "51fd563a",
   "metadata": {},
   "source": [
    "---"
   ]
  },
  {
   "cell_type": "markdown",
   "id": "0331ac8e",
   "metadata": {},
   "source": [
    "### Syntax Errors"
   ]
  },
  {
   "cell_type": "markdown",
   "id": "368a56c3",
   "metadata": {},
   "source": [
    "##### Equality & Assignment"
   ]
  },
  {
   "cell_type": "markdown",
   "id": "8c6814de",
   "metadata": {},
   "source": [
    "* $ 3 = 1 + 4 $\n",
    "* $1 + 4 = 3$"
   ]
  },
  {
   "cell_type": "markdown",
   "id": "e516466f",
   "metadata": {},
   "source": [
    "Q. What is the symbol for equality?"
   ]
  },
  {
   "cell_type": "code",
   "execution_count": 70,
   "id": "b85c8ebd",
   "metadata": {},
   "outputs": [],
   "source": [
    "name = \"Michael\""
   ]
  },
  {
   "cell_type": "code",
   "execution_count": 71,
   "id": "f7e422ee",
   "metadata": {},
   "outputs": [
    {
     "ename": "SyntaxError",
     "evalue": "cannot assign to literal (2134918280.py, line 1)",
     "output_type": "error",
     "traceback": [
      "\u001b[0;36m  Input \u001b[0;32mIn [71]\u001b[0;36m\u001b[0m\n\u001b[0;31m    \"Michael\" = name\u001b[0m\n\u001b[0m    ^\u001b[0m\n\u001b[0;31mSyntaxError\u001b[0m\u001b[0;31m:\u001b[0m cannot assign to literal\n"
     ]
    }
   ],
   "source": [
    "\"Michael\" = name"
   ]
  },
  {
   "cell_type": "code",
   "execution_count": 72,
   "id": "1517644d",
   "metadata": {},
   "outputs": [
    {
     "data": {
      "text/plain": [
       "True"
      ]
     },
     "execution_count": 72,
     "metadata": {},
     "output_type": "execute_result"
    }
   ],
   "source": [
    "name == \"Michael\""
   ]
  },
  {
   "cell_type": "markdown",
   "id": "be6535ce",
   "metadata": {},
   "source": [
    "##### Quotes"
   ]
  },
  {
   "cell_type": "code",
   "execution_count": 73,
   "id": "0370818a",
   "metadata": {},
   "outputs": [
    {
     "data": {
      "text/plain": [
       "'helllo'"
      ]
     },
     "execution_count": 73,
     "metadata": {},
     "output_type": "execute_result"
    }
   ],
   "source": [
    "\"helllo\""
   ]
  },
  {
   "cell_type": "code",
   "execution_count": 74,
   "id": "57aa48cc",
   "metadata": {},
   "outputs": [
    {
     "data": {
      "text/plain": [
       "'the same thing'"
      ]
     },
     "execution_count": 74,
     "metadata": {},
     "output_type": "execute_result"
    }
   ],
   "source": [
    "'the same thing'"
   ]
  },
  {
   "cell_type": "code",
   "execution_count": 75,
   "id": "58739775",
   "metadata": {},
   "outputs": [
    {
     "data": {
      "text/plain": [
       "\"that's all folks!\""
      ]
     },
     "execution_count": 75,
     "metadata": {},
     "output_type": "execute_result"
    }
   ],
   "source": [
    "\"that's all folks!\""
   ]
  },
  {
   "cell_type": "code",
   "execution_count": 76,
   "id": "4a388cda",
   "metadata": {},
   "outputs": [],
   "source": [
    "# 'that's all folks!'"
   ]
  },
  {
   "cell_type": "code",
   "execution_count": 78,
   "id": "ea63234a",
   "metadata": {},
   "outputs": [
    {
     "name": "stdout",
     "output_type": "stream",
     "text": [
      " \n",
      "write \n",
      "on multiple\n",
      "lines\n",
      "\n"
     ]
    }
   ],
   "source": [
    "print(\"\"\" \n",
    "write \n",
    "on multiple\n",
    "lines\n",
    "\"\"\")"
   ]
  },
  {
   "cell_type": "markdown",
   "id": "5c6f8ec1",
   "metadata": {},
   "source": [
    "##### Brackets"
   ]
  },
  {
   "cell_type": "markdown",
   "id": "c4bd0d5b",
   "metadata": {},
   "source": [
    "* `()` parentheses\n",
    "* `[]` square brackets\n",
    "* `{}` braces"
   ]
  },
  {
   "cell_type": "markdown",
   "id": "5b36c78f",
   "metadata": {},
   "source": [
    "When asking for help, we dont run the function, we just use the name,"
   ]
  },
  {
   "cell_type": "code",
   "execution_count": 81,
   "id": "99ac8be6",
   "metadata": {},
   "outputs": [
    {
     "name": "stdout",
     "output_type": "stream",
     "text": [
      "Help on built-in function len in module builtins:\n",
      "\n",
      "len(obj, /)\n",
      "    Return the number of items in a container.\n",
      "\n"
     ]
    }
   ],
   "source": [
    "help(len)"
   ]
  },
  {
   "cell_type": "code",
   "execution_count": 79,
   "id": "d930965d",
   "metadata": {},
   "outputs": [
    {
     "data": {
      "text/plain": [
       "7"
      ]
     },
     "execution_count": 79,
     "metadata": {},
     "output_type": "execute_result"
    }
   ],
   "source": [
    "len(\"Michael\")"
   ]
  },
  {
   "cell_type": "markdown",
   "id": "1943af11",
   "metadata": {},
   "source": [
    "Mathematical grouping,"
   ]
  },
  {
   "cell_type": "code",
   "execution_count": 83,
   "id": "cd188f79",
   "metadata": {},
   "outputs": [
    {
     "data": {
      "text/plain": [
       "5"
      ]
     },
     "execution_count": 83,
     "metadata": {},
     "output_type": "execute_result"
    }
   ],
   "source": [
    "2 + 1*3"
   ]
  },
  {
   "cell_type": "code",
   "execution_count": 82,
   "id": "98b4c957",
   "metadata": {},
   "outputs": [
    {
     "data": {
      "text/plain": [
       "9"
      ]
     },
     "execution_count": 82,
     "metadata": {},
     "output_type": "execute_result"
    }
   ],
   "source": [
    "(2 + 1) * 3"
   ]
  },
  {
   "cell_type": "markdown",
   "id": "4bf1ae8d",
   "metadata": {},
   "source": [
    "### Comparisons & Tests"
   ]
  },
  {
   "cell_type": "code",
   "execution_count": 84,
   "id": "a6959acd",
   "metadata": {},
   "outputs": [],
   "source": [
    "age = 33"
   ]
  },
  {
   "cell_type": "markdown",
   "id": "6e40bff8",
   "metadata": {},
   "source": [
    "Q. What would I write to determine if i were: an adult?"
   ]
  },
  {
   "cell_type": "code",
   "execution_count": 87,
   "id": "b3fd0ded",
   "metadata": {},
   "outputs": [
    {
     "data": {
      "text/plain": [
       "True"
      ]
     },
     "execution_count": 87,
     "metadata": {},
     "output_type": "execute_result"
    }
   ],
   "source": [
    "age >= 18 # symbols"
   ]
  },
  {
   "cell_type": "markdown",
   "id": "de0f78b2",
   "metadata": {},
   "source": [
    "Q. How would I determine if my name starts with an `M` ?"
   ]
  },
  {
   "cell_type": "code",
   "execution_count": 88,
   "id": "1719ddd9",
   "metadata": {},
   "outputs": [
    {
     "data": {
      "text/plain": [
       "True"
      ]
     },
     "execution_count": 88,
     "metadata": {},
     "output_type": "execute_result"
    }
   ],
   "source": [
    "name.startswith(\"M\") # method"
   ]
  },
  {
   "cell_type": "code",
   "execution_count": 89,
   "id": "342c4981",
   "metadata": {},
   "outputs": [
    {
     "data": {
      "text/plain": [
       "True"
      ]
     },
     "execution_count": 89,
     "metadata": {},
     "output_type": "execute_result"
    }
   ],
   "source": [
    "\"Michael\".endswith(\"l\")"
   ]
  },
  {
   "cell_type": "markdown",
   "id": "4c527378",
   "metadata": {},
   "source": [
    "Q. How would I determine if my age is an odd number?"
   ]
  },
  {
   "cell_type": "code",
   "execution_count": 97,
   "id": "01c249bc",
   "metadata": {},
   "outputs": [
    {
     "data": {
      "text/plain": [
       "False"
      ]
     },
     "execution_count": 97,
     "metadata": {},
     "output_type": "execute_result"
    }
   ],
   "source": [
    "age % 2 == 0 #even"
   ]
  },
  {
   "cell_type": "code",
   "execution_count": 98,
   "id": "aa2a6f38",
   "metadata": {},
   "outputs": [
    {
     "data": {
      "text/plain": [
       "True"
      ]
     },
     "execution_count": 98,
     "metadata": {},
     "output_type": "execute_result"
    }
   ],
   "source": [
    "age % 2 != 0 #odd"
   ]
  },
  {
   "cell_type": "code",
   "execution_count": 100,
   "id": "6f147aa0",
   "metadata": {},
   "outputs": [
    {
     "data": {
      "text/plain": [
       "True"
      ]
     },
     "execution_count": 100,
     "metadata": {},
     "output_type": "execute_result"
    }
   ],
   "source": [
    "not ( age % 2 == 0 )"
   ]
  },
  {
   "cell_type": "markdown",
   "id": "e6ff176a",
   "metadata": {},
   "source": [
    "### Logical Combinations of Comparisons (Tests)"
   ]
  },
  {
   "cell_type": "markdown",
   "id": "7e22dcd7",
   "metadata": {},
   "source": [
    "* calculate\n",
    "* logic\n",
    "    * and\n",
    "    * not \n",
    "    * or"
   ]
  },
  {
   "cell_type": "markdown",
   "id": "bea1d304",
   "metadata": {},
   "source": [
    "We can ask for *both* conditions to be true,"
   ]
  },
  {
   "cell_type": "code",
   "execution_count": 103,
   "id": "60082e03",
   "metadata": {},
   "outputs": [
    {
     "data": {
      "text/plain": [
       "False"
      ]
     },
     "execution_count": 103,
     "metadata": {},
     "output_type": "execute_result"
    }
   ],
   "source": [
    "(age < 30) and (name.startswith(\"M\"))"
   ]
  },
  {
   "cell_type": "markdown",
   "id": "36287875",
   "metadata": {},
   "source": [
    "Or either,"
   ]
  },
  {
   "cell_type": "code",
   "execution_count": 105,
   "id": "a801ea6c",
   "metadata": {},
   "outputs": [
    {
     "data": {
      "text/plain": [
       "True"
      ]
     },
     "execution_count": 105,
     "metadata": {},
     "output_type": "execute_result"
    }
   ],
   "source": [
    "(age < 30) or (name.startswith(\"M\"))"
   ]
  },
  {
   "cell_type": "markdown",
   "id": "65869be9",
   "metadata": {},
   "source": [
    "Or that they arent true,"
   ]
  },
  {
   "cell_type": "code",
   "execution_count": 107,
   "id": "84e65fc1",
   "metadata": {},
   "outputs": [
    {
     "data": {
      "text/plain": [
       "False"
      ]
     },
     "execution_count": 107,
     "metadata": {},
     "output_type": "execute_result"
    }
   ],
   "source": [
    "not ( (age < 30) or (name.startswith(\"M\")) )"
   ]
  },
  {
   "cell_type": "code",
   "execution_count": 108,
   "id": "fb53e52a",
   "metadata": {},
   "outputs": [
    {
     "data": {
      "text/plain": [
       "False"
      ]
     },
     "execution_count": 108,
     "metadata": {},
     "output_type": "execute_result"
    }
   ],
   "source": [
    "not (age > 18)"
   ]
  },
  {
   "cell_type": "markdown",
   "id": "015382b1",
   "metadata": {},
   "source": [
    "### Decision-Making"
   ]
  },
  {
   "cell_type": "markdown",
   "id": "d994689b",
   "metadata": {},
   "source": [
    "Q. What are the other keywords I can use to specialize or expand an `if`?"
   ]
  },
  {
   "cell_type": "markdown",
   "id": "3bb0cda1",
   "metadata": {},
   "source": [
    "three keywords that enable us to define decision-making..."
   ]
  },
  {
   "cell_type": "markdown",
   "id": "ef83e115",
   "metadata": {},
   "source": [
    "```python\n",
    "if test1:\n",
    "    action1 # GROUP\n",
    "    action2 # GROUP\n",
    "    action3 # GROUP\n",
    "elif test2:\n",
    "    action4\n",
    "    action5\n",
    "elif test3:\n",
    "    ...\n",
    "else:\n",
    "    action99\n",
    "```"
   ]
  },
  {
   "cell_type": "markdown",
   "id": "7371311a",
   "metadata": {},
   "source": [
    "Q. why, in python, do we indent code?"
   ]
  },
  {
   "cell_type": "markdown",
   "id": "838d0b27",
   "metadata": {},
   "source": [
    "Only one group of statements is performed, statements are *grouped* using indentation *whitespace*,"
   ]
  },
  {
   "cell_type": "markdown",
   "id": "7dcf8f0d",
   "metadata": {},
   "source": [
    "Note, `else` and other clauses are optional,"
   ]
  },
  {
   "cell_type": "code",
   "execution_count": 111,
   "id": "0bd7d068",
   "metadata": {},
   "outputs": [
    {
     "data": {
      "text/plain": [
       "['meh',\n",
       " 'Nice!',\n",
       " 'Bit warm!',\n",
       " 'blooming lovely!',\n",
       " 'Its Hot!',\n",
       " 'Its well Hot!',\n",
       " 'costa del london!']"
      ]
     },
     "execution_count": 111,
     "metadata": {},
     "output_type": "execute_result"
    }
   ],
   "source": [
    "british_sayings"
   ]
  },
  {
   "cell_type": "code",
   "execution_count": 112,
   "id": "e671cf32",
   "metadata": {},
   "outputs": [
    {
     "data": {
      "text/plain": [
       "['London', 'Leeds', 'Glasgow', 'Inverness', 'London', 'Chichester', 'London']"
      ]
     },
     "execution_count": 112,
     "metadata": {},
     "output_type": "execute_result"
    }
   ],
   "source": [
    "locs"
   ]
  },
  {
   "cell_type": "code",
   "execution_count": 116,
   "id": "2d82a21b",
   "metadata": {},
   "outputs": [
    {
     "name": "stdout",
     "output_type": "stream",
     "text": [
      "AWWWRIGHT M8\n",
      "AWWWRIGHT M8\n",
      "AWWWRIGHT M8\n"
     ]
    }
   ],
   "source": [
    "#   meh....\n",
    "#        False\n",
    "#                                       London  ...\n",
    "#                                               True\n",
    "#   False and True\n",
    "#   False\n",
    "if british_sayings[0].endswith(\"!\") or locs[0] == \"London\":\n",
    "    print(\"AWWWRIGHT M8\")\n",
    "    print(\"AWWWRIGHT M8\")\n",
    "    print(\"AWWWRIGHT M8\")\n",
    "elif british_sayings[1].endswith(\"!\"): # True\n",
    "    print(locs[1]) # second\n",
    "else:\n",
    "    print(\"Hmm, how'dy partner!\")"
   ]
  },
  {
   "cell_type": "markdown",
   "id": "6ae2e406",
   "metadata": {},
   "source": [
    "Q. using logical keywords only (not, and, or) how could i modify the first condition so that it passe?"
   ]
  },
  {
   "cell_type": "code",
   "execution_count": 117,
   "id": "08c5c1cf",
   "metadata": {},
   "outputs": [
    {
     "ename": "SyntaxError",
     "evalue": "invalid syntax (35455971.py, line 1)",
     "output_type": "error",
     "traceback": [
      "\u001b[0;36m  Input \u001b[0;32mIn [117]\u001b[0;36m\u001b[0m\n\u001b[0;31m    name = # \"Michael\"\u001b[0m\n\u001b[0m           ^\u001b[0m\n\u001b[0;31mSyntaxError\u001b[0m\u001b[0;31m:\u001b[0m invalid syntax\n"
     ]
    }
   ],
   "source": [
    "name = # \"Michael\""
   ]
  },
  {
   "cell_type": "code",
   "execution_count": 118,
   "id": "deab9738",
   "metadata": {},
   "outputs": [],
   "source": [
    "# on their own line\n",
    "name = \"Michael\" # end of line"
   ]
  },
  {
   "cell_type": "markdown",
   "id": "8b49c101",
   "metadata": {},
   "source": [
    "---"
   ]
  },
  {
   "cell_type": "markdown",
   "id": "21432b0a",
   "metadata": {},
   "source": [
    "### Challenges "
   ]
  },
  {
   "cell_type": "markdown",
   "id": "1138f4ff",
   "metadata": {},
   "source": [
    "* copy the code to your own notebook\n",
    "    * and complete the challenge"
   ]
  },
  {
   "cell_type": "markdown",
   "id": "dbbb9057-9c1d-456e-a76c-0bf7ca0de67a",
   "metadata": {
    "tags": []
   },
   "source": [
    "#### Challenge 1a. Syntax Errors"
   ]
  },
  {
   "cell_type": "markdown",
   "id": "4e9c7d9a-13c9-43ce-964e-68195de688e2",
   "metadata": {},
   "source": [
    "Fix the syntax in the following example,"
   ]
  },
  {
   "cell_type": "code",
   "execution_count": 93,
   "id": "0ca1d60e-aff0-4db0-8501-472e13e4242a",
   "metadata": {},
   "outputs": [
    {
     "ename": "SyntaxError",
     "evalue": "invalid syntax (924352493.py, line 1)",
     "output_type": "error",
     "traceback": [
      "\u001b[0;36m  Input \u001b[0;32mIn [93]\u001b[0;36m\u001b[0m\n\u001b[0;31m    prices = [2, 4, 6 8)\u001b[0m\n\u001b[0m                      ^\u001b[0m\n\u001b[0;31mSyntaxError\u001b[0m\u001b[0;31m:\u001b[0m invalid syntax\n"
     ]
    }
   ],
   "source": [
    "ages = [12, 41, 61 18)\n",
    "\n",
    "print(len[ages])\n",
    "print(ages[-1])"
   ]
  },
  {
   "cell_type": "markdown",
   "id": "509433c5-4f8f-472d-bc3f-ab0ce1395ad6",
   "metadata": {},
   "source": [
    "**Solution**"
   ]
  },
  {
   "cell_type": "code",
   "execution_count": null,
   "id": "f6f25142-5118-4786-9645-d99cb96aa501",
   "metadata": {},
   "outputs": [],
   "source": [
    "# SOLUTION"
   ]
  },
  {
   "cell_type": "code",
   "execution_count": 119,
   "id": "d677d5c0",
   "metadata": {},
   "outputs": [
    {
     "name": "stdout",
     "output_type": "stream",
     "text": [
      "4\n",
      "18\n"
     ]
    }
   ],
   "source": [
    "ages = [12, 41, 61, 18]\n",
    "\n",
    "print(len(ages)) # parentheses\n",
    "print(ages[-1])"
   ]
  },
  {
   "cell_type": "markdown",
   "id": "c2bd98bb-b172-4a41-b2f2-a97b74f42a9e",
   "metadata": {},
   "source": [
    "#### Challenge 1b. Comparisons & Tests: Odd Numbers"
   ]
  },
  {
   "cell_type": "code",
   "execution_count": 121,
   "id": "e6df2f29-539a-4aa2-b061-8b6565daf774",
   "metadata": {},
   "outputs": [],
   "source": [
    "prices = [1, 3, 4, 5, 9]"
   ]
  },
  {
   "cell_type": "markdown",
   "id": "2604833f-551c-499e-b8b4-8767e37a8602",
   "metadata": {},
   "source": [
    "Select the first price,"
   ]
  },
  {
   "cell_type": "code",
   "execution_count": 122,
   "id": "d71a99f5-ace2-4aa1-9198-c1677624c8a5",
   "metadata": {},
   "outputs": [],
   "source": [
    "# SOLUTION"
   ]
  },
  {
   "cell_type": "code",
   "execution_count": 123,
   "id": "050de4ae",
   "metadata": {},
   "outputs": [
    {
     "data": {
      "text/plain": [
       "1"
      ]
     },
     "execution_count": 123,
     "metadata": {},
     "output_type": "execute_result"
    }
   ],
   "source": [
    "prices[0]"
   ]
  },
  {
   "cell_type": "markdown",
   "id": "6fb65e22-7bd0-4661-aabf-96bbf26db4ad",
   "metadata": {},
   "source": [
    "Determine if the price is odd"
   ]
  },
  {
   "cell_type": "code",
   "execution_count": null,
   "id": "f1e59df3-2f6f-45a7-92f7-7899bc074b7e",
   "metadata": {},
   "outputs": [],
   "source": [
    "# SOLUTION"
   ]
  },
  {
   "cell_type": "code",
   "execution_count": 127,
   "id": "7323c899",
   "metadata": {},
   "outputs": [
    {
     "data": {
      "text/plain": [
       "True"
      ]
     },
     "execution_count": 127,
     "metadata": {},
     "output_type": "execute_result"
    }
   ],
   "source": [
    "prices[0] %2 != 0"
   ]
  },
  {
   "cell_type": "code",
   "execution_count": 125,
   "id": "32446c76",
   "metadata": {},
   "outputs": [
    {
     "data": {
      "text/plain": [
       "True"
      ]
     },
     "execution_count": 125,
     "metadata": {},
     "output_type": "execute_result"
    }
   ],
   "source": [
    "prices[0] %2 == 1"
   ]
  },
  {
   "cell_type": "markdown",
   "id": "55630e57-d6c2-4838-b77f-a9601c0646f5",
   "metadata": {},
   "source": [
    "#### Challenge 1c. Comparisons & Tests: Prefixes"
   ]
  },
  {
   "cell_type": "code",
   "execution_count": 128,
   "id": "f5139e6e-0e7a-469c-901f-721ed7a71345",
   "metadata": {},
   "outputs": [],
   "source": [
    "address = \"London, United Kingdom\""
   ]
  },
  {
   "cell_type": "markdown",
   "id": "bf3d6416-c3b5-4faa-825b-f559c540a637",
   "metadata": {},
   "source": [
    "Using `.startswith` and `.endswith`, determine if the address starts with \"London\" and ends with \"Texas\","
   ]
  },
  {
   "cell_type": "code",
   "execution_count": 129,
   "id": "3c8a8492-c29c-45b3-ac8e-e9c7262e0a14",
   "metadata": {},
   "outputs": [],
   "source": [
    "# SOLUTION"
   ]
  },
  {
   "cell_type": "code",
   "execution_count": 133,
   "id": "8df28897",
   "metadata": {},
   "outputs": [
    {
     "data": {
      "text/plain": [
       "False"
      ]
     },
     "execution_count": 133,
     "metadata": {},
     "output_type": "execute_result"
    }
   ],
   "source": [
    "address.startswith(\"London\")   and    address.endswith(\"Texas\")"
   ]
  },
  {
   "cell_type": "markdown",
   "id": "990808fa-f300-4701-98c3-bce48f209f8e",
   "metadata": {},
   "source": [
    "#### Challenge 1d. Decision-Making"
   ]
  },
  {
   "cell_type": "markdown",
   "id": "ef77db96-5773-4197-be1f-6d277fbd05fd",
   "metadata": {},
   "source": [
    "* If the address starts with \"London\" *and* ends with \"United Kingdom\", print \"Welcome to the UK capital!\".\n",
    "* Otherwise if it ends with \"Texas\", print \"Welcome to Kimble!\"\n",
    "* Otherwise, print \"Hi, wherever you are!\""
   ]
  },
  {
   "cell_type": "code",
   "execution_count": 134,
   "id": "70d59972-be7c-4e1d-8617-ce77f552bcd6",
   "metadata": {},
   "outputs": [],
   "source": [
    "# SOLUTION"
   ]
  },
  {
   "cell_type": "code",
   "execution_count": 135,
   "id": "db0c1181",
   "metadata": {},
   "outputs": [
    {
     "name": "stdout",
     "output_type": "stream",
     "text": [
      "Welcome to the UK\n"
     ]
    }
   ],
   "source": [
    "if address.startswith(\"London\")   and    address.endswith(\"United Kingdom\"):\n",
    "    print(\"Welcome to the UK\")\n",
    "elif address.endswith(\"Texas\"):\n",
    "    print(\"...\")\n",
    "else:\n",
    "    print(\"...\")"
   ]
  },
  {
   "cell_type": "markdown",
   "id": "a4481ca0-c08a-4ee5-81ba-ee25e08ad90e",
   "metadata": {},
   "source": [
    "If you get a working if/else, great... the actual solution doesnt matter,"
   ]
  },
  {
   "cell_type": "markdown",
   "id": "3997444a-434b-4ed4-a914-35817de97688",
   "metadata": {
    "tags": []
   },
   "source": [
    "#### Challenge 1e. STRETCH CHALLENGE\n",
    "\n",
    "If you finish the above challenges quickly, modify your summary report (completed earlier) and use various tests and decision-making syntax (if, else, etc.) to expand the report. (Eg., test the means, modes, ...)"
   ]
  },
  {
   "cell_type": "markdown",
   "id": "048fc501",
   "metadata": {},
   "source": [
    "---"
   ]
  },
  {
   "cell_type": "markdown",
   "id": "94cf8d5c",
   "metadata": {},
   "source": [
    "## Part 2: Looping "
   ]
  },
  {
   "cell_type": "code",
   "execution_count": 141,
   "id": "a3700759",
   "metadata": {},
   "outputs": [
    {
     "data": {
      "text/plain": [
       "['London', 'Leeds', 'Glasgow', 'Inverness', 'London', 'Chichester', 'London']"
      ]
     },
     "execution_count": 141,
     "metadata": {},
     "output_type": "execute_result"
    }
   ],
   "source": [
    "locs"
   ]
  },
  {
   "cell_type": "markdown",
   "id": "6a0eb874",
   "metadata": {},
   "source": [
    "#### Looping"
   ]
  },
  {
   "cell_type": "markdown",
   "id": "b7620771",
   "metadata": {},
   "source": [
    "Q. How do I apply an operation to *every* entry? (What's the *keyword*...)"
   ]
  },
  {
   "cell_type": "code",
   "execution_count": 142,
   "id": "73682c69",
   "metadata": {},
   "outputs": [
    {
     "name": "stdout",
     "output_type": "stream",
     "text": [
      "London\n",
      "Leeds\n",
      "Glasgow\n",
      "Inverness\n",
      "London\n",
      "Chichester\n",
      "London\n"
     ]
    }
   ],
   "source": [
    "for l in locs:\n",
    "    print(l)"
   ]
  },
  {
   "cell_type": "markdown",
   "id": "524bc103",
   "metadata": {},
   "source": [
    "Recall, indentation is important."
   ]
  },
  {
   "cell_type": "markdown",
   "id": "6ee14ea3",
   "metadata": {},
   "source": [
    "### Reading Loops\n",
    "\n",
    "How do you *read* this syntax? What does it do?\n",
    "\n",
    "```\n",
    "`for` each entry, call it `l`, `in` the `locs` list:\n",
    "    REPEAT:\n",
    "        print(l)\n",
    "\n",
    "```\n",
    "\n",
    "```python\n",
    "\n",
    "\n",
    "for l in locs:\n",
    "    print(l)\n",
    "    \n",
    "    \n",
    "```"
   ]
  },
  {
   "cell_type": "markdown",
   "id": "925b73a1",
   "metadata": {},
   "source": [
    "#### Looping & Filtering"
   ]
  },
  {
   "cell_type": "markdown",
   "id": "bdabcb5f",
   "metadata": {},
   "source": [
    "Q. How do I filter elements of data in a dataset, as I loop over them?"
   ]
  },
  {
   "cell_type": "code",
   "execution_count": 150,
   "id": "1cfec3bd",
   "metadata": {},
   "outputs": [
    {
     "data": {
      "text/plain": [
       "['London', 'Leeds', 'Glasgow', 'Inverness', 'London', 'Chichester', 'London']"
      ]
     },
     "execution_count": 150,
     "metadata": {},
     "output_type": "execute_result"
    }
   ],
   "source": [
    "locs"
   ]
  },
  {
   "cell_type": "code",
   "execution_count": 153,
   "id": "a092905c",
   "metadata": {},
   "outputs": [
    {
     "data": {
      "text/plain": [
       "'LONDON'"
      ]
     },
     "execution_count": 153,
     "metadata": {},
     "output_type": "execute_result"
    }
   ],
   "source": [
    "\"London\".upper()"
   ]
  },
  {
   "cell_type": "code",
   "execution_count": 156,
   "id": "931ee296",
   "metadata": {},
   "outputs": [
    {
     "data": {
      "text/plain": [
       "True"
      ]
     },
     "execution_count": 156,
     "metadata": {},
     "output_type": "execute_result"
    }
   ],
   "source": [
    "\"london\".upper().startswith(\"L\")"
   ]
  },
  {
   "cell_type": "code",
   "execution_count": 146,
   "id": "a2060cfb",
   "metadata": {},
   "outputs": [
    {
     "name": "stdout",
     "output_type": "stream",
     "text": [
      "London\n",
      "Leeds\n",
      "London\n",
      "London\n"
     ]
    }
   ],
   "source": [
    "for l in locs:\n",
    "    if l.startswith(\"L\"):\n",
    "        print(l)"
   ]
  },
  {
   "cell_type": "code",
   "execution_count": 160,
   "id": "8f88ff9c",
   "metadata": {},
   "outputs": [
    {
     "data": {
      "text/plain": [
       "13"
      ]
     },
     "execution_count": 160,
     "metadata": {},
     "output_type": "execute_result"
    }
   ],
   "source": [
    "(2 * 3) + 7"
   ]
  },
  {
   "cell_type": "code",
   "execution_count": 161,
   "id": "80116b8a",
   "metadata": {},
   "outputs": [
    {
     "name": "stdout",
     "output_type": "stream",
     "text": [
      "London\n",
      "Leeds\n",
      "London\n",
      "London\n"
     ]
    }
   ],
   "source": [
    "for l in locs:\n",
    "    if l.lower().startswith(\"l\"):\n",
    "        print(l)"
   ]
  },
  {
   "cell_type": "code",
   "execution_count": 164,
   "id": "bcc1d464",
   "metadata": {},
   "outputs": [
    {
     "data": {
      "text/plain": [
       "True"
      ]
     },
     "execution_count": 164,
     "metadata": {},
     "output_type": "execute_result"
    }
   ],
   "source": [
    "\"London\".startswith(\"L\")"
   ]
  },
  {
   "cell_type": "code",
   "execution_count": 166,
   "id": "89aa3cc7",
   "metadata": {},
   "outputs": [
    {
     "data": {
      "text/plain": [
       "True"
      ]
     },
     "execution_count": 166,
     "metadata": {},
     "output_type": "execute_result"
    }
   ],
   "source": [
    "(\"Michael\".lower()).startswith(\"m\")"
   ]
  },
  {
   "cell_type": "markdown",
   "id": "3a33d295",
   "metadata": {},
   "source": [
    "### Further Examples of Looping: Counting"
   ]
  },
  {
   "cell_type": "markdown",
   "id": "eff8584b",
   "metadata": {},
   "source": [
    "---"
   ]
  },
  {
   "cell_type": "markdown",
   "id": "cf5f8e84",
   "metadata": {},
   "source": [
    "### Challenges"
   ]
  },
  {
   "cell_type": "markdown",
   "id": "08a7caf0",
   "metadata": {},
   "source": [
    "#### Challenge 2a. Looping: Even Numbers"
   ]
  },
  {
   "cell_type": "markdown",
   "id": "63917238",
   "metadata": {},
   "source": [
    "* define `dinner_guests` in which each entry represents a group arriving for dinner at a restaurant\n",
    "* print() each number which is even\n",
    "    * aside: why would a restaurant want to know which groups were even?\n",
    "    * possible answer: seating, table arragement, etc."
   ]
  },
  {
   "cell_type": "code",
   "execution_count": 107,
   "id": "3ef354f9",
   "metadata": {},
   "outputs": [],
   "source": [
    "# SOLUTION"
   ]
  },
  {
   "cell_type": "code",
   "execution_count": 137,
   "id": "29f1153e",
   "metadata": {},
   "outputs": [
    {
     "name": "stdout",
     "output_type": "stream",
     "text": [
      "2\n",
      "3\n",
      "4\n",
      "5\n"
     ]
    }
   ],
   "source": [
    "dinner_guests = [2, 3, 4, 5]\n",
    "\n",
    "\n",
    "# guest = dinner_guests[0]\n",
    "#  print(guest)\n",
    "\n",
    "# guest = dinner_guests[1]\n",
    "#  print(guest)\n",
    "\n",
    "for guest in dinner_guests:\n",
    "    print(guest)"
   ]
  },
  {
   "cell_type": "code",
   "execution_count": 139,
   "id": "456f4451",
   "metadata": {},
   "outputs": [
    {
     "name": "stdout",
     "output_type": "stream",
     "text": [
      "2\n",
      "4\n"
     ]
    }
   ],
   "source": [
    "dinner_guests = [2, 3, 4, 5]\n",
    "\n",
    "#          =\n",
    "for guest in dinner_guests:\n",
    "    if guest % 2 == 0:\n",
    "        print(guest)"
   ]
  },
  {
   "cell_type": "code",
   "execution_count": 140,
   "id": "90e62932",
   "metadata": {},
   "outputs": [
    {
     "name": "stdout",
     "output_type": "stream",
     "text": [
      "1\n",
      "2\n",
      "3\n"
     ]
    }
   ],
   "source": [
    "for x in [1, 2, 3]:\n",
    "    print(x)"
   ]
  },
  {
   "cell_type": "markdown",
   "id": "f4446a2d",
   "metadata": {},
   "source": [
    "#### Challenge 2b. Looping: Averages\n",
    "* compute the total of all the numbers **using a loop**\n",
    "* report the total and the mean after the loop\n",
    "    * using `len()` with the total\n"
   ]
  },
  {
   "cell_type": "code",
   "execution_count": 175,
   "id": "c0ced1f8",
   "metadata": {},
   "outputs": [
    {
     "data": {
      "text/plain": [
       "3.5"
      ]
     },
     "execution_count": 175,
     "metadata": {},
     "output_type": "execute_result"
    }
   ],
   "source": [
    "total = 0\n",
    "\n",
    "for guest in dinner_guests:\n",
    "    #NEW LHS:  set total to be \n",
    "    #OLD RHS:       get total add guest\n",
    "    total = total + guest \n",
    "    \n",
    "total/len(dinner_guests)"
   ]
  },
  {
   "cell_type": "code",
   "execution_count": 110,
   "id": "2bd2c487",
   "metadata": {},
   "outputs": [],
   "source": [
    "# SOLUTION"
   ]
  },
  {
   "cell_type": "markdown",
   "id": "55f78cee",
   "metadata": {},
   "source": [
    "#### Challenge 2c. Looping: Filtering\n",
    "* compute a total *of just* the odd numbers\n",
    "* compute a total *of just* the even numbers\n",
    "* report their totals seperately"
   ]
  },
  {
   "cell_type": "code",
   "execution_count": 110,
   "id": "6563c345",
   "metadata": {},
   "outputs": [],
   "source": [
    "# SOLUTION"
   ]
  },
  {
   "cell_type": "code",
   "execution_count": 177,
   "id": "16d34675",
   "metadata": {},
   "outputs": [
    {
     "data": {
      "text/plain": [
       "[2, 3, 4, 5]"
      ]
     },
     "execution_count": 177,
     "metadata": {},
     "output_type": "execute_result"
    }
   ],
   "source": [
    "dinner_guests"
   ]
  },
  {
   "cell_type": "code",
   "execution_count": 176,
   "id": "de55d517",
   "metadata": {},
   "outputs": [
    {
     "name": "stdout",
     "output_type": "stream",
     "text": [
      "6 8\n"
     ]
    }
   ],
   "source": [
    "total_even = 0\n",
    "total_odd  = 0\n",
    "\n",
    "for guest in dinner_guests:\n",
    "    if guest % 2 == 0:\n",
    "        total_even = total_even + guest\n",
    "    else:\n",
    "        total_odd = total_odd + guest\n",
    "\n",
    "print(total_even, total_odd)"
   ]
  },
  {
   "cell_type": "markdown",
   "id": "c0d9b033",
   "metadata": {},
   "source": [
    "#### Challenge 2d. STRETCH: Looping: Maximums & Minimums"
   ]
  },
  {
   "cell_type": "markdown",
   "id": "f2ea07ce",
   "metadata": {},
   "source": [
    "If you get the above challenges done quickly, find the maximum and minimum group size using a loop (ie., not using `min`, `max`, etc.).\n",
    "\n",
    "HINT: You'll need a variable for each defined before the loop (eg., `min_entry`, `max_entry`) and these should be initialized to a useful starting value..."
   ]
  },
  {
   "cell_type": "code",
   "execution_count": 110,
   "id": "d9e9c485",
   "metadata": {},
   "outputs": [],
   "source": [
    "# SOLUTION"
   ]
  },
  {
   "cell_type": "markdown",
   "id": "82e74b49",
   "metadata": {},
   "source": [
    "---"
   ]
  },
  {
   "cell_type": "markdown",
   "id": "b46bd9fb",
   "metadata": {},
   "source": [
    "## Part 3: Advanced Syntax"
   ]
  },
  {
   "cell_type": "markdown",
   "id": "305252cf",
   "metadata": {},
   "source": [
    "### Error Handling"
   ]
  },
  {
   "cell_type": "markdown",
   "id": "b305a09c",
   "metadata": {},
   "source": [
    "**Aside:** Error handling can get more complex and specailized. Eg., it's possible to handle different types of errors, *differently*,"
   ]
  },
  {
   "cell_type": "markdown",
   "id": "8d9a78bb",
   "metadata": {},
   "source": [
    "---"
   ]
  },
  {
   "cell_type": "markdown",
   "id": "a2304065",
   "metadata": {},
   "source": [
    "### Functions"
   ]
  },
  {
   "cell_type": "markdown",
   "id": "d890c98b",
   "metadata": {},
   "source": [
    "Q. How do we define our own functions? (What's the keyword..)\n",
    "\n",
    "Q. What do we put between the parenthese?"
   ]
  },
  {
   "cell_type": "markdown",
   "id": "261e5fae",
   "metadata": {},
   "source": [
    "*Defining* a function does not mean *running* any operation. \n",
    "\n",
    "When we define a function we're provide a *template* of an algorithm,"
   ]
  },
  {
   "cell_type": "markdown",
   "id": "3ebbdb9e",
   "metadata": {},
   "source": [
    "Functions can *return* values: they can place values *in-memory* when the function is finished running. \n",
    "\n",
    "*printing* means *outputing to the screen* and **never places values back into memory**,"
   ]
  },
  {
   "cell_type": "markdown",
   "id": "fd335dd9",
   "metadata": {},
   "source": [
    "Q. How do we *return* a value? How do we modify the defintion, "
   ]
  },
  {
   "cell_type": "markdown",
   "id": "2c14bb4c",
   "metadata": {},
   "source": [
    "#### Aside: scope\n",
    "\n",
    "*Scope* is the visible area/region of the code where a variable is defined. Each function is its own *scope* meaning it's a self-contained world of variables, which won't \"leak out\". Variables defined inside functions, stay in functions. "
   ]
  },
  {
   "cell_type": "markdown",
   "id": "e3eb6bb3",
   "metadata": {},
   "source": [
    "Why can't I just define variables I want to save inside functions?"
   ]
  },
  {
   "cell_type": "markdown",
   "id": "8952fdc9",
   "metadata": {},
   "source": [
    "### Challenges "
   ]
  },
  {
   "cell_type": "markdown",
   "id": "6a6d549e",
   "metadata": {},
   "source": [
    "#### Challenge 3a: Functions"
   ]
  },
  {
   "cell_type": "markdown",
   "id": "5835953d",
   "metadata": {},
   "source": [
    "* define a summary function \n",
    "    * which requires two *arguments*: numerical, categorical\n",
    "    * and prints a statistical summary of both"
   ]
  },
  {
   "cell_type": "code",
   "execution_count": 245,
   "id": "fae1c38a",
   "metadata": {},
   "outputs": [],
   "source": [
    "# SOLUTION"
   ]
  },
  {
   "cell_type": "markdown",
   "id": "d799319f",
   "metadata": {},
   "source": [
    "#### Challenge 3b: Error Handling: Conversions"
   ]
  },
  {
   "cell_type": "markdown",
   "id": "61d421d8",
   "metadata": {},
   "source": [
    "* modify your above code to `try` to perform the summary functions which are likely to fail\n",
    "    * eg., `mode`\n",
    "    * rather than fail, just print \"could not perform\" that action"
   ]
  },
  {
   "cell_type": "code",
   "execution_count": 244,
   "id": "0e698a86",
   "metadata": {},
   "outputs": [],
   "source": [
    "# SOLUTION"
   ]
  },
  {
   "cell_type": "markdown",
   "id": "7478d3d8",
   "metadata": {},
   "source": [
    "---"
   ]
  },
  {
   "cell_type": "markdown",
   "id": "e0e79c46",
   "metadata": {},
   "source": [
    "## Review & End"
   ]
  },
  {
   "cell_type": "markdown",
   "id": "aa4c3d98",
   "metadata": {},
   "source": [
    "* starting place with python\n",
    "    * basics\n",
    "* takes a long time to learn\n",
    "    * keep practicing"
   ]
  },
  {
   "cell_type": "markdown",
   "id": "e72baaf2",
   "metadata": {},
   "source": [
    "---"
   ]
  },
  {
   "cell_type": "markdown",
   "id": "8b528742",
   "metadata": {},
   "source": [
    "# STRETCH"
   ]
  },
  {
   "cell_type": "markdown",
   "id": "89807609",
   "metadata": {},
   "source": [
    "### Comprehensions"
   ]
  },
  {
   "cell_type": "markdown",
   "id": "75728052",
   "metadata": {},
   "source": [
    "It's very common to derive a new list from an old one,"
   ]
  },
  {
   "cell_type": "code",
   "execution_count": 166,
   "id": "3ff88716",
   "metadata": {},
   "outputs": [
    {
     "data": {
      "text/plain": [
       "[3, 5, 7]"
      ]
     },
     "execution_count": 166,
     "metadata": {},
     "output_type": "execute_result"
    }
   ],
   "source": [
    "old = [2, 4, 6]\n",
    "new = []\n",
    "\n",
    "for element in old:\n",
    "    new.append(element + 1)\n",
    "\n",
    "new"
   ]
  },
  {
   "cell_type": "markdown",
   "id": "7d5f265f",
   "metadata": {},
   "source": [
    "In python *comprehensions* allow you to do this is one go,"
   ]
  },
  {
   "cell_type": "code",
   "execution_count": 167,
   "id": "9dde9d4e",
   "metadata": {},
   "outputs": [
    {
     "data": {
      "text/plain": [
       "[3, 5, 7]"
      ]
     },
     "execution_count": 167,
     "metadata": {},
     "output_type": "execute_result"
    }
   ],
   "source": [
    "[e + 1 for e in old]"
   ]
  },
  {
   "cell_type": "markdown",
   "id": "5d5d7d4a",
   "metadata": {},
   "source": [
    "#### Challenge: Comprehensions"
   ]
  },
  {
   "cell_type": "markdown",
   "id": "39e39e6f",
   "metadata": {},
   "source": [
    "Consider the following comprehension, which computes a predictor variable $y$ from an $x$ drawn from the range $0 \\text{ to } 10$,"
   ]
  },
  {
   "cell_type": "code",
   "execution_count": 103,
   "id": "b1097538",
   "metadata": {},
   "outputs": [
    {
     "data": {
      "text/plain": [
       "[1, 3, 5, 7, 9, 11, 13, 15, 17, 19]"
      ]
     },
     "execution_count": 103,
     "metadata": {},
     "output_type": "execute_result"
    }
   ],
   "source": [
    "y = [2 * x + 1 for x in range(0, 10)]\n",
    "y"
   ]
  },
  {
   "cell_type": "markdown",
   "id": "b8e83081",
   "metadata": {},
   "source": [
    "Rather than using `range(0,10)`, use your own dataset,\n",
    "\n",
    "* define a variable called, eg., `heart_rates`, to be a numerical list\n",
    "* replace `range(0, 10)` in the example with your variable (ie., `heart_rates`)"
   ]
  },
  {
   "cell_type": "code",
   "execution_count": 106,
   "id": "1da2df33",
   "metadata": {},
   "outputs": [],
   "source": [
    "# SOLUTION"
   ]
  },
  {
   "cell_type": "markdown",
   "id": "22d21d50",
   "metadata": {},
   "source": [
    "Suppose you want to ignore some data in your list based on a test. Consider the following,"
   ]
  },
  {
   "cell_type": "code",
   "execution_count": 104,
   "id": "7c11eb96",
   "metadata": {},
   "outputs": [
    {
     "data": {
      "text/plain": [
       "[13, 15, 17, 19]"
      ]
     },
     "execution_count": 104,
     "metadata": {},
     "output_type": "execute_result"
    }
   ],
   "source": [
    "y = [2 * x + 1 for x in range(0, 10) if x > 5]\n",
    "y"
   ]
  },
  {
   "cell_type": "markdown",
   "id": "edf66f10",
   "metadata": {},
   "source": [
    "Filter your own dataset,\n",
    "* replace `range(0, 10)` \n",
    "* and the test `x>5` \n",
    "* to create a `y` more meaningful to your case.\n",
    "\n",
    "Eg., suppose we ignore HRs `<30, and >200` on the basis that they arent likely to be real data."
   ]
  },
  {
   "cell_type": "code",
   "execution_count": 105,
   "id": "f67b560e",
   "metadata": {},
   "outputs": [],
   "source": [
    "# SOLUTION"
   ]
  },
  {
   "cell_type": "markdown",
   "id": "6eaff263",
   "metadata": {},
   "source": [
    "---"
   ]
  },
  {
   "cell_type": "markdown",
   "id": "39f60a31",
   "metadata": {},
   "source": [
    "## Appendix"
   ]
  },
  {
   "cell_type": "markdown",
   "id": "e75d95bf",
   "metadata": {},
   "source": [
    "### Terminology\n",
    "\n",
    "#### Syntax\n",
    "* `def` define *a function*\n",
    "    * *define* to mean either assign a variable `=`, or anything else\n",
    "* keywords `for`, `while`\n",
    "* operators `+=`\n",
    "* variables `name`\n",
    "* functions `names()` \n",
    "    * these are programmer-given names"
   ]
  },
  {
   "cell_type": "markdown",
   "id": "48d02c09",
   "metadata": {},
   "source": [
    "### Help"
   ]
  },
  {
   "cell_type": "code",
   "execution_count": 211,
   "id": "34f866d2",
   "metadata": {},
   "outputs": [
    {
     "name": "stdout",
     "output_type": "stream",
     "text": [
      "Help on function mean in module statistics:\n",
      "\n",
      "mean(data)\n",
      "    Return the sample arithmetic mean of data.\n",
      "    \n",
      "    >>> mean([1, 2, 3, 4, 4])\n",
      "    2.8\n",
      "    \n",
      "    >>> from fractions import Fraction as F\n",
      "    >>> mean([F(3, 7), F(1, 21), F(5, 3), F(1, 3)])\n",
      "    Fraction(13, 21)\n",
      "    \n",
      "    >>> from decimal import Decimal as D\n",
      "    >>> mean([D(\"0.5\"), D(\"0.75\"), D(\"0.625\"), D(\"0.375\")])\n",
      "    Decimal('0.5625')\n",
      "    \n",
      "    If ``data`` is empty, StatisticsError will be raised.\n",
      "\n"
     ]
    }
   ],
   "source": [
    "help(statistics.mean)"
   ]
  },
  {
   "cell_type": "markdown",
   "id": "74a3cfdf",
   "metadata": {},
   "source": [
    "---"
   ]
  }
 ],
 "metadata": {
  "kernelspec": {
   "display_name": "Python 3 (ipykernel)",
   "language": "python",
   "name": "python3"
  },
  "language_info": {
   "codemirror_mode": {
    "name": "ipython",
    "version": 3
   },
   "file_extension": ".py",
   "mimetype": "text/x-python",
   "name": "python",
   "nbconvert_exporter": "python",
   "pygments_lexer": "ipython3",
   "version": "3.9.7"
  }
 },
 "nbformat": 4,
 "nbformat_minor": 5
}
