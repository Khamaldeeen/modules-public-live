{
 "cells": [
  {
   "cell_type": "markdown",
   "id": "2dcb8b71",
   "metadata": {},
   "source": [
    "# Working with Data: Introduction to Python\n",
    "<font color=indigo>Live Workshop</font>\n",
    "\n",
    "---\n",
    "\n",
    "* This document is a technical brainstorm (like whiteboarding with code). \n",
    "* I'll give you this and any other assets over the break. \n",
    "* No need to follow along live.\n",
    "\n",
    "---"
   ]
  },
  {
   "cell_type": "markdown",
   "id": "7d748f65",
   "metadata": {},
   "source": [
    "## Lesson Plan\n",
    "\n",
    "* Introductions (15 min)\n",
    "* Part 0: Review (30 min)\n",
    "    * Python Warm Up (15 min)\n",
    "    * Individual Challenge (10 min)\n",
    "* Part 1: Basic Syntax (45 min)\n",
    "    * Review (20 min)\n",
    "    * Individual Challenges (25 min)\n",
    "* Part 2: Looping (45 min)\n",
    "    * Review (20 min)\n",
    "    * Group Challenges (25 min)\n",
    "* Part 3: Advanced Syntax (45 min)\n",
    "    * Review (20 min)\n",
    "    * Individual Challenges (25 min)\n",
    "* Reivew & End (5min)\n",
    "\n",
    "## Introductions\n",
    "\n"
   ]
  },
  {
   "cell_type": "markdown",
   "id": "f9f654ae",
   "metadata": {},
   "source": [
    "## Part 0: Review"
   ]
  },
  {
   "cell_type": "markdown",
   "id": "848d49c4",
   "metadata": {},
   "source": [
    "* Variables & Operations"
   ]
  },
  {
   "cell_type": "markdown",
   "id": "b72f3590",
   "metadata": {},
   "source": [
    "* Printing"
   ]
  },
  {
   "cell_type": "markdown",
   "id": "d0ae62b0",
   "metadata": {},
   "source": [
    "* Data Structures & Conversions"
   ]
  },
  {
   "cell_type": "markdown",
   "id": "8799f669",
   "metadata": {},
   "source": [
    "* Importing"
   ]
  },
  {
   "cell_type": "markdown",
   "id": "31a3a313",
   "metadata": {},
   "source": [
    "### Challenge 0e. Summarizing Data\n",
    "---"
   ]
  },
  {
   "cell_type": "markdown",
   "id": "33ffe957",
   "metadata": {},
   "source": [
    "## Part 1: Basic Syntax"
   ]
  },
  {
   "cell_type": "markdown",
   "id": "54ef12d1",
   "metadata": {},
   "source": [
    "* Syntax Errors"
   ]
  },
  {
   "cell_type": "markdown",
   "id": "5a3a2313",
   "metadata": {},
   "source": [
    "* Comparisons & Tests"
   ]
  },
  {
   "cell_type": "markdown",
   "id": "e0b69a65",
   "metadata": {},
   "source": [
    "* Decision-Making"
   ]
  },
  {
   "cell_type": "markdown",
   "id": "6fc8e924",
   "metadata": {},
   "source": [
    "* Functions"
   ]
  },
  {
   "cell_type": "markdown",
   "id": "b7b70d35",
   "metadata": {},
   "source": [
    "### Challenge 1a. Syntax Errors"
   ]
  },
  {
   "cell_type": "markdown",
   "id": "09b80dc3",
   "metadata": {},
   "source": [
    "### Challenge 1b. Comparisons & Tests: Odd Numbers"
   ]
  },
  {
   "cell_type": "markdown",
   "id": "663f9ec6",
   "metadata": {},
   "source": [
    "### Challenge 1c. Comparisons & Tests: Prefixes"
   ]
  },
  {
   "cell_type": "markdown",
   "id": "0bd607ec",
   "metadata": {},
   "source": [
    "### Challenge 1d. Decision-Making"
   ]
  },
  {
   "cell_type": "markdown",
   "id": "4c8daebb",
   "metadata": {},
   "source": [
    "### Challenge 1e. Functions"
   ]
  },
  {
   "cell_type": "markdown",
   "id": "2103f5d6",
   "metadata": {},
   "source": [
    "---"
   ]
  },
  {
   "cell_type": "markdown",
   "id": "8109ccc1",
   "metadata": {},
   "source": [
    "## Part 2: Looping "
   ]
  },
  {
   "cell_type": "markdown",
   "id": "67477802",
   "metadata": {},
   "source": [
    "* Looping"
   ]
  },
  {
   "cell_type": "markdown",
   "id": "ef0ceac4",
   "metadata": {},
   "source": [
    "* Looping & Filtering"
   ]
  },
  {
   "cell_type": "markdown",
   "id": "a764bc0d",
   "metadata": {},
   "source": [
    "### Challenge 2a. Looping: Even Numbers"
   ]
  },
  {
   "cell_type": "markdown",
   "id": "f0f3980b",
   "metadata": {},
   "source": [
    "### Challenge 2b. Looping: Maximums"
   ]
  },
  {
   "cell_type": "markdown",
   "id": "14174f68",
   "metadata": {},
   "source": [
    "### Challenge 2c. Looping: Averages"
   ]
  },
  {
   "cell_type": "markdown",
   "id": "4153eb42",
   "metadata": {},
   "source": [
    "### Challenge 2d. Looping: Filtering"
   ]
  },
  {
   "cell_type": "markdown",
   "id": "e70d4549",
   "metadata": {},
   "source": [
    "---"
   ]
  },
  {
   "cell_type": "markdown",
   "id": "367ba338",
   "metadata": {},
   "source": [
    "## Part 3: Advanced Syntax"
   ]
  },
  {
   "cell_type": "markdown",
   "id": "135966ef",
   "metadata": {},
   "source": [
    "* Error Handling"
   ]
  },
  {
   "cell_type": "markdown",
   "id": "938aa71c",
   "metadata": {},
   "source": [
    "* Comprehensions"
   ]
  },
  {
   "cell_type": "markdown",
   "id": "18db419e",
   "metadata": {},
   "source": [
    "### Challenge 3a: Error Handling: Conversions"
   ]
  },
  {
   "cell_type": "markdown",
   "id": "fbd2e7f6",
   "metadata": {},
   "source": [
    "### Challenge 3b: Comprehensions\n",
    "\n",
    "---"
   ]
  },
  {
   "cell_type": "markdown",
   "id": "2aa0d663",
   "metadata": {},
   "source": [
    "## Review & End"
   ]
  }
 ],
 "metadata": {
  "kernelspec": {
   "display_name": "Python 3 (ipykernel)",
   "language": "python",
   "name": "python3"
  },
  "language_info": {
   "codemirror_mode": {
    "name": "ipython",
    "version": 3
   },
   "file_extension": ".py",
   "mimetype": "text/x-python",
   "name": "python",
   "nbconvert_exporter": "python",
   "pygments_lexer": "ipython3",
   "version": "3.9.7"
  }
 },
 "nbformat": 4,
 "nbformat_minor": 5
}
