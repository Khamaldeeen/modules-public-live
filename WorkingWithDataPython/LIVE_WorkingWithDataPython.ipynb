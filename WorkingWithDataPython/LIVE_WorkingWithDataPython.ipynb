{
 "cells": [
  {
   "cell_type": "markdown",
   "id": "b401f1a1",
   "metadata": {},
   "source": [
    "# Working with Data: Introduction to Python\n",
    "<font color=indigo>Live Workshop</font>\n",
    "\n",
    "---\n",
    "\n",
    "* This document is a technical brainstorm (like whiteboarding with code). \n",
    "* I'll give you this and any other assets over the break. \n",
    "* No need to follow along live.\n",
    "\n",
    "---\n",
    "\n",
    "If you don't have access to a jupyter, you can try the following link, \n",
    "* https://jupyterlite.readthedocs.io/en/latest/_static/retro/notebooks/index.html\n",
    "\n",
    "* Press `File > New` "
   ]
  },
  {
   "cell_type": "markdown",
   "id": "9cadc951",
   "metadata": {},
   "source": [
    "## Lesson Plan\n",
    "\n",
    "* Introductions (15 min)\n",
    "* Part 0: Review (30 min)\n",
    "    * Python Warm Up (15 min)\n",
    "    * Individual Challenge (10 min)\n",
    "* Part 1: Basic Syntax (45 min)\n",
    "    * Review (20 min)\n",
    "    * Individual Challenges (15 min)\n",
    "* Part 2: Looping (45 min)\n",
    "    * Review (20 min)\n",
    "    * Group Challenges (25 min)\n",
    "* Part 3: Advanced Syntax (45 min)\n",
    "    * Review (20 min)\n",
    "    * Individual Challenges (25 min)\n",
    "* Reivew & End (5min)\n",
    "\n",
    "## Introductions\n",
    "\n"
   ]
  },
  {
   "cell_type": "markdown",
   "id": "1834d2ce",
   "metadata": {},
   "source": [
    "* Name\n",
    "* Background/Role\n",
    "* Prior Experience\n",
    "* Hobby\n",
    "\n",
    "\n",
    "* Michael Burgess\n",
    "    * Head of Technical Solutions\n",
    "    * Joined decoded, \n",
    "        * QA as Head of Data, Analytics & AI\n",
    "        * IT Contractor: defence, telephony\n",
    "        * Physics 6yr\n",
    "    * Arguing, Philosophy, Podcasts...\n",
    "* The Course\n",
    "    * Discussion: Python Demos & Syntax\n",
    "    * Challenge: Practicing Demo\n",
    "    * Repeat\n",
    "* You\n",
    "    * Name, Background, Expectations, Hobby\n",
    "    * You as a group?\n",
    "        * Risk Area & IT Change\n",
    "        * Trading-side\n",
    "    * Jaz, \n",
    "        * UBS, Asset Management, IB-side\n",
    "        * Market Risk\n",
    "        * Delve deeper\n",
    "            * wanted to write more complex code\n",
    "        * Parenting\n",
    "    * Sara\n",
    "        * Credit-Risk Change IB, 20yr\n",
    "            * Army, Construction, ...\n",
    "            * Business admin skills\n",
    "                * training MDs\n",
    "        * Ceramics, Meditation\n",
    "    * Dimitri \n",
    "        * IB, Specializations Group, Financing \n",
    "            * UBS 4yr, 10yr in industry \n",
    "            * optimize & automate\n",
    "        * Sailing\n",
    "    * Mara\n",
    "        * IB coo, market risk, trading, .. \n",
    "            * 12 yr UBS\n",
    "            * work with lots of data\n",
    "                * business management \n",
    "                * financial data\n",
    "            * (limitations of excel)\n",
    "        * Shopping"
   ]
  },
  {
   "cell_type": "markdown",
   "id": "aca32d19",
   "metadata": {},
   "source": [
    "## Part 0: Review"
   ]
  },
  {
   "cell_type": "markdown",
   "id": "06fadc45",
   "metadata": {},
   "source": [
    "* Variables & Operations"
   ]
  },
  {
   "cell_type": "code",
   "execution_count": 2,
   "id": "7cf62c5a",
   "metadata": {},
   "outputs": [],
   "source": [
    "name = \"Michael Burgess\"\n",
    "age = 33\n",
    "height = 1.81\n",
    "is_tired = True"
   ]
  },
  {
   "cell_type": "markdown",
   "id": "0768612b",
   "metadata": {},
   "source": [
    "* What's the type of this data?"
   ]
  },
  {
   "cell_type": "code",
   "execution_count": 3,
   "id": "a8546751",
   "metadata": {},
   "outputs": [
    {
     "data": {
      "text/plain": [
       "(str, int, float, bool)"
      ]
     },
     "execution_count": 3,
     "metadata": {},
     "output_type": "execute_result"
    }
   ],
   "source": [
    "type(name), type(age), type(height), type(is_tired)"
   ]
  },
  {
   "cell_type": "markdown",
   "id": "56d53bd7",
   "metadata": {},
   "source": [
    "* Printing"
   ]
  },
  {
   "cell_type": "code",
   "execution_count": 4,
   "id": "c694c890",
   "metadata": {},
   "outputs": [
    {
     "name": "stdout",
     "output_type": "stream",
     "text": [
      "Hello my name is Michael\n"
     ]
    }
   ],
   "source": [
    "print(\"Hello my name is Michael\")"
   ]
  },
  {
   "cell_type": "markdown",
   "id": "47333d09",
   "metadata": {},
   "source": [
    "Aside: you can include the value of variables using `{}` (braces) if you prefix the *string* with an `f` symbol,"
   ]
  },
  {
   "cell_type": "code",
   "execution_count": 5,
   "id": "49f9441b",
   "metadata": {},
   "outputs": [
    {
     "name": "stdout",
     "output_type": "stream",
     "text": [
      "Hello my name is Michael Burgess and my age is 33\n"
     ]
    }
   ],
   "source": [
    "print(f\"Hello my name is {name} and my age is {age}\")"
   ]
  },
  {
   "cell_type": "markdown",
   "id": "ae6f7f3f",
   "metadata": {},
   "source": [
    "...`f` for *format*"
   ]
  },
  {
   "cell_type": "markdown",
   "id": "21e4c6c9",
   "metadata": {},
   "source": [
    "* Data Structures & Conversions"
   ]
  },
  {
   "cell_type": "code",
   "execution_count": 9,
   "id": "d8cc1931",
   "metadata": {},
   "outputs": [],
   "source": [
    "hobbies = [\"Sailing\", \"Ceramics\", \"Arguing\"]"
   ]
  },
  {
   "cell_type": "code",
   "execution_count": 16,
   "id": "ce2c975c",
   "metadata": {},
   "outputs": [],
   "source": [
    "page = 0"
   ]
  },
  {
   "cell_type": "code",
   "execution_count": 17,
   "id": "9af2ea28",
   "metadata": {},
   "outputs": [
    {
     "name": "stdout",
     "output_type": "stream",
     "text": [
      "Sailing\n"
     ]
    }
   ],
   "source": [
    "print(hobbies[page])"
   ]
  },
  {
   "cell_type": "markdown",
   "id": "6764c8a2",
   "metadata": {},
   "source": [
    "The *indexes* of a list are (somewhat like) page numbers, in that they identify the position of some data, "
   ]
  },
  {
   "cell_type": "code",
   "execution_count": 15,
   "id": "42a3f457",
   "metadata": {},
   "outputs": [
    {
     "name": "stdout",
     "output_type": "stream",
     "text": [
      "Sailing Ceramics\n"
     ]
    }
   ],
   "source": [
    "print(hobbies[0], hobbies[1])"
   ]
  },
  {
   "cell_type": "markdown",
   "id": "3a2ce971",
   "metadata": {},
   "source": [
    "Aside: python has other complex data structures. Eg., consider a *dictionary* which relates *keys* to *values*,"
   ]
  },
  {
   "cell_type": "code",
   "execution_count": 11,
   "id": "cd5ed562",
   "metadata": {},
   "outputs": [],
   "source": [
    "register = {\n",
    "    # KEY : VALUE\n",
    "    'Jaz': True,\n",
    "    'Sara': True,\n",
    "    'Sherlock': False\n",
    "}"
   ]
  },
  {
   "cell_type": "code",
   "execution_count": 12,
   "id": "dae7b135",
   "metadata": {},
   "outputs": [
    {
     "data": {
      "text/plain": [
       "(list, dict)"
      ]
     },
     "execution_count": 12,
     "metadata": {},
     "output_type": "execute_result"
    }
   ],
   "source": [
    "type(hobbies), type(register)"
   ]
  },
  {
   "cell_type": "markdown",
   "id": "d0a6f3f4",
   "metadata": {},
   "source": [
    "The first `hobbies` is a string,"
   ]
  },
  {
   "cell_type": "code",
   "execution_count": 8,
   "id": "1c94e783",
   "metadata": {},
   "outputs": [
    {
     "data": {
      "text/plain": [
       "'Sailing'"
      ]
     },
     "execution_count": 8,
     "metadata": {},
     "output_type": "execute_result"
    }
   ],
   "source": [
    "hobbies[0]"
   ]
  },
  {
   "cell_type": "markdown",
   "id": "5f30ee22",
   "metadata": {},
   "source": [
    "A dictionary allows you to use a named index (rather than just a *sequential* (counted one)), "
   ]
  },
  {
   "cell_type": "code",
   "execution_count": 18,
   "id": "f253f91f",
   "metadata": {},
   "outputs": [
    {
     "data": {
      "text/plain": [
       "True"
      ]
     },
     "execution_count": 18,
     "metadata": {},
     "output_type": "execute_result"
    }
   ],
   "source": [
    "register['Jaz']"
   ]
  },
  {
   "cell_type": "markdown",
   "id": "1349d205",
   "metadata": {},
   "source": [
    "* Importing"
   ]
  },
  {
   "cell_type": "code",
   "execution_count": 21,
   "id": "382cb2bb",
   "metadata": {},
   "outputs": [],
   "source": [
    "import statistics"
   ]
  },
  {
   "cell_type": "markdown",
   "id": "e567a92e",
   "metadata": {},
   "source": [
    "How would I run the `mean` function *inside* the `statistics` module?"
   ]
  },
  {
   "cell_type": "code",
   "execution_count": 23,
   "id": "2cfec690",
   "metadata": {
    "scrolled": true
   },
   "outputs": [
    {
     "data": {
      "text/plain": [
       "<function statistics.mean(data)>"
      ]
     },
     "execution_count": 23,
     "metadata": {},
     "output_type": "execute_result"
    }
   ],
   "source": [
    "statistics.mean # the name of the function"
   ]
  },
  {
   "cell_type": "code",
   "execution_count": 26,
   "id": "2f3190a2",
   "metadata": {
    "scrolled": true
   },
   "outputs": [
    {
     "data": {
      "text/plain": [
       "4.333333333333333"
      ]
     },
     "execution_count": 26,
     "metadata": {},
     "output_type": "execute_result"
    }
   ],
   "source": [
    "statistics.mean([2, 4, 7]) # to run the function we write () parentheses after the name"
   ]
  },
  {
   "cell_type": "markdown",
   "id": "8626ed88",
   "metadata": {},
   "source": [
    "* Summarizing Functions\n",
    "\n",
    "What built-in functions would help me describe a data-set?\n",
    "\n",
    "* `len`\n",
    "* `sum`\n",
    "* `statistics.mean`\n",
    "* `statistics.median`\n",
    "* `statistics.mode`\n",
    "* `statistics.stdev`"
   ]
  },
  {
   "cell_type": "markdown",
   "id": "756d1d0b",
   "metadata": {},
   "source": [
    "There are `6` elements in the following list,"
   ]
  },
  {
   "cell_type": "code",
   "execution_count": 30,
   "id": "f16fa090",
   "metadata": {},
   "outputs": [
    {
     "data": {
      "text/plain": [
       "6"
      ]
     },
     "execution_count": 30,
     "metadata": {},
     "output_type": "execute_result"
    }
   ],
   "source": [
    "cities = [0, 2, 2, 2, 2, 4]\n",
    "\n",
    "len(cities)"
   ]
  },
  {
   "cell_type": "markdown",
   "id": "37a4ecff",
   "metadata": {},
   "source": [
    "### Challenge 0e. Summarizing Data\n",
    "\n",
    "* Create a new notebook in your jupyter application\n",
    "* Consider a problem of your own choosing\n",
    "    * eg., in retail, finance, health, ....\n",
    "    * consider a numerical dataset (ie., a quantitative variable = float)\n",
    "        * define a variable which is a list of numbers with **7** entries\n",
    "    * consider a categorical dataset (ie., a qualitative variable = string)\n",
    "        * define a variable which is a list of string **7** entries\n",
    "* Run the above summary functions on your lists\n",
    "    * STRETCH: neatly print out the results\n",
    "    \n",
    "---"
   ]
  },
  {
   "cell_type": "markdown",
   "id": "4cac528f",
   "metadata": {},
   "source": [
    "## Part 1: Basic Syntax"
   ]
  },
  {
   "cell_type": "markdown",
   "id": "c0282a86",
   "metadata": {},
   "source": [
    "* Lists"
   ]
  },
  {
   "cell_type": "markdown",
   "id": "0331ac8e",
   "metadata": {},
   "source": [
    "* Syntax Errors"
   ]
  },
  {
   "cell_type": "markdown",
   "id": "4bf1ae8d",
   "metadata": {},
   "source": [
    "* Comparisons & Tests"
   ]
  },
  {
   "cell_type": "markdown",
   "id": "015382b1",
   "metadata": {},
   "source": [
    "* Decision-Making"
   ]
  },
  {
   "cell_type": "markdown",
   "id": "53fb608f",
   "metadata": {},
   "source": [
    "* Functions"
   ]
  },
  {
   "cell_type": "markdown",
   "id": "d2fd1343",
   "metadata": {},
   "source": [
    "### Challenge 1a. Syntax Errors"
   ]
  },
  {
   "cell_type": "markdown",
   "id": "8f515473",
   "metadata": {},
   "source": [
    "### Challenge 1b. Comparisons & Tests: Odd Numbers"
   ]
  },
  {
   "cell_type": "markdown",
   "id": "0da4901d",
   "metadata": {},
   "source": [
    "### Challenge 1c. Comparisons & Tests: Prefixes"
   ]
  },
  {
   "cell_type": "markdown",
   "id": "c3117847",
   "metadata": {},
   "source": [
    "### Challenge 1d. Decision-Making"
   ]
  },
  {
   "cell_type": "markdown",
   "id": "aabe9584",
   "metadata": {},
   "source": [
    "### Challenge 1e. Functions"
   ]
  },
  {
   "cell_type": "markdown",
   "id": "048fc501",
   "metadata": {},
   "source": [
    "---"
   ]
  },
  {
   "cell_type": "markdown",
   "id": "94cf8d5c",
   "metadata": {},
   "source": [
    "## Part 2: Looping "
   ]
  },
  {
   "cell_type": "markdown",
   "id": "6a0eb874",
   "metadata": {},
   "source": [
    "* Looping"
   ]
  },
  {
   "cell_type": "markdown",
   "id": "925b73a1",
   "metadata": {},
   "source": [
    "* Looping & Filtering"
   ]
  },
  {
   "cell_type": "markdown",
   "id": "08a7caf0",
   "metadata": {},
   "source": [
    "### Challenge 2a. Looping: Even Numbers"
   ]
  },
  {
   "cell_type": "markdown",
   "id": "bccdfa88",
   "metadata": {},
   "source": [
    "### Challenge 2b. Looping: Maximums"
   ]
  },
  {
   "cell_type": "markdown",
   "id": "984b4e03",
   "metadata": {},
   "source": [
    "### Challenge 2c. Looping: Averages"
   ]
  },
  {
   "cell_type": "markdown",
   "id": "55f78cee",
   "metadata": {},
   "source": [
    "### Challenge 2d. Looping: Filtering"
   ]
  },
  {
   "cell_type": "markdown",
   "id": "82e74b49",
   "metadata": {},
   "source": [
    "---"
   ]
  },
  {
   "cell_type": "markdown",
   "id": "b46bd9fb",
   "metadata": {},
   "source": [
    "## Part 3: Advanced Syntax"
   ]
  },
  {
   "cell_type": "markdown",
   "id": "cb184208",
   "metadata": {},
   "source": [
    "* Error Handling"
   ]
  },
  {
   "cell_type": "markdown",
   "id": "017e154c",
   "metadata": {},
   "source": [
    "* Comprehensions"
   ]
  },
  {
   "cell_type": "markdown",
   "id": "d799319f",
   "metadata": {},
   "source": [
    "### Challenge 3a: Error Handling: Conversions"
   ]
  },
  {
   "cell_type": "markdown",
   "id": "7478d3d8",
   "metadata": {},
   "source": [
    "### Challenge 3b: Comprehensions\n",
    "\n",
    "---"
   ]
  },
  {
   "cell_type": "markdown",
   "id": "75e99526",
   "metadata": {},
   "source": [
    "## Appendix"
   ]
  },
  {
   "cell_type": "code",
   "execution_count": 19,
   "id": "a65a9d2b",
   "metadata": {},
   "outputs": [],
   "source": [
    "boats = {\n",
    "    \"Happy\": \"120ft\",\n",
    "    \"Big\": \"300ft\"\n",
    "}"
   ]
  },
  {
   "cell_type": "code",
   "execution_count": 20,
   "id": "f5438a03",
   "metadata": {},
   "outputs": [],
   "source": [
    "groceries = {\n",
    "    \"Michael\": [\"Eggs\", \"Ham\"],\n",
    "    \"Alice\": [\"Eggs\", \"Ham\"],\n",
    "}"
   ]
  },
  {
   "cell_type": "markdown",
   "id": "4b827b89",
   "metadata": {},
   "source": [
    "## Review & End"
   ]
  }
 ],
 "metadata": {
  "kernelspec": {
   "display_name": "Python 3 (ipykernel)",
   "language": "python",
   "name": "python3"
  },
  "language_info": {
   "codemirror_mode": {
    "name": "ipython",
    "version": 3
   },
   "file_extension": ".py",
   "mimetype": "text/x-python",
   "name": "python",
   "nbconvert_exporter": "python",
   "pygments_lexer": "ipython3",
   "version": "3.9.7"
  }
 },
 "nbformat": 4,
 "nbformat_minor": 5
}
