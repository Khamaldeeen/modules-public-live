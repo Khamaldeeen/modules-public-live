{
 "cells": [
  {
   "cell_type": "markdown",
   "id": "b401f1a1",
   "metadata": {},
   "source": [
    "# Working with Data: Introduction to Python\n",
    "<font color=indigo>Live Workshop</font>\n",
    "\n",
    "---\n",
    "\n",
    "* This document is a technical brainstorm (like whiteboarding with code). \n",
    "    * I'll give you this and any other assets over the break. \n",
    "    * No need to follow along live.\n",
    "* If you don't have access to a jupyter installation, you can try the following link, \n",
    "    * https://jupyterlite.readthedocs.io/en/latest/_static/retro/notebooks/index.html\n",
    "    * Press `File > New`\n",
    "    * **this may take a few minutes to load**\n",
    "---\n",
    " "
   ]
  },
  {
   "cell_type": "markdown",
   "id": "9cadc951",
   "metadata": {},
   "source": [
    "## Lesson Plan\n",
    "\n",
    "* <font color=green>Introductions (20 min)</font>\n",
    "* <font color=green>Part 0: Review (30 min)</font>\n",
    "    * Python Warm Up (15 min)\n",
    "    * <font color=blue>Individual Challenge (15 min)</font>\n",
    "* <font color=green>Break & Admin (20 min)</font>\n",
    "    * Our Values, Learning Objectives, Menti Self-Assess, ...\n",
    "* <font color=green>Part 1: Basic Syntax (40 min)</font>\n",
    "    * Discussion (20 min)\n",
    "    * <font color=blue>Individual Challenges (20 min)</font>\n",
    "* <font color=green>Part 2: Looping (40 min)</font>\n",
    "    * Discussion (10 min)\n",
    "    * <font color=blue>Group Challenges (30 min)</font>\n",
    "* <font color=green>Break (10min)</font>\n",
    "* <font color=green>Part 3: Advanced Syntax (40 min)</font>\n",
    "    * Discussion (20 min)\n",
    "    * <font color=blue>Individual Challenges (20 min)</font>\n",
    "* <font color=green>Reivew & End (>5 min)</font>"
   ]
  },
  {
   "cell_type": "markdown",
   "id": "a04efbe2",
   "metadata": {},
   "source": [
    "## Introductions\n",
    "* Name\n",
    "* Background/Role\n",
    "* Prior Experience\n",
    "* Hobby"
   ]
  },
  {
   "cell_type": "markdown",
   "id": "880bd190",
   "metadata": {},
   "source": [
    "---"
   ]
  },
  {
   "cell_type": "markdown",
   "id": "aca32d19",
   "metadata": {},
   "source": [
    "## Part 0: Review"
   ]
  },
  {
   "cell_type": "markdown",
   "id": "06fadc45",
   "metadata": {},
   "source": [
    "### Variables & Operations"
   ]
  },
  {
   "cell_type": "markdown",
   "id": "c26e9cdc",
   "metadata": {},
   "source": [
    "Q. What symbol *assigns* a value to a variable?"
   ]
  },
  {
   "cell_type": "code",
   "execution_count": 169,
   "id": "a6873939",
   "metadata": {},
   "outputs": [],
   "source": [
    "name = \"Michael Burgess\" # ASSIGNMENT OPERATOR\n",
    "age = 33\n",
    "height = 1.81\n",
    "is_tired = True"
   ]
  },
  {
   "cell_type": "markdown",
   "id": "0932fef4",
   "metadata": {},
   "source": [
    "Q. What's the type of this data?"
   ]
  },
  {
   "cell_type": "code",
   "execution_count": 171,
   "id": "da92f737",
   "metadata": {},
   "outputs": [
    {
     "data": {
      "text/plain": [
       "(str, int, float, bool)"
      ]
     },
     "execution_count": 171,
     "metadata": {},
     "output_type": "execute_result"
    }
   ],
   "source": [
    "type(name), type(age), type(height), type(is_tired)"
   ]
  },
  {
   "cell_type": "markdown",
   "id": "56d53bd7",
   "metadata": {},
   "source": [
    "### Printing"
   ]
  },
  {
   "cell_type": "code",
   "execution_count": 4,
   "id": "b9948d24",
   "metadata": {},
   "outputs": [
    {
     "name": "stdout",
     "output_type": "stream",
     "text": [
      "Hello my name is Michael\n"
     ]
    }
   ],
   "source": [
    "print(\"Hello my name is Michael\")"
   ]
  },
  {
   "cell_type": "markdown",
   "id": "1049a332",
   "metadata": {},
   "source": [
    "**Aside**: You can include the value of variables using `{}` (braces) if you prefix the *string* with an `f` symbol,"
   ]
  },
  {
   "cell_type": "code",
   "execution_count": 5,
   "id": "368e548b",
   "metadata": {},
   "outputs": [
    {
     "name": "stdout",
     "output_type": "stream",
     "text": [
      "Hello my name is Michael Burgess and my age is 33\n"
     ]
    }
   ],
   "source": [
    "print(f\"Hello my name is {name} and my age is {age}\")"
   ]
  },
  {
   "cell_type": "markdown",
   "id": "d7b006c7",
   "metadata": {},
   "source": [
    "...`f` for *format*"
   ]
  },
  {
   "cell_type": "markdown",
   "id": "21e4c6c9",
   "metadata": {},
   "source": [
    "### Data Structures & Conversions"
   ]
  },
  {
   "cell_type": "code",
   "execution_count": 9,
   "id": "b611e752",
   "metadata": {},
   "outputs": [],
   "source": [
    "hobbies = [\"Sailing\", \"Ceramics\", \"Arguing\"]"
   ]
  },
  {
   "cell_type": "markdown",
   "id": "c99a17bc",
   "metadata": {},
   "source": [
    "Q. What's the type of `hobbies`?"
   ]
  },
  {
   "cell_type": "code",
   "execution_count": 33,
   "id": "e5c162e0",
   "metadata": {},
   "outputs": [
    {
     "data": {
      "text/plain": [
       "list"
      ]
     },
     "execution_count": 33,
     "metadata": {},
     "output_type": "execute_result"
    }
   ],
   "source": [
    "type(hobbies)"
   ]
  },
  {
   "cell_type": "markdown",
   "id": "785c11f1",
   "metadata": {},
   "source": [
    "The first `hobbies` is a string,"
   ]
  },
  {
   "cell_type": "code",
   "execution_count": 8,
   "id": "09064a79",
   "metadata": {},
   "outputs": [
    {
     "data": {
      "text/plain": [
       "'Sailing'"
      ]
     },
     "execution_count": 8,
     "metadata": {},
     "output_type": "execute_result"
    }
   ],
   "source": [
    "hobbies[0]"
   ]
  },
  {
   "cell_type": "markdown",
   "id": "e6c20b82",
   "metadata": {},
   "source": [
    "The *indexes* of a list are (somewhat like) page numbers, in that they identify the position of some data, "
   ]
  },
  {
   "cell_type": "code",
   "execution_count": 16,
   "id": "40e07fd4",
   "metadata": {},
   "outputs": [],
   "source": [
    "page = 0"
   ]
  },
  {
   "cell_type": "code",
   "execution_count": 17,
   "id": "8f3887ed",
   "metadata": {},
   "outputs": [
    {
     "name": "stdout",
     "output_type": "stream",
     "text": [
      "Sailing\n"
     ]
    }
   ],
   "source": [
    "print(hobbies[page])"
   ]
  },
  {
   "cell_type": "code",
   "execution_count": 15,
   "id": "ad39c04f",
   "metadata": {},
   "outputs": [
    {
     "name": "stdout",
     "output_type": "stream",
     "text": [
      "Sailing Ceramics\n"
     ]
    }
   ],
   "source": [
    "print(hobbies[0], hobbies[1])"
   ]
  },
  {
   "cell_type": "markdown",
   "id": "8742e9de",
   "metadata": {},
   "source": [
    "---"
   ]
  },
  {
   "cell_type": "markdown",
   "id": "9d5965de",
   "metadata": {},
   "source": [
    "#### Aside\n",
    "Python has other complex data structures. Eg., consider a *dictionary* which relates *keys* to *values*,"
   ]
  },
  {
   "cell_type": "code",
   "execution_count": 11,
   "id": "1cf5b578",
   "metadata": {},
   "outputs": [],
   "source": [
    "register = {\n",
    "    # KEY : VALUE\n",
    "    'Jaz': True,\n",
    "    'Sara': True,\n",
    "    'Sherlock': False\n",
    "}"
   ]
  },
  {
   "cell_type": "code",
   "execution_count": 12,
   "id": "79724acc",
   "metadata": {},
   "outputs": [
    {
     "data": {
      "text/plain": [
       "(list, dict)"
      ]
     },
     "execution_count": 12,
     "metadata": {},
     "output_type": "execute_result"
    }
   ],
   "source": [
    "type(hobbies), type(register)"
   ]
  },
  {
   "cell_type": "markdown",
   "id": "c814fd03",
   "metadata": {},
   "source": [
    "A dictionary allows you to use a named index (rather than just a *sequential* index, ie., a counted one), "
   ]
  },
  {
   "cell_type": "code",
   "execution_count": 18,
   "id": "3cf1c916",
   "metadata": {},
   "outputs": [
    {
     "data": {
      "text/plain": [
       "True"
      ]
     },
     "execution_count": 18,
     "metadata": {},
     "output_type": "execute_result"
    }
   ],
   "source": [
    "register['Jaz']"
   ]
  },
  {
   "cell_type": "markdown",
   "id": "9437ae93",
   "metadata": {},
   "source": [
    "---"
   ]
  },
  {
   "cell_type": "markdown",
   "id": "1349d205",
   "metadata": {},
   "source": [
    "### Importing"
   ]
  },
  {
   "cell_type": "markdown",
   "id": "669fdfb4",
   "metadata": {},
   "source": [
    "Q. What keyword *imports* a module?"
   ]
  },
  {
   "cell_type": "code",
   "execution_count": 21,
   "id": "e7476efe",
   "metadata": {},
   "outputs": [],
   "source": [
    "import statistics"
   ]
  },
  {
   "cell_type": "markdown",
   "id": "8bed4583",
   "metadata": {},
   "source": [
    "Q. How would I run the `mean` function ( defined *inside* the `statistics` module)?"
   ]
  },
  {
   "cell_type": "code",
   "execution_count": 23,
   "id": "4a104979",
   "metadata": {
    "scrolled": true
   },
   "outputs": [
    {
     "data": {
      "text/plain": [
       "<function statistics.mean(data)>"
      ]
     },
     "execution_count": 23,
     "metadata": {},
     "output_type": "execute_result"
    }
   ],
   "source": [
    "statistics.mean # the name of the function"
   ]
  },
  {
   "cell_type": "markdown",
   "id": "14d5bf98",
   "metadata": {},
   "source": [
    "Running the function,"
   ]
  },
  {
   "cell_type": "code",
   "execution_count": 26,
   "id": "07d52609",
   "metadata": {
    "scrolled": true
   },
   "outputs": [
    {
     "data": {
      "text/plain": [
       "4.333333333333333"
      ]
     },
     "execution_count": 26,
     "metadata": {},
     "output_type": "execute_result"
    }
   ],
   "source": [
    "statistics.mean([2, 4, 7]) # to run the function we write () parentheses after the name"
   ]
  },
  {
   "cell_type": "markdown",
   "id": "8fe487c6",
   "metadata": {},
   "source": [
    "### Summarizing Functions"
   ]
  },
  {
   "cell_type": "markdown",
   "id": "d47562be",
   "metadata": {},
   "source": [
    "Q. What built-in functions would help me describe a data-set?"
   ]
  },
  {
   "cell_type": "markdown",
   "id": "ae9e4443",
   "metadata": {},
   "source": [
    "* `len`\n",
    "* `sum`\n",
    "* `statistics.mean`\n",
    "* `statistics.median`\n",
    "* `statistics.mode`\n",
    "* `statistics.stdev`"
   ]
  },
  {
   "cell_type": "markdown",
   "id": "853ec161",
   "metadata": {},
   "source": [
    "There are `6` elements in the following list,"
   ]
  },
  {
   "cell_type": "code",
   "execution_count": 30,
   "id": "e7c9665f",
   "metadata": {},
   "outputs": [
    {
     "data": {
      "text/plain": [
       "6"
      ]
     },
     "execution_count": 30,
     "metadata": {},
     "output_type": "execute_result"
    }
   ],
   "source": [
    "cities = [0, 2, 2, 2, 2, 4]\n",
    "\n",
    "len(cities)"
   ]
  },
  {
   "cell_type": "markdown",
   "id": "c2fba544",
   "metadata": {},
   "source": [
    "---"
   ]
  },
  {
   "cell_type": "markdown",
   "id": "7c19cc69",
   "metadata": {},
   "source": [
    "### Challenges (<= 15min)\n",
    "\n",
    "#### 0. Summarizing Data \n",
    "\n",
    "* Create a new notebook in your jupyter application\n",
    "* Consider a problem of your own choosing\n",
    "    * eg., in retail, finance, health, ....\n",
    "    * consider a numerical dataset (ie., a quantitative variable = float)\n",
    "        * define a variable which is a list of numbers with **7** entries\n",
    "    * consider a categorical dataset (ie., a qualitative variable = string)\n",
    "        * define a variable which is a list of string **7** entries\n",
    "* Run the above summary functions on your lists\n",
    "    * STRETCH: neatly print out the results"
   ]
  },
  {
   "cell_type": "code",
   "execution_count": 111,
   "id": "92660eab",
   "metadata": {},
   "outputs": [],
   "source": [
    "# SOLUTION"
   ]
  },
  {
   "cell_type": "markdown",
   "id": "d0bf2417",
   "metadata": {},
   "source": [
    "    \n",
    "#### Solution 0. Summarizing Data"
   ]
  },
  {
   "cell_type": "code",
   "execution_count": 91,
   "id": "95bb38d2",
   "metadata": {},
   "outputs": [
    {
     "name": "stdout",
     "output_type": "stream",
     "text": [
      "CAFFEINE REPORT\n",
      "No. Entires:  5\n",
      "Total:  1350\n",
      "Mean:  270\n",
      "Mode:  300\n",
      "Median:  200\n",
      "\n",
      "SLEEP REPORT\n",
      "No. Entires:  5\n",
      "Mode:  GOOD\n",
      "Median:  GOOD\n"
     ]
    }
   ],
   "source": [
    "caffeine = [300, 600, 100, 200, 150]\n",
    "sleep = [\"GOOD\", \"BAD\", \"EXCELLENT\", \"GOOD\", \"OK\"]\n",
    "\n",
    "print(\"CAFFEINE REPORT\")\n",
    "print(\"No. Entires: \", len(caffeine))\n",
    "print(\"Total: \", sum(caffeine))\n",
    "print(\"Mean: \", statistics.mean(caffeine))\n",
    "print(\"Mode: \", statistics.mode(caffeine))\n",
    "print(\"Median: \", statistics.median(caffeine))\n",
    "print() # an empty line\n",
    "\n",
    "print(\"SLEEP REPORT\")\n",
    "print(\"No. Entires: \", len(sleep))\n",
    "print(\"Mode: \", statistics.mode(sleep))\n",
    "print(\"Median: \", statistics.median(sleep))\n"
   ]
  },
  {
   "cell_type": "markdown",
   "id": "37a4ecff",
   "metadata": {},
   "source": [
    "---"
   ]
  },
  {
   "cell_type": "markdown",
   "id": "4cac528f",
   "metadata": {},
   "source": [
    "## Part 1: Basic Syntax"
   ]
  },
  {
   "cell_type": "markdown",
   "id": "92b1b59e",
   "metadata": {},
   "source": [
    "### Lists"
   ]
  },
  {
   "cell_type": "markdown",
   "id": "7b889267",
   "metadata": {},
   "source": [
    "Lists are defined with square brackets,"
   ]
  },
  {
   "cell_type": "code",
   "execution_count": 44,
   "id": "3ec19e8d",
   "metadata": {},
   "outputs": [],
   "source": [
    "prices = [1.20, 2.40, 5.5]"
   ]
  },
  {
   "cell_type": "markdown",
   "id": "efc28e43",
   "metadata": {},
   "source": [
    "indexes start at zero and increase by one,"
   ]
  },
  {
   "cell_type": "code",
   "execution_count": 47,
   "id": "9eccb60c",
   "metadata": {},
   "outputs": [
    {
     "data": {
      "text/plain": [
       "(1.2, 2.4, 5.5)"
      ]
     },
     "execution_count": 47,
     "metadata": {},
     "output_type": "execute_result"
    }
   ],
   "source": [
    "prices[0], prices[1], prices[2]"
   ]
  },
  {
   "cell_type": "markdown",
   "id": "c3111135",
   "metadata": {},
   "source": [
    "We can also go backwards through a list, *ending* at `-1`, (end page: 2, also: -1)"
   ]
  },
  {
   "cell_type": "code",
   "execution_count": 49,
   "id": "9ec4cd03",
   "metadata": {},
   "outputs": [
    {
     "data": {
      "text/plain": [
       "(5.5, 2.4)"
      ]
     },
     "execution_count": 49,
     "metadata": {},
     "output_type": "execute_result"
    }
   ],
   "source": [
    "prices[-1], prices[-2]"
   ]
  },
  {
   "cell_type": "markdown",
   "id": "65fdfea6",
   "metadata": {},
   "source": [
    "Q. How do you add elements to a list?"
   ]
  },
  {
   "cell_type": "code",
   "execution_count": 70,
   "id": "ae5cb185",
   "metadata": {},
   "outputs": [],
   "source": [
    "prices.append(6.55)"
   ]
  },
  {
   "cell_type": "code",
   "execution_count": 51,
   "id": "5e56625d",
   "metadata": {},
   "outputs": [
    {
     "data": {
      "text/plain": [
       "[1.2, 2.4, 5.5, 6.55]"
      ]
     },
     "execution_count": 51,
     "metadata": {},
     "output_type": "execute_result"
    }
   ],
   "source": [
    "prices"
   ]
  },
  {
   "cell_type": "markdown",
   "id": "b22404eb",
   "metadata": {},
   "source": [
    "Q. How do you add an element *at a position*?"
   ]
  },
  {
   "cell_type": "code",
   "execution_count": 52,
   "id": "2ce4dcba",
   "metadata": {},
   "outputs": [],
   "source": [
    "prices.insert(0, 0.51)"
   ]
  },
  {
   "cell_type": "code",
   "execution_count": 53,
   "id": "a95281f1",
   "metadata": {},
   "outputs": [
    {
     "data": {
      "text/plain": [
       "[0.51, 1.2, 2.4, 5.5, 6.55]"
      ]
     },
     "execution_count": 53,
     "metadata": {},
     "output_type": "execute_result"
    }
   ],
   "source": [
    "prices"
   ]
  },
  {
   "cell_type": "markdown",
   "id": "1e115e90",
   "metadata": {},
   "source": [
    "recall, `sleep`, "
   ]
  },
  {
   "cell_type": "code",
   "execution_count": 54,
   "id": "beb4a3af",
   "metadata": {},
   "outputs": [
    {
     "data": {
      "text/plain": [
       "['GOOD', 'BAD', 'EXCELLENT', 'GOOD', 'OK']"
      ]
     },
     "execution_count": 54,
     "metadata": {},
     "output_type": "execute_result"
    }
   ],
   "source": [
    "sleep"
   ]
  },
  {
   "cell_type": "markdown",
   "id": "872bf866",
   "metadata": {},
   "source": [
    "Q. How do you count the number of entires which match a given value?"
   ]
  },
  {
   "cell_type": "code",
   "execution_count": 56,
   "id": "0937a5fb",
   "metadata": {},
   "outputs": [
    {
     "data": {
      "text/plain": [
       "2"
      ]
     },
     "execution_count": 56,
     "metadata": {},
     "output_type": "execute_result"
    }
   ],
   "source": [
    "sleep.count(\"GOOD\")"
   ]
  },
  {
   "cell_type": "markdown",
   "id": "957182a3",
   "metadata": {},
   "source": [
    "In the syntax `o.m()` we refer to the dataset `o` as an *object* and the operation which is applied to the data, a *method*. "
   ]
  },
  {
   "cell_type": "markdown",
   "id": "0331ac8e",
   "metadata": {},
   "source": [
    "### Syntax Errors"
   ]
  },
  {
   "cell_type": "markdown",
   "id": "8867a2ea",
   "metadata": {},
   "source": [
    "Learning python takes years.\n",
    "\n",
    "* learning to program (years)\n",
    "    * <font color=indigo>**learning syntax**</font> (important early skill)\n",
    "        * adjusting your *reading* to technical code \n",
    "        * not like mathematics, or literature -- both ambiguous\n",
    "        * highly precise\n",
    "    * learning algorithms\n",
    "        * and their behaviour\n",
    "    * learning phrasing\n",
    "* learning python\n",
    "    * specifics of pythons: syntax, ....\n"
   ]
  },
  {
   "cell_type": "markdown",
   "id": "0d3dead1",
   "metadata": {},
   "source": [
    "##### Equality & Assignment"
   ]
  },
  {
   "cell_type": "markdown",
   "id": "b187752d",
   "metadata": {},
   "source": [
    "In mathematics: $x = y$ is the same as $y = x$"
   ]
  },
  {
   "cell_type": "markdown",
   "id": "a83f22ea",
   "metadata": {},
   "source": [
    "In python programming `=` means *assignement*, it only reads/works *LEFT-TO-RIGHT*,"
   ]
  },
  {
   "cell_type": "code",
   "execution_count": 66,
   "id": "a6f34133",
   "metadata": {},
   "outputs": [],
   "source": [
    "name = \"Michael\""
   ]
  },
  {
   "cell_type": "code",
   "execution_count": 67,
   "id": "bde63665",
   "metadata": {},
   "outputs": [
    {
     "ename": "SyntaxError",
     "evalue": "cannot assign to literal (2134918280.py, line 1)",
     "output_type": "error",
     "traceback": [
      "\u001b[0;36m  Input \u001b[0;32mIn [67]\u001b[0;36m\u001b[0m\n\u001b[0;31m    \"Michael\" = name\u001b[0m\n\u001b[0m    ^\u001b[0m\n\u001b[0;31mSyntaxError\u001b[0m\u001b[0;31m:\u001b[0m cannot assign to literal\n"
     ]
    }
   ],
   "source": [
    "\"Michael\" = name"
   ]
  },
  {
   "cell_type": "markdown",
   "id": "21b5f20c",
   "metadata": {},
   "source": [
    "Q. What is the symbol for equality?"
   ]
  },
  {
   "cell_type": "code",
   "execution_count": 68,
   "id": "437b60b1",
   "metadata": {},
   "outputs": [
    {
     "data": {
      "text/plain": [
       "True"
      ]
     },
     "execution_count": 68,
     "metadata": {},
     "output_type": "execute_result"
    }
   ],
   "source": [
    "5 == (1 + 4)"
   ]
  },
  {
   "cell_type": "code",
   "execution_count": 69,
   "id": "e51b5973",
   "metadata": {},
   "outputs": [
    {
     "data": {
      "text/plain": [
       "True"
      ]
     },
     "execution_count": 69,
     "metadata": {},
     "output_type": "execute_result"
    }
   ],
   "source": [
    "(1 + 4) == 5"
   ]
  },
  {
   "cell_type": "markdown",
   "id": "5bcfe7ea",
   "metadata": {},
   "source": [
    "##### Quotes"
   ]
  },
  {
   "cell_type": "markdown",
   "id": "de7a3f0d",
   "metadata": {},
   "source": [
    "Quotes need to be exact,"
   ]
  },
  {
   "cell_type": "code",
   "execution_count": 57,
   "id": "c936760e",
   "metadata": {},
   "outputs": [
    {
     "ename": "SyntaxError",
     "evalue": "EOL while scanning string literal (3403272755.py, line 1)",
     "output_type": "error",
     "traceback": [
      "\u001b[0;36m  Input \u001b[0;32mIn [57]\u001b[0;36m\u001b[0m\n\u001b[0;31m    \" Hello   '\u001b[0m\n\u001b[0m               ^\u001b[0m\n\u001b[0;31mSyntaxError\u001b[0m\u001b[0;31m:\u001b[0m EOL while scanning string literal\n"
     ]
    }
   ],
   "source": [
    "\" Hello   '"
   ]
  },
  {
   "cell_type": "markdown",
   "id": "8071fee8",
   "metadata": {},
   "source": [
    "##### Brackets"
   ]
  },
  {
   "cell_type": "markdown",
   "id": "aa57b5c5",
   "metadata": {},
   "source": [
    "* `()` parentheses\n",
    "* `[]` square brackets\n",
    "* `{}` braces"
   ]
  },
  {
   "cell_type": "code",
   "execution_count": 59,
   "id": "2b6c0ec1",
   "metadata": {},
   "outputs": [
    {
     "ename": "TypeError",
     "evalue": "'list' object is not callable",
     "output_type": "error",
     "traceback": [
      "\u001b[0;31m---------------------------------------------------------------------------\u001b[0m",
      "\u001b[0;31mTypeError\u001b[0m                                 Traceback (most recent call last)",
      "Input \u001b[0;32mIn [59]\u001b[0m, in \u001b[0;36m<cell line: 1>\u001b[0;34m()\u001b[0m\n\u001b[0;32m----> 1\u001b[0m \u001b[43mprices\u001b[49m\u001b[43m(\u001b[49m\u001b[38;5;241;43m0\u001b[39;49m\u001b[43m)\u001b[49m\n",
      "\u001b[0;31mTypeError\u001b[0m: 'list' object is not callable"
     ]
    }
   ],
   "source": [
    "prices(0)"
   ]
  },
  {
   "cell_type": "markdown",
   "id": "39b620bb",
   "metadata": {},
   "source": [
    "Q. Rather than *parentheses*, we should use..?"
   ]
  },
  {
   "cell_type": "code",
   "execution_count": 60,
   "id": "90691e52",
   "metadata": {},
   "outputs": [
    {
     "data": {
      "text/plain": [
       "0.51"
      ]
     },
     "execution_count": 60,
     "metadata": {},
     "output_type": "execute_result"
    }
   ],
   "source": [
    "prices[0]"
   ]
  },
  {
   "cell_type": "markdown",
   "id": "9a1cc340",
   "metadata": {},
   "source": [
    "---"
   ]
  },
  {
   "cell_type": "markdown",
   "id": "3dea12ca",
   "metadata": {},
   "source": [
    "##### Aside: Examples of Brackets in Python"
   ]
  },
  {
   "cell_type": "markdown",
   "id": "c255f9ec",
   "metadata": {},
   "source": [
    "Running a function,"
   ]
  },
  {
   "cell_type": "code",
   "execution_count": 61,
   "id": "4d248d47",
   "metadata": {},
   "outputs": [
    {
     "name": "stdout",
     "output_type": "stream",
     "text": [
      "Running a function\n"
     ]
    }
   ],
   "source": [
    "print(\"Running a function\")"
   ]
  },
  {
   "cell_type": "markdown",
   "id": "40933908",
   "metadata": {},
   "source": [
    "Grouping mathematical operations,"
   ]
  },
  {
   "cell_type": "code",
   "execution_count": 62,
   "id": "097f46a9",
   "metadata": {},
   "outputs": [
    {
     "data": {
      "text/plain": [
       "16"
      ]
     },
     "execution_count": 62,
     "metadata": {},
     "output_type": "execute_result"
    }
   ],
   "source": [
    "(2 * 3) + 10"
   ]
  },
  {
   "cell_type": "markdown",
   "id": "855e72b5",
   "metadata": {},
   "source": [
    "*tuples* (are like lists) are often presented in parentheses, *tuples* do as much as lists do, *except* they cant be modified,"
   ]
  },
  {
   "cell_type": "code",
   "execution_count": 63,
   "id": "745183d3",
   "metadata": {},
   "outputs": [],
   "source": [
    "pair = (1, 2)"
   ]
  },
  {
   "cell_type": "markdown",
   "id": "0b5b850b",
   "metadata": {},
   "source": [
    "In python square brakets are *always* indexes,"
   ]
  },
  {
   "cell_type": "code",
   "execution_count": 64,
   "id": "7de251f4",
   "metadata": {},
   "outputs": [
    {
     "data": {
      "text/plain": [
       "'Sailing'"
      ]
     },
     "execution_count": 64,
     "metadata": {},
     "output_type": "execute_result"
    }
   ],
   "source": [
    "hobbies[0]"
   ]
  },
  {
   "cell_type": "markdown",
   "id": "4aca3a7e",
   "metadata": {},
   "source": [
    "There are two uses of braces (dictionaries, and sets),"
   ]
  },
  {
   "cell_type": "code",
   "execution_count": 65,
   "id": "c94bf97e",
   "metadata": {},
   "outputs": [],
   "source": [
    "eg = {\"Ham\": 10, \"Bread\": 3}\n",
    "\n",
    "people = {\"Alice\", \"Eve\", \"Bob\"}"
   ]
  },
  {
   "cell_type": "markdown",
   "id": "3a942af7",
   "metadata": {},
   "source": [
    "----"
   ]
  },
  {
   "cell_type": "markdown",
   "id": "4bf1ae8d",
   "metadata": {},
   "source": [
    "### Comparisons & Tests"
   ]
  },
  {
   "cell_type": "markdown",
   "id": "b22e9277",
   "metadata": {},
   "source": [
    "Recall the variables defined earlier,"
   ]
  },
  {
   "cell_type": "code",
   "execution_count": 72,
   "id": "b34be303",
   "metadata": {},
   "outputs": [
    {
     "name": "stdout",
     "output_type": "stream",
     "text": [
      "Michael 33 1.81 True\n"
     ]
    }
   ],
   "source": [
    "print(name, age, height, is_tired)"
   ]
  },
  {
   "cell_type": "markdown",
   "id": "40a051d0",
   "metadata": {},
   "source": [
    "Q. What would I write to determine if i were: an adult?"
   ]
  },
  {
   "cell_type": "code",
   "execution_count": 75,
   "id": "cb52e53f",
   "metadata": {},
   "outputs": [
    {
     "data": {
      "text/plain": [
       "True"
      ]
     },
     "execution_count": 75,
     "metadata": {},
     "output_type": "execute_result"
    }
   ],
   "source": [
    "age >= 18 # operator = symbol"
   ]
  },
  {
   "cell_type": "markdown",
   "id": "59e36ca5",
   "metadata": {},
   "source": [
    "Q. How would I determine if my name starts with an `M` ?"
   ]
  },
  {
   "cell_type": "code",
   "execution_count": 76,
   "id": "36791178",
   "metadata": {},
   "outputs": [
    {
     "data": {
      "text/plain": [
       "True"
      ]
     },
     "execution_count": 76,
     "metadata": {},
     "output_type": "execute_result"
    }
   ],
   "source": [
    "name.startswith(\"M\") # method = name of an operation"
   ]
  },
  {
   "cell_type": "markdown",
   "id": "e56833e6",
   "metadata": {},
   "source": [
    "Q. How would I determine if my age is an odd number?"
   ]
  },
  {
   "cell_type": "code",
   "execution_count": 78,
   "id": "b40aef54",
   "metadata": {},
   "outputs": [
    {
     "data": {
      "text/plain": [
       "1"
      ]
     },
     "execution_count": 78,
     "metadata": {},
     "output_type": "execute_result"
    }
   ],
   "source": [
    "age % 2 # The remainder when age is divided by 2"
   ]
  },
  {
   "cell_type": "code",
   "execution_count": 79,
   "id": "079cf7fc",
   "metadata": {},
   "outputs": [
    {
     "data": {
      "text/plain": [
       "True"
      ]
     },
     "execution_count": 79,
     "metadata": {},
     "output_type": "execute_result"
    }
   ],
   "source": [
    "age % 2 == 1"
   ]
  },
  {
   "cell_type": "markdown",
   "id": "26ebf70e",
   "metadata": {},
   "source": [
    "We usually write whether `age % 2` *is not* `0`, ie., is not even,"
   ]
  },
  {
   "cell_type": "code",
   "execution_count": 80,
   "id": "1c8b133e",
   "metadata": {},
   "outputs": [
    {
     "data": {
      "text/plain": [
       "True"
      ]
     },
     "execution_count": 80,
     "metadata": {},
     "output_type": "execute_result"
    }
   ],
   "source": [
    "age % 2 != 0"
   ]
  },
  {
   "cell_type": "markdown",
   "id": "bc95d0ea",
   "metadata": {},
   "source": [
    "### Logical Combinations of Comparisons (Tests)"
   ]
  },
  {
   "cell_type": "markdown",
   "id": "e32b6d5a",
   "metadata": {},
   "source": [
    "We can ask for *both* conditions to be true,"
   ]
  },
  {
   "cell_type": "code",
   "execution_count": 98,
   "id": "b4dc64d9",
   "metadata": {},
   "outputs": [
    {
     "data": {
      "text/plain": [
       "False"
      ]
     },
     "execution_count": 98,
     "metadata": {},
     "output_type": "execute_result"
    }
   ],
   "source": [
    "(age >= 18) and (age % 2 == 0) # both that age is >=18    AND    that age is even"
   ]
  },
  {
   "cell_type": "markdown",
   "id": "927abbb0",
   "metadata": {},
   "source": [
    "Or either,"
   ]
  },
  {
   "cell_type": "code",
   "execution_count": 99,
   "id": "6963e749",
   "metadata": {},
   "outputs": [
    {
     "data": {
      "text/plain": [
       "True"
      ]
     },
     "execution_count": 99,
     "metadata": {},
     "output_type": "execute_result"
    }
   ],
   "source": [
    "(age >= 18) or (age % 2 == 0) # either that age is >=18    OR    that age is even"
   ]
  },
  {
   "cell_type": "markdown",
   "id": "92b5e921",
   "metadata": {},
   "source": [
    "Or that they arent true,"
   ]
  },
  {
   "cell_type": "code",
   "execution_count": 101,
   "id": "285916cc",
   "metadata": {},
   "outputs": [
    {
     "data": {
      "text/plain": [
       "True"
      ]
     },
     "execution_count": 101,
     "metadata": {},
     "output_type": "execute_result"
    }
   ],
   "source": [
    "not ((age >= 18) and (age % 2 == 0)) # not that both..."
   ]
  },
  {
   "cell_type": "markdown",
   "id": "015382b1",
   "metadata": {},
   "source": [
    "### Decision-Making"
   ]
  },
  {
   "cell_type": "markdown",
   "id": "3645ce5a",
   "metadata": {},
   "source": [
    "```python\n",
    "if ...:\n",
    "    action\n",
    "```"
   ]
  },
  {
   "cell_type": "markdown",
   "id": "d2b779f7",
   "metadata": {},
   "source": [
    "Q. What are the other keywords I can use to specialize or expand an `if`?"
   ]
  },
  {
   "cell_type": "markdown",
   "id": "54453b6d",
   "metadata": {},
   "source": [
    "```python\n",
    "if ...:\n",
    "    ...\n",
    "elif:\n",
    "    ...\n",
    "else:\n",
    "    ...\n",
    "```"
   ]
  },
  {
   "cell_type": "markdown",
   "id": "eaea6113",
   "metadata": {},
   "source": [
    "Suppose I want to perform some number of actions based on some tests. Eg., suppose 4 different actions. \n",
    "\n",
    "```python\n",
    "\n",
    "if ....:\n",
    "    ACTION1\n",
    "elif ...:\n",
    "    ACTION2\n",
    "elif ...:\n",
    "    ACTION3\n",
    "else:\n",
    "    ACTION4\n",
    "```"
   ]
  },
  {
   "cell_type": "markdown",
   "id": "fc1f9190",
   "metadata": {},
   "source": [
    "Only one group of statements is performed, statements are *grouped* using indentation *whitespace*,"
   ]
  },
  {
   "cell_type": "code",
   "execution_count": 172,
   "id": "e8de7020",
   "metadata": {},
   "outputs": [
    {
     "name": "stdout",
     "output_type": "stream",
     "text": [
      "I am at least 81\n"
     ]
    }
   ],
   "source": [
    "\n",
    "age = 81\n",
    "#Q. What action will be performed?\n",
    "\n",
    "if (age >= 18) and (age <= 80):\n",
    "    #Q. What age am I here?\n",
    "    print(\"I am at least 18\")\n",
    "    print(\"I am at least 18\")\n",
    "    print(\"I am at least 18\")\n",
    "    # these three statements execute because they are indented to the same level\n",
    "elif age > 80:\n",
    "    #Q. What age am I here?\n",
    "    print(\"I am at least 81\")\n",
    "else:\n",
    "    #Q. What age am I here?\n",
    "    print(\"I am less than 18\")\n"
   ]
  },
  {
   "cell_type": "markdown",
   "id": "d0c5fddb",
   "metadata": {},
   "source": [
    "Note, `else` and other clauses are optional,"
   ]
  },
  {
   "cell_type": "code",
   "execution_count": 165,
   "id": "9bead661",
   "metadata": {},
   "outputs": [
    {
     "name": "stdout",
     "output_type": "stream",
     "text": [
      "Hello people!\n",
      "DISPENSE drink!\n",
      "Bye people!\n"
     ]
    }
   ],
   "source": [
    "print(\"Hello people!\")\n",
    "if age >= 18:\n",
    "    print(\"DISPENSE drink!\")\n",
    "print(\"Bye people!\")"
   ]
  },
  {
   "cell_type": "markdown",
   "id": "06bccfc5",
   "metadata": {},
   "source": [
    "---"
   ]
  },
  {
   "cell_type": "markdown",
   "id": "cac25bd4",
   "metadata": {},
   "source": [
    "### Challenges "
   ]
  },
  {
   "cell_type": "markdown",
   "id": "7fe6e4f6",
   "metadata": {},
   "source": [
    "* copy the code to your own notebook\n",
    "    * and complete the challenge"
   ]
  },
  {
   "cell_type": "markdown",
   "id": "d2fd1343",
   "metadata": {},
   "source": [
    "#### Challenge 1a. Syntax Errors"
   ]
  },
  {
   "cell_type": "markdown",
   "id": "748bd3bf",
   "metadata": {},
   "source": [
    "Fix the syntax in the following example,"
   ]
  },
  {
   "cell_type": "code",
   "execution_count": 93,
   "id": "19760524",
   "metadata": {},
   "outputs": [
    {
     "ename": "SyntaxError",
     "evalue": "invalid syntax (924352493.py, line 1)",
     "output_type": "error",
     "traceback": [
      "\u001b[0;36m  Input \u001b[0;32mIn [93]\u001b[0;36m\u001b[0m\n\u001b[0;31m    prices = [2, 4, 6 8)\u001b[0m\n\u001b[0m                      ^\u001b[0m\n\u001b[0;31mSyntaxError\u001b[0m\u001b[0;31m:\u001b[0m invalid syntax\n"
     ]
    }
   ],
   "source": [
    "ages = [12, 41, 61 18)\n",
    "\n",
    "print(len[ages])\n",
    "print(ages[-1])"
   ]
  },
  {
   "cell_type": "markdown",
   "id": "8f515473",
   "metadata": {},
   "source": [
    "#### Challenge 1b. Comparisons & Tests: Odd Numbers"
   ]
  },
  {
   "cell_type": "code",
   "execution_count": 95,
   "id": "02bbd4f5",
   "metadata": {},
   "outputs": [],
   "source": [
    "prices = [1, 3, 4, 5, 9]"
   ]
  },
  {
   "cell_type": "markdown",
   "id": "7b756933",
   "metadata": {},
   "source": [
    "Select the first price,"
   ]
  },
  {
   "cell_type": "code",
   "execution_count": null,
   "id": "621bd5e4",
   "metadata": {},
   "outputs": [],
   "source": [
    "# SOLUTION"
   ]
  },
  {
   "cell_type": "markdown",
   "id": "e4c35820",
   "metadata": {},
   "source": [
    "Determine if the price is odd"
   ]
  },
  {
   "cell_type": "code",
   "execution_count": null,
   "id": "ed7c4566",
   "metadata": {},
   "outputs": [],
   "source": [
    "# SOLUTION"
   ]
  },
  {
   "cell_type": "markdown",
   "id": "0da4901d",
   "metadata": {},
   "source": [
    "#### Challenge 1c. Comparisons & Tests: Prefixes"
   ]
  },
  {
   "cell_type": "code",
   "execution_count": 96,
   "id": "d02f2a8a",
   "metadata": {},
   "outputs": [],
   "source": [
    "address = \"London, United Kingdom\""
   ]
  },
  {
   "cell_type": "markdown",
   "id": "87a4f005",
   "metadata": {},
   "source": [
    "Using `.startswith` and `.endswith`, determine if the address starts with \"London\" and ends with \"Texas\","
   ]
  },
  {
   "cell_type": "code",
   "execution_count": null,
   "id": "b48840af",
   "metadata": {},
   "outputs": [],
   "source": [
    "# SOLUTION"
   ]
  },
  {
   "cell_type": "markdown",
   "id": "c3117847",
   "metadata": {},
   "source": [
    "#### Challenge 1d. Decision-Making"
   ]
  },
  {
   "cell_type": "markdown",
   "id": "1fb6b364",
   "metadata": {},
   "source": [
    "* If the address starts with \"London\" *and* ends with \"United Kingdom\", print \"Welcome to the UK capital!\".\n",
    "* Otherwise if it ends with \"Texas\", print \"Welcome to Kimble!\"\n",
    "* Otherwise, print \"Hi, wherever you are!\""
   ]
  },
  {
   "cell_type": "code",
   "execution_count": null,
   "id": "b18f0c70",
   "metadata": {},
   "outputs": [],
   "source": [
    "# SOLUTION"
   ]
  },
  {
   "cell_type": "markdown",
   "id": "2f70b8d7",
   "metadata": {},
   "source": [
    "#### Challenge 1e. STRETCH CHALLENGE\n",
    "\n",
    "If you finish the above challenges quickly, modify your summary report (completed earlier) and use various tests and decision-making syntax (if, else, etc.) to expand the report. (Eg., test the means, modes, ...)"
   ]
  },
  {
   "cell_type": "markdown",
   "id": "68e91c21",
   "metadata": {},
   "source": [
    "### Solutions"
   ]
  },
  {
   "cell_type": "code",
   "execution_count": 115,
   "id": "f5610978",
   "metadata": {},
   "outputs": [
    {
     "name": "stdout",
     "output_type": "stream",
     "text": [
      "4\n",
      "18\n"
     ]
    }
   ],
   "source": [
    "#1.              COMMA   BRAKET\n",
    "ages = [12, 41, 61, 18]\n",
    "\n",
    "#2.    PARENTHESES\n",
    "print(len(ages))\n",
    "\n",
    "#3. NO ISSUE\n",
    "print(ages[-1]) # -1 is an index which refers to the *last* element"
   ]
  },
  {
   "cell_type": "code",
   "execution_count": 95,
   "id": "6a672d25",
   "metadata": {},
   "outputs": [],
   "source": [
    "prices = [1, 3, 4, 5, 9]"
   ]
  },
  {
   "cell_type": "code",
   "execution_count": 116,
   "id": "d939224d",
   "metadata": {},
   "outputs": [
    {
     "data": {
      "text/plain": [
       "1"
      ]
     },
     "execution_count": 116,
     "metadata": {},
     "output_type": "execute_result"
    }
   ],
   "source": [
    "prices[0]"
   ]
  },
  {
   "cell_type": "code",
   "execution_count": 120,
   "id": "086cdf50",
   "metadata": {},
   "outputs": [
    {
     "data": {
      "text/plain": [
       "True"
      ]
     },
     "execution_count": 120,
     "metadata": {},
     "output_type": "execute_result"
    }
   ],
   "source": [
    "prices[0] % 2 != 0"
   ]
  },
  {
   "cell_type": "code",
   "execution_count": 117,
   "id": "2d5dda8d",
   "metadata": {},
   "outputs": [],
   "source": [
    "address = \"London, United Kingdom\""
   ]
  },
  {
   "cell_type": "code",
   "execution_count": 122,
   "id": "813867cc",
   "metadata": {},
   "outputs": [
    {
     "data": {
      "text/plain": [
       "True"
      ]
     },
     "execution_count": 122,
     "metadata": {},
     "output_type": "execute_result"
    }
   ],
   "source": [
    "address.startswith(\"London\")"
   ]
  },
  {
   "cell_type": "code",
   "execution_count": 123,
   "id": "b18087ac",
   "metadata": {},
   "outputs": [
    {
     "data": {
      "text/plain": [
       "False"
      ]
     },
     "execution_count": 123,
     "metadata": {},
     "output_type": "execute_result"
    }
   ],
   "source": [
    "address.endswith(\"London\")"
   ]
  },
  {
   "cell_type": "code",
   "execution_count": 124,
   "id": "8ce4c5b4",
   "metadata": {},
   "outputs": [
    {
     "data": {
      "text/plain": [
       "False"
      ]
     },
     "execution_count": 124,
     "metadata": {},
     "output_type": "execute_result"
    }
   ],
   "source": [
    "address.startswith(\"London\") and address.endswith(\"Texas\")"
   ]
  },
  {
   "cell_type": "markdown",
   "id": "3f828111",
   "metadata": {},
   "source": [
    "If you get a working if/else, great... the acutal solution doesnt matter,"
   ]
  },
  {
   "cell_type": "code",
   "execution_count": 126,
   "id": "04e9b0a6",
   "metadata": {
    "scrolled": true
   },
   "outputs": [
    {
     "name": "stdout",
     "output_type": "stream",
     "text": [
      "Welcome to the UK\n"
     ]
    }
   ],
   "source": [
    "if address.startswith(\"London\")   and    address.endswith(\"United Kingdom\"):\n",
    "    print(\"Welcome to the UK\")\n",
    "elif address.startswith(\"London\") and    address.endswith(\"Texas\"):\n",
    "    print(\"Welcome to Texas\")\n",
    "else:\n",
    "    print(\"Hi, wherever you are!\")"
   ]
  },
  {
   "cell_type": "markdown",
   "id": "048fc501",
   "metadata": {},
   "source": [
    "---"
   ]
  },
  {
   "cell_type": "markdown",
   "id": "94cf8d5c",
   "metadata": {},
   "source": [
    "## Part 2: Looping "
   ]
  },
  {
   "cell_type": "markdown",
   "id": "6a0eb874",
   "metadata": {},
   "source": [
    "#### Looping"
   ]
  },
  {
   "cell_type": "markdown",
   "id": "375aafc0",
   "metadata": {},
   "source": [
    "So far we've applied operations to single entires in lists,"
   ]
  },
  {
   "cell_type": "code",
   "execution_count": 152,
   "id": "ec3b1306",
   "metadata": {},
   "outputs": [
    {
     "data": {
      "text/plain": [
       "['London, UK', 'Manchester, UK', 'Paris, FR']"
      ]
     },
     "execution_count": 152,
     "metadata": {},
     "output_type": "execute_result"
    }
   ],
   "source": [
    "cities = [\"London, UK\", \"Manchester, UK\", \"Paris, FR\"]\n",
    "cities"
   ]
  },
  {
   "cell_type": "markdown",
   "id": "4c8b4213",
   "metadata": {},
   "source": [
    "Q. How do I apply an operation to *every* entry? (What's the *keyword*...)"
   ]
  },
  {
   "cell_type": "code",
   "execution_count": 153,
   "id": "3b7a48a9",
   "metadata": {},
   "outputs": [
    {
     "name": "stdout",
     "output_type": "stream",
     "text": [
      "London, UK\n",
      "Manchester, UK\n",
      "Paris, FR\n"
     ]
    }
   ],
   "source": [
    "for c in cities:\n",
    "    print(c)"
   ]
  },
  {
   "cell_type": "markdown",
   "id": "74f2f16d",
   "metadata": {},
   "source": [
    "Recall, indentation is important,"
   ]
  },
  {
   "cell_type": "code",
   "execution_count": 154,
   "id": "7af1ae64",
   "metadata": {},
   "outputs": [
    {
     "name": "stdout",
     "output_type": "stream",
     "text": [
      "BEFORE\n",
      "London, UK\n",
      "London, UK\n",
      "Manchester, UK\n",
      "Manchester, UK\n",
      "Paris, FR\n",
      "Paris, FR\n",
      "AFTER\n"
     ]
    }
   ],
   "source": [
    "print(\"BEFORE\")\n",
    "for city in cities:\n",
    "    print(city)\n",
    "    print(city)\n",
    "print(\"AFTER\")"
   ]
  },
  {
   "cell_type": "markdown",
   "id": "ac34bfe4",
   "metadata": {},
   "source": [
    "### Reading Loops\n",
    "\n",
    "How do you *read* this syntax? What does it do?"
   ]
  },
  {
   "cell_type": "markdown",
   "id": "1bfc1b35",
   "metadata": {},
   "source": [
    "We could manually write it out,"
   ]
  },
  {
   "cell_type": "code",
   "execution_count": 155,
   "id": "f71c3766",
   "metadata": {},
   "outputs": [
    {
     "name": "stdout",
     "output_type": "stream",
     "text": [
      "London, UK\n",
      "Manchester, UK\n",
      "Paris, FR\n"
     ]
    }
   ],
   "source": [
    "# SET the variable p to be the first price\n",
    "p = cities[0]\n",
    "print(p) # REPEAT\n",
    "\n",
    "# then the second\n",
    "p = cities[1]\n",
    "print(p)  # REPEAT\n",
    "\n",
    "# until the last\n",
    "p = cities[2]\n",
    "print(p) # REPEAT\n"
   ]
  },
  {
   "cell_type": "code",
   "execution_count": 156,
   "id": "53f64ed4",
   "metadata": {},
   "outputs": [
    {
     "name": "stdout",
     "output_type": "stream",
     "text": [
      "London, UK\n",
      "Manchester, UK\n",
      "Paris, FR\n"
     ]
    }
   ],
   "source": [
    "#   c = cities[0] ... cities[2]\n",
    "for c in cities:\n",
    "    print(c)"
   ]
  },
  {
   "cell_type": "markdown",
   "id": "925b73a1",
   "metadata": {},
   "source": [
    "#### Looping & Filtering"
   ]
  },
  {
   "cell_type": "markdown",
   "id": "86764f44",
   "metadata": {},
   "source": [
    "Q. How do I filter elements of data in a dataset, as I loop over them?"
   ]
  },
  {
   "cell_type": "code",
   "execution_count": 158,
   "id": "6c6b29ad",
   "metadata": {},
   "outputs": [
    {
     "name": "stdout",
     "output_type": "stream",
     "text": [
      "London, UK\n",
      "Manchester, UK\n"
     ]
    }
   ],
   "source": [
    "for city in cities:\n",
    "    if city.endswith(\"UK\"):\n",
    "        print(city)"
   ]
  },
  {
   "cell_type": "markdown",
   "id": "60ee73fc",
   "metadata": {},
   "source": [
    "### Further Examples of Looping"
   ]
  },
  {
   "cell_type": "code",
   "execution_count": 160,
   "id": "336664a4",
   "metadata": {},
   "outputs": [],
   "source": [
    "ratings = [4, 7, 7, 8, 9]"
   ]
  },
  {
   "cell_type": "markdown",
   "id": "ee09d266",
   "metadata": {},
   "source": [
    "Suppose I want to count the number of elements above `5`, "
   ]
  },
  {
   "cell_type": "code",
   "execution_count": 162,
   "id": "29953273",
   "metadata": {},
   "outputs": [
    {
     "name": "stdout",
     "output_type": "stream",
     "text": [
      "4\n"
     ]
    }
   ],
   "source": [
    "count = 0\n",
    "\n",
    "for r in ratings:\n",
    "    if r > 5:\n",
    "        # SET count =  old-count + 1\n",
    "        count       =  count     + 1\n",
    "\n",
    "print(count)"
   ]
  },
  {
   "cell_type": "markdown",
   "id": "98c796a3",
   "metadata": {},
   "source": [
    "---"
   ]
  },
  {
   "cell_type": "markdown",
   "id": "08d99a1f",
   "metadata": {},
   "source": [
    "### Challenges"
   ]
  },
  {
   "cell_type": "markdown",
   "id": "08a7caf0",
   "metadata": {},
   "source": [
    "#### Challenge 2a. Looping: Even Numbers"
   ]
  },
  {
   "cell_type": "markdown",
   "id": "1e06ddd2",
   "metadata": {},
   "source": [
    "* define `dinner_guests` in which each entry represents a group arriving for dinner at a restaurant\n",
    "* print() each number which is even\n",
    "    * aside: why would a restaurant want to know which groups were even?\n",
    "    * possible answer: seating, table arragement, etc."
   ]
  },
  {
   "cell_type": "code",
   "execution_count": 107,
   "id": "c7b29353",
   "metadata": {},
   "outputs": [],
   "source": [
    "# SOLUTION"
   ]
  },
  {
   "cell_type": "code",
   "execution_count": 173,
   "id": "7c0df2f9",
   "metadata": {},
   "outputs": [],
   "source": [
    "dinner_guests = [3, 5, 8, 6]"
   ]
  },
  {
   "cell_type": "code",
   "execution_count": 174,
   "id": "e3c27395",
   "metadata": {},
   "outputs": [
    {
     "name": "stdout",
     "output_type": "stream",
     "text": [
      "3\n",
      "5\n",
      "8\n",
      "6\n"
     ]
    }
   ],
   "source": [
    "for d in dinner_guests:\n",
    "    print(d)"
   ]
  },
  {
   "cell_type": "code",
   "execution_count": 175,
   "id": "c1b76fa1",
   "metadata": {},
   "outputs": [
    {
     "name": "stdout",
     "output_type": "stream",
     "text": [
      "8\n",
      "6\n"
     ]
    }
   ],
   "source": [
    "for d in dinner_guests:\n",
    "    # Q. how do I modify the above?\n",
    "    # Q. what test do I use?\n",
    "    if d % 2 == 0:\n",
    "        print(d)"
   ]
  },
  {
   "cell_type": "markdown",
   "id": "b3278644",
   "metadata": {},
   "source": [
    "#### Challenge 2b. Looping: Averages\n",
    "* compute the total of all the numbers using a loop\n",
    "* report the total and the mean after the loop\n",
    "    * using `len()` with the total\n"
   ]
  },
  {
   "cell_type": "code",
   "execution_count": 108,
   "id": "11409bfc",
   "metadata": {},
   "outputs": [],
   "source": [
    "# SOLUTION"
   ]
  },
  {
   "cell_type": "code",
   "execution_count": 189,
   "id": "6691658f",
   "metadata": {},
   "outputs": [
    {
     "name": "stdout",
     "output_type": "stream",
     "text": [
      "Total: 22\n",
      "Mean: 5.5\n"
     ]
    }
   ],
   "source": [
    "total = 0\n",
    "for d in dinner_guests:\n",
    "    # Q. what is the RHS here?\n",
    "    \n",
    "    total = total + d\n",
    "\n",
    "print(\"Total:\", total)\n",
    "print(\"Mean:\", total / len(dinner_guests)) # mean = total / count "
   ]
  },
  {
   "cell_type": "markdown",
   "id": "55f78cee",
   "metadata": {},
   "source": [
    "#### Challenge 2c. Looping: Filtering\n",
    "* compute a total *of just* the odd numbers\n",
    "* compute a total *of just* the even numbers\n",
    "* report their totals seperately"
   ]
  },
  {
   "cell_type": "code",
   "execution_count": 109,
   "id": "6cbef6ca",
   "metadata": {},
   "outputs": [],
   "source": [
    "# SOLUTION"
   ]
  },
  {
   "cell_type": "code",
   "execution_count": 178,
   "id": "15591fa2",
   "metadata": {},
   "outputs": [
    {
     "name": "stdout",
     "output_type": "stream",
     "text": [
      "3\n",
      "5\n",
      "8\n",
      "6\n"
     ]
    }
   ],
   "source": [
    "for d in dinner_guests:\n",
    "    # Q. how do I modify this to also print the odd numbers?\n",
    "    if d % 2 == 0:\n",
    "        print(d)\n",
    "    else:\n",
    "        print(d)"
   ]
  },
  {
   "cell_type": "code",
   "execution_count": 185,
   "id": "8b86c767",
   "metadata": {},
   "outputs": [
    {
     "name": "stdout",
     "output_type": "stream",
     "text": [
      "Total Odd: 8\n",
      "Total Even: 14\n"
     ]
    }
   ],
   "source": [
    "# Q. how many totals am I tracking?\n",
    "total_odd = 0\n",
    "total_even = 0\n",
    "\n",
    "for d in dinner_guests:\n",
    "    # Q. rather than print, I update....\n",
    "    if d % 2 == 0:\n",
    "        total_even = total_even + d\n",
    "    else:\n",
    "        total_odd = total_odd + d\n",
    "        \n",
    "print(\"Total Odd:\", total_odd )\n",
    "print(\"Total Even:\", total_even )"
   ]
  },
  {
   "cell_type": "markdown",
   "id": "009543b9",
   "metadata": {},
   "source": [
    "If we wanted averages, we would need a count also,"
   ]
  },
  {
   "cell_type": "code",
   "execution_count": 184,
   "id": "50c9fec7",
   "metadata": {},
   "outputs": [
    {
     "name": "stdout",
     "output_type": "stream",
     "text": [
      "EVEN Avg: 7.0\n",
      "ODD Avg: 4.0\n"
     ]
    }
   ],
   "source": [
    "# Q. how many totals am I tracking?\n",
    "total_odd = 0\n",
    "count_odd = 0\n",
    "\n",
    "total_even = 0\n",
    "count_even = 0\n",
    "\n",
    "for d in dinner_guests:\n",
    "    # Q. rather than print, I update....\n",
    "    if d % 2 == 0:\n",
    "        total_even = total_even + d\n",
    "        count_even = count_even + 1\n",
    "    else:\n",
    "        total_odd = total_odd + d\n",
    "        count_odd = count_odd + 1\n",
    "        \n",
    "print(\"EVEN Avg:\", total_even/count_even)\n",
    "print(\"ODD Avg:\", total_odd/count_odd)"
   ]
  },
  {
   "cell_type": "markdown",
   "id": "1fa1274c",
   "metadata": {},
   "source": [
    "#### Challenge 2d. STRETCH: Looping: Maximums & Minimums"
   ]
  },
  {
   "cell_type": "markdown",
   "id": "289fcbe2",
   "metadata": {},
   "source": [
    "If you get the above challenges done quickly, find the maximum and minimum group size using a loop (ie., not using `min`, `max`, etc.).\n",
    "\n",
    "HINT: You'll need a variable for each defined before the loop (eg., `min_entry`, `max_entry`) and these should be initialized to a useful starting value..."
   ]
  },
  {
   "cell_type": "code",
   "execution_count": 110,
   "id": "caabf2f4",
   "metadata": {},
   "outputs": [],
   "source": [
    "# SOLUTION"
   ]
  },
  {
   "cell_type": "code",
   "execution_count": 188,
   "id": "93f81e52",
   "metadata": {},
   "outputs": [
    {
     "name": "stdout",
     "output_type": "stream",
     "text": [
      "3\n",
      "3\n"
     ]
    }
   ],
   "source": [
    "min_entry = dinner_guests[0]\n",
    "\n",
    "for d in dinner_guests:\n",
    "    if d < min_entry:\n",
    "        min_entry = d\n",
    "\n",
    "print(min_entry)\n",
    "print(min(dinner_guests))"
   ]
  },
  {
   "cell_type": "markdown",
   "id": "82e74b49",
   "metadata": {},
   "source": [
    "---"
   ]
  },
  {
   "cell_type": "markdown",
   "id": "b46bd9fb",
   "metadata": {},
   "source": [
    "## Part 3: Advanced Syntax"
   ]
  },
  {
   "cell_type": "markdown",
   "id": "9c8bb640",
   "metadata": {},
   "source": [
    "#### Functions"
   ]
  },
  {
   "cell_type": "markdown",
   "id": "cb184208",
   "metadata": {},
   "source": [
    "#### Error Handling"
   ]
  },
  {
   "cell_type": "markdown",
   "id": "7ea3d24f",
   "metadata": {},
   "source": [
    "### Challenges "
   ]
  },
  {
   "cell_type": "markdown",
   "id": "43ffb866",
   "metadata": {},
   "source": [
    "#### Challenge 3a: Functions"
   ]
  },
  {
   "cell_type": "markdown",
   "id": "576b8591",
   "metadata": {},
   "source": [
    "* define a summary function \n",
    "    * which requires two *arguments*: numerical, categorical\n",
    "    * and prints a statistical summary of both"
   ]
  },
  {
   "cell_type": "markdown",
   "id": "d799319f",
   "metadata": {},
   "source": [
    "#### Challenge 3b: Error Handling: Conversions"
   ]
  },
  {
   "cell_type": "markdown",
   "id": "111ddf69",
   "metadata": {},
   "source": [
    "* modify your above code to `try` to perform the summary functions which are likely to fail\n",
    "    * eg., `mode`\n",
    "    * rather than fail, just print \"could not perform\" that action"
   ]
  },
  {
   "cell_type": "markdown",
   "id": "7478d3d8",
   "metadata": {},
   "source": [
    "---"
   ]
  },
  {
   "cell_type": "markdown",
   "id": "9aa40a67",
   "metadata": {},
   "source": [
    "## Review & End"
   ]
  },
  {
   "cell_type": "markdown",
   "id": "7c5a7c87",
   "metadata": {},
   "source": [
    "---"
   ]
  },
  {
   "cell_type": "markdown",
   "id": "75b0933d",
   "metadata": {},
   "source": [
    "## Appendix"
   ]
  },
  {
   "cell_type": "markdown",
   "id": "8ae3dd6d",
   "metadata": {},
   "source": [
    "### Terminology\n",
    "\n",
    "#### Syntax\n",
    "* keywords `for`, `while`\n",
    "* operators `+=`\n",
    "* variables `name`\n",
    "* functions `names()` \n",
    "    * these are programmer-given names"
   ]
  },
  {
   "cell_type": "markdown",
   "id": "6f3a6d7d",
   "metadata": {},
   "source": [
    "### Dictionaries "
   ]
  },
  {
   "cell_type": "markdown",
   "id": "cf9ee595",
   "metadata": {},
   "source": [
    "Dictionaries are data structures which relate *keys* to *values*, where the *keys* are typically strings,"
   ]
  },
  {
   "cell_type": "code",
   "execution_count": 19,
   "id": "645ba185",
   "metadata": {},
   "outputs": [],
   "source": [
    "boats = {\n",
    "    \"Happy\": \"120ft\",\n",
    "    \"Big\": \"300ft\"\n",
    "}"
   ]
  },
  {
   "cell_type": "markdown",
   "id": "2b01cb6e",
   "metadata": {},
   "source": [
    "The net effect of this is to allow for string *indexes*,"
   ]
  },
  {
   "cell_type": "code",
   "execution_count": 31,
   "id": "d608718b",
   "metadata": {},
   "outputs": [
    {
     "data": {
      "text/plain": [
       "'300ft'"
      ]
     },
     "execution_count": 31,
     "metadata": {},
     "output_type": "execute_result"
    }
   ],
   "source": [
    "boats[\"Big\"]"
   ]
  },
  {
   "cell_type": "markdown",
   "id": "25167b00",
   "metadata": {},
   "source": [
    "Vales can be anything, including lists,"
   ]
  },
  {
   "cell_type": "code",
   "execution_count": 20,
   "id": "10bb76f6",
   "metadata": {},
   "outputs": [],
   "source": [
    "groceries = {\n",
    "    \"Michael\": [\"Eggs\", \"Ham\"],\n",
    "    \"Alice\": [\"Eggs\", \"Ham\"],\n",
    "}"
   ]
  },
  {
   "cell_type": "markdown",
   "id": "95016a33",
   "metadata": {},
   "source": [
    "So the `Michael` entry is a list,"
   ]
  },
  {
   "cell_type": "code",
   "execution_count": 168,
   "id": "76ba17e4",
   "metadata": {},
   "outputs": [
    {
     "data": {
      "text/plain": [
       "['Eggs', 'Ham']"
      ]
     },
     "execution_count": 168,
     "metadata": {},
     "output_type": "execute_result"
    }
   ],
   "source": [
    "groceries[\"Michael\"]"
   ]
  },
  {
   "cell_type": "markdown",
   "id": "36bf2b66",
   "metadata": {},
   "source": [
    "So it has a first element,"
   ]
  },
  {
   "cell_type": "code",
   "execution_count": 32,
   "id": "ed4381c1",
   "metadata": {
    "scrolled": true
   },
   "outputs": [
    {
     "data": {
      "text/plain": [
       "'Eggs'"
      ]
     },
     "execution_count": 32,
     "metadata": {},
     "output_type": "execute_result"
    }
   ],
   "source": [
    "groceries[\"Michael\"][0]"
   ]
  },
  {
   "cell_type": "markdown",
   "id": "5b94c7d2",
   "metadata": {},
   "source": [
    "### Comprehensions"
   ]
  },
  {
   "cell_type": "markdown",
   "id": "e0a8ea87",
   "metadata": {},
   "source": [
    "It's very common to derive a new list from an old one,"
   ]
  },
  {
   "cell_type": "code",
   "execution_count": 166,
   "id": "f5416f1f",
   "metadata": {},
   "outputs": [
    {
     "data": {
      "text/plain": [
       "[3, 5, 7]"
      ]
     },
     "execution_count": 166,
     "metadata": {},
     "output_type": "execute_result"
    }
   ],
   "source": [
    "old = [2, 4, 6]\n",
    "new = []\n",
    "\n",
    "for element in old:\n",
    "    new.append(element + 1)\n",
    "\n",
    "new"
   ]
  },
  {
   "cell_type": "markdown",
   "id": "f1fb37a4",
   "metadata": {},
   "source": [
    "In python *comprehensions* allow you to do this is one go,"
   ]
  },
  {
   "cell_type": "code",
   "execution_count": 167,
   "id": "fea5643e",
   "metadata": {},
   "outputs": [
    {
     "data": {
      "text/plain": [
       "[3, 5, 7]"
      ]
     },
     "execution_count": 167,
     "metadata": {},
     "output_type": "execute_result"
    }
   ],
   "source": [
    "[e + 1 for e in old]"
   ]
  },
  {
   "cell_type": "markdown",
   "id": "3e738599",
   "metadata": {},
   "source": [
    "#### Challenge: Comprehensions"
   ]
  },
  {
   "cell_type": "markdown",
   "id": "174641d8",
   "metadata": {},
   "source": [
    "Consider the following comprehension, which computes a predictor variable $y$ from an $x$ drawn from the range $0 \\text{ to } 10$,"
   ]
  },
  {
   "cell_type": "code",
   "execution_count": 103,
   "id": "c3d809a2",
   "metadata": {},
   "outputs": [
    {
     "data": {
      "text/plain": [
       "[1, 3, 5, 7, 9, 11, 13, 15, 17, 19]"
      ]
     },
     "execution_count": 103,
     "metadata": {},
     "output_type": "execute_result"
    }
   ],
   "source": [
    "y = [2 * x + 1 for x in range(0, 10)]\n",
    "y"
   ]
  },
  {
   "cell_type": "markdown",
   "id": "84394cf7",
   "metadata": {},
   "source": [
    "Rather than using `range(0,10)`, use your own dataset,\n",
    "\n",
    "* define a variable called, eg., `heart_rates`, to be a numerical list\n",
    "* replace `range(0, 10)` in the example with your variable (ie., `heart_rates`)"
   ]
  },
  {
   "cell_type": "code",
   "execution_count": 106,
   "id": "22844902",
   "metadata": {},
   "outputs": [],
   "source": [
    "# SOLUTION"
   ]
  },
  {
   "cell_type": "markdown",
   "id": "73080f6c",
   "metadata": {},
   "source": [
    "Suppose you want to ignore some data in your list based on a test. Consider the following,"
   ]
  },
  {
   "cell_type": "code",
   "execution_count": 104,
   "id": "7fe0185f",
   "metadata": {},
   "outputs": [
    {
     "data": {
      "text/plain": [
       "[13, 15, 17, 19]"
      ]
     },
     "execution_count": 104,
     "metadata": {},
     "output_type": "execute_result"
    }
   ],
   "source": [
    "y = [2 * x + 1 for x in range(0, 10) if x > 5]\n",
    "y"
   ]
  },
  {
   "cell_type": "markdown",
   "id": "704358f9",
   "metadata": {},
   "source": [
    "Filter your own dataset,\n",
    "* replace `range(0, 10)` \n",
    "* and the test `x>5` \n",
    "* to create a `y` more meaningful to your case.\n",
    "\n",
    "Eg., suppose we ignore HRs `<30, and >200` on the basis that they arent likely to be real data."
   ]
  },
  {
   "cell_type": "code",
   "execution_count": 105,
   "id": "b1650f18",
   "metadata": {},
   "outputs": [],
   "source": [
    "# SOLUTION"
   ]
  }
 ],
 "metadata": {
  "kernelspec": {
   "display_name": "Python 3 (ipykernel)",
   "language": "python",
   "name": "python3"
  },
  "language_info": {
   "codemirror_mode": {
    "name": "ipython",
    "version": 3
   },
   "file_extension": ".py",
   "mimetype": "text/x-python",
   "name": "python",
   "nbconvert_exporter": "python",
   "pygments_lexer": "ipython3",
   "version": "3.9.7"
  }
 },
 "nbformat": 4,
 "nbformat_minor": 5
}
