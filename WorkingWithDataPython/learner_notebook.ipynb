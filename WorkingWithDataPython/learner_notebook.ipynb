{
 "cells": [
  {
   "cell_type": "markdown",
   "metadata": {},
   "source": [
    "# Working with data - challenges\n",
    "\n",
    "This notebook contains several programming challenges. These challenges are designed to cement your understanding of Python syntax and develop your ability to work with data effectively.\n",
    "\n",
    "You should complete these challenges with a partner or as part of a small group, discussing and sharing potential solutions.\n",
    "\n",
    "The challenges increase in difficulty; you should start with the first challenge and work your way towards the end. You may need to do research outside this notebook to solve particular problems that you encounter.\n",
    "\n",
    "You may find that some of these challenges are very difficult; this is by design. Struggling with complex problems is the best way to really learn how to program - even if you do not find the solution to a particular problem, you'll learn useful skills while looking for one.\n",
    "\n",
    "Remember that one of the most important skills for any programmer is the ability to **research**. To solve these challenges, it's likely that you'll need to access outside resources, using search engines and other tools to find new information and syntax.  "
   ]
  },
  {
   "cell_type": "markdown",
   "metadata": {},
   "source": [
    "## Challenge - error correction\n",
    "\n",
    "The function `multiply_three()` takes three numbers and returns the the result of multiplying those numbers together.\n",
    "\n",
    "Currently, the function does not work as expected. Fix all the errors until the function works correctly."
   ]
  },
  {
   "cell_type": "code",
   "execution_count": null,
   "metadata": {},
   "outputs": [],
   "source": [
    "def multiply_three[a, b]:\n",
    "    \n",
    "    answer = a + b\n",
    "    \n",
    "    return Answer"
   ]
  },
  {
   "cell_type": "code",
   "execution_count": null,
   "metadata": {},
   "outputs": [],
   "source": [
    "# Call the function\n",
    "\n",
    "multiply_three(1, 1, 6)  # Should output 6"
   ]
  },
  {
   "cell_type": "markdown",
   "metadata": {},
   "source": [
    "## Challenge - odd numbers\n",
    "\n",
    "Create a function - `is_odd()` - that takes a single integer value and returns `True` if the value is odd, `False` if the value is even."
   ]
  },
  {
   "cell_type": "code",
   "execution_count": null,
   "metadata": {},
   "outputs": [],
   "source": []
  },
  {
   "cell_type": "markdown",
   "metadata": {},
   "source": [
    "## Challenge - even numbers\n",
    "\n",
    "Complete the function `count_evens()`. \n",
    "\n",
    "This function takes a list of integers and returns the number of integers in the list that are even."
   ]
  },
  {
   "cell_type": "code",
   "execution_count": null,
   "metadata": {},
   "outputs": [],
   "source": [
    "def count_evens(num_list):"
   ]
  },
  {
   "cell_type": "markdown",
   "metadata": {},
   "source": [
    "## Challenge - maximum value\n",
    "\n",
    "Complete the function `find_max()`.\n",
    "\n",
    "This function should take a list of integers and return the largest value in the list.\n",
    "\n",
    "The function does not have to be able to deal with non-integer values. Do not use any built-in Python functions such as `max()`."
   ]
  },
  {
   "cell_type": "code",
   "execution_count": null,
   "metadata": {},
   "outputs": [],
   "source": [
    "def find_max(num_list):"
   ]
  },
  {
   "cell_type": "markdown",
   "metadata": {},
   "source": [
    "## Challenge - average\n",
    "\n",
    "Create a function that takes a list of numbers and returns the **mean** value.\n",
    "\n",
    "The function does not have to be able to deal with non-integer values. Do not use any built-in Python functions."
   ]
  },
  {
   "cell_type": "code",
   "execution_count": null,
   "metadata": {},
   "outputs": [],
   "source": [
    "def find_mean(num_list):\n",
    "    total = 0"
   ]
  },
  {
   "cell_type": "markdown",
   "metadata": {},
   "source": [
    "## Challenge - threshold\n",
    "\n",
    "Create a function - `filter_over_threshold` that takes two arguments: a list of values and an integer. The function should return a list consisting of only the values that are greater than or equal to the integer."
   ]
  },
  {
   "cell_type": "code",
   "execution_count": null,
   "metadata": {},
   "outputs": [],
   "source": [
    "def filter_over_threshold(num_list, threshold):"
   ]
  },
  {
   "cell_type": "markdown",
   "metadata": {},
   "source": [
    "## Challenge - filter data\n",
    "\n",
    "Create a function - `filter_values` that takes two lists of numbers. The function should return a list consisting of all the values in the first list that do not appear in the second."
   ]
  },
  {
   "cell_type": "code",
   "execution_count": null,
   "metadata": {},
   "outputs": [],
   "source": []
  },
  {
   "cell_type": "markdown",
   "metadata": {},
   "source": [
    "## Challenge - cleaning\n",
    "\n",
    "Create a function - `clean_number_list` - that takes a list of values. The function should return only values that are of type `int` and are greater than or equal to zero."
   ]
  },
  {
   "cell_type": "code",
   "execution_count": null,
   "metadata": {},
   "outputs": [],
   "source": []
  },
  {
   "cell_type": "markdown",
   "metadata": {},
   "source": [
    "## Challenge - summary\n",
    "\n",
    "Create a function - `summarise` - that takes a list of values. The function should print out a summary of the list, including:\n",
    "- The number of items in the list\n",
    "- The min, mean, and max of the numeric values in the list\n",
    "- A sorted list of any numeric elements\n",
    "- A sorted list of any string elements\n",
    "\n",
    "You can use builtin Python methods for this challenge."
   ]
  },
  {
   "cell_type": "code",
   "execution_count": null,
   "metadata": {},
   "outputs": [],
   "source": []
  },
  {
   "cell_type": "markdown",
   "metadata": {},
   "source": [
    "## Challenge - to numeric\n",
    "\n",
    "Create a function - `to_numeric()` that takes a list of values. This function should return a list of numbers.\n",
    "\n",
    "If it is not possible to convert the values to numeric types, the function should output an error message and a list of indexes for values that could not be converted."
   ]
  },
  {
   "cell_type": "code",
   "execution_count": null,
   "metadata": {},
   "outputs": [],
   "source": []
  },
  {
   "cell_type": "markdown",
   "metadata": {},
   "source": [
    "## Challenge - sorting\n",
    "\n",
    "Create a function - `sort_numbers()` that takes a list of numbers. This function should return a list of numbers sorted in ascending order.\n",
    "\n",
    "Do not use any built-in sorting methods."
   ]
  },
  {
   "cell_type": "code",
   "execution_count": null,
   "metadata": {},
   "outputs": [],
   "source": []
  }
 ],
 "metadata": {
  "kernelspec": {
   "display_name": "Python 3 (ipykernel)",
   "language": "python",
   "name": "python3"
  },
  "language_info": {
   "codemirror_mode": {
    "name": "ipython",
    "version": 3
   },
   "file_extension": ".py",
   "mimetype": "text/x-python",
   "name": "python",
   "nbconvert_exporter": "python",
   "pygments_lexer": "ipython3",
   "version": "3.9.7"
  }
 },
 "nbformat": 4,
 "nbformat_minor": 2
}
