{
 "cells": [
  {
   "cell_type": "markdown",
   "id": "3c8e14df",
   "metadata": {},
   "source": [
    "# SQL Workshop\n",
    "### <font color=indigo>LIVE DEMOs</font>\n",
    "---"
   ]
  },
  {
   "cell_type": "markdown",
   "id": "985c7873",
   "metadata": {},
   "source": [
    "* This document is a technical brainstorm (like whiteboarding with code). \n",
    "* I'll give you this and any other assets over the break. \n",
    "* No need to follow along live."
   ]
  },
  {
   "cell_type": "markdown",
   "id": "ca190325",
   "metadata": {},
   "source": [
    "---"
   ]
  },
  {
   "cell_type": "markdown",
   "id": "931cc3da",
   "metadata": {},
   "source": [
    "## Introductions"
   ]
  },
  {
   "cell_type": "markdown",
   "id": "fd6bf1be",
   "metadata": {},
   "source": [
    "* Name\n",
    "* Background/Role\n",
    "* Prior Experience with SQL?\n",
    "* Hobby"
   ]
  },
  {
   "cell_type": "markdown",
   "id": "9437fca3",
   "metadata": {},
   "source": [
    "### Michael Burgess\n",
    "* michael.burgess@decoded.com\n",
    "\n",
    "* Head of Technical Solutions\n",
    "    * Head for Data, Analytics, AI\n",
    "    * IT contractor defence, telephony, mobile, ...\n",
    "    * Physics 6/7yr\n",
    "* Arguing, Youtube, Podcasts, Philosophy"
   ]
  },
  {
   "cell_type": "markdown",
   "id": "dbd4447c",
   "metadata": {},
   "source": [
    "---"
   ]
  },
  {
   "cell_type": "markdown",
   "id": "9e8a0041",
   "metadata": {},
   "source": [
    "\n",
    "## SQLite & Python"
   ]
  },
  {
   "cell_type": "markdown",
   "id": "2eb3b407",
   "metadata": {},
   "source": [
    "A library is built-into python which provides util for sqlite; this is specific to sqlite3."
   ]
  },
  {
   "cell_type": "code",
   "execution_count": 1,
   "id": "c5a41939",
   "metadata": {},
   "outputs": [],
   "source": [
    "import sqlite3"
   ]
  },
  {
   "cell_type": "markdown",
   "id": "45d92305",
   "metadata": {},
   "source": [
    "The sqlalchemy library can connect to and manage multiple different `RDBMS`es..."
   ]
  },
  {
   "cell_type": "code",
   "execution_count": 2,
   "id": "66b52fe8",
   "metadata": {},
   "outputs": [],
   "source": [
    "from sqlalchemy import create_engine"
   ]
  },
  {
   "cell_type": "markdown",
   "id": "2f4be304",
   "metadata": {},
   "source": [
    "Set up and (in this case *create*) the databse,"
   ]
  },
  {
   "cell_type": "code",
   "execution_count": 3,
   "id": "6aa6f004",
   "metadata": {},
   "outputs": [],
   "source": [
    "db = create_engine(\"sqlite:///demo.db\")"
   ]
  },
  {
   "cell_type": "markdown",
   "id": "d4ce2be4",
   "metadata": {},
   "source": [
    "Get a connetion which we can use *as if it were a file*,"
   ]
  },
  {
   "cell_type": "code",
   "execution_count": 4,
   "id": "9d15186c",
   "metadata": {},
   "outputs": [],
   "source": [
    "con = db.connect()"
   ]
  },
  {
   "cell_type": "markdown",
   "id": "1004e089",
   "metadata": {},
   "source": [
    "... this means that sometimes when i could use a file connection, i can instead use this one.."
   ]
  },
  {
   "cell_type": "markdown",
   "id": "50153b8f",
   "metadata": {},
   "source": [
    "## Using Pandas with SQL"
   ]
  },
  {
   "cell_type": "code",
   "execution_count": 5,
   "id": "391d779e",
   "metadata": {},
   "outputs": [],
   "source": [
    "import pandas as pd"
   ]
  },
  {
   "cell_type": "markdown",
   "id": "108a9e8b",
   "metadata": {},
   "source": [
    "Pandas can save to *files* and therefore also dbs,"
   ]
  },
  {
   "cell_type": "code",
   "execution_count": 6,
   "id": "65e1a1f0",
   "metadata": {},
   "outputs": [
    {
     "data": {
      "text/html": [
       "<div>\n",
       "<style scoped>\n",
       "    .dataframe tbody tr th:only-of-type {\n",
       "        vertical-align: middle;\n",
       "    }\n",
       "\n",
       "    .dataframe tbody tr th {\n",
       "        vertical-align: top;\n",
       "    }\n",
       "\n",
       "    .dataframe thead th {\n",
       "        text-align: right;\n",
       "    }\n",
       "</style>\n",
       "<table border=\"1\" class=\"dataframe\">\n",
       "  <thead>\n",
       "    <tr style=\"text-align: right;\">\n",
       "      <th></th>\n",
       "      <th>Name</th>\n",
       "      <th>Price</th>\n",
       "    </tr>\n",
       "  </thead>\n",
       "  <tbody>\n",
       "    <tr>\n",
       "      <th>0</th>\n",
       "      <td>Alice</td>\n",
       "      <td>10</td>\n",
       "    </tr>\n",
       "    <tr>\n",
       "      <th>1</th>\n",
       "      <td>Eve</td>\n",
       "      <td>20</td>\n",
       "    </tr>\n",
       "    <tr>\n",
       "      <th>2</th>\n",
       "      <td>Bob</td>\n",
       "      <td>30</td>\n",
       "    </tr>\n",
       "  </tbody>\n",
       "</table>\n",
       "</div>"
      ],
      "text/plain": [
       "    Name  Price\n",
       "0  Alice     10\n",
       "1    Eve     20\n",
       "2    Bob     30"
      ]
     },
     "execution_count": 6,
     "metadata": {},
     "output_type": "execute_result"
    }
   ],
   "source": [
    "prices = pd.DataFrame({\n",
    "    'Name': ['Alice', 'Eve', 'Bob'],\n",
    "    'Price': [10, 20, 30]\n",
    "})\n",
    "\n",
    "prices"
   ]
  },
  {
   "cell_type": "markdown",
   "id": "447eaba5",
   "metadata": {},
   "source": [
    "The number of rows *saved* to the table `prices` is..."
   ]
  },
  {
   "cell_type": "code",
   "execution_count": 7,
   "id": "f86540bf",
   "metadata": {},
   "outputs": [],
   "source": [
    "# prices.to_sql('prices', con)"
   ]
  },
  {
   "cell_type": "code",
   "execution_count": 8,
   "id": "a1ed2fcb",
   "metadata": {},
   "outputs": [
    {
     "data": {
      "text/plain": [
       "3"
      ]
     },
     "execution_count": 8,
     "metadata": {},
     "output_type": "execute_result"
    }
   ],
   "source": [
    "prices.to_sql('prices', con, index=False, if_exists='replace')"
   ]
  },
  {
   "cell_type": "code",
   "execution_count": 9,
   "id": "c5647740",
   "metadata": {},
   "outputs": [
    {
     "data": {
      "text/html": [
       "<div>\n",
       "<style scoped>\n",
       "    .dataframe tbody tr th:only-of-type {\n",
       "        vertical-align: middle;\n",
       "    }\n",
       "\n",
       "    .dataframe tbody tr th {\n",
       "        vertical-align: top;\n",
       "    }\n",
       "\n",
       "    .dataframe thead th {\n",
       "        text-align: right;\n",
       "    }\n",
       "</style>\n",
       "<table border=\"1\" class=\"dataframe\">\n",
       "  <thead>\n",
       "    <tr style=\"text-align: right;\">\n",
       "      <th></th>\n",
       "      <th>Name</th>\n",
       "      <th>Price</th>\n",
       "    </tr>\n",
       "  </thead>\n",
       "  <tbody>\n",
       "    <tr>\n",
       "      <th>0</th>\n",
       "      <td>Alice</td>\n",
       "      <td>10</td>\n",
       "    </tr>\n",
       "    <tr>\n",
       "      <th>1</th>\n",
       "      <td>Eve</td>\n",
       "      <td>20</td>\n",
       "    </tr>\n",
       "    <tr>\n",
       "      <th>2</th>\n",
       "      <td>Bob</td>\n",
       "      <td>30</td>\n",
       "    </tr>\n",
       "  </tbody>\n",
       "</table>\n",
       "</div>"
      ],
      "text/plain": [
       "    Name  Price\n",
       "0  Alice     10\n",
       "1    Eve     20\n",
       "2    Bob     30"
      ]
     },
     "execution_count": 9,
     "metadata": {},
     "output_type": "execute_result"
    }
   ],
   "source": [
    "pd.read_sql('SELECT * FROM prices', con)"
   ]
  },
  {
   "cell_type": "markdown",
   "id": "42df4c99",
   "metadata": {},
   "source": [
    "### A Querying Template"
   ]
  },
  {
   "cell_type": "markdown",
   "id": "00177e65",
   "metadata": {},
   "source": [
    "It's convenient to use a document string when specifying a query, so we can use whitespace,"
   ]
  },
  {
   "cell_type": "code",
   "execution_count": 10,
   "id": "e08c44f0",
   "metadata": {},
   "outputs": [
    {
     "data": {
      "text/html": [
       "<div>\n",
       "<style scoped>\n",
       "    .dataframe tbody tr th:only-of-type {\n",
       "        vertical-align: middle;\n",
       "    }\n",
       "\n",
       "    .dataframe tbody tr th {\n",
       "        vertical-align: top;\n",
       "    }\n",
       "\n",
       "    .dataframe thead th {\n",
       "        text-align: right;\n",
       "    }\n",
       "</style>\n",
       "<table border=\"1\" class=\"dataframe\">\n",
       "  <thead>\n",
       "    <tr style=\"text-align: right;\">\n",
       "      <th></th>\n",
       "      <th>Name</th>\n",
       "      <th>Price</th>\n",
       "    </tr>\n",
       "  </thead>\n",
       "  <tbody>\n",
       "    <tr>\n",
       "      <th>0</th>\n",
       "      <td>Alice</td>\n",
       "      <td>10</td>\n",
       "    </tr>\n",
       "    <tr>\n",
       "      <th>1</th>\n",
       "      <td>Eve</td>\n",
       "      <td>20</td>\n",
       "    </tr>\n",
       "    <tr>\n",
       "      <th>2</th>\n",
       "      <td>Bob</td>\n",
       "      <td>30</td>\n",
       "    </tr>\n",
       "  </tbody>\n",
       "</table>\n",
       "</div>"
      ],
      "text/plain": [
       "    Name  Price\n",
       "0  Alice     10\n",
       "1    Eve     20\n",
       "2    Bob     30"
      ]
     },
     "execution_count": 10,
     "metadata": {},
     "output_type": "execute_result"
    }
   ],
   "source": [
    "# document string\n",
    "\n",
    "query = \"\"\"\n",
    "    SELECT *\n",
    "        FROM prices\n",
    "\"\"\"\n",
    "\n",
    "pd.read_sql(query, con)"
   ]
  },
  {
   "cell_type": "markdown",
   "id": "1a6df1c9",
   "metadata": {},
   "source": [
    "### Q&A"
   ]
  },
  {
   "cell_type": "markdown",
   "id": "ff65590f",
   "metadata": {},
   "source": [
    "* How would I select just the `Name` column?"
   ]
  },
  {
   "cell_type": "code",
   "execution_count": 11,
   "id": "fe92245e",
   "metadata": {},
   "outputs": [
    {
     "data": {
      "text/html": [
       "<div>\n",
       "<style scoped>\n",
       "    .dataframe tbody tr th:only-of-type {\n",
       "        vertical-align: middle;\n",
       "    }\n",
       "\n",
       "    .dataframe tbody tr th {\n",
       "        vertical-align: top;\n",
       "    }\n",
       "\n",
       "    .dataframe thead th {\n",
       "        text-align: right;\n",
       "    }\n",
       "</style>\n",
       "<table border=\"1\" class=\"dataframe\">\n",
       "  <thead>\n",
       "    <tr style=\"text-align: right;\">\n",
       "      <th></th>\n",
       "      <th>Name</th>\n",
       "    </tr>\n",
       "  </thead>\n",
       "  <tbody>\n",
       "    <tr>\n",
       "      <th>0</th>\n",
       "      <td>Alice</td>\n",
       "    </tr>\n",
       "    <tr>\n",
       "      <th>1</th>\n",
       "      <td>Eve</td>\n",
       "    </tr>\n",
       "    <tr>\n",
       "      <th>2</th>\n",
       "      <td>Bob</td>\n",
       "    </tr>\n",
       "  </tbody>\n",
       "</table>\n",
       "</div>"
      ],
      "text/plain": [
       "    Name\n",
       "0  Alice\n",
       "1    Eve\n",
       "2    Bob"
      ]
     },
     "execution_count": 11,
     "metadata": {},
     "output_type": "execute_result"
    }
   ],
   "source": [
    "query = \"\"\"\n",
    "    SELECT Name\n",
    "        FROM prices\n",
    "\"\"\"\n",
    "\n",
    "pd.read_sql(query, con)"
   ]
  },
  {
   "cell_type": "markdown",
   "id": "22732f61",
   "metadata": {},
   "source": [
    "* How would I select `prices` equal to or over $£20$,"
   ]
  },
  {
   "cell_type": "code",
   "execution_count": 12,
   "id": "afc06305",
   "metadata": {
    "scrolled": true
   },
   "outputs": [
    {
     "data": {
      "text/html": [
       "<div>\n",
       "<style scoped>\n",
       "    .dataframe tbody tr th:only-of-type {\n",
       "        vertical-align: middle;\n",
       "    }\n",
       "\n",
       "    .dataframe tbody tr th {\n",
       "        vertical-align: top;\n",
       "    }\n",
       "\n",
       "    .dataframe thead th {\n",
       "        text-align: right;\n",
       "    }\n",
       "</style>\n",
       "<table border=\"1\" class=\"dataframe\">\n",
       "  <thead>\n",
       "    <tr style=\"text-align: right;\">\n",
       "      <th></th>\n",
       "      <th>Name</th>\n",
       "      <th>Price</th>\n",
       "    </tr>\n",
       "  </thead>\n",
       "  <tbody>\n",
       "    <tr>\n",
       "      <th>0</th>\n",
       "      <td>Eve</td>\n",
       "      <td>20</td>\n",
       "    </tr>\n",
       "    <tr>\n",
       "      <th>1</th>\n",
       "      <td>Bob</td>\n",
       "      <td>30</td>\n",
       "    </tr>\n",
       "  </tbody>\n",
       "</table>\n",
       "</div>"
      ],
      "text/plain": [
       "  Name  Price\n",
       "0  Eve     20\n",
       "1  Bob     30"
      ]
     },
     "execution_count": 12,
     "metadata": {},
     "output_type": "execute_result"
    }
   ],
   "source": [
    "query = \"\"\"\n",
    "    SELECT *\n",
    "        FROM prices\n",
    "        WHERE \n",
    "            Price >= 20\n",
    "\"\"\"\n",
    "\n",
    "pd.read_sql(query, con)"
   ]
  },
  {
   "cell_type": "markdown",
   "id": "fc5fd5ab",
   "metadata": {},
   "source": [
    "* How would I select `prices` equal to or over $£20$, **but just one row**"
   ]
  },
  {
   "cell_type": "code",
   "execution_count": 13,
   "id": "d3f80a00",
   "metadata": {},
   "outputs": [
    {
     "data": {
      "text/html": [
       "<div>\n",
       "<style scoped>\n",
       "    .dataframe tbody tr th:only-of-type {\n",
       "        vertical-align: middle;\n",
       "    }\n",
       "\n",
       "    .dataframe tbody tr th {\n",
       "        vertical-align: top;\n",
       "    }\n",
       "\n",
       "    .dataframe thead th {\n",
       "        text-align: right;\n",
       "    }\n",
       "</style>\n",
       "<table border=\"1\" class=\"dataframe\">\n",
       "  <thead>\n",
       "    <tr style=\"text-align: right;\">\n",
       "      <th></th>\n",
       "      <th>Name</th>\n",
       "      <th>Price</th>\n",
       "    </tr>\n",
       "  </thead>\n",
       "  <tbody>\n",
       "    <tr>\n",
       "      <th>0</th>\n",
       "      <td>Eve</td>\n",
       "      <td>20</td>\n",
       "    </tr>\n",
       "  </tbody>\n",
       "</table>\n",
       "</div>"
      ],
      "text/plain": [
       "  Name  Price\n",
       "0  Eve     20"
      ]
     },
     "execution_count": 13,
     "metadata": {},
     "output_type": "execute_result"
    }
   ],
   "source": [
    "query = \"\"\"\n",
    "    SELECT *\n",
    "        FROM prices\n",
    "        WHERE \n",
    "            Price >= 20\n",
    "        LIMIT 1\n",
    "\"\"\"\n",
    "\n",
    "pd.read_sql(query, con)"
   ]
  },
  {
   "cell_type": "markdown",
   "id": "9f8fbd70",
   "metadata": {},
   "source": [
    "...which row is (sort of) random right now... how would we make this a minimum?"
   ]
  },
  {
   "cell_type": "markdown",
   "id": "2a56c511",
   "metadata": {},
   "source": [
    "# BREAK"
   ]
  },
  {
   "cell_type": "code",
   "execution_count": 14,
   "id": "c45298c2",
   "metadata": {},
   "outputs": [
    {
     "data": {
      "text/html": [
       "<div>\n",
       "<style scoped>\n",
       "    .dataframe tbody tr th:only-of-type {\n",
       "        vertical-align: middle;\n",
       "    }\n",
       "\n",
       "    .dataframe tbody tr th {\n",
       "        vertical-align: top;\n",
       "    }\n",
       "\n",
       "    .dataframe thead th {\n",
       "        text-align: right;\n",
       "    }\n",
       "</style>\n",
       "<table border=\"1\" class=\"dataframe\">\n",
       "  <thead>\n",
       "    <tr style=\"text-align: right;\">\n",
       "      <th></th>\n",
       "      <th>Name</th>\n",
       "      <th>Price</th>\n",
       "    </tr>\n",
       "  </thead>\n",
       "  <tbody>\n",
       "    <tr>\n",
       "      <th>0</th>\n",
       "      <td>Eve</td>\n",
       "      <td>20</td>\n",
       "    </tr>\n",
       "  </tbody>\n",
       "</table>\n",
       "</div>"
      ],
      "text/plain": [
       "  Name  Price\n",
       "0  Eve     20"
      ]
     },
     "execution_count": 14,
     "metadata": {},
     "output_type": "execute_result"
    }
   ],
   "source": [
    "query = \"\"\"\n",
    "    select *\n",
    "        from prices\n",
    "        where \n",
    "            Price >= 20\n",
    "        limit 1\n",
    "\"\"\"\n",
    "\n",
    "pd.read_sql(query, con)"
   ]
  },
  {
   "cell_type": "markdown",
   "id": "220e0621",
   "metadata": {},
   "source": [
    "---\n",
    "## Activity: Workbook I (c. 25min)\n",
    "---"
   ]
  },
  {
   "cell_type": "markdown",
   "id": "1d8ff19d",
   "metadata": {},
   "source": [
    "## Review Activity I: Filtering"
   ]
  },
  {
   "cell_type": "code",
   "execution_count": 15,
   "id": "1d3fb8f5",
   "metadata": {},
   "outputs": [],
   "source": [
    "# Import create_engine from sqlalchemy to connect to the database\n",
    "from sqlalchemy import create_engine\n",
    "\n",
    "# Import pandas\n",
    "import pandas as pd\n",
    "\n",
    "# Create an engine to the database sqlite-sakila.db\n",
    "engine = create_engine(f\"sqlite:///sqlite-sakila.db\")\n",
    "\n",
    "# Establish a connection to the database\n",
    "dvd = engine.connect()"
   ]
  },
  {
   "cell_type": "code",
   "execution_count": 16,
   "id": "b700862b",
   "metadata": {},
   "outputs": [
    {
     "data": {
      "text/html": [
       "<div>\n",
       "<style scoped>\n",
       "    .dataframe tbody tr th:only-of-type {\n",
       "        vertical-align: middle;\n",
       "    }\n",
       "\n",
       "    .dataframe tbody tr th {\n",
       "        vertical-align: top;\n",
       "    }\n",
       "\n",
       "    .dataframe thead th {\n",
       "        text-align: right;\n",
       "    }\n",
       "</style>\n",
       "<table border=\"1\" class=\"dataframe\">\n",
       "  <thead>\n",
       "    <tr style=\"text-align: right;\">\n",
       "      <th></th>\n",
       "      <th>title</th>\n",
       "    </tr>\n",
       "  </thead>\n",
       "  <tbody>\n",
       "    <tr>\n",
       "      <th>0</th>\n",
       "      <td>ACADEMY DINOSAUR</td>\n",
       "    </tr>\n",
       "  </tbody>\n",
       "</table>\n",
       "</div>"
      ],
      "text/plain": [
       "              title\n",
       "0  ACADEMY DINOSAUR"
      ]
     },
     "execution_count": 16,
     "metadata": {},
     "output_type": "execute_result"
    }
   ],
   "source": [
    "query = \"\"\"\n",
    "    SELECT title FROM film LIMIT 1\n",
    "\"\"\"\n",
    "pd.read_sql(query, dvd)"
   ]
  },
  {
   "cell_type": "markdown",
   "id": "d2d1004a",
   "metadata": {},
   "source": [
    "* Find the film with the minimum replacement cost which is long (> 2hr) and not adult (neither R or NC17 rated).\n",
    "    "
   ]
  },
  {
   "cell_type": "code",
   "execution_count": 17,
   "id": "eed792f3",
   "metadata": {},
   "outputs": [
    {
     "data": {
      "text/html": [
       "<div>\n",
       "<style scoped>\n",
       "    .dataframe tbody tr th:only-of-type {\n",
       "        vertical-align: middle;\n",
       "    }\n",
       "\n",
       "    .dataframe tbody tr th {\n",
       "        vertical-align: top;\n",
       "    }\n",
       "\n",
       "    .dataframe thead th {\n",
       "        text-align: right;\n",
       "    }\n",
       "</style>\n",
       "<table border=\"1\" class=\"dataframe\">\n",
       "  <thead>\n",
       "    <tr style=\"text-align: right;\">\n",
       "      <th></th>\n",
       "      <th>title</th>\n",
       "    </tr>\n",
       "  </thead>\n",
       "  <tbody>\n",
       "    <tr>\n",
       "      <th>0</th>\n",
       "      <td>CONTROL ANTHEM</td>\n",
       "    </tr>\n",
       "  </tbody>\n",
       "</table>\n",
       "</div>"
      ],
      "text/plain": [
       "            title\n",
       "0  CONTROL ANTHEM"
      ]
     },
     "execution_count": 17,
     "metadata": {},
     "output_type": "execute_result"
    }
   ],
   "source": [
    "query = \"\"\"\n",
    "    SELECT title\n",
    "    FROM film \n",
    "    WHERE\n",
    "        (length >= 120)\n",
    "    AND NOT (rating = 'R')\n",
    "    AND NOT (rating = 'NC-17')\n",
    "    ORDER BY replacement_cost\n",
    "    LIMIT 1\n",
    "\"\"\"\n",
    "pd.read_sql(query, dvd)"
   ]
  },
  {
   "cell_type": "markdown",
   "id": "9d9db1d9",
   "metadata": {},
   "source": [
    "* You can write `<>` or `!=` as meaning `NOT` \"equal\"\n",
    "    * `<>` used more in microsfy places\n",
    "    * `!=` everywhere else"
   ]
  },
  {
   "cell_type": "code",
   "execution_count": 18,
   "id": "a228310f",
   "metadata": {},
   "outputs": [
    {
     "data": {
      "text/html": [
       "<div>\n",
       "<style scoped>\n",
       "    .dataframe tbody tr th:only-of-type {\n",
       "        vertical-align: middle;\n",
       "    }\n",
       "\n",
       "    .dataframe tbody tr th {\n",
       "        vertical-align: top;\n",
       "    }\n",
       "\n",
       "    .dataframe thead th {\n",
       "        text-align: right;\n",
       "    }\n",
       "</style>\n",
       "<table border=\"1\" class=\"dataframe\">\n",
       "  <thead>\n",
       "    <tr style=\"text-align: right;\">\n",
       "      <th></th>\n",
       "      <th>title</th>\n",
       "    </tr>\n",
       "  </thead>\n",
       "  <tbody>\n",
       "    <tr>\n",
       "      <th>0</th>\n",
       "      <td>CONTROL ANTHEM</td>\n",
       "    </tr>\n",
       "  </tbody>\n",
       "</table>\n",
       "</div>"
      ],
      "text/plain": [
       "            title\n",
       "0  CONTROL ANTHEM"
      ]
     },
     "execution_count": 18,
     "metadata": {},
     "output_type": "execute_result"
    }
   ],
   "source": [
    "query = \"\"\"\n",
    "    SELECT title\n",
    "    FROM film \n",
    "    WHERE\n",
    "        (length >= 120)\n",
    "    AND (rating != 'R')\n",
    "    AND (rating != 'NC-17')\n",
    "    ORDER BY replacement_cost\n",
    "    LIMIT 1\n",
    "\"\"\"\n",
    "pd.read_sql(query, dvd)"
   ]
  },
  {
   "cell_type": "code",
   "execution_count": 19,
   "id": "8037c0a8",
   "metadata": {},
   "outputs": [
    {
     "data": {
      "text/html": [
       "<div>\n",
       "<style scoped>\n",
       "    .dataframe tbody tr th:only-of-type {\n",
       "        vertical-align: middle;\n",
       "    }\n",
       "\n",
       "    .dataframe tbody tr th {\n",
       "        vertical-align: top;\n",
       "    }\n",
       "\n",
       "    .dataframe thead th {\n",
       "        text-align: right;\n",
       "    }\n",
       "</style>\n",
       "<table border=\"1\" class=\"dataframe\">\n",
       "  <thead>\n",
       "    <tr style=\"text-align: right;\">\n",
       "      <th></th>\n",
       "      <th>title</th>\n",
       "    </tr>\n",
       "  </thead>\n",
       "  <tbody>\n",
       "    <tr>\n",
       "      <th>0</th>\n",
       "      <td>CONTROL ANTHEM</td>\n",
       "    </tr>\n",
       "  </tbody>\n",
       "</table>\n",
       "</div>"
      ],
      "text/plain": [
       "            title\n",
       "0  CONTROL ANTHEM"
      ]
     },
     "execution_count": 19,
     "metadata": {},
     "output_type": "execute_result"
    }
   ],
   "source": [
    "query = \"\"\"\n",
    "    SELECT title\n",
    "    FROM film \n",
    "    WHERE\n",
    "            (length >= 120)\n",
    "    AND NOT (rating IN ('R', 'NC-17'))\n",
    "    \n",
    "    ORDER BY replacement_cost\n",
    "    LIMIT 1\n",
    "\"\"\"\n",
    "pd.read_sql(query, dvd)"
   ]
  },
  {
   "cell_type": "markdown",
   "id": "61fa50a8",
   "metadata": {},
   "source": [
    "* Isn't this *wrong*? ..."
   ]
  },
  {
   "cell_type": "code",
   "execution_count": 20,
   "id": "331befe0",
   "metadata": {},
   "outputs": [
    {
     "data": {
      "text/html": [
       "<div>\n",
       "<style scoped>\n",
       "    .dataframe tbody tr th:only-of-type {\n",
       "        vertical-align: middle;\n",
       "    }\n",
       "\n",
       "    .dataframe tbody tr th {\n",
       "        vertical-align: top;\n",
       "    }\n",
       "\n",
       "    .dataframe thead th {\n",
       "        text-align: right;\n",
       "    }\n",
       "</style>\n",
       "<table border=\"1\" class=\"dataframe\">\n",
       "  <thead>\n",
       "    <tr style=\"text-align: right;\">\n",
       "      <th></th>\n",
       "      <th>title</th>\n",
       "    </tr>\n",
       "  </thead>\n",
       "  <tbody>\n",
       "    <tr>\n",
       "      <th>0</th>\n",
       "      <td>CONTROL ANTHEM</td>\n",
       "    </tr>\n",
       "  </tbody>\n",
       "</table>\n",
       "</div>"
      ],
      "text/plain": [
       "            title\n",
       "0  CONTROL ANTHEM"
      ]
     },
     "execution_count": 20,
     "metadata": {},
     "output_type": "execute_result"
    }
   ],
   "source": [
    "query = \"\"\"\n",
    "    SELECT title\n",
    "    FROM film \n",
    "    WHERE\n",
    "        (length >= 120)\n",
    "    AND (rating != 'R' OR rating != 'NC-17')\n",
    "    ORDER BY replacement_cost\n",
    "    LIMIT 1\n",
    "\"\"\"\n",
    "pd.read_sql(query, dvd)"
   ]
  },
  {
   "cell_type": "markdown",
   "id": "fdef7cba",
   "metadata": {},
   "source": [
    "### Applying Filters to Rows"
   ]
  },
  {
   "cell_type": "markdown",
   "id": "6dc0d8de",
   "metadata": {},
   "source": [
    "```sql\n",
    "Film Name   Length     Rating                          ?        ?    ?\n",
    "\n",
    "A          120         R                               T  AND ( F OR T ) ->      T AND T      -> T \n",
    "B          120         NC17                            T  AND ( T OR F ) ->      T AND T      -> T\n",
    "D          120         PG                              T  AND ( T OR T ) ->      T AND T      -> T\n",
    "E          120         U                               T  AND ( T OR T ) ->      T AND T      -> T .... OOPs!\n",
    "\n",
    "```"
   ]
  },
  {
   "cell_type": "markdown",
   "id": "f6e45453",
   "metadata": {},
   "source": [
    "* Why did this go wrong?\n",
    "    * ... what mistake in *thinking* occured?\n",
    "    * why did (my college at decoded...) write `OR` when the correct answer `AND`?\n",
    "* The film should `NOT` be R `OR` NC17\n",
    "    * `OR` in english does not always translate to `OR` in logic"
   ]
  },
  {
   "cell_type": "markdown",
   "id": "6fe68515",
   "metadata": {},
   "source": [
    "## JOINs"
   ]
  },
  {
   "cell_type": "code",
   "execution_count": 21,
   "id": "898fcfce",
   "metadata": {},
   "outputs": [
    {
     "data": {
      "text/html": [
       "<div>\n",
       "<style scoped>\n",
       "    .dataframe tbody tr th:only-of-type {\n",
       "        vertical-align: middle;\n",
       "    }\n",
       "\n",
       "    .dataframe tbody tr th {\n",
       "        vertical-align: top;\n",
       "    }\n",
       "\n",
       "    .dataframe thead th {\n",
       "        text-align: right;\n",
       "    }\n",
       "</style>\n",
       "<table border=\"1\" class=\"dataframe\">\n",
       "  <thead>\n",
       "    <tr style=\"text-align: right;\">\n",
       "      <th></th>\n",
       "      <th>Name</th>\n",
       "      <th>Price</th>\n",
       "    </tr>\n",
       "  </thead>\n",
       "  <tbody>\n",
       "    <tr>\n",
       "      <th>0</th>\n",
       "      <td>Alice</td>\n",
       "      <td>10</td>\n",
       "    </tr>\n",
       "    <tr>\n",
       "      <th>1</th>\n",
       "      <td>Eve</td>\n",
       "      <td>20</td>\n",
       "    </tr>\n",
       "    <tr>\n",
       "      <th>2</th>\n",
       "      <td>Bob</td>\n",
       "      <td>30</td>\n",
       "    </tr>\n",
       "  </tbody>\n",
       "</table>\n",
       "</div>"
      ],
      "text/plain": [
       "    Name  Price\n",
       "0  Alice     10\n",
       "1    Eve     20\n",
       "2    Bob     30"
      ]
     },
     "execution_count": 21,
     "metadata": {},
     "output_type": "execute_result"
    }
   ],
   "source": [
    "pd.read_sql('SELECT * FROM prices', con)"
   ]
  },
  {
   "cell_type": "code",
   "execution_count": 22,
   "id": "e2e0b751",
   "metadata": {},
   "outputs": [
    {
     "data": {
      "text/plain": [
       "4"
      ]
     },
     "execution_count": 22,
     "metadata": {},
     "output_type": "execute_result"
    }
   ],
   "source": [
    "cities = pd.DataFrame({\n",
    "    'Name': ['Alice', 'Eve', 'Bob', 'Dan'],\n",
    "    'City': ['Leeds', 'London', 'Paris', 'Glasgow']\n",
    "})\n",
    "\n",
    "cities.to_sql('cities', con, index=False, if_exists='replace')"
   ]
  },
  {
   "cell_type": "code",
   "execution_count": 23,
   "id": "8d21d8a1",
   "metadata": {},
   "outputs": [
    {
     "data": {
      "text/html": [
       "<div>\n",
       "<style scoped>\n",
       "    .dataframe tbody tr th:only-of-type {\n",
       "        vertical-align: middle;\n",
       "    }\n",
       "\n",
       "    .dataframe tbody tr th {\n",
       "        vertical-align: top;\n",
       "    }\n",
       "\n",
       "    .dataframe thead th {\n",
       "        text-align: right;\n",
       "    }\n",
       "</style>\n",
       "<table border=\"1\" class=\"dataframe\">\n",
       "  <thead>\n",
       "    <tr style=\"text-align: right;\">\n",
       "      <th></th>\n",
       "      <th>Name</th>\n",
       "      <th>City</th>\n",
       "    </tr>\n",
       "  </thead>\n",
       "  <tbody>\n",
       "    <tr>\n",
       "      <th>0</th>\n",
       "      <td>Alice</td>\n",
       "      <td>Leeds</td>\n",
       "    </tr>\n",
       "    <tr>\n",
       "      <th>1</th>\n",
       "      <td>Eve</td>\n",
       "      <td>London</td>\n",
       "    </tr>\n",
       "    <tr>\n",
       "      <th>2</th>\n",
       "      <td>Bob</td>\n",
       "      <td>Paris</td>\n",
       "    </tr>\n",
       "    <tr>\n",
       "      <th>3</th>\n",
       "      <td>Dan</td>\n",
       "      <td>Glasgow</td>\n",
       "    </tr>\n",
       "  </tbody>\n",
       "</table>\n",
       "</div>"
      ],
      "text/plain": [
       "    Name     City\n",
       "0  Alice    Leeds\n",
       "1    Eve   London\n",
       "2    Bob    Paris\n",
       "3    Dan  Glasgow"
      ]
     },
     "execution_count": 23,
     "metadata": {},
     "output_type": "execute_result"
    }
   ],
   "source": [
    "pd.read_sql('SELECT * FROM cities', con)"
   ]
  },
  {
   "cell_type": "markdown",
   "id": "50412ec5",
   "metadata": {},
   "source": [
    "#### cartesian join = joining without any condition\n",
    "* all match-ups"
   ]
  },
  {
   "cell_type": "code",
   "execution_count": 24,
   "id": "ecd6ca26",
   "metadata": {},
   "outputs": [
    {
     "data": {
      "text/html": [
       "<div>\n",
       "<style scoped>\n",
       "    .dataframe tbody tr th:only-of-type {\n",
       "        vertical-align: middle;\n",
       "    }\n",
       "\n",
       "    .dataframe tbody tr th {\n",
       "        vertical-align: top;\n",
       "    }\n",
       "\n",
       "    .dataframe thead th {\n",
       "        text-align: right;\n",
       "    }\n",
       "</style>\n",
       "<table border=\"1\" class=\"dataframe\">\n",
       "  <thead>\n",
       "    <tr style=\"text-align: right;\">\n",
       "      <th></th>\n",
       "      <th>Name</th>\n",
       "      <th>City</th>\n",
       "      <th>Name</th>\n",
       "      <th>Price</th>\n",
       "    </tr>\n",
       "  </thead>\n",
       "  <tbody>\n",
       "    <tr>\n",
       "      <th>0</th>\n",
       "      <td>Alice</td>\n",
       "      <td>Leeds</td>\n",
       "      <td>Alice</td>\n",
       "      <td>10</td>\n",
       "    </tr>\n",
       "    <tr>\n",
       "      <th>1</th>\n",
       "      <td>Alice</td>\n",
       "      <td>Leeds</td>\n",
       "      <td>Eve</td>\n",
       "      <td>20</td>\n",
       "    </tr>\n",
       "    <tr>\n",
       "      <th>2</th>\n",
       "      <td>Alice</td>\n",
       "      <td>Leeds</td>\n",
       "      <td>Bob</td>\n",
       "      <td>30</td>\n",
       "    </tr>\n",
       "    <tr>\n",
       "      <th>3</th>\n",
       "      <td>Eve</td>\n",
       "      <td>London</td>\n",
       "      <td>Alice</td>\n",
       "      <td>10</td>\n",
       "    </tr>\n",
       "    <tr>\n",
       "      <th>4</th>\n",
       "      <td>Eve</td>\n",
       "      <td>London</td>\n",
       "      <td>Eve</td>\n",
       "      <td>20</td>\n",
       "    </tr>\n",
       "    <tr>\n",
       "      <th>5</th>\n",
       "      <td>Eve</td>\n",
       "      <td>London</td>\n",
       "      <td>Bob</td>\n",
       "      <td>30</td>\n",
       "    </tr>\n",
       "    <tr>\n",
       "      <th>6</th>\n",
       "      <td>Bob</td>\n",
       "      <td>Paris</td>\n",
       "      <td>Alice</td>\n",
       "      <td>10</td>\n",
       "    </tr>\n",
       "    <tr>\n",
       "      <th>7</th>\n",
       "      <td>Bob</td>\n",
       "      <td>Paris</td>\n",
       "      <td>Eve</td>\n",
       "      <td>20</td>\n",
       "    </tr>\n",
       "    <tr>\n",
       "      <th>8</th>\n",
       "      <td>Bob</td>\n",
       "      <td>Paris</td>\n",
       "      <td>Bob</td>\n",
       "      <td>30</td>\n",
       "    </tr>\n",
       "    <tr>\n",
       "      <th>9</th>\n",
       "      <td>Dan</td>\n",
       "      <td>Glasgow</td>\n",
       "      <td>Alice</td>\n",
       "      <td>10</td>\n",
       "    </tr>\n",
       "    <tr>\n",
       "      <th>10</th>\n",
       "      <td>Dan</td>\n",
       "      <td>Glasgow</td>\n",
       "      <td>Eve</td>\n",
       "      <td>20</td>\n",
       "    </tr>\n",
       "    <tr>\n",
       "      <th>11</th>\n",
       "      <td>Dan</td>\n",
       "      <td>Glasgow</td>\n",
       "      <td>Bob</td>\n",
       "      <td>30</td>\n",
       "    </tr>\n",
       "  </tbody>\n",
       "</table>\n",
       "</div>"
      ],
      "text/plain": [
       "     Name     City   Name  Price\n",
       "0   Alice    Leeds  Alice     10\n",
       "1   Alice    Leeds    Eve     20\n",
       "2   Alice    Leeds    Bob     30\n",
       "3     Eve   London  Alice     10\n",
       "4     Eve   London    Eve     20\n",
       "5     Eve   London    Bob     30\n",
       "6     Bob    Paris  Alice     10\n",
       "7     Bob    Paris    Eve     20\n",
       "8     Bob    Paris    Bob     30\n",
       "9     Dan  Glasgow  Alice     10\n",
       "10    Dan  Glasgow    Eve     20\n",
       "11    Dan  Glasgow    Bob     30"
      ]
     },
     "execution_count": 24,
     "metadata": {},
     "output_type": "execute_result"
    }
   ],
   "source": [
    "pd.read_sql('SELECT * FROM cities, prices', con)"
   ]
  },
  {
   "cell_type": "markdown",
   "id": "cd5f017d",
   "metadata": {},
   "source": [
    "####  inner join = \"join\"\n",
    "* adding a pairing-up condition \n",
    "    * aka filtering the above "
   ]
  },
  {
   "cell_type": "code",
   "execution_count": 25,
   "id": "517e5d45",
   "metadata": {},
   "outputs": [
    {
     "data": {
      "text/html": [
       "<div>\n",
       "<style scoped>\n",
       "    .dataframe tbody tr th:only-of-type {\n",
       "        vertical-align: middle;\n",
       "    }\n",
       "\n",
       "    .dataframe tbody tr th {\n",
       "        vertical-align: top;\n",
       "    }\n",
       "\n",
       "    .dataframe thead th {\n",
       "        text-align: right;\n",
       "    }\n",
       "</style>\n",
       "<table border=\"1\" class=\"dataframe\">\n",
       "  <thead>\n",
       "    <tr style=\"text-align: right;\">\n",
       "      <th></th>\n",
       "      <th>Name</th>\n",
       "      <th>City</th>\n",
       "      <th>Name</th>\n",
       "      <th>Price</th>\n",
       "    </tr>\n",
       "  </thead>\n",
       "  <tbody>\n",
       "    <tr>\n",
       "      <th>0</th>\n",
       "      <td>Alice</td>\n",
       "      <td>Leeds</td>\n",
       "      <td>Alice</td>\n",
       "      <td>10</td>\n",
       "    </tr>\n",
       "    <tr>\n",
       "      <th>1</th>\n",
       "      <td>Eve</td>\n",
       "      <td>London</td>\n",
       "      <td>Eve</td>\n",
       "      <td>20</td>\n",
       "    </tr>\n",
       "    <tr>\n",
       "      <th>2</th>\n",
       "      <td>Bob</td>\n",
       "      <td>Paris</td>\n",
       "      <td>Bob</td>\n",
       "      <td>30</td>\n",
       "    </tr>\n",
       "  </tbody>\n",
       "</table>\n",
       "</div>"
      ],
      "text/plain": [
       "    Name    City   Name  Price\n",
       "0  Alice   Leeds  Alice     10\n",
       "1    Eve  London    Eve     20\n",
       "2    Bob   Paris    Bob     30"
      ]
     },
     "execution_count": 25,
     "metadata": {},
     "output_type": "execute_result"
    }
   ],
   "source": [
    "pd.read_sql(\"\"\"\n",
    "    SELECT * \n",
    "    FROM cities \n",
    "    JOIN prices\n",
    "    ON cities.Name = prices.Name\n",
    "\"\"\", con)"
   ]
  },
  {
   "cell_type": "markdown",
   "id": "36b7f8df",
   "metadata": {},
   "source": [
    "####  `LEFT` join \n",
    "* keeps the data in the *LEFT* table, NULL'ing the RIGHT,"
   ]
  },
  {
   "cell_type": "code",
   "execution_count": 26,
   "id": "6ca84c34",
   "metadata": {},
   "outputs": [
    {
     "data": {
      "text/html": [
       "<div>\n",
       "<style scoped>\n",
       "    .dataframe tbody tr th:only-of-type {\n",
       "        vertical-align: middle;\n",
       "    }\n",
       "\n",
       "    .dataframe tbody tr th {\n",
       "        vertical-align: top;\n",
       "    }\n",
       "\n",
       "    .dataframe thead th {\n",
       "        text-align: right;\n",
       "    }\n",
       "</style>\n",
       "<table border=\"1\" class=\"dataframe\">\n",
       "  <thead>\n",
       "    <tr style=\"text-align: right;\">\n",
       "      <th></th>\n",
       "      <th>Name</th>\n",
       "      <th>City</th>\n",
       "      <th>Name</th>\n",
       "      <th>Price</th>\n",
       "    </tr>\n",
       "  </thead>\n",
       "  <tbody>\n",
       "    <tr>\n",
       "      <th>0</th>\n",
       "      <td>Alice</td>\n",
       "      <td>Leeds</td>\n",
       "      <td>Alice</td>\n",
       "      <td>10.0</td>\n",
       "    </tr>\n",
       "    <tr>\n",
       "      <th>1</th>\n",
       "      <td>Eve</td>\n",
       "      <td>London</td>\n",
       "      <td>Eve</td>\n",
       "      <td>20.0</td>\n",
       "    </tr>\n",
       "    <tr>\n",
       "      <th>2</th>\n",
       "      <td>Bob</td>\n",
       "      <td>Paris</td>\n",
       "      <td>Bob</td>\n",
       "      <td>30.0</td>\n",
       "    </tr>\n",
       "    <tr>\n",
       "      <th>3</th>\n",
       "      <td>Dan</td>\n",
       "      <td>Glasgow</td>\n",
       "      <td>None</td>\n",
       "      <td>NaN</td>\n",
       "    </tr>\n",
       "  </tbody>\n",
       "</table>\n",
       "</div>"
      ],
      "text/plain": [
       "    Name     City   Name  Price\n",
       "0  Alice    Leeds  Alice   10.0\n",
       "1    Eve   London    Eve   20.0\n",
       "2    Bob    Paris    Bob   30.0\n",
       "3    Dan  Glasgow   None    NaN"
      ]
     },
     "execution_count": 26,
     "metadata": {},
     "output_type": "execute_result"
    }
   ],
   "source": [
    "pd.read_sql(\"\"\"\n",
    "    SELECT * \n",
    "    FROM cities \n",
    "    LEFT JOIN prices\n",
    "    ON cities.Name = prices.Name\n",
    "\"\"\", con)"
   ]
  },
  {
   "cell_type": "markdown",
   "id": "6a7e156c",
   "metadata": {},
   "source": [
    "---\n",
    "## Group Activity: Workbook 2 (c. 25 min)\n",
    "---"
   ]
  },
  {
   "cell_type": "markdown",
   "id": "3d2e6e23",
   "metadata": {},
   "source": [
    "`RIGHT` joins arent supported (they dont really need to be), so they cause an error,"
   ]
  },
  {
   "cell_type": "code",
   "execution_count": 27,
   "id": "24b06703",
   "metadata": {},
   "outputs": [],
   "source": [
    "#pd.read_sql(\"SELECT * FROM cities RIGHT JOIN prices ON cities.Name = prices.Name\", con)"
   ]
  },
  {
   "cell_type": "markdown",
   "id": "6b33468e",
   "metadata": {},
   "source": [
    "## Review Activity II: Linking Tables"
   ]
  },
  {
   "cell_type": "markdown",
   "id": "89fc714c",
   "metadata": {},
   "source": [
    "There are several ways of phrasing a `JOIN`, consider the below where we place the `ON` conditions underneath the `JOIN film_actor`,"
   ]
  },
  {
   "cell_type": "markdown",
   "id": "e557aa07",
   "metadata": {},
   "source": [
    "```sql\n",
    "    SELECT title, first_name, last_name\n",
    "    FROM actor    \n",
    "    JOIN film\n",
    "    JOIN film_actor\n",
    "        ON \n",
    "            film_actor.film_id = film.film_id \n",
    "        AND\n",
    "            film_actor.actor_id = actor.actor_id \n",
    "```"
   ]
  },
  {
   "cell_type": "code",
   "execution_count": 56,
   "id": "c9dc9fd9",
   "metadata": {},
   "outputs": [
    {
     "data": {
      "text/html": [
       "<div>\n",
       "<style scoped>\n",
       "    .dataframe tbody tr th:only-of-type {\n",
       "        vertical-align: middle;\n",
       "    }\n",
       "\n",
       "    .dataframe tbody tr th {\n",
       "        vertical-align: top;\n",
       "    }\n",
       "\n",
       "    .dataframe thead th {\n",
       "        text-align: right;\n",
       "    }\n",
       "</style>\n",
       "<table border=\"1\" class=\"dataframe\">\n",
       "  <thead>\n",
       "    <tr style=\"text-align: right;\">\n",
       "      <th></th>\n",
       "      <th>title</th>\n",
       "      <th>first_name</th>\n",
       "      <th>last_name</th>\n",
       "    </tr>\n",
       "  </thead>\n",
       "  <tbody>\n",
       "    <tr>\n",
       "      <th>0</th>\n",
       "      <td>ACADEMY DINOSAUR</td>\n",
       "      <td>PENELOPE</td>\n",
       "      <td>GUINESS</td>\n",
       "    </tr>\n",
       "    <tr>\n",
       "      <th>1</th>\n",
       "      <td>ACADEMY DINOSAUR</td>\n",
       "      <td>CHRISTIAN</td>\n",
       "      <td>GABLE</td>\n",
       "    </tr>\n",
       "    <tr>\n",
       "      <th>2</th>\n",
       "      <td>ACADEMY DINOSAUR</td>\n",
       "      <td>LUCILLE</td>\n",
       "      <td>TRACY</td>\n",
       "    </tr>\n",
       "    <tr>\n",
       "      <th>3</th>\n",
       "      <td>ACADEMY DINOSAUR</td>\n",
       "      <td>SANDRA</td>\n",
       "      <td>PECK</td>\n",
       "    </tr>\n",
       "    <tr>\n",
       "      <th>4</th>\n",
       "      <td>ACADEMY DINOSAUR</td>\n",
       "      <td>JOHNNY</td>\n",
       "      <td>CAGE</td>\n",
       "    </tr>\n",
       "    <tr>\n",
       "      <th>5</th>\n",
       "      <td>ACADEMY DINOSAUR</td>\n",
       "      <td>MENA</td>\n",
       "      <td>TEMPLE</td>\n",
       "    </tr>\n",
       "    <tr>\n",
       "      <th>6</th>\n",
       "      <td>ACADEMY DINOSAUR</td>\n",
       "      <td>WARREN</td>\n",
       "      <td>NOLTE</td>\n",
       "    </tr>\n",
       "    <tr>\n",
       "      <th>7</th>\n",
       "      <td>ACADEMY DINOSAUR</td>\n",
       "      <td>OPRAH</td>\n",
       "      <td>KILMER</td>\n",
       "    </tr>\n",
       "    <tr>\n",
       "      <th>8</th>\n",
       "      <td>ACADEMY DINOSAUR</td>\n",
       "      <td>ROCK</td>\n",
       "      <td>DUKAKIS</td>\n",
       "    </tr>\n",
       "    <tr>\n",
       "      <th>9</th>\n",
       "      <td>ACADEMY DINOSAUR</td>\n",
       "      <td>MARY</td>\n",
       "      <td>KEITEL</td>\n",
       "    </tr>\n",
       "    <tr>\n",
       "      <th>10</th>\n",
       "      <td>ACE GOLDFINGER</td>\n",
       "      <td>BOB</td>\n",
       "      <td>FAWCETT</td>\n",
       "    </tr>\n",
       "    <tr>\n",
       "      <th>11</th>\n",
       "      <td>ACE GOLDFINGER</td>\n",
       "      <td>MINNIE</td>\n",
       "      <td>ZELLWEGER</td>\n",
       "    </tr>\n",
       "    <tr>\n",
       "      <th>12</th>\n",
       "      <td>ACE GOLDFINGER</td>\n",
       "      <td>SEAN</td>\n",
       "      <td>GUINESS</td>\n",
       "    </tr>\n",
       "    <tr>\n",
       "      <th>13</th>\n",
       "      <td>ACE GOLDFINGER</td>\n",
       "      <td>CHRIS</td>\n",
       "      <td>DEPP</td>\n",
       "    </tr>\n",
       "    <tr>\n",
       "      <th>14</th>\n",
       "      <td>ADAPTATION HOLES</td>\n",
       "      <td>NICK</td>\n",
       "      <td>WAHLBERG</td>\n",
       "    </tr>\n",
       "    <tr>\n",
       "      <th>15</th>\n",
       "      <td>ADAPTATION HOLES</td>\n",
       "      <td>BOB</td>\n",
       "      <td>FAWCETT</td>\n",
       "    </tr>\n",
       "    <tr>\n",
       "      <th>16</th>\n",
       "      <td>ADAPTATION HOLES</td>\n",
       "      <td>CAMERON</td>\n",
       "      <td>STREEP</td>\n",
       "    </tr>\n",
       "    <tr>\n",
       "      <th>17</th>\n",
       "      <td>ADAPTATION HOLES</td>\n",
       "      <td>RAY</td>\n",
       "      <td>JOHANSSON</td>\n",
       "    </tr>\n",
       "    <tr>\n",
       "      <th>18</th>\n",
       "      <td>ADAPTATION HOLES</td>\n",
       "      <td>JULIANNE</td>\n",
       "      <td>DENCH</td>\n",
       "    </tr>\n",
       "  </tbody>\n",
       "</table>\n",
       "</div>"
      ],
      "text/plain": [
       "               title first_name  last_name\n",
       "0   ACADEMY DINOSAUR   PENELOPE    GUINESS\n",
       "1   ACADEMY DINOSAUR  CHRISTIAN      GABLE\n",
       "2   ACADEMY DINOSAUR    LUCILLE      TRACY\n",
       "3   ACADEMY DINOSAUR     SANDRA       PECK\n",
       "4   ACADEMY DINOSAUR     JOHNNY       CAGE\n",
       "5   ACADEMY DINOSAUR       MENA     TEMPLE\n",
       "6   ACADEMY DINOSAUR     WARREN      NOLTE\n",
       "7   ACADEMY DINOSAUR      OPRAH     KILMER\n",
       "8   ACADEMY DINOSAUR       ROCK    DUKAKIS\n",
       "9   ACADEMY DINOSAUR       MARY     KEITEL\n",
       "10    ACE GOLDFINGER        BOB    FAWCETT\n",
       "11    ACE GOLDFINGER     MINNIE  ZELLWEGER\n",
       "12    ACE GOLDFINGER       SEAN    GUINESS\n",
       "13    ACE GOLDFINGER      CHRIS       DEPP\n",
       "14  ADAPTATION HOLES       NICK   WAHLBERG\n",
       "15  ADAPTATION HOLES        BOB    FAWCETT\n",
       "16  ADAPTATION HOLES    CAMERON     STREEP\n",
       "17  ADAPTATION HOLES        RAY  JOHANSSON\n",
       "18  ADAPTATION HOLES   JULIANNE      DENCH"
      ]
     },
     "execution_count": 56,
     "metadata": {},
     "output_type": "execute_result"
    }
   ],
   "source": [
    "query = \"\"\"\n",
    "    SELECT title, first_name, last_name\n",
    "    FROM actor    \n",
    "    JOIN film\n",
    "    JOIN film_actor\n",
    "        ON \n",
    "            film.film_id = film_actor.film_id\n",
    "        AND\n",
    "            actor.actor_id = film_actor.actor_id\n",
    "    WHERE \n",
    "        film.film_id IN (1, 2, 3)\n",
    "\"\"\"\n",
    "pd.read_sql(query, dvd)"
   ]
  },
  {
   "cell_type": "markdown",
   "id": "9c1d5628",
   "metadata": {},
   "source": [
    "---"
   ]
  },
  {
   "cell_type": "markdown",
   "id": "4c16ea43",
   "metadata": {},
   "source": [
    "## Sub-Queries"
   ]
  },
  {
   "cell_type": "markdown",
   "id": "a303af17",
   "metadata": {},
   "source": [
    "It seems like `SELECT` mostly means `RETURN`, ie., provide us with data,"
   ]
  },
  {
   "cell_type": "code",
   "execution_count": 60,
   "id": "0b082925",
   "metadata": {},
   "outputs": [
    {
     "data": {
      "text/html": [
       "<div>\n",
       "<style scoped>\n",
       "    .dataframe tbody tr th:only-of-type {\n",
       "        vertical-align: middle;\n",
       "    }\n",
       "\n",
       "    .dataframe tbody tr th {\n",
       "        vertical-align: top;\n",
       "    }\n",
       "\n",
       "    .dataframe thead th {\n",
       "        text-align: right;\n",
       "    }\n",
       "</style>\n",
       "<table border=\"1\" class=\"dataframe\">\n",
       "  <thead>\n",
       "    <tr style=\"text-align: right;\">\n",
       "      <th></th>\n",
       "      <th>film_id</th>\n",
       "      <th>title</th>\n",
       "      <th>description</th>\n",
       "      <th>release_year</th>\n",
       "      <th>language_id</th>\n",
       "      <th>original_language_id</th>\n",
       "      <th>rental_duration</th>\n",
       "      <th>rental_rate</th>\n",
       "      <th>length</th>\n",
       "      <th>replacement_cost</th>\n",
       "      <th>rating</th>\n",
       "      <th>special_features</th>\n",
       "      <th>last_update</th>\n",
       "    </tr>\n",
       "  </thead>\n",
       "  <tbody>\n",
       "    <tr>\n",
       "      <th>0</th>\n",
       "      <td>1</td>\n",
       "      <td>ACADEMY DINOSAUR</td>\n",
       "      <td>A Epic Drama of a Feminist And a Mad Scientist...</td>\n",
       "      <td>2006</td>\n",
       "      <td>1</td>\n",
       "      <td>None</td>\n",
       "      <td>6</td>\n",
       "      <td>0.99</td>\n",
       "      <td>86</td>\n",
       "      <td>20.99</td>\n",
       "      <td>PG</td>\n",
       "      <td>Deleted Scenes,Behind the Scenes</td>\n",
       "      <td>2021-03-06 15:52:00</td>\n",
       "    </tr>\n",
       "  </tbody>\n",
       "</table>\n",
       "</div>"
      ],
      "text/plain": [
       "   film_id             title  \\\n",
       "0        1  ACADEMY DINOSAUR   \n",
       "\n",
       "                                         description release_year  \\\n",
       "0  A Epic Drama of a Feminist And a Mad Scientist...         2006   \n",
       "\n",
       "   language_id original_language_id  rental_duration  rental_rate  length  \\\n",
       "0            1                 None                6         0.99      86   \n",
       "\n",
       "   replacement_cost rating                  special_features  \\\n",
       "0             20.99     PG  Deleted Scenes,Behind the Scenes   \n",
       "\n",
       "           last_update  \n",
       "0  2021-03-06 15:52:00  "
      ]
     },
     "execution_count": 60,
     "metadata": {},
     "output_type": "execute_result"
    }
   ],
   "source": [
    "pd.read_sql(\"\"\"\n",
    "    SELECT * \n",
    "    FROM film\n",
    "    LIMIT 1\n",
    "\"\"\", dvd)"
   ]
  },
  {
   "cell_type": "code",
   "execution_count": 61,
   "id": "20e2590e",
   "metadata": {},
   "outputs": [
    {
     "data": {
      "text/html": [
       "<div>\n",
       "<style scoped>\n",
       "    .dataframe tbody tr th:only-of-type {\n",
       "        vertical-align: middle;\n",
       "    }\n",
       "\n",
       "    .dataframe tbody tr th {\n",
       "        vertical-align: top;\n",
       "    }\n",
       "\n",
       "    .dataframe thead th {\n",
       "        text-align: right;\n",
       "    }\n",
       "</style>\n",
       "<table border=\"1\" class=\"dataframe\">\n",
       "  <thead>\n",
       "    <tr style=\"text-align: right;\">\n",
       "      <th></th>\n",
       "      <th>Name</th>\n",
       "      <th>Price</th>\n",
       "    </tr>\n",
       "  </thead>\n",
       "  <tbody>\n",
       "    <tr>\n",
       "      <th>0</th>\n",
       "      <td>Alice</td>\n",
       "      <td>10</td>\n",
       "    </tr>\n",
       "    <tr>\n",
       "      <th>1</th>\n",
       "      <td>Eve</td>\n",
       "      <td>20</td>\n",
       "    </tr>\n",
       "    <tr>\n",
       "      <th>2</th>\n",
       "      <td>Bob</td>\n",
       "      <td>30</td>\n",
       "    </tr>\n",
       "  </tbody>\n",
       "</table>\n",
       "</div>"
      ],
      "text/plain": [
       "    Name  Price\n",
       "0  Alice     10\n",
       "1    Eve     20\n",
       "2    Bob     30"
      ]
     },
     "execution_count": 61,
     "metadata": {},
     "output_type": "execute_result"
    }
   ],
   "source": [
    "pd.read_sql(\"SELECT * FROM prices\", con)"
   ]
  },
  {
   "cell_type": "markdown",
   "id": "62931fec",
   "metadata": {},
   "source": [
    "A subquery is, eg., a use of `SELECT` as part of another query. Below we `SELECT` the `Name`s of `prices` table and filter `cities` by whether it's `Name` is *in* the `prices` set. \n",
    "\n",
    "(Ie., we join)."
   ]
  },
  {
   "cell_type": "code",
   "execution_count": 65,
   "id": "a408e516",
   "metadata": {},
   "outputs": [
    {
     "data": {
      "text/html": [
       "<div>\n",
       "<style scoped>\n",
       "    .dataframe tbody tr th:only-of-type {\n",
       "        vertical-align: middle;\n",
       "    }\n",
       "\n",
       "    .dataframe tbody tr th {\n",
       "        vertical-align: top;\n",
       "    }\n",
       "\n",
       "    .dataframe thead th {\n",
       "        text-align: right;\n",
       "    }\n",
       "</style>\n",
       "<table border=\"1\" class=\"dataframe\">\n",
       "  <thead>\n",
       "    <tr style=\"text-align: right;\">\n",
       "      <th></th>\n",
       "      <th>Name</th>\n",
       "      <th>City</th>\n",
       "    </tr>\n",
       "  </thead>\n",
       "  <tbody>\n",
       "    <tr>\n",
       "      <th>0</th>\n",
       "      <td>Alice</td>\n",
       "      <td>Leeds</td>\n",
       "    </tr>\n",
       "    <tr>\n",
       "      <th>1</th>\n",
       "      <td>Eve</td>\n",
       "      <td>London</td>\n",
       "    </tr>\n",
       "    <tr>\n",
       "      <th>2</th>\n",
       "      <td>Bob</td>\n",
       "      <td>Paris</td>\n",
       "    </tr>\n",
       "  </tbody>\n",
       "</table>\n",
       "</div>"
      ],
      "text/plain": [
       "    Name    City\n",
       "0  Alice   Leeds\n",
       "1    Eve  London\n",
       "2    Bob   Paris"
      ]
     },
     "execution_count": 65,
     "metadata": {},
     "output_type": "execute_result"
    }
   ],
   "source": [
    "pd.read_sql(\"\"\"\n",
    "    SELECT * \n",
    "    FROM cities \n",
    "    WHERE \n",
    "        cities.Name IN (SELECT Name FROM prices)\n",
    "    \"\"\", con)"
   ]
  },
  {
   "cell_type": "markdown",
   "id": "7dff3aac",
   "metadata": {},
   "source": [
    "...we shouldn't do this. We should just `JOIN`. \n",
    "\n",
    "Why? DBs are optimized for JOINs (\"do less\"), and can struggle to optimize subquery."
   ]
  },
  {
   "cell_type": "markdown",
   "id": "33ef897f",
   "metadata": {},
   "source": [
    "But it still can be very useful,"
   ]
  },
  {
   "cell_type": "markdown",
   "id": "df5f7b90",
   "metadata": {},
   "source": [
    "```sql\n",
    "\n",
    "INSERT INTO table_today VALUES \n",
    "    (SELECT * FROM table_yesterday)\n",
    "\n",
    "```"
   ]
  },
  {
   "cell_type": "markdown",
   "id": "a23a828f",
   "metadata": {},
   "source": [
    "---\n",
    "## Individual Activity & Take-Home: Workbook 3 (c. 20 min)\n",
    "* do you have an questions from the course so far?\n",
    "* any areas you want a little reivew?\n",
    "* what areas have you found most useful, hardest, most interesting?\n",
    "    * ...\n",
    "---"
   ]
  },
  {
   "cell_type": "code",
   "execution_count": 68,
   "id": "b87f30d2",
   "metadata": {},
   "outputs": [
    {
     "data": {
      "text/html": [
       "<div>\n",
       "<style scoped>\n",
       "    .dataframe tbody tr th:only-of-type {\n",
       "        vertical-align: middle;\n",
       "    }\n",
       "\n",
       "    .dataframe tbody tr th {\n",
       "        vertical-align: top;\n",
       "    }\n",
       "\n",
       "    .dataframe thead th {\n",
       "        text-align: right;\n",
       "    }\n",
       "</style>\n",
       "<table border=\"1\" class=\"dataframe\">\n",
       "  <thead>\n",
       "    <tr style=\"text-align: right;\">\n",
       "      <th></th>\n",
       "      <th>payment_id</th>\n",
       "    </tr>\n",
       "  </thead>\n",
       "  <tbody>\n",
       "    <tr>\n",
       "      <th>0</th>\n",
       "      <td>6</td>\n",
       "    </tr>\n",
       "    <tr>\n",
       "      <th>1</th>\n",
       "      <td>7</td>\n",
       "    </tr>\n",
       "    <tr>\n",
       "      <th>2</th>\n",
       "      <td>12</td>\n",
       "    </tr>\n",
       "    <tr>\n",
       "      <th>3</th>\n",
       "      <td>13</td>\n",
       "    </tr>\n",
       "    <tr>\n",
       "      <th>4</th>\n",
       "      <td>16</td>\n",
       "    </tr>\n",
       "  </tbody>\n",
       "</table>\n",
       "</div>"
      ],
      "text/plain": [
       "   payment_id\n",
       "0           6\n",
       "1           7\n",
       "2          12\n",
       "3          13\n",
       "4          16"
      ]
     },
     "execution_count": 68,
     "metadata": {},
     "output_type": "execute_result"
    }
   ],
   "source": [
    "# Writing an SQL query \n",
    "query = \"\"\"\n",
    "    SELECT payment_id\n",
    "    FROM payment \n",
    "    WHERE \n",
    "        amount > (SELECT AVG(amount) FROM payment)\n",
    "    ORDER BY amount ASC\n",
    "    LIMIT 5\n",
    "    \"\"\"\n",
    "\n",
    "# Querying the database\n",
    "pd.read_sql_query(query, dvd)"
   ]
  },
  {
   "cell_type": "code",
   "execution_count": 71,
   "id": "29d38574",
   "metadata": {},
   "outputs": [
    {
     "data": {
      "text/html": [
       "<div>\n",
       "<style scoped>\n",
       "    .dataframe tbody tr th:only-of-type {\n",
       "        vertical-align: middle;\n",
       "    }\n",
       "\n",
       "    .dataframe tbody tr th {\n",
       "        vertical-align: top;\n",
       "    }\n",
       "\n",
       "    .dataframe thead th {\n",
       "        text-align: right;\n",
       "    }\n",
       "</style>\n",
       "<table border=\"1\" class=\"dataframe\">\n",
       "  <thead>\n",
       "    <tr style=\"text-align: right;\">\n",
       "      <th></th>\n",
       "      <th>payment_id</th>\n",
       "    </tr>\n",
       "  </thead>\n",
       "  <tbody>\n",
       "    <tr>\n",
       "      <th>0</th>\n",
       "      <td>6</td>\n",
       "    </tr>\n",
       "    <tr>\n",
       "      <th>1</th>\n",
       "      <td>7</td>\n",
       "    </tr>\n",
       "    <tr>\n",
       "      <th>2</th>\n",
       "      <td>12</td>\n",
       "    </tr>\n",
       "    <tr>\n",
       "      <th>3</th>\n",
       "      <td>13</td>\n",
       "    </tr>\n",
       "    <tr>\n",
       "      <th>4</th>\n",
       "      <td>16</td>\n",
       "    </tr>\n",
       "  </tbody>\n",
       "</table>\n",
       "</div>"
      ],
      "text/plain": [
       "   payment_id\n",
       "0           6\n",
       "1           7\n",
       "2          12\n",
       "3          13\n",
       "4          16"
      ]
     },
     "execution_count": 71,
     "metadata": {},
     "output_type": "execute_result"
    }
   ],
   "source": [
    "# Writing an SQL query \n",
    "query = \"\"\"\n",
    "    SELECT payment_id\n",
    "    FROM payment \n",
    "    JOIN \n",
    "        (SELECT AVG(amount) AS Avg FROM payment)\n",
    "    ON \n",
    "        amount > Avg\n",
    "    ORDER BY amount\n",
    "    LIMIT 5\n",
    "    \n",
    "    \"\"\"\n",
    "\n",
    "# Querying the database\n",
    "pd.read_sql_query(query, dvd)"
   ]
  },
  {
   "cell_type": "markdown",
   "id": "7977731d",
   "metadata": {},
   "source": [
    "# Next Steps & Review"
   ]
  }
 ],
 "metadata": {
  "kernelspec": {
   "display_name": "Python 3 (ipykernel)",
   "language": "python",
   "name": "python3"
  },
  "language_info": {
   "codemirror_mode": {
    "name": "ipython",
    "version": 3
   },
   "file_extension": ".py",
   "mimetype": "text/x-python",
   "name": "python",
   "nbconvert_exporter": "python",
   "pygments_lexer": "ipython3",
   "version": "3.9.7"
  }
 },
 "nbformat": 4,
 "nbformat_minor": 5
}
