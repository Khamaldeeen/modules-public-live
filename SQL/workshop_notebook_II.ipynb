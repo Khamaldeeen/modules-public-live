{
 "cells": [
  {
   "cell_type": "markdown",
   "id": "20d36f7e",
   "metadata": {},
   "source": [
    "# SQL Workshop: Part II\n",
    "\n",
    "Welcome to the second part of this workshop. Here we will practice and explore more about JOINs. This notebook is structured in a way similar to the previous one and consists of challenges. The challenges will rise in difficulty as you go along. Good luck! \n",
    "\n",
    "For your convenience here is Sakila's ERD:\n",
    "\n",
    "![sakila ERD](./SQLite3_Sakila_ERD.png)"
   ]
  },
  {
   "cell_type": "markdown",
   "id": "60f163ee",
   "metadata": {},
   "source": [
    "### Challenge: Establishing a connection\n",
    "\n",
    "Establish a connection with the Sakila database file called `sqlite-sakila.db`. "
   ]
  },
  {
   "cell_type": "code",
   "execution_count": null,
   "id": "ec8a67ec",
   "metadata": {},
   "outputs": [],
   "source": [
    "# Your code here\n"
   ]
  },
  {
   "cell_type": "markdown",
   "id": "4fee9438",
   "metadata": {},
   "source": [
    "### Challenge: JOINs I\n",
    "\n",
    "Print out film titles and their inventory IDs. "
   ]
  },
  {
   "cell_type": "code",
   "execution_count": null,
   "id": "9ecc383d",
   "metadata": {},
   "outputs": [],
   "source": [
    "# Your code here\n"
   ]
  },
  {
   "cell_type": "markdown",
   "id": "62a2ea09",
   "metadata": {},
   "source": [
    "### Challenge: JOINs II\n",
    "\n",
    "Print out inventory IDs and the address IDs of the stores they are stored in. "
   ]
  },
  {
   "cell_type": "code",
   "execution_count": null,
   "id": "6b45c95f",
   "metadata": {},
   "outputs": [],
   "source": [
    "# Your code here\n"
   ]
  },
  {
   "cell_type": "markdown",
   "id": "63020bbe",
   "metadata": {},
   "source": [
    "### Challenge: JOINs III\n",
    "\n",
    "Print out all the payment amounts with the first and last names of our staff members who processed them."
   ]
  },
  {
   "cell_type": "code",
   "execution_count": null,
   "id": "a90d4b88",
   "metadata": {},
   "outputs": [],
   "source": [
    "# Your code here\n"
   ]
  },
  {
   "cell_type": "markdown",
   "id": "2f2d3470",
   "metadata": {},
   "source": [
    "### Challenge: JOINs IV\n",
    "\n",
    "Print out the film title that has an inventory ID of 3456."
   ]
  },
  {
   "cell_type": "code",
   "execution_count": null,
   "id": "8833f24d",
   "metadata": {},
   "outputs": [],
   "source": [
    "# Your code here\n"
   ]
  },
  {
   "cell_type": "markdown",
   "id": "6d62cb9f",
   "metadata": {},
   "source": [
    "### Challenge: JOINs V\n",
    "\n",
    "Print out all the inventory IDs of films rated \"PG\"."
   ]
  },
  {
   "cell_type": "code",
   "execution_count": null,
   "id": "197a29aa",
   "metadata": {},
   "outputs": [],
   "source": [
    "# Your code here\n"
   ]
  },
  {
   "cell_type": "markdown",
   "id": "ae7832b7",
   "metadata": {},
   "source": [
    "### Challenge: JOINs VI\n",
    "\n",
    "Find the average payment amount processed by our staff member called Mike Hillyer."
   ]
  },
  {
   "cell_type": "code",
   "execution_count": null,
   "id": "843ce5cf",
   "metadata": {},
   "outputs": [],
   "source": [
    "# Your code here\n"
   ]
  },
  {
   "cell_type": "markdown",
   "id": "9c93ecef",
   "metadata": {},
   "source": [
    "### Challenge: JOINs VII\n",
    "\n",
    "Find the average length of the films from our second store (ID = 2) that are rated \"G\"."
   ]
  },
  {
   "cell_type": "code",
   "execution_count": null,
   "id": "fe573e20",
   "metadata": {},
   "outputs": [],
   "source": [
    "# Your code here\n"
   ]
  },
  {
   "cell_type": "markdown",
   "id": "e6529d90",
   "metadata": {},
   "source": [
    "### Challenge: JOINs VIII\n",
    "\n",
    "Pint out the inventory ID of the film with the highest replacement cost among films not rated \"NC-17\", shorter than 2 hours,and released in 2006. "
   ]
  },
  {
   "cell_type": "code",
   "execution_count": null,
   "id": "d5c30a88",
   "metadata": {},
   "outputs": [],
   "source": [
    "# Your code here\n"
   ]
  }
 ],
 "metadata": {
  "kernelspec": {
   "display_name": "Python 3",
   "language": "python",
   "name": "python3"
  },
  "language_info": {
   "codemirror_mode": {
    "name": "ipython",
    "version": 3
   },
   "file_extension": ".py",
   "mimetype": "text/x-python",
   "name": "python",
   "nbconvert_exporter": "python",
   "pygments_lexer": "ipython3",
   "version": "3.8.8"
  }
 },
 "nbformat": 4,
 "nbformat_minor": 5
}
