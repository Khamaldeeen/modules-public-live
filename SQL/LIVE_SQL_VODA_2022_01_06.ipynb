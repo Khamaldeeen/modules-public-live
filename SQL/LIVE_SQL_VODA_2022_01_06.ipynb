{
 "cells": [
  {
   "cell_type": "markdown",
   "id": "8063ad6f",
   "metadata": {},
   "source": [
    "# SQL Workshop\n",
    "### <font color=indigo>LIVE DEMOs</font>\n",
    "---"
   ]
  },
  {
   "cell_type": "markdown",
   "id": "98ae6efc",
   "metadata": {},
   "source": [
    "* This document is a technical brainstorm (like whiteboarding with code). \n",
    "* I'll give you this and any other assets over the break. \n",
    "* No need to follow along live."
   ]
  },
  {
   "cell_type": "markdown",
   "id": "02fd29a8",
   "metadata": {},
   "source": [
    "---"
   ]
  },
  {
   "cell_type": "markdown",
   "id": "bff70ddd",
   "metadata": {},
   "source": [
    "## Introductions"
   ]
  },
  {
   "cell_type": "markdown",
   "id": "42a72b3d",
   "metadata": {},
   "source": [
    "* Name\n",
    "* Background/Role\n",
    "* Prior Experience with SQL?\n",
    "* Hobby"
   ]
  },
  {
   "cell_type": "markdown",
   "id": "b642642d",
   "metadata": {},
   "source": [
    "### Michael Burgess\n",
    "* michael.burgess@decoded.com\n",
    "\n",
    "* Head of Technical Solutions\n",
    "    * Head for Data, Analytics, AI\n",
    "    * IT contractor defence, telephony, mobile, ...\n",
    "    * Physics 6/7yr\n",
    "* Arguing, Youtube, Podcasts, Philosophy"
   ]
  },
  {
   "cell_type": "markdown",
   "id": "ebc22cd3",
   "metadata": {},
   "source": [
    "### The Group"
   ]
  },
  {
   "cell_type": "markdown",
   "id": "3189c451",
   "metadata": {},
   "source": [
    "* Rachel\n",
    "    * Quality & Compliance, Sales, MOD\n",
    "        * no prior experience, but made much more sense than python\n",
    "    * Walking & Singing \n",
    "    \n",
    "* Tim\n",
    "    * Data Transformation team, as Data Literacy Manager\n",
    "        * up-skill people with data, self-serve content\n",
    "        * sports & retail\n",
    "    * Some prior experience reading, loose understanding\n",
    "    * runner, cycling\n",
    "\n",
    "* Richard \n",
    "    * Life-cycle management engineer\n",
    "    * Vodafone 20yr, MOD\n",
    "        * no prior SQL, but some databases\n",
    "    * Runner"
   ]
  },
  {
   "cell_type": "markdown",
   "id": "8aceccb3",
   "metadata": {},
   "source": [
    "---"
   ]
  },
  {
   "cell_type": "markdown",
   "id": "5e876d9c",
   "metadata": {},
   "source": [
    "\n",
    "## SQLite & Python"
   ]
  },
  {
   "cell_type": "markdown",
   "id": "65f6146c",
   "metadata": {},
   "source": [
    "A library is built-into python which provides util for sqlite; this is specific to sqlite3."
   ]
  },
  {
   "cell_type": "code",
   "execution_count": 11,
   "id": "57448bda",
   "metadata": {},
   "outputs": [],
   "source": [
    "import sqlite3"
   ]
  },
  {
   "cell_type": "markdown",
   "id": "6d681046",
   "metadata": {},
   "source": [
    "The sqlalchemy library can connect to and manage multiple different `RDBMS`es..."
   ]
  },
  {
   "cell_type": "code",
   "execution_count": 12,
   "id": "3f229c74",
   "metadata": {},
   "outputs": [],
   "source": [
    "from sqlalchemy import create_engine"
   ]
  },
  {
   "cell_type": "markdown",
   "id": "6face190",
   "metadata": {},
   "source": [
    "Set up and (in this case *create*) the databse,"
   ]
  },
  {
   "cell_type": "code",
   "execution_count": 13,
   "id": "1974f26e",
   "metadata": {},
   "outputs": [],
   "source": [
    "db = create_engine(\"sqlite:///demo.db\")"
   ]
  },
  {
   "cell_type": "markdown",
   "id": "68ee9e3d",
   "metadata": {},
   "source": [
    "Get a connetion which we can use *as if it were a file*,"
   ]
  },
  {
   "cell_type": "code",
   "execution_count": 14,
   "id": "ebe491a9",
   "metadata": {},
   "outputs": [],
   "source": [
    "con = db.connect()"
   ]
  },
  {
   "cell_type": "markdown",
   "id": "b47e7135",
   "metadata": {},
   "source": [
    "... this means that sometimes when i could use a file connection, i can instead use this one.."
   ]
  },
  {
   "cell_type": "markdown",
   "id": "e1d25471",
   "metadata": {},
   "source": [
    "## Using Pandas with SQL"
   ]
  },
  {
   "cell_type": "code",
   "execution_count": 15,
   "id": "c0a8fb72",
   "metadata": {},
   "outputs": [],
   "source": [
    "import pandas as pd"
   ]
  },
  {
   "cell_type": "markdown",
   "id": "11e04d30",
   "metadata": {},
   "source": [
    "Pandas can save to *files* and therefore also dbs,"
   ]
  },
  {
   "cell_type": "code",
   "execution_count": 16,
   "id": "f6a5e150",
   "metadata": {},
   "outputs": [
    {
     "data": {
      "text/html": [
       "<div>\n",
       "<style scoped>\n",
       "    .dataframe tbody tr th:only-of-type {\n",
       "        vertical-align: middle;\n",
       "    }\n",
       "\n",
       "    .dataframe tbody tr th {\n",
       "        vertical-align: top;\n",
       "    }\n",
       "\n",
       "    .dataframe thead th {\n",
       "        text-align: right;\n",
       "    }\n",
       "</style>\n",
       "<table border=\"1\" class=\"dataframe\">\n",
       "  <thead>\n",
       "    <tr style=\"text-align: right;\">\n",
       "      <th></th>\n",
       "      <th>Name</th>\n",
       "      <th>Price</th>\n",
       "    </tr>\n",
       "  </thead>\n",
       "  <tbody>\n",
       "    <tr>\n",
       "      <th>0</th>\n",
       "      <td>Alice</td>\n",
       "      <td>10</td>\n",
       "    </tr>\n",
       "    <tr>\n",
       "      <th>1</th>\n",
       "      <td>Eve</td>\n",
       "      <td>20</td>\n",
       "    </tr>\n",
       "    <tr>\n",
       "      <th>2</th>\n",
       "      <td>Bob</td>\n",
       "      <td>30</td>\n",
       "    </tr>\n",
       "  </tbody>\n",
       "</table>\n",
       "</div>"
      ],
      "text/plain": [
       "    Name  Price\n",
       "0  Alice     10\n",
       "1    Eve     20\n",
       "2    Bob     30"
      ]
     },
     "execution_count": 16,
     "metadata": {},
     "output_type": "execute_result"
    }
   ],
   "source": [
    "prices = pd.DataFrame({\n",
    "    'Name': ['Alice', 'Eve', 'Bob'],\n",
    "    'Price': [10, 20, 30]\n",
    "})\n",
    "\n",
    "prices"
   ]
  },
  {
   "cell_type": "markdown",
   "id": "555e0928",
   "metadata": {},
   "source": [
    "The number of rows *saved* to the table `prices` is..."
   ]
  },
  {
   "cell_type": "code",
   "execution_count": 17,
   "id": "1333c9a7",
   "metadata": {},
   "outputs": [],
   "source": [
    "# prices.to_sql('prices', con)"
   ]
  },
  {
   "cell_type": "code",
   "execution_count": 18,
   "id": "4897192b",
   "metadata": {},
   "outputs": [
    {
     "data": {
      "text/plain": [
       "3"
      ]
     },
     "execution_count": 18,
     "metadata": {},
     "output_type": "execute_result"
    }
   ],
   "source": [
    "prices.to_sql('prices', con, index=False, if_exists='replace')"
   ]
  },
  {
   "cell_type": "code",
   "execution_count": 19,
   "id": "47747514",
   "metadata": {},
   "outputs": [
    {
     "data": {
      "text/html": [
       "<div>\n",
       "<style scoped>\n",
       "    .dataframe tbody tr th:only-of-type {\n",
       "        vertical-align: middle;\n",
       "    }\n",
       "\n",
       "    .dataframe tbody tr th {\n",
       "        vertical-align: top;\n",
       "    }\n",
       "\n",
       "    .dataframe thead th {\n",
       "        text-align: right;\n",
       "    }\n",
       "</style>\n",
       "<table border=\"1\" class=\"dataframe\">\n",
       "  <thead>\n",
       "    <tr style=\"text-align: right;\">\n",
       "      <th></th>\n",
       "      <th>Name</th>\n",
       "      <th>Price</th>\n",
       "    </tr>\n",
       "  </thead>\n",
       "  <tbody>\n",
       "    <tr>\n",
       "      <th>0</th>\n",
       "      <td>Alice</td>\n",
       "      <td>10</td>\n",
       "    </tr>\n",
       "    <tr>\n",
       "      <th>1</th>\n",
       "      <td>Eve</td>\n",
       "      <td>20</td>\n",
       "    </tr>\n",
       "    <tr>\n",
       "      <th>2</th>\n",
       "      <td>Bob</td>\n",
       "      <td>30</td>\n",
       "    </tr>\n",
       "  </tbody>\n",
       "</table>\n",
       "</div>"
      ],
      "text/plain": [
       "    Name  Price\n",
       "0  Alice     10\n",
       "1    Eve     20\n",
       "2    Bob     30"
      ]
     },
     "execution_count": 19,
     "metadata": {},
     "output_type": "execute_result"
    }
   ],
   "source": [
    "pd.read_sql('SELECT * FROM prices', con)"
   ]
  },
  {
   "cell_type": "markdown",
   "id": "05bd4c07",
   "metadata": {},
   "source": [
    "### A Querying Template"
   ]
  },
  {
   "cell_type": "markdown",
   "id": "59327958",
   "metadata": {},
   "source": [
    "It's convenient to use a document string when specifying a query, so we can use whitespace,"
   ]
  },
  {
   "cell_type": "code",
   "execution_count": 20,
   "id": "f2572185",
   "metadata": {},
   "outputs": [
    {
     "data": {
      "text/html": [
       "<div>\n",
       "<style scoped>\n",
       "    .dataframe tbody tr th:only-of-type {\n",
       "        vertical-align: middle;\n",
       "    }\n",
       "\n",
       "    .dataframe tbody tr th {\n",
       "        vertical-align: top;\n",
       "    }\n",
       "\n",
       "    .dataframe thead th {\n",
       "        text-align: right;\n",
       "    }\n",
       "</style>\n",
       "<table border=\"1\" class=\"dataframe\">\n",
       "  <thead>\n",
       "    <tr style=\"text-align: right;\">\n",
       "      <th></th>\n",
       "      <th>Name</th>\n",
       "      <th>Price</th>\n",
       "    </tr>\n",
       "  </thead>\n",
       "  <tbody>\n",
       "    <tr>\n",
       "      <th>0</th>\n",
       "      <td>Alice</td>\n",
       "      <td>10</td>\n",
       "    </tr>\n",
       "    <tr>\n",
       "      <th>1</th>\n",
       "      <td>Eve</td>\n",
       "      <td>20</td>\n",
       "    </tr>\n",
       "    <tr>\n",
       "      <th>2</th>\n",
       "      <td>Bob</td>\n",
       "      <td>30</td>\n",
       "    </tr>\n",
       "  </tbody>\n",
       "</table>\n",
       "</div>"
      ],
      "text/plain": [
       "    Name  Price\n",
       "0  Alice     10\n",
       "1    Eve     20\n",
       "2    Bob     30"
      ]
     },
     "execution_count": 20,
     "metadata": {},
     "output_type": "execute_result"
    }
   ],
   "source": [
    "# document string\n",
    "\n",
    "query = \"\"\"\n",
    "    SELECT *\n",
    "        FROM prices\n",
    "\"\"\"\n",
    "\n",
    "pd.read_sql(query, con)"
   ]
  },
  {
   "cell_type": "markdown",
   "id": "706389ca",
   "metadata": {},
   "source": [
    "### Q&A"
   ]
  },
  {
   "cell_type": "markdown",
   "id": "e94d5cf7",
   "metadata": {},
   "source": [
    "* How would I select just the `Name` column?"
   ]
  },
  {
   "cell_type": "code",
   "execution_count": 21,
   "id": "a82ef3a8",
   "metadata": {},
   "outputs": [
    {
     "data": {
      "text/html": [
       "<div>\n",
       "<style scoped>\n",
       "    .dataframe tbody tr th:only-of-type {\n",
       "        vertical-align: middle;\n",
       "    }\n",
       "\n",
       "    .dataframe tbody tr th {\n",
       "        vertical-align: top;\n",
       "    }\n",
       "\n",
       "    .dataframe thead th {\n",
       "        text-align: right;\n",
       "    }\n",
       "</style>\n",
       "<table border=\"1\" class=\"dataframe\">\n",
       "  <thead>\n",
       "    <tr style=\"text-align: right;\">\n",
       "      <th></th>\n",
       "      <th>Name</th>\n",
       "    </tr>\n",
       "  </thead>\n",
       "  <tbody>\n",
       "    <tr>\n",
       "      <th>0</th>\n",
       "      <td>Alice</td>\n",
       "    </tr>\n",
       "    <tr>\n",
       "      <th>1</th>\n",
       "      <td>Eve</td>\n",
       "    </tr>\n",
       "    <tr>\n",
       "      <th>2</th>\n",
       "      <td>Bob</td>\n",
       "    </tr>\n",
       "  </tbody>\n",
       "</table>\n",
       "</div>"
      ],
      "text/plain": [
       "    Name\n",
       "0  Alice\n",
       "1    Eve\n",
       "2    Bob"
      ]
     },
     "execution_count": 21,
     "metadata": {},
     "output_type": "execute_result"
    }
   ],
   "source": [
    "query = \"\"\"\n",
    "    SELECT Name\n",
    "        FROM prices\n",
    "\"\"\"\n",
    "\n",
    "pd.read_sql(query, con)"
   ]
  },
  {
   "cell_type": "markdown",
   "id": "f56ca915",
   "metadata": {},
   "source": [
    "* How would I select `prices` equal to or over $£20$,"
   ]
  },
  {
   "cell_type": "code",
   "execution_count": 22,
   "id": "1054d161",
   "metadata": {
    "scrolled": true
   },
   "outputs": [
    {
     "data": {
      "text/html": [
       "<div>\n",
       "<style scoped>\n",
       "    .dataframe tbody tr th:only-of-type {\n",
       "        vertical-align: middle;\n",
       "    }\n",
       "\n",
       "    .dataframe tbody tr th {\n",
       "        vertical-align: top;\n",
       "    }\n",
       "\n",
       "    .dataframe thead th {\n",
       "        text-align: right;\n",
       "    }\n",
       "</style>\n",
       "<table border=\"1\" class=\"dataframe\">\n",
       "  <thead>\n",
       "    <tr style=\"text-align: right;\">\n",
       "      <th></th>\n",
       "      <th>Name</th>\n",
       "      <th>Price</th>\n",
       "    </tr>\n",
       "  </thead>\n",
       "  <tbody>\n",
       "    <tr>\n",
       "      <th>0</th>\n",
       "      <td>Eve</td>\n",
       "      <td>20</td>\n",
       "    </tr>\n",
       "    <tr>\n",
       "      <th>1</th>\n",
       "      <td>Bob</td>\n",
       "      <td>30</td>\n",
       "    </tr>\n",
       "  </tbody>\n",
       "</table>\n",
       "</div>"
      ],
      "text/plain": [
       "  Name  Price\n",
       "0  Eve     20\n",
       "1  Bob     30"
      ]
     },
     "execution_count": 22,
     "metadata": {},
     "output_type": "execute_result"
    }
   ],
   "source": [
    "query = \"\"\"\n",
    "    SELECT *\n",
    "        FROM prices\n",
    "        WHERE \n",
    "            Price >= 20\n",
    "\"\"\"\n",
    "\n",
    "pd.read_sql(query, con)"
   ]
  },
  {
   "cell_type": "markdown",
   "id": "b5266fab",
   "metadata": {},
   "source": [
    "* How would I select `prices` equal to or over $£20$, **but just one row**"
   ]
  },
  {
   "cell_type": "code",
   "execution_count": 23,
   "id": "a6215a2f",
   "metadata": {},
   "outputs": [
    {
     "data": {
      "text/html": [
       "<div>\n",
       "<style scoped>\n",
       "    .dataframe tbody tr th:only-of-type {\n",
       "        vertical-align: middle;\n",
       "    }\n",
       "\n",
       "    .dataframe tbody tr th {\n",
       "        vertical-align: top;\n",
       "    }\n",
       "\n",
       "    .dataframe thead th {\n",
       "        text-align: right;\n",
       "    }\n",
       "</style>\n",
       "<table border=\"1\" class=\"dataframe\">\n",
       "  <thead>\n",
       "    <tr style=\"text-align: right;\">\n",
       "      <th></th>\n",
       "      <th>Name</th>\n",
       "      <th>Price</th>\n",
       "    </tr>\n",
       "  </thead>\n",
       "  <tbody>\n",
       "    <tr>\n",
       "      <th>0</th>\n",
       "      <td>Eve</td>\n",
       "      <td>20</td>\n",
       "    </tr>\n",
       "  </tbody>\n",
       "</table>\n",
       "</div>"
      ],
      "text/plain": [
       "  Name  Price\n",
       "0  Eve     20"
      ]
     },
     "execution_count": 23,
     "metadata": {},
     "output_type": "execute_result"
    }
   ],
   "source": [
    "query = \"\"\"\n",
    "    SELECT *\n",
    "        FROM prices\n",
    "        WHERE \n",
    "            Price >= 20\n",
    "        LIMIT 1\n",
    "\"\"\"\n",
    "\n",
    "pd.read_sql(query, con)"
   ]
  },
  {
   "cell_type": "markdown",
   "id": "c815841b",
   "metadata": {},
   "source": [
    "...which row is (sort of) random right now... how would we make this a minimum?"
   ]
  },
  {
   "cell_type": "markdown",
   "id": "aa96600a",
   "metadata": {},
   "source": [
    "# BREAK"
   ]
  },
  {
   "cell_type": "markdown",
   "id": "a9234922",
   "metadata": {},
   "source": [
    "---\n",
    "## Activity: Workbook I\n",
    "---"
   ]
  },
  {
   "cell_type": "markdown",
   "id": "fc8b3400",
   "metadata": {},
   "source": [
    "## Review Activity I: Filtering"
   ]
  },
  {
   "cell_type": "markdown",
   "id": "548ee319",
   "metadata": {},
   "source": [
    "## JOINs"
   ]
  },
  {
   "cell_type": "markdown",
   "id": "5777f526",
   "metadata": {},
   "source": [
    "---\n",
    "## Activity: Workbook 2\n",
    "---"
   ]
  },
  {
   "cell_type": "markdown",
   "id": "84f94630",
   "metadata": {},
   "source": [
    "## Review Activity II: Linking Tables"
   ]
  },
  {
   "cell_type": "markdown",
   "id": "96f68423",
   "metadata": {},
   "source": [
    "## Sub-Queries"
   ]
  },
  {
   "cell_type": "markdown",
   "id": "d662e16a",
   "metadata": {},
   "source": [
    "---\n",
    "## Activity: Workbook 3\n",
    "---"
   ]
  },
  {
   "cell_type": "code",
   "execution_count": null,
   "id": "9471632a",
   "metadata": {},
   "outputs": [],
   "source": []
  }
 ],
 "metadata": {
  "kernelspec": {
   "display_name": "Python 3 (ipykernel)",
   "language": "python",
   "name": "python3"
  },
  "language_info": {
   "codemirror_mode": {
    "name": "ipython",
    "version": 3
   },
   "file_extension": ".py",
   "mimetype": "text/x-python",
   "name": "python",
   "nbconvert_exporter": "python",
   "pygments_lexer": "ipython3",
   "version": "3.9.7"
  }
 },
 "nbformat": 4,
 "nbformat_minor": 5
}
