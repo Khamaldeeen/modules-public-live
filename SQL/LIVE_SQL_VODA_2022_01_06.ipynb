{
 "cells": [
  {
   "cell_type": "markdown",
   "id": "a092c9f9",
   "metadata": {},
   "source": [
    "# SQL Workshop\n",
    "### <font color=indigo>LIVE DEMOs</font>\n",
    "---"
   ]
  },
  {
   "cell_type": "markdown",
   "id": "4483d838",
   "metadata": {},
   "source": [
    "* This document is a technical brainstorm (like whiteboarding with code). \n",
    "* I'll give you this and any other assets over the break. \n",
    "* No need to follow along live."
   ]
  },
  {
   "cell_type": "markdown",
   "id": "0a6c57fc",
   "metadata": {},
   "source": [
    "---"
   ]
  },
  {
   "cell_type": "markdown",
   "id": "54cce1d4",
   "metadata": {},
   "source": [
    "## Introductions"
   ]
  },
  {
   "cell_type": "markdown",
   "id": "fe95906e",
   "metadata": {},
   "source": [
    "* Name\n",
    "* Background/Role\n",
    "* Prior Experience with SQL?\n",
    "* Hobby"
   ]
  },
  {
   "cell_type": "markdown",
   "id": "c10e9180",
   "metadata": {},
   "source": [
    "### Michael Burgess\n",
    "* michael.burgess@decoded.com\n",
    "\n",
    "* Head of Technical Solutions\n",
    "    * Head for Data, Analytics, AI\n",
    "    * IT contractor defence, telephony, mobile, ...\n",
    "    * Physics 6/7yr\n",
    "* Arguing, Youtube, Podcasts, Philosophy"
   ]
  },
  {
   "cell_type": "markdown",
   "id": "2442b4eb",
   "metadata": {},
   "source": [
    "### The Group"
   ]
  },
  {
   "cell_type": "markdown",
   "id": "e8156341",
   "metadata": {},
   "source": [
    "* Rachel\n",
    "    * Quality & Compliance, Sales, MOD\n",
    "        * no prior experience, but made much more sense than python\n",
    "    * Walking & Singing \n",
    "    \n",
    "* Tim\n",
    "    * Data Transformation team, as Data Literacy Manager\n",
    "        * up-skill people with data, self-serve content\n",
    "        * sports & retail\n",
    "    * Some prior experience reading, loose understanding\n",
    "    * runner, cycling\n",
    "\n",
    "* Richard \n",
    "    * Life-cycle management engineer\n",
    "    * Vodafone 20yr, MOD\n",
    "        * no prior SQL, but some databases\n",
    "    * Runner"
   ]
  },
  {
   "cell_type": "markdown",
   "id": "ffe04552",
   "metadata": {},
   "source": [
    "---"
   ]
  },
  {
   "cell_type": "markdown",
   "id": "950a5bd2",
   "metadata": {},
   "source": [
    "\n",
    "## SQLite & Python"
   ]
  },
  {
   "cell_type": "markdown",
   "id": "820f2083",
   "metadata": {},
   "source": [
    "A library is built-into python which provides util for sqlite; this is specific to sqlite3."
   ]
  },
  {
   "cell_type": "code",
   "execution_count": 11,
   "id": "d40e8538",
   "metadata": {},
   "outputs": [],
   "source": [
    "import sqlite3"
   ]
  },
  {
   "cell_type": "markdown",
   "id": "c7216067",
   "metadata": {},
   "source": [
    "The sqlalchemy library can connect to and manage multiple different `RDBMS`es..."
   ]
  },
  {
   "cell_type": "code",
   "execution_count": 12,
   "id": "0aeea92a",
   "metadata": {},
   "outputs": [],
   "source": [
    "from sqlalchemy import create_engine"
   ]
  },
  {
   "cell_type": "markdown",
   "id": "402dea54",
   "metadata": {},
   "source": [
    "Set up and (in this case *create*) the databse,"
   ]
  },
  {
   "cell_type": "code",
   "execution_count": 13,
   "id": "e52508ba",
   "metadata": {},
   "outputs": [],
   "source": [
    "db = create_engine(\"sqlite:///demo.db\")"
   ]
  },
  {
   "cell_type": "markdown",
   "id": "fb926d32",
   "metadata": {},
   "source": [
    "Get a connetion which we can use *as if it were a file*,"
   ]
  },
  {
   "cell_type": "code",
   "execution_count": 14,
   "id": "2aafdcc1",
   "metadata": {},
   "outputs": [],
   "source": [
    "con = db.connect()"
   ]
  },
  {
   "cell_type": "markdown",
   "id": "15ef535d",
   "metadata": {},
   "source": [
    "... this means that sometimes when i could use a file connection, i can instead use this one.."
   ]
  },
  {
   "cell_type": "markdown",
   "id": "4cdabe9d",
   "metadata": {},
   "source": [
    "## Using Pandas with SQL"
   ]
  },
  {
   "cell_type": "code",
   "execution_count": 15,
   "id": "81a60f88",
   "metadata": {},
   "outputs": [],
   "source": [
    "import pandas as pd"
   ]
  },
  {
   "cell_type": "markdown",
   "id": "007e64cc",
   "metadata": {},
   "source": [
    "Pandas can save to *files* and therefore also dbs,"
   ]
  },
  {
   "cell_type": "code",
   "execution_count": 16,
   "id": "96489fe5",
   "metadata": {},
   "outputs": [
    {
     "data": {
      "text/html": [
       "<div>\n",
       "<style scoped>\n",
       "    .dataframe tbody tr th:only-of-type {\n",
       "        vertical-align: middle;\n",
       "    }\n",
       "\n",
       "    .dataframe tbody tr th {\n",
       "        vertical-align: top;\n",
       "    }\n",
       "\n",
       "    .dataframe thead th {\n",
       "        text-align: right;\n",
       "    }\n",
       "</style>\n",
       "<table border=\"1\" class=\"dataframe\">\n",
       "  <thead>\n",
       "    <tr style=\"text-align: right;\">\n",
       "      <th></th>\n",
       "      <th>Name</th>\n",
       "      <th>Price</th>\n",
       "    </tr>\n",
       "  </thead>\n",
       "  <tbody>\n",
       "    <tr>\n",
       "      <th>0</th>\n",
       "      <td>Alice</td>\n",
       "      <td>10</td>\n",
       "    </tr>\n",
       "    <tr>\n",
       "      <th>1</th>\n",
       "      <td>Eve</td>\n",
       "      <td>20</td>\n",
       "    </tr>\n",
       "    <tr>\n",
       "      <th>2</th>\n",
       "      <td>Bob</td>\n",
       "      <td>30</td>\n",
       "    </tr>\n",
       "  </tbody>\n",
       "</table>\n",
       "</div>"
      ],
      "text/plain": [
       "    Name  Price\n",
       "0  Alice     10\n",
       "1    Eve     20\n",
       "2    Bob     30"
      ]
     },
     "execution_count": 16,
     "metadata": {},
     "output_type": "execute_result"
    }
   ],
   "source": [
    "prices = pd.DataFrame({\n",
    "    'Name': ['Alice', 'Eve', 'Bob'],\n",
    "    'Price': [10, 20, 30]\n",
    "})\n",
    "\n",
    "prices"
   ]
  },
  {
   "cell_type": "markdown",
   "id": "606cba6c",
   "metadata": {},
   "source": [
    "The number of rows *saved* to the table `prices` is..."
   ]
  },
  {
   "cell_type": "code",
   "execution_count": 17,
   "id": "bbc32e4f",
   "metadata": {},
   "outputs": [],
   "source": [
    "# prices.to_sql('prices', con)"
   ]
  },
  {
   "cell_type": "code",
   "execution_count": 18,
   "id": "6e9e8a67",
   "metadata": {},
   "outputs": [
    {
     "data": {
      "text/plain": [
       "3"
      ]
     },
     "execution_count": 18,
     "metadata": {},
     "output_type": "execute_result"
    }
   ],
   "source": [
    "prices.to_sql('prices', con, index=False, if_exists='replace')"
   ]
  },
  {
   "cell_type": "code",
   "execution_count": 19,
   "id": "773b0c41",
   "metadata": {},
   "outputs": [
    {
     "data": {
      "text/html": [
       "<div>\n",
       "<style scoped>\n",
       "    .dataframe tbody tr th:only-of-type {\n",
       "        vertical-align: middle;\n",
       "    }\n",
       "\n",
       "    .dataframe tbody tr th {\n",
       "        vertical-align: top;\n",
       "    }\n",
       "\n",
       "    .dataframe thead th {\n",
       "        text-align: right;\n",
       "    }\n",
       "</style>\n",
       "<table border=\"1\" class=\"dataframe\">\n",
       "  <thead>\n",
       "    <tr style=\"text-align: right;\">\n",
       "      <th></th>\n",
       "      <th>Name</th>\n",
       "      <th>Price</th>\n",
       "    </tr>\n",
       "  </thead>\n",
       "  <tbody>\n",
       "    <tr>\n",
       "      <th>0</th>\n",
       "      <td>Alice</td>\n",
       "      <td>10</td>\n",
       "    </tr>\n",
       "    <tr>\n",
       "      <th>1</th>\n",
       "      <td>Eve</td>\n",
       "      <td>20</td>\n",
       "    </tr>\n",
       "    <tr>\n",
       "      <th>2</th>\n",
       "      <td>Bob</td>\n",
       "      <td>30</td>\n",
       "    </tr>\n",
       "  </tbody>\n",
       "</table>\n",
       "</div>"
      ],
      "text/plain": [
       "    Name  Price\n",
       "0  Alice     10\n",
       "1    Eve     20\n",
       "2    Bob     30"
      ]
     },
     "execution_count": 19,
     "metadata": {},
     "output_type": "execute_result"
    }
   ],
   "source": [
    "pd.read_sql('SELECT * FROM prices', con)"
   ]
  },
  {
   "cell_type": "markdown",
   "id": "c46717cf",
   "metadata": {},
   "source": [
    "### A Querying Template"
   ]
  },
  {
   "cell_type": "markdown",
   "id": "e24dbb17",
   "metadata": {},
   "source": [
    "It's convenient to use a document string when specifying a query, so we can use whitespace,"
   ]
  },
  {
   "cell_type": "code",
   "execution_count": 20,
   "id": "70c277a4",
   "metadata": {},
   "outputs": [
    {
     "data": {
      "text/html": [
       "<div>\n",
       "<style scoped>\n",
       "    .dataframe tbody tr th:only-of-type {\n",
       "        vertical-align: middle;\n",
       "    }\n",
       "\n",
       "    .dataframe tbody tr th {\n",
       "        vertical-align: top;\n",
       "    }\n",
       "\n",
       "    .dataframe thead th {\n",
       "        text-align: right;\n",
       "    }\n",
       "</style>\n",
       "<table border=\"1\" class=\"dataframe\">\n",
       "  <thead>\n",
       "    <tr style=\"text-align: right;\">\n",
       "      <th></th>\n",
       "      <th>Name</th>\n",
       "      <th>Price</th>\n",
       "    </tr>\n",
       "  </thead>\n",
       "  <tbody>\n",
       "    <tr>\n",
       "      <th>0</th>\n",
       "      <td>Alice</td>\n",
       "      <td>10</td>\n",
       "    </tr>\n",
       "    <tr>\n",
       "      <th>1</th>\n",
       "      <td>Eve</td>\n",
       "      <td>20</td>\n",
       "    </tr>\n",
       "    <tr>\n",
       "      <th>2</th>\n",
       "      <td>Bob</td>\n",
       "      <td>30</td>\n",
       "    </tr>\n",
       "  </tbody>\n",
       "</table>\n",
       "</div>"
      ],
      "text/plain": [
       "    Name  Price\n",
       "0  Alice     10\n",
       "1    Eve     20\n",
       "2    Bob     30"
      ]
     },
     "execution_count": 20,
     "metadata": {},
     "output_type": "execute_result"
    }
   ],
   "source": [
    "# document string\n",
    "\n",
    "query = \"\"\"\n",
    "    SELECT *\n",
    "        FROM prices\n",
    "\"\"\"\n",
    "\n",
    "pd.read_sql(query, con)"
   ]
  },
  {
   "cell_type": "markdown",
   "id": "cf902a8c",
   "metadata": {},
   "source": [
    "### Q&A"
   ]
  },
  {
   "cell_type": "markdown",
   "id": "db69fbe1",
   "metadata": {},
   "source": [
    "* How would I select just the `Name` column?"
   ]
  },
  {
   "cell_type": "code",
   "execution_count": 21,
   "id": "df3f29f0",
   "metadata": {},
   "outputs": [
    {
     "data": {
      "text/html": [
       "<div>\n",
       "<style scoped>\n",
       "    .dataframe tbody tr th:only-of-type {\n",
       "        vertical-align: middle;\n",
       "    }\n",
       "\n",
       "    .dataframe tbody tr th {\n",
       "        vertical-align: top;\n",
       "    }\n",
       "\n",
       "    .dataframe thead th {\n",
       "        text-align: right;\n",
       "    }\n",
       "</style>\n",
       "<table border=\"1\" class=\"dataframe\">\n",
       "  <thead>\n",
       "    <tr style=\"text-align: right;\">\n",
       "      <th></th>\n",
       "      <th>Name</th>\n",
       "    </tr>\n",
       "  </thead>\n",
       "  <tbody>\n",
       "    <tr>\n",
       "      <th>0</th>\n",
       "      <td>Alice</td>\n",
       "    </tr>\n",
       "    <tr>\n",
       "      <th>1</th>\n",
       "      <td>Eve</td>\n",
       "    </tr>\n",
       "    <tr>\n",
       "      <th>2</th>\n",
       "      <td>Bob</td>\n",
       "    </tr>\n",
       "  </tbody>\n",
       "</table>\n",
       "</div>"
      ],
      "text/plain": [
       "    Name\n",
       "0  Alice\n",
       "1    Eve\n",
       "2    Bob"
      ]
     },
     "execution_count": 21,
     "metadata": {},
     "output_type": "execute_result"
    }
   ],
   "source": [
    "query = \"\"\"\n",
    "    SELECT Name\n",
    "        FROM prices\n",
    "\"\"\"\n",
    "\n",
    "pd.read_sql(query, con)"
   ]
  },
  {
   "cell_type": "markdown",
   "id": "b5d812a0",
   "metadata": {},
   "source": [
    "* How would I select `prices` equal to or over $£20$,"
   ]
  },
  {
   "cell_type": "code",
   "execution_count": 22,
   "id": "5244573e",
   "metadata": {
    "scrolled": true
   },
   "outputs": [
    {
     "data": {
      "text/html": [
       "<div>\n",
       "<style scoped>\n",
       "    .dataframe tbody tr th:only-of-type {\n",
       "        vertical-align: middle;\n",
       "    }\n",
       "\n",
       "    .dataframe tbody tr th {\n",
       "        vertical-align: top;\n",
       "    }\n",
       "\n",
       "    .dataframe thead th {\n",
       "        text-align: right;\n",
       "    }\n",
       "</style>\n",
       "<table border=\"1\" class=\"dataframe\">\n",
       "  <thead>\n",
       "    <tr style=\"text-align: right;\">\n",
       "      <th></th>\n",
       "      <th>Name</th>\n",
       "      <th>Price</th>\n",
       "    </tr>\n",
       "  </thead>\n",
       "  <tbody>\n",
       "    <tr>\n",
       "      <th>0</th>\n",
       "      <td>Eve</td>\n",
       "      <td>20</td>\n",
       "    </tr>\n",
       "    <tr>\n",
       "      <th>1</th>\n",
       "      <td>Bob</td>\n",
       "      <td>30</td>\n",
       "    </tr>\n",
       "  </tbody>\n",
       "</table>\n",
       "</div>"
      ],
      "text/plain": [
       "  Name  Price\n",
       "0  Eve     20\n",
       "1  Bob     30"
      ]
     },
     "execution_count": 22,
     "metadata": {},
     "output_type": "execute_result"
    }
   ],
   "source": [
    "query = \"\"\"\n",
    "    SELECT *\n",
    "        FROM prices\n",
    "        WHERE \n",
    "            Price >= 20\n",
    "\"\"\"\n",
    "\n",
    "pd.read_sql(query, con)"
   ]
  },
  {
   "cell_type": "markdown",
   "id": "3f75cd29",
   "metadata": {},
   "source": [
    "* How would I select `prices` equal to or over $£20$, **but just one row**"
   ]
  },
  {
   "cell_type": "code",
   "execution_count": 23,
   "id": "3b24e1e9",
   "metadata": {},
   "outputs": [
    {
     "data": {
      "text/html": [
       "<div>\n",
       "<style scoped>\n",
       "    .dataframe tbody tr th:only-of-type {\n",
       "        vertical-align: middle;\n",
       "    }\n",
       "\n",
       "    .dataframe tbody tr th {\n",
       "        vertical-align: top;\n",
       "    }\n",
       "\n",
       "    .dataframe thead th {\n",
       "        text-align: right;\n",
       "    }\n",
       "</style>\n",
       "<table border=\"1\" class=\"dataframe\">\n",
       "  <thead>\n",
       "    <tr style=\"text-align: right;\">\n",
       "      <th></th>\n",
       "      <th>Name</th>\n",
       "      <th>Price</th>\n",
       "    </tr>\n",
       "  </thead>\n",
       "  <tbody>\n",
       "    <tr>\n",
       "      <th>0</th>\n",
       "      <td>Eve</td>\n",
       "      <td>20</td>\n",
       "    </tr>\n",
       "  </tbody>\n",
       "</table>\n",
       "</div>"
      ],
      "text/plain": [
       "  Name  Price\n",
       "0  Eve     20"
      ]
     },
     "execution_count": 23,
     "metadata": {},
     "output_type": "execute_result"
    }
   ],
   "source": [
    "query = \"\"\"\n",
    "    SELECT *\n",
    "        FROM prices\n",
    "        WHERE \n",
    "            Price >= 20\n",
    "        LIMIT 1\n",
    "\"\"\"\n",
    "\n",
    "pd.read_sql(query, con)"
   ]
  },
  {
   "cell_type": "markdown",
   "id": "797366d9",
   "metadata": {},
   "source": [
    "...which row is (sort of) random right now... how would we make this a minimum?"
   ]
  },
  {
   "cell_type": "markdown",
   "id": "a083dd34",
   "metadata": {},
   "source": [
    "# BREAK"
   ]
  },
  {
   "cell_type": "markdown",
   "id": "dd520bc2",
   "metadata": {},
   "source": [
    "---\n",
    "## Activity: Workbook I\n",
    "---"
   ]
  },
  {
   "cell_type": "markdown",
   "id": "a22e1eed",
   "metadata": {},
   "source": [
    "## Review Activity I: Filtering"
   ]
  },
  {
   "cell_type": "markdown",
   "id": "9ff5eb81",
   "metadata": {},
   "source": [
    "## JOINs"
   ]
  },
  {
   "cell_type": "markdown",
   "id": "848afffb",
   "metadata": {},
   "source": [
    "---\n",
    "## Activity: Workbook 2\n",
    "---"
   ]
  },
  {
   "cell_type": "markdown",
   "id": "b2d7517f",
   "metadata": {},
   "source": [
    "## Review Activity II: Linking Tables"
   ]
  },
  {
   "cell_type": "markdown",
   "id": "36abdc59",
   "metadata": {},
   "source": [
    "## Sub-Queries"
   ]
  },
  {
   "cell_type": "markdown",
   "id": "4753775a",
   "metadata": {},
   "source": [
    "---\n",
    "## Activity: Workbook 3\n",
    "---"
   ]
  },
  {
   "cell_type": "code",
   "execution_count": null,
   "id": "935b69f2",
   "metadata": {},
   "outputs": [],
   "source": []
  }
 ],
 "metadata": {
  "kernelspec": {
   "display_name": "Python 3 (ipykernel)",
   "language": "python",
   "name": "python3"
  },
  "language_info": {
   "codemirror_mode": {
    "name": "ipython",
    "version": 3
   },
   "file_extension": ".py",
   "mimetype": "text/x-python",
   "name": "python",
   "nbconvert_exporter": "python",
   "pygments_lexer": "ipython3",
   "version": "3.9.7"
  }
 },
 "nbformat": 4,
 "nbformat_minor": 5
}
