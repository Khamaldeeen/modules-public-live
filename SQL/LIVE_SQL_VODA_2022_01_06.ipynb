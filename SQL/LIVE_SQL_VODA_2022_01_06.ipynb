{
 "cells": [
  {
   "cell_type": "markdown",
   "id": "1eb33ef3",
   "metadata": {},
   "source": [
    "# SQL Workshop\n",
    "### <font color=indigo>LIVE DEMOs</font>\n",
    "---"
   ]
  },
  {
   "cell_type": "markdown",
   "id": "baa5735a",
   "metadata": {},
   "source": [
    "* This document is a technical brainstorm (like whiteboarding with code). \n",
    "* I'll give you this and any other assets over the break. \n",
    "* No need to follow along live."
   ]
  },
  {
   "cell_type": "markdown",
   "id": "34cbc975",
   "metadata": {},
   "source": [
    "---"
   ]
  },
  {
   "cell_type": "markdown",
   "id": "eb2293c8",
   "metadata": {},
   "source": [
    "## Introductions"
   ]
  },
  {
   "cell_type": "markdown",
   "id": "d39ea1aa",
   "metadata": {},
   "source": [
    "* Name\n",
    "* Background/Role\n",
    "* Prior Experience with SQL?\n",
    "* Hobby"
   ]
  },
  {
   "cell_type": "markdown",
   "id": "72c7ba98",
   "metadata": {},
   "source": [
    "### Michael Burgess\n",
    "* michael.burgess@decoded.com\n",
    "\n",
    "* Head of Technical Solutions\n",
    "    * Head for Data, Analytics, AI\n",
    "    * IT contractor defence, telephony, mobile, ...\n",
    "    * Physics 6/7yr\n",
    "* Arguing, Youtube, Podcasts, Philosophy"
   ]
  },
  {
   "cell_type": "markdown",
   "id": "87116914",
   "metadata": {},
   "source": [
    "### The Group"
   ]
  },
  {
   "cell_type": "markdown",
   "id": "c5f88d01",
   "metadata": {},
   "source": [
    "* Rachel\n",
    "    * Quality & Compliance, Sales, MOD\n",
    "        * no prior experience, but made much more sense than python\n",
    "    * Walking & Singing \n",
    "    \n",
    "* Tim\n",
    "    * Data Transformation team, as Data Literacy Manager\n",
    "        * up-skill people with data, self-serve content\n",
    "        * sports & retail\n",
    "    * Some prior experience reading, loose understanding\n",
    "    * runner, cycling\n",
    "\n",
    "* Richard \n",
    "    * Life-cycle management engineer\n",
    "    * Vodafone 20yr, MOD\n",
    "        * no prior SQL, but some databases\n",
    "    * Runner"
   ]
  },
  {
   "cell_type": "markdown",
   "id": "761f292b",
   "metadata": {},
   "source": [
    "---"
   ]
  },
  {
   "cell_type": "markdown",
   "id": "820e3e41",
   "metadata": {},
   "source": [
    "\n",
    "## SQLite & Python"
   ]
  },
  {
   "cell_type": "markdown",
   "id": "1caeda6b",
   "metadata": {},
   "source": [
    "A library is built-into python which provides util for sqlite; this is specific to sqlite3."
   ]
  },
  {
   "cell_type": "code",
   "execution_count": 1,
   "id": "5053e8e9",
   "metadata": {},
   "outputs": [],
   "source": [
    "import sqlite3"
   ]
  },
  {
   "cell_type": "markdown",
   "id": "e7237bac",
   "metadata": {},
   "source": [
    "The sqlalchemy library can connect to and manage multiple different `RDBMS`es..."
   ]
  },
  {
   "cell_type": "code",
   "execution_count": 2,
   "id": "519fad18",
   "metadata": {},
   "outputs": [],
   "source": [
    "from sqlalchemy import create_engine"
   ]
  },
  {
   "cell_type": "markdown",
   "id": "25770541",
   "metadata": {},
   "source": [
    "Set up and (in this case *create*) the databse,"
   ]
  },
  {
   "cell_type": "code",
   "execution_count": 3,
   "id": "c93bc216",
   "metadata": {},
   "outputs": [],
   "source": [
    "db = create_engine(\"sqlite:///demo.db\")"
   ]
  },
  {
   "cell_type": "markdown",
   "id": "92976cdf",
   "metadata": {},
   "source": [
    "Get a connetion which we can use *as if it were a file*,"
   ]
  },
  {
   "cell_type": "code",
   "execution_count": 4,
   "id": "4642956f",
   "metadata": {},
   "outputs": [],
   "source": [
    "con = db.connect()"
   ]
  },
  {
   "cell_type": "markdown",
   "id": "26d4aa05",
   "metadata": {},
   "source": [
    "... this means that sometimes when i could use a file connection, i can instead use this one.."
   ]
  },
  {
   "cell_type": "markdown",
   "id": "7c37a3a0",
   "metadata": {},
   "source": [
    "## Using Pandas with SQL"
   ]
  },
  {
   "cell_type": "code",
   "execution_count": 5,
   "id": "60a2defc",
   "metadata": {},
   "outputs": [],
   "source": [
    "import pandas as pd"
   ]
  },
  {
   "cell_type": "markdown",
   "id": "16e96a7e",
   "metadata": {},
   "source": [
    "Pandas can save to *files* and therefore also dbs,"
   ]
  },
  {
   "cell_type": "code",
   "execution_count": 6,
   "id": "9250d3d4",
   "metadata": {},
   "outputs": [
    {
     "data": {
      "text/html": [
       "<div>\n",
       "<style scoped>\n",
       "    .dataframe tbody tr th:only-of-type {\n",
       "        vertical-align: middle;\n",
       "    }\n",
       "\n",
       "    .dataframe tbody tr th {\n",
       "        vertical-align: top;\n",
       "    }\n",
       "\n",
       "    .dataframe thead th {\n",
       "        text-align: right;\n",
       "    }\n",
       "</style>\n",
       "<table border=\"1\" class=\"dataframe\">\n",
       "  <thead>\n",
       "    <tr style=\"text-align: right;\">\n",
       "      <th></th>\n",
       "      <th>Name</th>\n",
       "      <th>Price</th>\n",
       "    </tr>\n",
       "  </thead>\n",
       "  <tbody>\n",
       "    <tr>\n",
       "      <th>0</th>\n",
       "      <td>Alice</td>\n",
       "      <td>10</td>\n",
       "    </tr>\n",
       "    <tr>\n",
       "      <th>1</th>\n",
       "      <td>Eve</td>\n",
       "      <td>20</td>\n",
       "    </tr>\n",
       "    <tr>\n",
       "      <th>2</th>\n",
       "      <td>Bob</td>\n",
       "      <td>30</td>\n",
       "    </tr>\n",
       "  </tbody>\n",
       "</table>\n",
       "</div>"
      ],
      "text/plain": [
       "    Name  Price\n",
       "0  Alice     10\n",
       "1    Eve     20\n",
       "2    Bob     30"
      ]
     },
     "execution_count": 6,
     "metadata": {},
     "output_type": "execute_result"
    }
   ],
   "source": [
    "prices = pd.DataFrame({\n",
    "    'Name': ['Alice', 'Eve', 'Bob'],\n",
    "    'Price': [10, 20, 30]\n",
    "})\n",
    "\n",
    "prices"
   ]
  },
  {
   "cell_type": "markdown",
   "id": "8d378fca",
   "metadata": {},
   "source": [
    "The number of rows *saved* to the table `prices` is..."
   ]
  },
  {
   "cell_type": "code",
   "execution_count": 7,
   "id": "1feb1744",
   "metadata": {},
   "outputs": [],
   "source": [
    "# prices.to_sql('prices', con)"
   ]
  },
  {
   "cell_type": "code",
   "execution_count": 8,
   "id": "703bde98",
   "metadata": {},
   "outputs": [
    {
     "data": {
      "text/plain": [
       "3"
      ]
     },
     "execution_count": 8,
     "metadata": {},
     "output_type": "execute_result"
    }
   ],
   "source": [
    "prices.to_sql('prices', con, index=False, if_exists='replace')"
   ]
  },
  {
   "cell_type": "code",
   "execution_count": 9,
   "id": "97b4e5e2",
   "metadata": {},
   "outputs": [
    {
     "data": {
      "text/html": [
       "<div>\n",
       "<style scoped>\n",
       "    .dataframe tbody tr th:only-of-type {\n",
       "        vertical-align: middle;\n",
       "    }\n",
       "\n",
       "    .dataframe tbody tr th {\n",
       "        vertical-align: top;\n",
       "    }\n",
       "\n",
       "    .dataframe thead th {\n",
       "        text-align: right;\n",
       "    }\n",
       "</style>\n",
       "<table border=\"1\" class=\"dataframe\">\n",
       "  <thead>\n",
       "    <tr style=\"text-align: right;\">\n",
       "      <th></th>\n",
       "      <th>Name</th>\n",
       "      <th>Price</th>\n",
       "    </tr>\n",
       "  </thead>\n",
       "  <tbody>\n",
       "    <tr>\n",
       "      <th>0</th>\n",
       "      <td>Alice</td>\n",
       "      <td>10</td>\n",
       "    </tr>\n",
       "    <tr>\n",
       "      <th>1</th>\n",
       "      <td>Eve</td>\n",
       "      <td>20</td>\n",
       "    </tr>\n",
       "    <tr>\n",
       "      <th>2</th>\n",
       "      <td>Bob</td>\n",
       "      <td>30</td>\n",
       "    </tr>\n",
       "  </tbody>\n",
       "</table>\n",
       "</div>"
      ],
      "text/plain": [
       "    Name  Price\n",
       "0  Alice     10\n",
       "1    Eve     20\n",
       "2    Bob     30"
      ]
     },
     "execution_count": 9,
     "metadata": {},
     "output_type": "execute_result"
    }
   ],
   "source": [
    "pd.read_sql('SELECT * FROM prices', con)"
   ]
  },
  {
   "cell_type": "markdown",
   "id": "96aadd56",
   "metadata": {},
   "source": [
    "### A Querying Template"
   ]
  },
  {
   "cell_type": "markdown",
   "id": "26ead705",
   "metadata": {},
   "source": [
    "It's convenient to use a document string when specifying a query, so we can use whitespace,"
   ]
  },
  {
   "cell_type": "code",
   "execution_count": 10,
   "id": "e90fddb0",
   "metadata": {},
   "outputs": [
    {
     "data": {
      "text/html": [
       "<div>\n",
       "<style scoped>\n",
       "    .dataframe tbody tr th:only-of-type {\n",
       "        vertical-align: middle;\n",
       "    }\n",
       "\n",
       "    .dataframe tbody tr th {\n",
       "        vertical-align: top;\n",
       "    }\n",
       "\n",
       "    .dataframe thead th {\n",
       "        text-align: right;\n",
       "    }\n",
       "</style>\n",
       "<table border=\"1\" class=\"dataframe\">\n",
       "  <thead>\n",
       "    <tr style=\"text-align: right;\">\n",
       "      <th></th>\n",
       "      <th>Name</th>\n",
       "      <th>Price</th>\n",
       "    </tr>\n",
       "  </thead>\n",
       "  <tbody>\n",
       "    <tr>\n",
       "      <th>0</th>\n",
       "      <td>Alice</td>\n",
       "      <td>10</td>\n",
       "    </tr>\n",
       "    <tr>\n",
       "      <th>1</th>\n",
       "      <td>Eve</td>\n",
       "      <td>20</td>\n",
       "    </tr>\n",
       "    <tr>\n",
       "      <th>2</th>\n",
       "      <td>Bob</td>\n",
       "      <td>30</td>\n",
       "    </tr>\n",
       "  </tbody>\n",
       "</table>\n",
       "</div>"
      ],
      "text/plain": [
       "    Name  Price\n",
       "0  Alice     10\n",
       "1    Eve     20\n",
       "2    Bob     30"
      ]
     },
     "execution_count": 10,
     "metadata": {},
     "output_type": "execute_result"
    }
   ],
   "source": [
    "# document string\n",
    "\n",
    "query = \"\"\"\n",
    "    SELECT *\n",
    "        FROM prices\n",
    "\"\"\"\n",
    "\n",
    "pd.read_sql(query, con)"
   ]
  },
  {
   "cell_type": "markdown",
   "id": "693297c9",
   "metadata": {},
   "source": [
    "### Q&A"
   ]
  },
  {
   "cell_type": "markdown",
   "id": "8bf90079",
   "metadata": {},
   "source": [
    "* How would I select just the `Name` column?"
   ]
  },
  {
   "cell_type": "code",
   "execution_count": 11,
   "id": "5c9290ce",
   "metadata": {},
   "outputs": [
    {
     "data": {
      "text/html": [
       "<div>\n",
       "<style scoped>\n",
       "    .dataframe tbody tr th:only-of-type {\n",
       "        vertical-align: middle;\n",
       "    }\n",
       "\n",
       "    .dataframe tbody tr th {\n",
       "        vertical-align: top;\n",
       "    }\n",
       "\n",
       "    .dataframe thead th {\n",
       "        text-align: right;\n",
       "    }\n",
       "</style>\n",
       "<table border=\"1\" class=\"dataframe\">\n",
       "  <thead>\n",
       "    <tr style=\"text-align: right;\">\n",
       "      <th></th>\n",
       "      <th>Name</th>\n",
       "    </tr>\n",
       "  </thead>\n",
       "  <tbody>\n",
       "    <tr>\n",
       "      <th>0</th>\n",
       "      <td>Alice</td>\n",
       "    </tr>\n",
       "    <tr>\n",
       "      <th>1</th>\n",
       "      <td>Eve</td>\n",
       "    </tr>\n",
       "    <tr>\n",
       "      <th>2</th>\n",
       "      <td>Bob</td>\n",
       "    </tr>\n",
       "  </tbody>\n",
       "</table>\n",
       "</div>"
      ],
      "text/plain": [
       "    Name\n",
       "0  Alice\n",
       "1    Eve\n",
       "2    Bob"
      ]
     },
     "execution_count": 11,
     "metadata": {},
     "output_type": "execute_result"
    }
   ],
   "source": [
    "query = \"\"\"\n",
    "    SELECT Name\n",
    "        FROM prices\n",
    "\"\"\"\n",
    "\n",
    "pd.read_sql(query, con)"
   ]
  },
  {
   "cell_type": "markdown",
   "id": "20ef38ac",
   "metadata": {},
   "source": [
    "* How would I select `prices` equal to or over $£20$,"
   ]
  },
  {
   "cell_type": "code",
   "execution_count": 12,
   "id": "ed535e23",
   "metadata": {
    "scrolled": true
   },
   "outputs": [
    {
     "data": {
      "text/html": [
       "<div>\n",
       "<style scoped>\n",
       "    .dataframe tbody tr th:only-of-type {\n",
       "        vertical-align: middle;\n",
       "    }\n",
       "\n",
       "    .dataframe tbody tr th {\n",
       "        vertical-align: top;\n",
       "    }\n",
       "\n",
       "    .dataframe thead th {\n",
       "        text-align: right;\n",
       "    }\n",
       "</style>\n",
       "<table border=\"1\" class=\"dataframe\">\n",
       "  <thead>\n",
       "    <tr style=\"text-align: right;\">\n",
       "      <th></th>\n",
       "      <th>Name</th>\n",
       "      <th>Price</th>\n",
       "    </tr>\n",
       "  </thead>\n",
       "  <tbody>\n",
       "    <tr>\n",
       "      <th>0</th>\n",
       "      <td>Eve</td>\n",
       "      <td>20</td>\n",
       "    </tr>\n",
       "    <tr>\n",
       "      <th>1</th>\n",
       "      <td>Bob</td>\n",
       "      <td>30</td>\n",
       "    </tr>\n",
       "  </tbody>\n",
       "</table>\n",
       "</div>"
      ],
      "text/plain": [
       "  Name  Price\n",
       "0  Eve     20\n",
       "1  Bob     30"
      ]
     },
     "execution_count": 12,
     "metadata": {},
     "output_type": "execute_result"
    }
   ],
   "source": [
    "query = \"\"\"\n",
    "    SELECT *\n",
    "        FROM prices\n",
    "        WHERE \n",
    "            Price >= 20\n",
    "\"\"\"\n",
    "\n",
    "pd.read_sql(query, con)"
   ]
  },
  {
   "cell_type": "markdown",
   "id": "86134243",
   "metadata": {},
   "source": [
    "* How would I select `prices` equal to or over $£20$, **but just one row**"
   ]
  },
  {
   "cell_type": "code",
   "execution_count": 13,
   "id": "7258a7f0",
   "metadata": {},
   "outputs": [
    {
     "data": {
      "text/html": [
       "<div>\n",
       "<style scoped>\n",
       "    .dataframe tbody tr th:only-of-type {\n",
       "        vertical-align: middle;\n",
       "    }\n",
       "\n",
       "    .dataframe tbody tr th {\n",
       "        vertical-align: top;\n",
       "    }\n",
       "\n",
       "    .dataframe thead th {\n",
       "        text-align: right;\n",
       "    }\n",
       "</style>\n",
       "<table border=\"1\" class=\"dataframe\">\n",
       "  <thead>\n",
       "    <tr style=\"text-align: right;\">\n",
       "      <th></th>\n",
       "      <th>Name</th>\n",
       "      <th>Price</th>\n",
       "    </tr>\n",
       "  </thead>\n",
       "  <tbody>\n",
       "    <tr>\n",
       "      <th>0</th>\n",
       "      <td>Eve</td>\n",
       "      <td>20</td>\n",
       "    </tr>\n",
       "  </tbody>\n",
       "</table>\n",
       "</div>"
      ],
      "text/plain": [
       "  Name  Price\n",
       "0  Eve     20"
      ]
     },
     "execution_count": 13,
     "metadata": {},
     "output_type": "execute_result"
    }
   ],
   "source": [
    "query = \"\"\"\n",
    "    SELECT *\n",
    "        FROM prices\n",
    "        WHERE \n",
    "            Price >= 20\n",
    "        LIMIT 1\n",
    "\"\"\"\n",
    "\n",
    "pd.read_sql(query, con)"
   ]
  },
  {
   "cell_type": "markdown",
   "id": "715a5573",
   "metadata": {},
   "source": [
    "...which row is (sort of) random right now... how would we make this a minimum?"
   ]
  },
  {
   "cell_type": "markdown",
   "id": "81f9f835",
   "metadata": {},
   "source": [
    "# BREAK"
   ]
  },
  {
   "cell_type": "code",
   "execution_count": 14,
   "id": "f07d5015",
   "metadata": {},
   "outputs": [
    {
     "data": {
      "text/html": [
       "<div>\n",
       "<style scoped>\n",
       "    .dataframe tbody tr th:only-of-type {\n",
       "        vertical-align: middle;\n",
       "    }\n",
       "\n",
       "    .dataframe tbody tr th {\n",
       "        vertical-align: top;\n",
       "    }\n",
       "\n",
       "    .dataframe thead th {\n",
       "        text-align: right;\n",
       "    }\n",
       "</style>\n",
       "<table border=\"1\" class=\"dataframe\">\n",
       "  <thead>\n",
       "    <tr style=\"text-align: right;\">\n",
       "      <th></th>\n",
       "      <th>Name</th>\n",
       "      <th>Price</th>\n",
       "    </tr>\n",
       "  </thead>\n",
       "  <tbody>\n",
       "    <tr>\n",
       "      <th>0</th>\n",
       "      <td>Eve</td>\n",
       "      <td>20</td>\n",
       "    </tr>\n",
       "  </tbody>\n",
       "</table>\n",
       "</div>"
      ],
      "text/plain": [
       "  Name  Price\n",
       "0  Eve     20"
      ]
     },
     "execution_count": 14,
     "metadata": {},
     "output_type": "execute_result"
    }
   ],
   "source": [
    "query = \"\"\"\n",
    "    select *\n",
    "        from prices\n",
    "        where \n",
    "            Price >= 20\n",
    "        limit 1\n",
    "\"\"\"\n",
    "\n",
    "pd.read_sql(query, con)"
   ]
  },
  {
   "cell_type": "markdown",
   "id": "3ad8b323",
   "metadata": {},
   "source": [
    "---\n",
    "## Activity: Workbook I\n",
    "---"
   ]
  },
  {
   "cell_type": "markdown",
   "id": "dc3c87c4",
   "metadata": {},
   "source": [
    "## Review Activity I: Filtering"
   ]
  },
  {
   "cell_type": "code",
   "execution_count": 15,
   "id": "2f11f9fa",
   "metadata": {},
   "outputs": [],
   "source": [
    "# Import create_engine from sqlalchemy to connect to the database\n",
    "from sqlalchemy import create_engine\n",
    "\n",
    "# Import pandas\n",
    "import pandas as pd\n",
    "\n",
    "# Create an engine to the database sqlite-sakila.db\n",
    "engine = create_engine(f\"sqlite:///sqlite-sakila.db\")\n",
    "\n",
    "# Establish a connection to the database\n",
    "dvd = engine.connect()"
   ]
  },
  {
   "cell_type": "code",
   "execution_count": 16,
   "id": "cb515a3e",
   "metadata": {},
   "outputs": [
    {
     "data": {
      "text/html": [
       "<div>\n",
       "<style scoped>\n",
       "    .dataframe tbody tr th:only-of-type {\n",
       "        vertical-align: middle;\n",
       "    }\n",
       "\n",
       "    .dataframe tbody tr th {\n",
       "        vertical-align: top;\n",
       "    }\n",
       "\n",
       "    .dataframe thead th {\n",
       "        text-align: right;\n",
       "    }\n",
       "</style>\n",
       "<table border=\"1\" class=\"dataframe\">\n",
       "  <thead>\n",
       "    <tr style=\"text-align: right;\">\n",
       "      <th></th>\n",
       "      <th>title</th>\n",
       "    </tr>\n",
       "  </thead>\n",
       "  <tbody>\n",
       "    <tr>\n",
       "      <th>0</th>\n",
       "      <td>ACADEMY DINOSAUR</td>\n",
       "    </tr>\n",
       "  </tbody>\n",
       "</table>\n",
       "</div>"
      ],
      "text/plain": [
       "              title\n",
       "0  ACADEMY DINOSAUR"
      ]
     },
     "execution_count": 16,
     "metadata": {},
     "output_type": "execute_result"
    }
   ],
   "source": [
    "query = \"\"\"\n",
    "    SELECT title FROM film LIMIT 1\n",
    "\"\"\"\n",
    "pd.read_sql(query, dvd)"
   ]
  },
  {
   "cell_type": "markdown",
   "id": "91f6905f",
   "metadata": {},
   "source": [
    "* Find the film with the minimum replacement cost which is long (> 2hr) and not adult (neither R or NC17 rated).\n",
    "    "
   ]
  },
  {
   "cell_type": "code",
   "execution_count": 17,
   "id": "b0b18c85",
   "metadata": {},
   "outputs": [
    {
     "data": {
      "text/html": [
       "<div>\n",
       "<style scoped>\n",
       "    .dataframe tbody tr th:only-of-type {\n",
       "        vertical-align: middle;\n",
       "    }\n",
       "\n",
       "    .dataframe tbody tr th {\n",
       "        vertical-align: top;\n",
       "    }\n",
       "\n",
       "    .dataframe thead th {\n",
       "        text-align: right;\n",
       "    }\n",
       "</style>\n",
       "<table border=\"1\" class=\"dataframe\">\n",
       "  <thead>\n",
       "    <tr style=\"text-align: right;\">\n",
       "      <th></th>\n",
       "      <th>title</th>\n",
       "    </tr>\n",
       "  </thead>\n",
       "  <tbody>\n",
       "    <tr>\n",
       "      <th>0</th>\n",
       "      <td>CONTROL ANTHEM</td>\n",
       "    </tr>\n",
       "  </tbody>\n",
       "</table>\n",
       "</div>"
      ],
      "text/plain": [
       "            title\n",
       "0  CONTROL ANTHEM"
      ]
     },
     "execution_count": 17,
     "metadata": {},
     "output_type": "execute_result"
    }
   ],
   "source": [
    "query = \"\"\"\n",
    "    SELECT title\n",
    "    FROM film \n",
    "    WHERE\n",
    "        (length >= 120)\n",
    "    AND NOT (rating = 'R')\n",
    "    AND NOT (rating = 'NC-17')\n",
    "    ORDER BY replacement_cost\n",
    "    LIMIT 1\n",
    "\"\"\"\n",
    "pd.read_sql(query, dvd)"
   ]
  },
  {
   "cell_type": "markdown",
   "id": "d4d02156",
   "metadata": {},
   "source": [
    "* You can write `<>` or `!=` as meaning `NOT` \"equal\"\n",
    "    * `<>` used more in microsfy places\n",
    "    * `!=` everywhere else"
   ]
  },
  {
   "cell_type": "code",
   "execution_count": 18,
   "id": "21f43496",
   "metadata": {},
   "outputs": [
    {
     "data": {
      "text/html": [
       "<div>\n",
       "<style scoped>\n",
       "    .dataframe tbody tr th:only-of-type {\n",
       "        vertical-align: middle;\n",
       "    }\n",
       "\n",
       "    .dataframe tbody tr th {\n",
       "        vertical-align: top;\n",
       "    }\n",
       "\n",
       "    .dataframe thead th {\n",
       "        text-align: right;\n",
       "    }\n",
       "</style>\n",
       "<table border=\"1\" class=\"dataframe\">\n",
       "  <thead>\n",
       "    <tr style=\"text-align: right;\">\n",
       "      <th></th>\n",
       "      <th>title</th>\n",
       "    </tr>\n",
       "  </thead>\n",
       "  <tbody>\n",
       "    <tr>\n",
       "      <th>0</th>\n",
       "      <td>CONTROL ANTHEM</td>\n",
       "    </tr>\n",
       "  </tbody>\n",
       "</table>\n",
       "</div>"
      ],
      "text/plain": [
       "            title\n",
       "0  CONTROL ANTHEM"
      ]
     },
     "execution_count": 18,
     "metadata": {},
     "output_type": "execute_result"
    }
   ],
   "source": [
    "query = \"\"\"\n",
    "    SELECT title\n",
    "    FROM film \n",
    "    WHERE\n",
    "        (length >= 120)\n",
    "    AND (rating != 'R')\n",
    "    AND (rating != 'NC-17')\n",
    "    ORDER BY replacement_cost\n",
    "    LIMIT 1\n",
    "\"\"\"\n",
    "pd.read_sql(query, dvd)"
   ]
  },
  {
   "cell_type": "code",
   "execution_count": 19,
   "id": "c0816148",
   "metadata": {},
   "outputs": [
    {
     "data": {
      "text/html": [
       "<div>\n",
       "<style scoped>\n",
       "    .dataframe tbody tr th:only-of-type {\n",
       "        vertical-align: middle;\n",
       "    }\n",
       "\n",
       "    .dataframe tbody tr th {\n",
       "        vertical-align: top;\n",
       "    }\n",
       "\n",
       "    .dataframe thead th {\n",
       "        text-align: right;\n",
       "    }\n",
       "</style>\n",
       "<table border=\"1\" class=\"dataframe\">\n",
       "  <thead>\n",
       "    <tr style=\"text-align: right;\">\n",
       "      <th></th>\n",
       "      <th>title</th>\n",
       "    </tr>\n",
       "  </thead>\n",
       "  <tbody>\n",
       "    <tr>\n",
       "      <th>0</th>\n",
       "      <td>CONTROL ANTHEM</td>\n",
       "    </tr>\n",
       "  </tbody>\n",
       "</table>\n",
       "</div>"
      ],
      "text/plain": [
       "            title\n",
       "0  CONTROL ANTHEM"
      ]
     },
     "execution_count": 19,
     "metadata": {},
     "output_type": "execute_result"
    }
   ],
   "source": [
    "query = \"\"\"\n",
    "    SELECT title\n",
    "    FROM film \n",
    "    WHERE\n",
    "            (length >= 120)\n",
    "    AND NOT (rating IN ('R', 'NC-17'))\n",
    "    \n",
    "    ORDER BY replacement_cost\n",
    "    LIMIT 1\n",
    "\"\"\"\n",
    "pd.read_sql(query, dvd)"
   ]
  },
  {
   "cell_type": "markdown",
   "id": "ca60bebe",
   "metadata": {},
   "source": [
    "* Isn't this *wrong*? ..."
   ]
  },
  {
   "cell_type": "code",
   "execution_count": 20,
   "id": "bf829ab9",
   "metadata": {},
   "outputs": [
    {
     "data": {
      "text/html": [
       "<div>\n",
       "<style scoped>\n",
       "    .dataframe tbody tr th:only-of-type {\n",
       "        vertical-align: middle;\n",
       "    }\n",
       "\n",
       "    .dataframe tbody tr th {\n",
       "        vertical-align: top;\n",
       "    }\n",
       "\n",
       "    .dataframe thead th {\n",
       "        text-align: right;\n",
       "    }\n",
       "</style>\n",
       "<table border=\"1\" class=\"dataframe\">\n",
       "  <thead>\n",
       "    <tr style=\"text-align: right;\">\n",
       "      <th></th>\n",
       "      <th>title</th>\n",
       "    </tr>\n",
       "  </thead>\n",
       "  <tbody>\n",
       "    <tr>\n",
       "      <th>0</th>\n",
       "      <td>CONTROL ANTHEM</td>\n",
       "    </tr>\n",
       "  </tbody>\n",
       "</table>\n",
       "</div>"
      ],
      "text/plain": [
       "            title\n",
       "0  CONTROL ANTHEM"
      ]
     },
     "execution_count": 20,
     "metadata": {},
     "output_type": "execute_result"
    }
   ],
   "source": [
    "query = \"\"\"\n",
    "    SELECT title\n",
    "    FROM film \n",
    "    WHERE\n",
    "        (length >= 120)\n",
    "    AND (rating != 'R' OR rating != 'NC-17')\n",
    "    ORDER BY replacement_cost\n",
    "    LIMIT 1\n",
    "\"\"\"\n",
    "pd.read_sql(query, dvd)"
   ]
  },
  {
   "cell_type": "markdown",
   "id": "658b9502",
   "metadata": {},
   "source": [
    "### Applying Filters to Rows"
   ]
  },
  {
   "cell_type": "markdown",
   "id": "e96d083c",
   "metadata": {},
   "source": [
    "```sql\n",
    "Film Name   Length     Rating                          ?        ?    ?\n",
    "\n",
    "A          120         R                               T  AND ( F OR T ) ->      T AND T      -> T \n",
    "B          120         NC17                            T  AND ( T OR F ) ->      T AND T      -> T\n",
    "D          120         PG                              T  AND ( T OR T ) ->      T AND T      -> T\n",
    "E          120         U                               T  AND ( T OR T ) ->      T AND T      -> T .... OOPs!\n",
    "\n",
    "```"
   ]
  },
  {
   "cell_type": "markdown",
   "id": "cf4af05e",
   "metadata": {},
   "source": [
    "* Why did this go wrong?\n",
    "    * ... what mistake in *thinking* occured?\n",
    "    * why did (my college at decoded...) write `OR` when the correct answer `AND`?\n",
    "* The film should `NOT` be R `OR` NC17\n",
    "    * `OR` in english does not always translate to `OR` in logic"
   ]
  },
  {
   "cell_type": "markdown",
   "id": "c0c4fdbe",
   "metadata": {},
   "source": [
    "query = \"\"\"\n",
    "    SELECT title\n",
    "    FROM film \n",
    "    WHERE\n",
    "        (length >= 120)\n",
    "    AND (rating != 'R' OR rating != 'NC-17')\n",
    "    ORDER BY replacement_cost\n",
    "    LIMIT 1\n",
    "\"\"\"\n",
    "pd.read_sql(query, dvd)"
   ]
  },
  {
   "cell_type": "markdown",
   "id": "2e469115",
   "metadata": {},
   "source": [
    "## JOINs"
   ]
  },
  {
   "cell_type": "code",
   "execution_count": 21,
   "id": "42bedc98",
   "metadata": {},
   "outputs": [
    {
     "data": {
      "text/html": [
       "<div>\n",
       "<style scoped>\n",
       "    .dataframe tbody tr th:only-of-type {\n",
       "        vertical-align: middle;\n",
       "    }\n",
       "\n",
       "    .dataframe tbody tr th {\n",
       "        vertical-align: top;\n",
       "    }\n",
       "\n",
       "    .dataframe thead th {\n",
       "        text-align: right;\n",
       "    }\n",
       "</style>\n",
       "<table border=\"1\" class=\"dataframe\">\n",
       "  <thead>\n",
       "    <tr style=\"text-align: right;\">\n",
       "      <th></th>\n",
       "      <th>Name</th>\n",
       "      <th>Price</th>\n",
       "    </tr>\n",
       "  </thead>\n",
       "  <tbody>\n",
       "    <tr>\n",
       "      <th>0</th>\n",
       "      <td>Alice</td>\n",
       "      <td>10</td>\n",
       "    </tr>\n",
       "    <tr>\n",
       "      <th>1</th>\n",
       "      <td>Eve</td>\n",
       "      <td>20</td>\n",
       "    </tr>\n",
       "    <tr>\n",
       "      <th>2</th>\n",
       "      <td>Bob</td>\n",
       "      <td>30</td>\n",
       "    </tr>\n",
       "  </tbody>\n",
       "</table>\n",
       "</div>"
      ],
      "text/plain": [
       "    Name  Price\n",
       "0  Alice     10\n",
       "1    Eve     20\n",
       "2    Bob     30"
      ]
     },
     "execution_count": 21,
     "metadata": {},
     "output_type": "execute_result"
    }
   ],
   "source": [
    "pd.read_sql('SELECT * FROM prices', con)"
   ]
  },
  {
   "cell_type": "code",
   "execution_count": 22,
   "id": "61cb0de5",
   "metadata": {},
   "outputs": [
    {
     "data": {
      "text/plain": [
       "4"
      ]
     },
     "execution_count": 22,
     "metadata": {},
     "output_type": "execute_result"
    }
   ],
   "source": [
    "cities = pd.DataFrame({\n",
    "    'Name': ['Alice', 'Eve', 'Bob', 'Dan'],\n",
    "    'City': ['Leeds', 'London', 'Paris', 'Glasgow']\n",
    "})\n",
    "\n",
    "cities.to_sql('cities', con, index=False, if_exists='replace')"
   ]
  },
  {
   "cell_type": "code",
   "execution_count": 23,
   "id": "04cf461f",
   "metadata": {},
   "outputs": [
    {
     "data": {
      "text/html": [
       "<div>\n",
       "<style scoped>\n",
       "    .dataframe tbody tr th:only-of-type {\n",
       "        vertical-align: middle;\n",
       "    }\n",
       "\n",
       "    .dataframe tbody tr th {\n",
       "        vertical-align: top;\n",
       "    }\n",
       "\n",
       "    .dataframe thead th {\n",
       "        text-align: right;\n",
       "    }\n",
       "</style>\n",
       "<table border=\"1\" class=\"dataframe\">\n",
       "  <thead>\n",
       "    <tr style=\"text-align: right;\">\n",
       "      <th></th>\n",
       "      <th>Name</th>\n",
       "      <th>City</th>\n",
       "    </tr>\n",
       "  </thead>\n",
       "  <tbody>\n",
       "    <tr>\n",
       "      <th>0</th>\n",
       "      <td>Alice</td>\n",
       "      <td>Leeds</td>\n",
       "    </tr>\n",
       "    <tr>\n",
       "      <th>1</th>\n",
       "      <td>Eve</td>\n",
       "      <td>London</td>\n",
       "    </tr>\n",
       "    <tr>\n",
       "      <th>2</th>\n",
       "      <td>Bob</td>\n",
       "      <td>Paris</td>\n",
       "    </tr>\n",
       "    <tr>\n",
       "      <th>3</th>\n",
       "      <td>Dan</td>\n",
       "      <td>Glasgow</td>\n",
       "    </tr>\n",
       "  </tbody>\n",
       "</table>\n",
       "</div>"
      ],
      "text/plain": [
       "    Name     City\n",
       "0  Alice    Leeds\n",
       "1    Eve   London\n",
       "2    Bob    Paris\n",
       "3    Dan  Glasgow"
      ]
     },
     "execution_count": 23,
     "metadata": {},
     "output_type": "execute_result"
    }
   ],
   "source": [
    "pd.read_sql('SELECT * FROM cities', con)"
   ]
  },
  {
   "cell_type": "markdown",
   "id": "9a8b7dcc",
   "metadata": {},
   "source": [
    "* cartesian join = joining without any condition\n",
    "    * all match-ups"
   ]
  },
  {
   "cell_type": "code",
   "execution_count": 24,
   "id": "57ebb40a",
   "metadata": {},
   "outputs": [
    {
     "data": {
      "text/html": [
       "<div>\n",
       "<style scoped>\n",
       "    .dataframe tbody tr th:only-of-type {\n",
       "        vertical-align: middle;\n",
       "    }\n",
       "\n",
       "    .dataframe tbody tr th {\n",
       "        vertical-align: top;\n",
       "    }\n",
       "\n",
       "    .dataframe thead th {\n",
       "        text-align: right;\n",
       "    }\n",
       "</style>\n",
       "<table border=\"1\" class=\"dataframe\">\n",
       "  <thead>\n",
       "    <tr style=\"text-align: right;\">\n",
       "      <th></th>\n",
       "      <th>Name</th>\n",
       "      <th>City</th>\n",
       "      <th>Name</th>\n",
       "      <th>Price</th>\n",
       "    </tr>\n",
       "  </thead>\n",
       "  <tbody>\n",
       "    <tr>\n",
       "      <th>0</th>\n",
       "      <td>Alice</td>\n",
       "      <td>Leeds</td>\n",
       "      <td>Alice</td>\n",
       "      <td>10</td>\n",
       "    </tr>\n",
       "    <tr>\n",
       "      <th>1</th>\n",
       "      <td>Alice</td>\n",
       "      <td>Leeds</td>\n",
       "      <td>Eve</td>\n",
       "      <td>20</td>\n",
       "    </tr>\n",
       "    <tr>\n",
       "      <th>2</th>\n",
       "      <td>Alice</td>\n",
       "      <td>Leeds</td>\n",
       "      <td>Bob</td>\n",
       "      <td>30</td>\n",
       "    </tr>\n",
       "    <tr>\n",
       "      <th>3</th>\n",
       "      <td>Eve</td>\n",
       "      <td>London</td>\n",
       "      <td>Alice</td>\n",
       "      <td>10</td>\n",
       "    </tr>\n",
       "    <tr>\n",
       "      <th>4</th>\n",
       "      <td>Eve</td>\n",
       "      <td>London</td>\n",
       "      <td>Eve</td>\n",
       "      <td>20</td>\n",
       "    </tr>\n",
       "    <tr>\n",
       "      <th>5</th>\n",
       "      <td>Eve</td>\n",
       "      <td>London</td>\n",
       "      <td>Bob</td>\n",
       "      <td>30</td>\n",
       "    </tr>\n",
       "    <tr>\n",
       "      <th>6</th>\n",
       "      <td>Bob</td>\n",
       "      <td>Paris</td>\n",
       "      <td>Alice</td>\n",
       "      <td>10</td>\n",
       "    </tr>\n",
       "    <tr>\n",
       "      <th>7</th>\n",
       "      <td>Bob</td>\n",
       "      <td>Paris</td>\n",
       "      <td>Eve</td>\n",
       "      <td>20</td>\n",
       "    </tr>\n",
       "    <tr>\n",
       "      <th>8</th>\n",
       "      <td>Bob</td>\n",
       "      <td>Paris</td>\n",
       "      <td>Bob</td>\n",
       "      <td>30</td>\n",
       "    </tr>\n",
       "    <tr>\n",
       "      <th>9</th>\n",
       "      <td>Dan</td>\n",
       "      <td>Glasgow</td>\n",
       "      <td>Alice</td>\n",
       "      <td>10</td>\n",
       "    </tr>\n",
       "    <tr>\n",
       "      <th>10</th>\n",
       "      <td>Dan</td>\n",
       "      <td>Glasgow</td>\n",
       "      <td>Eve</td>\n",
       "      <td>20</td>\n",
       "    </tr>\n",
       "    <tr>\n",
       "      <th>11</th>\n",
       "      <td>Dan</td>\n",
       "      <td>Glasgow</td>\n",
       "      <td>Bob</td>\n",
       "      <td>30</td>\n",
       "    </tr>\n",
       "  </tbody>\n",
       "</table>\n",
       "</div>"
      ],
      "text/plain": [
       "     Name     City   Name  Price\n",
       "0   Alice    Leeds  Alice     10\n",
       "1   Alice    Leeds    Eve     20\n",
       "2   Alice    Leeds    Bob     30\n",
       "3     Eve   London  Alice     10\n",
       "4     Eve   London    Eve     20\n",
       "5     Eve   London    Bob     30\n",
       "6     Bob    Paris  Alice     10\n",
       "7     Bob    Paris    Eve     20\n",
       "8     Bob    Paris    Bob     30\n",
       "9     Dan  Glasgow  Alice     10\n",
       "10    Dan  Glasgow    Eve     20\n",
       "11    Dan  Glasgow    Bob     30"
      ]
     },
     "execution_count": 24,
     "metadata": {},
     "output_type": "execute_result"
    }
   ],
   "source": [
    "pd.read_sql('SELECT * FROM cities, prices', con)"
   ]
  },
  {
   "cell_type": "markdown",
   "id": "3bb7df2b",
   "metadata": {},
   "source": [
    "* inner join = \"join\"\n",
    "    * adding a pairing-up condition \n",
    "        * filtering "
   ]
  },
  {
   "cell_type": "code",
   "execution_count": 25,
   "id": "268e505d",
   "metadata": {},
   "outputs": [
    {
     "data": {
      "text/html": [
       "<div>\n",
       "<style scoped>\n",
       "    .dataframe tbody tr th:only-of-type {\n",
       "        vertical-align: middle;\n",
       "    }\n",
       "\n",
       "    .dataframe tbody tr th {\n",
       "        vertical-align: top;\n",
       "    }\n",
       "\n",
       "    .dataframe thead th {\n",
       "        text-align: right;\n",
       "    }\n",
       "</style>\n",
       "<table border=\"1\" class=\"dataframe\">\n",
       "  <thead>\n",
       "    <tr style=\"text-align: right;\">\n",
       "      <th></th>\n",
       "      <th>Name</th>\n",
       "      <th>City</th>\n",
       "      <th>Name</th>\n",
       "      <th>Price</th>\n",
       "    </tr>\n",
       "  </thead>\n",
       "  <tbody>\n",
       "    <tr>\n",
       "      <th>0</th>\n",
       "      <td>Alice</td>\n",
       "      <td>Leeds</td>\n",
       "      <td>Alice</td>\n",
       "      <td>10</td>\n",
       "    </tr>\n",
       "    <tr>\n",
       "      <th>1</th>\n",
       "      <td>Eve</td>\n",
       "      <td>London</td>\n",
       "      <td>Eve</td>\n",
       "      <td>20</td>\n",
       "    </tr>\n",
       "    <tr>\n",
       "      <th>2</th>\n",
       "      <td>Bob</td>\n",
       "      <td>Paris</td>\n",
       "      <td>Bob</td>\n",
       "      <td>30</td>\n",
       "    </tr>\n",
       "  </tbody>\n",
       "</table>\n",
       "</div>"
      ],
      "text/plain": [
       "    Name    City   Name  Price\n",
       "0  Alice   Leeds  Alice     10\n",
       "1    Eve  London    Eve     20\n",
       "2    Bob   Paris    Bob     30"
      ]
     },
     "execution_count": 25,
     "metadata": {},
     "output_type": "execute_result"
    }
   ],
   "source": [
    "pd.read_sql(\"\"\"\n",
    "    SELECT * \n",
    "    FROM cities \n",
    "    JOIN prices\n",
    "    ON cities.Name = prices.Name\n",
    "\"\"\", con)"
   ]
  },
  {
   "cell_type": "markdown",
   "id": "40b2acfe",
   "metadata": {},
   "source": [
    "* A `LEFT` join keeps the data in the *LEFT* table, NULL'ing the RIGHT,"
   ]
  },
  {
   "cell_type": "code",
   "execution_count": 26,
   "id": "c3801a24",
   "metadata": {},
   "outputs": [
    {
     "data": {
      "text/html": [
       "<div>\n",
       "<style scoped>\n",
       "    .dataframe tbody tr th:only-of-type {\n",
       "        vertical-align: middle;\n",
       "    }\n",
       "\n",
       "    .dataframe tbody tr th {\n",
       "        vertical-align: top;\n",
       "    }\n",
       "\n",
       "    .dataframe thead th {\n",
       "        text-align: right;\n",
       "    }\n",
       "</style>\n",
       "<table border=\"1\" class=\"dataframe\">\n",
       "  <thead>\n",
       "    <tr style=\"text-align: right;\">\n",
       "      <th></th>\n",
       "      <th>Name</th>\n",
       "      <th>City</th>\n",
       "      <th>Name</th>\n",
       "      <th>Price</th>\n",
       "    </tr>\n",
       "  </thead>\n",
       "  <tbody>\n",
       "    <tr>\n",
       "      <th>0</th>\n",
       "      <td>Alice</td>\n",
       "      <td>Leeds</td>\n",
       "      <td>Alice</td>\n",
       "      <td>10.0</td>\n",
       "    </tr>\n",
       "    <tr>\n",
       "      <th>1</th>\n",
       "      <td>Eve</td>\n",
       "      <td>London</td>\n",
       "      <td>Eve</td>\n",
       "      <td>20.0</td>\n",
       "    </tr>\n",
       "    <tr>\n",
       "      <th>2</th>\n",
       "      <td>Bob</td>\n",
       "      <td>Paris</td>\n",
       "      <td>Bob</td>\n",
       "      <td>30.0</td>\n",
       "    </tr>\n",
       "    <tr>\n",
       "      <th>3</th>\n",
       "      <td>Dan</td>\n",
       "      <td>Glasgow</td>\n",
       "      <td>None</td>\n",
       "      <td>NaN</td>\n",
       "    </tr>\n",
       "  </tbody>\n",
       "</table>\n",
       "</div>"
      ],
      "text/plain": [
       "    Name     City   Name  Price\n",
       "0  Alice    Leeds  Alice   10.0\n",
       "1    Eve   London    Eve   20.0\n",
       "2    Bob    Paris    Bob   30.0\n",
       "3    Dan  Glasgow   None    NaN"
      ]
     },
     "execution_count": 26,
     "metadata": {},
     "output_type": "execute_result"
    }
   ],
   "source": [
    "pd.read_sql(\"\"\"\n",
    "    SELECT * \n",
    "    FROM cities \n",
    "    LEFT JOIN prices\n",
    "    ON cities.Name = prices.Name\n",
    "\"\"\", con)"
   ]
  },
  {
   "cell_type": "markdown",
   "id": "38421e56",
   "metadata": {},
   "source": [
    "---\n",
    "## Activity: Workbook 2\n",
    "---"
   ]
  },
  {
   "cell_type": "markdown",
   "id": "1d509030",
   "metadata": {},
   "source": [
    "`RIGHT` joins arent supported (they dont really need to be), so they cause an error,"
   ]
  },
  {
   "cell_type": "code",
   "execution_count": 27,
   "id": "ccac7064",
   "metadata": {},
   "outputs": [],
   "source": [
    "#pd.read_sql(\"SELECT * FROM cities RIGHT JOIN prices ON cities.Name = prices.Name\", con)"
   ]
  },
  {
   "cell_type": "markdown",
   "id": "7fc12307",
   "metadata": {},
   "source": [
    "## Review Activity II: Linking Tables"
   ]
  },
  {
   "cell_type": "code",
   "execution_count": 55,
   "id": "f45aa19f",
   "metadata": {},
   "outputs": [
    {
     "data": {
      "text/html": [
       "<div>\n",
       "<style scoped>\n",
       "    .dataframe tbody tr th:only-of-type {\n",
       "        vertical-align: middle;\n",
       "    }\n",
       "\n",
       "    .dataframe tbody tr th {\n",
       "        vertical-align: top;\n",
       "    }\n",
       "\n",
       "    .dataframe thead th {\n",
       "        text-align: right;\n",
       "    }\n",
       "</style>\n",
       "<table border=\"1\" class=\"dataframe\">\n",
       "  <thead>\n",
       "    <tr style=\"text-align: right;\">\n",
       "      <th></th>\n",
       "      <th>title</th>\n",
       "      <th>first_name</th>\n",
       "      <th>last_name</th>\n",
       "    </tr>\n",
       "  </thead>\n",
       "  <tbody>\n",
       "    <tr>\n",
       "      <th>0</th>\n",
       "      <td>ACADEMY DINOSAUR</td>\n",
       "      <td>PENELOPE</td>\n",
       "      <td>GUINESS</td>\n",
       "    </tr>\n",
       "    <tr>\n",
       "      <th>1</th>\n",
       "      <td>ACADEMY DINOSAUR</td>\n",
       "      <td>CHRISTIAN</td>\n",
       "      <td>GABLE</td>\n",
       "    </tr>\n",
       "    <tr>\n",
       "      <th>2</th>\n",
       "      <td>ACADEMY DINOSAUR</td>\n",
       "      <td>LUCILLE</td>\n",
       "      <td>TRACY</td>\n",
       "    </tr>\n",
       "    <tr>\n",
       "      <th>3</th>\n",
       "      <td>ACADEMY DINOSAUR</td>\n",
       "      <td>SANDRA</td>\n",
       "      <td>PECK</td>\n",
       "    </tr>\n",
       "    <tr>\n",
       "      <th>4</th>\n",
       "      <td>ACADEMY DINOSAUR</td>\n",
       "      <td>JOHNNY</td>\n",
       "      <td>CAGE</td>\n",
       "    </tr>\n",
       "    <tr>\n",
       "      <th>5</th>\n",
       "      <td>ACADEMY DINOSAUR</td>\n",
       "      <td>MENA</td>\n",
       "      <td>TEMPLE</td>\n",
       "    </tr>\n",
       "    <tr>\n",
       "      <th>6</th>\n",
       "      <td>ACADEMY DINOSAUR</td>\n",
       "      <td>WARREN</td>\n",
       "      <td>NOLTE</td>\n",
       "    </tr>\n",
       "    <tr>\n",
       "      <th>7</th>\n",
       "      <td>ACADEMY DINOSAUR</td>\n",
       "      <td>OPRAH</td>\n",
       "      <td>KILMER</td>\n",
       "    </tr>\n",
       "    <tr>\n",
       "      <th>8</th>\n",
       "      <td>ACADEMY DINOSAUR</td>\n",
       "      <td>ROCK</td>\n",
       "      <td>DUKAKIS</td>\n",
       "    </tr>\n",
       "    <tr>\n",
       "      <th>9</th>\n",
       "      <td>ACADEMY DINOSAUR</td>\n",
       "      <td>MARY</td>\n",
       "      <td>KEITEL</td>\n",
       "    </tr>\n",
       "    <tr>\n",
       "      <th>10</th>\n",
       "      <td>ACE GOLDFINGER</td>\n",
       "      <td>BOB</td>\n",
       "      <td>FAWCETT</td>\n",
       "    </tr>\n",
       "    <tr>\n",
       "      <th>11</th>\n",
       "      <td>ACE GOLDFINGER</td>\n",
       "      <td>MINNIE</td>\n",
       "      <td>ZELLWEGER</td>\n",
       "    </tr>\n",
       "    <tr>\n",
       "      <th>12</th>\n",
       "      <td>ACE GOLDFINGER</td>\n",
       "      <td>SEAN</td>\n",
       "      <td>GUINESS</td>\n",
       "    </tr>\n",
       "    <tr>\n",
       "      <th>13</th>\n",
       "      <td>ACE GOLDFINGER</td>\n",
       "      <td>CHRIS</td>\n",
       "      <td>DEPP</td>\n",
       "    </tr>\n",
       "    <tr>\n",
       "      <th>14</th>\n",
       "      <td>ADAPTATION HOLES</td>\n",
       "      <td>NICK</td>\n",
       "      <td>WAHLBERG</td>\n",
       "    </tr>\n",
       "    <tr>\n",
       "      <th>15</th>\n",
       "      <td>ADAPTATION HOLES</td>\n",
       "      <td>BOB</td>\n",
       "      <td>FAWCETT</td>\n",
       "    </tr>\n",
       "    <tr>\n",
       "      <th>16</th>\n",
       "      <td>ADAPTATION HOLES</td>\n",
       "      <td>CAMERON</td>\n",
       "      <td>STREEP</td>\n",
       "    </tr>\n",
       "    <tr>\n",
       "      <th>17</th>\n",
       "      <td>ADAPTATION HOLES</td>\n",
       "      <td>RAY</td>\n",
       "      <td>JOHANSSON</td>\n",
       "    </tr>\n",
       "    <tr>\n",
       "      <th>18</th>\n",
       "      <td>ADAPTATION HOLES</td>\n",
       "      <td>JULIANNE</td>\n",
       "      <td>DENCH</td>\n",
       "    </tr>\n",
       "  </tbody>\n",
       "</table>\n",
       "</div>"
      ],
      "text/plain": [
       "               title first_name  last_name\n",
       "0   ACADEMY DINOSAUR   PENELOPE    GUINESS\n",
       "1   ACADEMY DINOSAUR  CHRISTIAN      GABLE\n",
       "2   ACADEMY DINOSAUR    LUCILLE      TRACY\n",
       "3   ACADEMY DINOSAUR     SANDRA       PECK\n",
       "4   ACADEMY DINOSAUR     JOHNNY       CAGE\n",
       "5   ACADEMY DINOSAUR       MENA     TEMPLE\n",
       "6   ACADEMY DINOSAUR     WARREN      NOLTE\n",
       "7   ACADEMY DINOSAUR      OPRAH     KILMER\n",
       "8   ACADEMY DINOSAUR       ROCK    DUKAKIS\n",
       "9   ACADEMY DINOSAUR       MARY     KEITEL\n",
       "10    ACE GOLDFINGER        BOB    FAWCETT\n",
       "11    ACE GOLDFINGER     MINNIE  ZELLWEGER\n",
       "12    ACE GOLDFINGER       SEAN    GUINESS\n",
       "13    ACE GOLDFINGER      CHRIS       DEPP\n",
       "14  ADAPTATION HOLES       NICK   WAHLBERG\n",
       "15  ADAPTATION HOLES        BOB    FAWCETT\n",
       "16  ADAPTATION HOLES    CAMERON     STREEP\n",
       "17  ADAPTATION HOLES        RAY  JOHANSSON\n",
       "18  ADAPTATION HOLES   JULIANNE      DENCH"
      ]
     },
     "execution_count": 55,
     "metadata": {},
     "output_type": "execute_result"
    }
   ],
   "source": [
    "query = \"\"\"\n",
    "    SELECT \n",
    "        title, first_name, last_name\n",
    "    FROM actor    \n",
    "    JOIN film\n",
    "    JOIN film_actor\n",
    "        ON \n",
    "            film.film_id = film_actor.film_id\n",
    "        AND\n",
    "            actor.actor_id = film_actor.actor_id\n",
    "    WHERE \n",
    "        film.film_id IN (1, 2, 3)\n",
    "\"\"\"\n",
    "pd.read_sql(query, dvd)"
   ]
  },
  {
   "cell_type": "markdown",
   "id": "909fe6d9",
   "metadata": {},
   "source": [
    "## Sub-Queries"
   ]
  },
  {
   "cell_type": "markdown",
   "id": "71491ca5",
   "metadata": {},
   "source": []
  },
  {
   "cell_type": "markdown",
   "id": "b0e9b58d",
   "metadata": {},
   "source": [
    "---\n",
    "## Activity: Workbook 3\n",
    "---"
   ]
  },
  {
   "cell_type": "code",
   "execution_count": null,
   "id": "bcddf3a3",
   "metadata": {},
   "outputs": [],
   "source": []
  }
 ],
 "metadata": {
  "kernelspec": {
   "display_name": "Python 3 (ipykernel)",
   "language": "python",
   "name": "python3"
  },
  "language_info": {
   "codemirror_mode": {
    "name": "ipython",
    "version": 3
   },
   "file_extension": ".py",
   "mimetype": "text/x-python",
   "name": "python",
   "nbconvert_exporter": "python",
   "pygments_lexer": "ipython3",
   "version": "3.9.7"
  }
 },
 "nbformat": 4,
 "nbformat_minor": 5
}
