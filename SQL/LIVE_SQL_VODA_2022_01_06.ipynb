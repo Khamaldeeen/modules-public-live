{
 "cells": [
  {
   "cell_type": "markdown",
   "id": "97a65d2f",
   "metadata": {},
   "source": [
    "# SQL Workshop\n",
    "### <font color=indigo>LIVE DEMOs</font>\n",
    "---"
   ]
  },
  {
   "cell_type": "markdown",
   "id": "9e8d72ac",
   "metadata": {},
   "source": [
    "* I will give you this document over the break\n",
    "    * no need to copy\n",
    "* Brainstorming & discussing\n",
    "    * practice, learning, ..."
   ]
  },
  {
   "cell_type": "markdown",
   "id": "39fe6c94",
   "metadata": {},
   "source": [
    "## Introductions"
   ]
  },
  {
   "cell_type": "markdown",
   "id": "b93e4b1a",
   "metadata": {},
   "source": [
    "* Name\n",
    "* Background/Role\n",
    "* Prior Experience with SQL?\n",
    "* Hobby"
   ]
  },
  {
   "cell_type": "markdown",
   "id": "949ee1f7",
   "metadata": {},
   "source": [
    "* Rachel\n",
    "    * Quality & Compliance, Sales, MOD\n",
    "        * no prior experience, but made much more sense than python\n",
    "    * Walking & Singing \n",
    "    \n",
    "* Tim\n",
    "    * Data Transformation team, as Data Literacy Manager\n",
    "        * up-skill people with data, self-serve content\n",
    "        * sports & retail\n",
    "    * Some prior experience reading, loose understanding\n",
    "    * runner, cycling\n",
    "\n",
    "* Richard \n",
    "    * Life-cycle management engineer\n",
    "    * Vodafone 20yr, MOD\n",
    "        * no prior SQL, but some databases\n",
    "    * Runner"
   ]
  },
  {
   "cell_type": "markdown",
   "id": "e729dc39",
   "metadata": {},
   "source": [
    "### Michael Burgess\n",
    "* michael.burgess@decoded.com\n",
    "\n",
    "* Head of Technical Solutions\n",
    "    * Head for Data, Analytics, AI\n",
    "    * IT contractor defence, telephony, mobile, ...\n",
    "    * Physics 6/7yr\n",
    "* Arguing, Youtube, Podcasts, Philosophy"
   ]
  },
  {
   "cell_type": "markdown",
   "id": "a36a98c4",
   "metadata": {},
   "source": [
    "\n",
    "## SQLite & Python"
   ]
  },
  {
   "cell_type": "markdown",
   "id": "311a3273",
   "metadata": {},
   "source": [
    "A library is built-into python which provides util for sqlite; this is specific to sqlite3."
   ]
  },
  {
   "cell_type": "code",
   "execution_count": 1,
   "id": "c5c257ed",
   "metadata": {},
   "outputs": [],
   "source": [
    "import sqlite3"
   ]
  },
  {
   "cell_type": "markdown",
   "id": "384afcb7",
   "metadata": {},
   "source": [
    "The sqlalchemy library can connect to and manage multiple different `RDBMS`es..."
   ]
  },
  {
   "cell_type": "code",
   "execution_count": 3,
   "id": "b08ef6cb",
   "metadata": {},
   "outputs": [],
   "source": [
    "from sqlalchemy import create_engine"
   ]
  },
  {
   "cell_type": "markdown",
   "id": "26d55018",
   "metadata": {},
   "source": [
    "Set up and (in this case *create*) the databse,"
   ]
  },
  {
   "cell_type": "code",
   "execution_count": 4,
   "id": "14c2271d",
   "metadata": {},
   "outputs": [],
   "source": [
    "db = create_engine(\"sqlite:///demo.db\")"
   ]
  },
  {
   "cell_type": "markdown",
   "id": "75ea9e0a",
   "metadata": {},
   "source": [
    "Get a connetion which we can use *as if it were a file*,"
   ]
  },
  {
   "cell_type": "code",
   "execution_count": 5,
   "id": "653a0170",
   "metadata": {},
   "outputs": [],
   "source": [
    "con = db.connect()"
   ]
  },
  {
   "cell_type": "markdown",
   "id": "cdc10c0a",
   "metadata": {},
   "source": [
    "... this means that sometimes when i could use a file connection, i can instead use this one.."
   ]
  },
  {
   "cell_type": "markdown",
   "id": "fa65d1a3",
   "metadata": {},
   "source": [
    "## Using Pandas with SQL"
   ]
  },
  {
   "cell_type": "code",
   "execution_count": 6,
   "id": "9b1f9a62",
   "metadata": {},
   "outputs": [],
   "source": [
    "import pandas as pd"
   ]
  },
  {
   "cell_type": "markdown",
   "id": "9984d4b2",
   "metadata": {},
   "source": [
    "Pandas can save to *files* and therefore also dbs,"
   ]
  },
  {
   "cell_type": "code",
   "execution_count": 7,
   "id": "7a8a306e",
   "metadata": {},
   "outputs": [
    {
     "data": {
      "text/html": [
       "<div>\n",
       "<style scoped>\n",
       "    .dataframe tbody tr th:only-of-type {\n",
       "        vertical-align: middle;\n",
       "    }\n",
       "\n",
       "    .dataframe tbody tr th {\n",
       "        vertical-align: top;\n",
       "    }\n",
       "\n",
       "    .dataframe thead th {\n",
       "        text-align: right;\n",
       "    }\n",
       "</style>\n",
       "<table border=\"1\" class=\"dataframe\">\n",
       "  <thead>\n",
       "    <tr style=\"text-align: right;\">\n",
       "      <th></th>\n",
       "      <th>Name</th>\n",
       "      <th>Price</th>\n",
       "    </tr>\n",
       "  </thead>\n",
       "  <tbody>\n",
       "    <tr>\n",
       "      <th>0</th>\n",
       "      <td>Alice</td>\n",
       "      <td>10</td>\n",
       "    </tr>\n",
       "    <tr>\n",
       "      <th>1</th>\n",
       "      <td>Eve</td>\n",
       "      <td>20</td>\n",
       "    </tr>\n",
       "    <tr>\n",
       "      <th>2</th>\n",
       "      <td>Bob</td>\n",
       "      <td>30</td>\n",
       "    </tr>\n",
       "  </tbody>\n",
       "</table>\n",
       "</div>"
      ],
      "text/plain": [
       "    Name  Price\n",
       "0  Alice     10\n",
       "1    Eve     20\n",
       "2    Bob     30"
      ]
     },
     "execution_count": 7,
     "metadata": {},
     "output_type": "execute_result"
    }
   ],
   "source": [
    "prices = pd.DataFrame({\n",
    "    'Name': ['Alice', 'Eve', 'Bob'],\n",
    "    'Price': [10, 20, 30]\n",
    "})\n",
    "\n",
    "prices"
   ]
  },
  {
   "cell_type": "markdown",
   "id": "cafcf290",
   "metadata": {},
   "source": [
    "The number of rows *saved* to the table `prices` is..."
   ]
  },
  {
   "cell_type": "code",
   "execution_count": 15,
   "id": "3a412d9c",
   "metadata": {},
   "outputs": [],
   "source": [
    "# prices.to_sql('prices', con)"
   ]
  },
  {
   "cell_type": "code",
   "execution_count": 13,
   "id": "fab96bb7",
   "metadata": {},
   "outputs": [
    {
     "data": {
      "text/plain": [
       "3"
      ]
     },
     "execution_count": 13,
     "metadata": {},
     "output_type": "execute_result"
    }
   ],
   "source": [
    "prices.to_sql('prices', con, index=False, if_exists='replace')"
   ]
  },
  {
   "cell_type": "code",
   "execution_count": 14,
   "id": "a4fff09c",
   "metadata": {},
   "outputs": [
    {
     "data": {
      "text/html": [
       "<div>\n",
       "<style scoped>\n",
       "    .dataframe tbody tr th:only-of-type {\n",
       "        vertical-align: middle;\n",
       "    }\n",
       "\n",
       "    .dataframe tbody tr th {\n",
       "        vertical-align: top;\n",
       "    }\n",
       "\n",
       "    .dataframe thead th {\n",
       "        text-align: right;\n",
       "    }\n",
       "</style>\n",
       "<table border=\"1\" class=\"dataframe\">\n",
       "  <thead>\n",
       "    <tr style=\"text-align: right;\">\n",
       "      <th></th>\n",
       "      <th>Name</th>\n",
       "      <th>Price</th>\n",
       "    </tr>\n",
       "  </thead>\n",
       "  <tbody>\n",
       "    <tr>\n",
       "      <th>0</th>\n",
       "      <td>Alice</td>\n",
       "      <td>10</td>\n",
       "    </tr>\n",
       "    <tr>\n",
       "      <th>1</th>\n",
       "      <td>Eve</td>\n",
       "      <td>20</td>\n",
       "    </tr>\n",
       "    <tr>\n",
       "      <th>2</th>\n",
       "      <td>Bob</td>\n",
       "      <td>30</td>\n",
       "    </tr>\n",
       "  </tbody>\n",
       "</table>\n",
       "</div>"
      ],
      "text/plain": [
       "    Name  Price\n",
       "0  Alice     10\n",
       "1    Eve     20\n",
       "2    Bob     30"
      ]
     },
     "execution_count": 14,
     "metadata": {},
     "output_type": "execute_result"
    }
   ],
   "source": [
    "pd.read_sql('SELECT * FROM prices', con)"
   ]
  },
  {
   "cell_type": "markdown",
   "id": "efcbc46d",
   "metadata": {},
   "source": [
    "### A Querying Template"
   ]
  },
  {
   "cell_type": "markdown",
   "id": "e5ffc9ca",
   "metadata": {},
   "source": [
    "It's convenient to use a document string when specifying a query, so we can use whitespace,"
   ]
  },
  {
   "cell_type": "code",
   "execution_count": 16,
   "id": "55c6c104",
   "metadata": {},
   "outputs": [
    {
     "data": {
      "text/html": [
       "<div>\n",
       "<style scoped>\n",
       "    .dataframe tbody tr th:only-of-type {\n",
       "        vertical-align: middle;\n",
       "    }\n",
       "\n",
       "    .dataframe tbody tr th {\n",
       "        vertical-align: top;\n",
       "    }\n",
       "\n",
       "    .dataframe thead th {\n",
       "        text-align: right;\n",
       "    }\n",
       "</style>\n",
       "<table border=\"1\" class=\"dataframe\">\n",
       "  <thead>\n",
       "    <tr style=\"text-align: right;\">\n",
       "      <th></th>\n",
       "      <th>Name</th>\n",
       "      <th>Price</th>\n",
       "    </tr>\n",
       "  </thead>\n",
       "  <tbody>\n",
       "    <tr>\n",
       "      <th>0</th>\n",
       "      <td>Alice</td>\n",
       "      <td>10</td>\n",
       "    </tr>\n",
       "    <tr>\n",
       "      <th>1</th>\n",
       "      <td>Eve</td>\n",
       "      <td>20</td>\n",
       "    </tr>\n",
       "    <tr>\n",
       "      <th>2</th>\n",
       "      <td>Bob</td>\n",
       "      <td>30</td>\n",
       "    </tr>\n",
       "  </tbody>\n",
       "</table>\n",
       "</div>"
      ],
      "text/plain": [
       "    Name  Price\n",
       "0  Alice     10\n",
       "1    Eve     20\n",
       "2    Bob     30"
      ]
     },
     "execution_count": 16,
     "metadata": {},
     "output_type": "execute_result"
    }
   ],
   "source": [
    "# document string\n",
    "\n",
    "query = \"\"\"\n",
    "    SELECT *\n",
    "        FROM prices\n",
    "\"\"\"\n",
    "\n",
    "pd.read_sql(query, con)"
   ]
  },
  {
   "cell_type": "markdown",
   "id": "a701476f",
   "metadata": {},
   "source": [
    "### Q&A"
   ]
  },
  {
   "cell_type": "markdown",
   "id": "2c6029ca",
   "metadata": {},
   "source": [
    "* How would I select just the `Name` column?"
   ]
  },
  {
   "cell_type": "code",
   "execution_count": 17,
   "id": "a418da68",
   "metadata": {},
   "outputs": [
    {
     "data": {
      "text/html": [
       "<div>\n",
       "<style scoped>\n",
       "    .dataframe tbody tr th:only-of-type {\n",
       "        vertical-align: middle;\n",
       "    }\n",
       "\n",
       "    .dataframe tbody tr th {\n",
       "        vertical-align: top;\n",
       "    }\n",
       "\n",
       "    .dataframe thead th {\n",
       "        text-align: right;\n",
       "    }\n",
       "</style>\n",
       "<table border=\"1\" class=\"dataframe\">\n",
       "  <thead>\n",
       "    <tr style=\"text-align: right;\">\n",
       "      <th></th>\n",
       "      <th>Name</th>\n",
       "    </tr>\n",
       "  </thead>\n",
       "  <tbody>\n",
       "    <tr>\n",
       "      <th>0</th>\n",
       "      <td>Alice</td>\n",
       "    </tr>\n",
       "    <tr>\n",
       "      <th>1</th>\n",
       "      <td>Eve</td>\n",
       "    </tr>\n",
       "    <tr>\n",
       "      <th>2</th>\n",
       "      <td>Bob</td>\n",
       "    </tr>\n",
       "  </tbody>\n",
       "</table>\n",
       "</div>"
      ],
      "text/plain": [
       "    Name\n",
       "0  Alice\n",
       "1    Eve\n",
       "2    Bob"
      ]
     },
     "execution_count": 17,
     "metadata": {},
     "output_type": "execute_result"
    }
   ],
   "source": [
    "# document string\n",
    "\n",
    "query = \"\"\"\n",
    "    SELECT Name\n",
    "        FROM prices\n",
    "\"\"\"\n",
    "\n",
    "pd.read_sql(query, con)"
   ]
  },
  {
   "cell_type": "markdown",
   "id": "c53f54e9",
   "metadata": {},
   "source": [
    "* How would I select `prices` equal to or over $£20$,"
   ]
  },
  {
   "cell_type": "code",
   "execution_count": 19,
   "id": "cf568996",
   "metadata": {
    "scrolled": true
   },
   "outputs": [
    {
     "data": {
      "text/html": [
       "<div>\n",
       "<style scoped>\n",
       "    .dataframe tbody tr th:only-of-type {\n",
       "        vertical-align: middle;\n",
       "    }\n",
       "\n",
       "    .dataframe tbody tr th {\n",
       "        vertical-align: top;\n",
       "    }\n",
       "\n",
       "    .dataframe thead th {\n",
       "        text-align: right;\n",
       "    }\n",
       "</style>\n",
       "<table border=\"1\" class=\"dataframe\">\n",
       "  <thead>\n",
       "    <tr style=\"text-align: right;\">\n",
       "      <th></th>\n",
       "      <th>Name</th>\n",
       "      <th>Price</th>\n",
       "    </tr>\n",
       "  </thead>\n",
       "  <tbody>\n",
       "    <tr>\n",
       "      <th>0</th>\n",
       "      <td>Eve</td>\n",
       "      <td>20</td>\n",
       "    </tr>\n",
       "    <tr>\n",
       "      <th>1</th>\n",
       "      <td>Bob</td>\n",
       "      <td>30</td>\n",
       "    </tr>\n",
       "  </tbody>\n",
       "</table>\n",
       "</div>"
      ],
      "text/plain": [
       "  Name  Price\n",
       "0  Eve     20\n",
       "1  Bob     30"
      ]
     },
     "execution_count": 19,
     "metadata": {},
     "output_type": "execute_result"
    }
   ],
   "source": [
    "# document string\n",
    "\n",
    "query = \"\"\"\n",
    "    SELECT *\n",
    "        FROM prices\n",
    "        WHERE \n",
    "            Price >= 20\n",
    "\"\"\"\n",
    "\n",
    "pd.read_sql(query, con)"
   ]
  },
  {
   "cell_type": "markdown",
   "id": "f9208ee0",
   "metadata": {},
   "source": [
    "* How would I select `prices` equal to or over $£20$, **but just one row**"
   ]
  },
  {
   "cell_type": "code",
   "execution_count": 21,
   "id": "93bae35f",
   "metadata": {},
   "outputs": [
    {
     "data": {
      "text/html": [
       "<div>\n",
       "<style scoped>\n",
       "    .dataframe tbody tr th:only-of-type {\n",
       "        vertical-align: middle;\n",
       "    }\n",
       "\n",
       "    .dataframe tbody tr th {\n",
       "        vertical-align: top;\n",
       "    }\n",
       "\n",
       "    .dataframe thead th {\n",
       "        text-align: right;\n",
       "    }\n",
       "</style>\n",
       "<table border=\"1\" class=\"dataframe\">\n",
       "  <thead>\n",
       "    <tr style=\"text-align: right;\">\n",
       "      <th></th>\n",
       "      <th>Name</th>\n",
       "      <th>Price</th>\n",
       "    </tr>\n",
       "  </thead>\n",
       "  <tbody>\n",
       "    <tr>\n",
       "      <th>0</th>\n",
       "      <td>Eve</td>\n",
       "      <td>20</td>\n",
       "    </tr>\n",
       "  </tbody>\n",
       "</table>\n",
       "</div>"
      ],
      "text/plain": [
       "  Name  Price\n",
       "0  Eve     20"
      ]
     },
     "execution_count": 21,
     "metadata": {},
     "output_type": "execute_result"
    }
   ],
   "source": [
    "# document string\n",
    "\n",
    "query = \"\"\"\n",
    "    SELECT *\n",
    "        FROM prices\n",
    "        WHERE \n",
    "            Price >= 20\n",
    "        LIMIT 1\n",
    "\"\"\"\n",
    "\n",
    "pd.read_sql(query, con)"
   ]
  },
  {
   "cell_type": "markdown",
   "id": "9aabc207",
   "metadata": {},
   "source": [
    "...which row is (sort of) random right now... how would we make this a minimum?"
   ]
  },
  {
   "cell_type": "markdown",
   "id": "9c63c12b",
   "metadata": {},
   "source": [
    "# BREAK"
   ]
  },
  {
   "cell_type": "markdown",
   "id": "8b71bf50",
   "metadata": {},
   "source": [
    "---\n",
    "## Activity: Workbook I\n",
    "---"
   ]
  },
  {
   "cell_type": "markdown",
   "id": "30b52eba",
   "metadata": {},
   "source": [
    "## Review Activity I: Filtering"
   ]
  },
  {
   "cell_type": "markdown",
   "id": "0f64092c",
   "metadata": {},
   "source": [
    "## JOINs"
   ]
  },
  {
   "cell_type": "markdown",
   "id": "5b7324c4",
   "metadata": {},
   "source": [
    "---\n",
    "## Activity: Workbook 2\n",
    "---"
   ]
  },
  {
   "cell_type": "markdown",
   "id": "ec335d9f",
   "metadata": {},
   "source": [
    "## Review Activity II: Linking Tables"
   ]
  },
  {
   "cell_type": "markdown",
   "id": "546170a4",
   "metadata": {},
   "source": [
    "## Sub-Queries"
   ]
  },
  {
   "cell_type": "markdown",
   "id": "94a18de0",
   "metadata": {},
   "source": [
    "---\n",
    "## Activity: Workbook 3\n",
    "---"
   ]
  },
  {
   "cell_type": "code",
   "execution_count": null,
   "id": "17417b24",
   "metadata": {},
   "outputs": [],
   "source": []
  }
 ],
 "metadata": {
  "kernelspec": {
   "display_name": "Python 3 (ipykernel)",
   "language": "python",
   "name": "python3"
  },
  "language_info": {
   "codemirror_mode": {
    "name": "ipython",
    "version": 3
   },
   "file_extension": ".py",
   "mimetype": "text/x-python",
   "name": "python",
   "nbconvert_exporter": "python",
   "pygments_lexer": "ipython3",
   "version": "3.9.7"
  }
 },
 "nbformat": 4,
 "nbformat_minor": 5
}
