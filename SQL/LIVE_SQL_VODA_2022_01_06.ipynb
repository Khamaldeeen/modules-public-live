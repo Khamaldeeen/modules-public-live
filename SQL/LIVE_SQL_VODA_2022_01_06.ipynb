{
 "cells": [
  {
   "cell_type": "markdown",
   "id": "b57e48a6",
   "metadata": {},
   "source": [
    "# SQL Workshop\n",
    "### <font color=indigo>LIVE DEMOs</font>\n",
    "---"
   ]
  },
  {
   "cell_type": "markdown",
   "id": "eb6b19af",
   "metadata": {},
   "source": [
    "## Introductions"
   ]
  },
  {
   "cell_type": "markdown",
   "id": "ef904f1e",
   "metadata": {},
   "source": [
    "\n",
    "## SQLite & Python"
   ]
  },
  {
   "cell_type": "markdown",
   "id": "f7f00098",
   "metadata": {},
   "source": [
    "## Using Pandas with SQL"
   ]
  },
  {
   "cell_type": "markdown",
   "id": "8c23eb5c",
   "metadata": {},
   "source": [
    "### A Querying Template"
   ]
  },
  {
   "cell_type": "markdown",
   "id": "71302206",
   "metadata": {},
   "source": [
    "---\n",
    "## Activity: Workbook I\n",
    "---"
   ]
  },
  {
   "cell_type": "markdown",
   "id": "df2b5011",
   "metadata": {},
   "source": [
    "## Review Activity I: Filtering"
   ]
  },
  {
   "cell_type": "markdown",
   "id": "7b1de303",
   "metadata": {},
   "source": [
    "## JOINs"
   ]
  },
  {
   "cell_type": "markdown",
   "id": "c82bd1e6",
   "metadata": {},
   "source": [
    "---\n",
    "## Activity: Workbook 2\n",
    "---"
   ]
  },
  {
   "cell_type": "markdown",
   "id": "116ff171",
   "metadata": {},
   "source": [
    "## Review Activity II: Linking Tables"
   ]
  },
  {
   "cell_type": "markdown",
   "id": "a68ffe9b",
   "metadata": {},
   "source": [
    "## Sub-Queries"
   ]
  },
  {
   "cell_type": "markdown",
   "id": "c4d737bc",
   "metadata": {},
   "source": [
    "---\n",
    "## Activity: Workbook 3\n",
    "---"
   ]
  }
 ],
 "metadata": {
  "kernelspec": {
   "display_name": "Python 3 (ipykernel)",
   "language": "python",
   "name": "python3"
  },
  "language_info": {
   "codemirror_mode": {
    "name": "ipython",
    "version": 3
   },
   "file_extension": ".py",
   "mimetype": "text/x-python",
   "name": "python",
   "nbconvert_exporter": "python",
   "pygments_lexer": "ipython3",
   "version": "3.9.7"
  }
 },
 "nbformat": 4,
 "nbformat_minor": 5
}
