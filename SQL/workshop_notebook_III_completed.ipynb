{
 "cells": [
  {
   "cell_type": "markdown",
   "id": "b553ab10",
   "metadata": {},
   "source": [
    "# SQL Workshop: Part III\n",
    "\n",
    "This part contains a set of challenges to help you practice using subqueries in SQLite. It has 3 challenges that will help you explore different applications of subqueries. Good luck! \n",
    "\n",
    "For your convenience here is Sakila's ERD:\n",
    "\n",
    "![sakila ERD](./SQLite3_Sakila_ERD.png)"
   ]
  },
  {
   "cell_type": "markdown",
   "id": "59e8ba18",
   "metadata": {},
   "source": [
    "### Challenge: Establishing a connection\n",
    "\n",
    "Establish a connection with the Sakila database file called `sqlite-sakila.db`."
   ]
  },
  {
   "cell_type": "code",
   "execution_count": null,
   "id": "f558d2d3",
   "metadata": {},
   "outputs": [],
   "source": [
    "# Your code here\n"
   ]
  },
  {
   "cell_type": "code",
   "execution_count": null,
   "id": "7e5334ec",
   "metadata": {},
   "outputs": [],
   "source": [
    "# Import create_engine from sqlalchemy to connect to the database\n",
    "from sqlalchemy import create_engine\n",
    "\n",
    "# Import pandas\n",
    "import pandas as pd\n",
    "\n",
    "# Create an engine to the database sqlite-sakila.db\n",
    "engine = create_engine(f\"sqlite:///sqlite-sakila.db\")\n",
    "\n",
    "# Establish a connection to the database\n",
    "conn = engine.connect()"
   ]
  },
  {
   "cell_type": "markdown",
   "id": "4755952b",
   "metadata": {},
   "source": [
    "### Challenge: Subqueries I\n",
    "\n",
    "Print out titles of films that are longer than a film called \"ACADEMY DINOSAUR\" "
   ]
  },
  {
   "cell_type": "code",
   "execution_count": null,
   "id": "2d1c2b7b",
   "metadata": {},
   "outputs": [],
   "source": [
    "# Your code here\n"
   ]
  },
  {
   "cell_type": "code",
   "execution_count": null,
   "id": "e6bfc5e3",
   "metadata": {},
   "outputs": [],
   "source": [
    "# Writing an SQL query \n",
    "query = \"\"\"SELECT title \n",
    "FROM film \n",
    "WHERE length > (SELECT length FROM film WHERE title = \"ACADEMY DINOSAUR\")\"\"\"\n",
    "\n",
    "# Querying the database\n",
    "pd.read_sql_query(query, conn)"
   ]
  },
  {
   "cell_type": "markdown",
   "id": "ac49fa7e",
   "metadata": {},
   "source": [
    "### Challenge: Subqueries II\n",
    "\n",
    "Print out payment IDs of payments that are greater than the average payment."
   ]
  },
  {
   "cell_type": "code",
   "execution_count": null,
   "id": "05a78353",
   "metadata": {},
   "outputs": [],
   "source": [
    "# Your code here\n"
   ]
  },
  {
   "cell_type": "code",
   "execution_count": null,
   "id": "bb4c6b2b",
   "metadata": {},
   "outputs": [],
   "source": [
    "# Writing an SQL query \n",
    "query = \"\"\"SELECT payment_id\n",
    "FROM payment \n",
    "WHERE amount > (SELECT AVG(amount) FROM payment)\"\"\"\n",
    "\n",
    "# Querying the database\n",
    "pd.read_sql_query(query, conn)"
   ]
  },
  {
   "cell_type": "markdown",
   "id": "7803526f",
   "metadata": {},
   "source": [
    "### Challenge: Subqueries III\n",
    "\n",
    "**Without using JOINs** print out the payment IDs processed by Mike Hillyer."
   ]
  },
  {
   "cell_type": "code",
   "execution_count": null,
   "id": "8ef5397d",
   "metadata": {},
   "outputs": [],
   "source": [
    "# Your code here\n"
   ]
  },
  {
   "cell_type": "code",
   "execution_count": null,
   "id": "9b512526",
   "metadata": {},
   "outputs": [],
   "source": [
    "# Writing an SQL query \n",
    "query = \"\"\"SELECT payment_id\n",
    "FROM payment\n",
    "WHERE staff_id = (SELECT staff_id FROM staff WHERE first_name = 'Mike' AND last_name = 'Hillyer')\"\"\"\n",
    "\n",
    "# Querying the database\n",
    "pd.read_sql_query(query, conn)"
   ]
  },
  {
   "cell_type": "markdown",
   "id": "5e5b7428",
   "metadata": {},
   "source": [
    "### Challenge: Subqueries IV\n",
    "\n",
    "Find all payments (their IDs and amounts) that were processed by a staff member that processed the payment with an ID 574. "
   ]
  },
  {
   "cell_type": "code",
   "execution_count": null,
   "id": "7e29d975",
   "metadata": {},
   "outputs": [],
   "source": [
    "# Your code here\n"
   ]
  },
  {
   "cell_type": "code",
   "execution_count": null,
   "id": "a4063fa3",
   "metadata": {},
   "outputs": [],
   "source": [
    "# Writing an SQL query \n",
    "query = \"\"\"SELECT payment_id, amount\n",
    "FROM payment\n",
    "WHERE staff_id = (SELECT staff_id FROM payment WHERE payment_id = 574)\"\"\"\n",
    "\n",
    "# Querying the database\n",
    "pd.read_sql_query(query, conn)"
   ]
  },
  {
   "cell_type": "markdown",
   "id": "69d60390",
   "metadata": {},
   "source": [
    "### Challenge: Subqueries V\n",
    "\n",
    "Among those payments that are higher than the average, find those processed by Mike Hillyer. Print payment IDs and the full name of the staff member to make sure you did it right.   "
   ]
  },
  {
   "cell_type": "code",
   "execution_count": null,
   "id": "48fb8600",
   "metadata": {},
   "outputs": [],
   "source": [
    "# Your code here\n"
   ]
  },
  {
   "cell_type": "code",
   "execution_count": null,
   "id": "74a71fcb",
   "metadata": {},
   "outputs": [],
   "source": [
    "# Writing an SQL query \n",
    "query = \"\"\"SELECT pay.payment_id, stff.first_name, stff.last_name\n",
    "FROM payment AS pay\n",
    "INNER JOIN staff AS stff\n",
    "    ON stff.staff_id = pay.staff_id\n",
    "WHERE pay.amount > (SELECT AVG(amount) FROM payment) \n",
    "AND (stff.first_name = 'Mike' AND stff.last_name = 'Hillyer')\"\"\"\n",
    "\n",
    "# Querying the database\n",
    "pd.read_sql_query(query, conn)"
   ]
  },
  {
   "cell_type": "markdown",
   "id": "34c995b7",
   "metadata": {},
   "source": [
    "### Challenge: Subqueries VI\n",
    "\n",
    "**Part I**\n",
    "\n",
    "Print out those film titles that are in the store with an ID 1, that are longer the average length, that have a replacement cost higher than average, and that are of rating 'PG' or 'R'.\n",
    "\n",
    "*Hint*: pay attention to the possible duplicates in the final table. You can search for a solution to delete duplicates.\n",
    "\n",
    "**Part II**\n",
    "\n",
    "Find the average duration of films from the table you created in **Part I** and print only the titles of films that are shorter than the average length in that table. Solve this task in one query (without searching for the average in a separate one)."
   ]
  },
  {
   "cell_type": "code",
   "execution_count": null,
   "id": "e79b31e4",
   "metadata": {},
   "outputs": [],
   "source": [
    "# Your code here\n"
   ]
  },
  {
   "cell_type": "code",
   "execution_count": null,
   "id": "3e071e99",
   "metadata": {},
   "outputs": [],
   "source": [
    "# ----- Part I -----\n",
    "\n",
    "# Writing an SQL query \n",
    "query = \"\"\"SELECT DISTINCT flm.title\n",
    "FROM film AS flm\n",
    "INNER JOIN inventory AS inv\n",
    "    ON flm.film_id = inv.film_id\n",
    "WHERE flm.length > (SELECT AVG(length) FROM film)\n",
    "AND flm.replacement_cost > (SELECT AVG(replacement_cost) FROM film)\n",
    "AND (inv.store_id = 1)\n",
    "AND (flm.rating = 'PG' OR flm.rating = 'R')\"\"\"\n",
    "\n",
    "# We used DISTINCT here as otherwise we see a lot of duplicated in the film titles\n",
    "# due to inventory lists\n",
    "\n",
    "# Querying the database\n",
    "pd.read_sql_query(query, conn)"
   ]
  },
  {
   "cell_type": "code",
   "execution_count": null,
   "id": "500accd6",
   "metadata": {},
   "outputs": [],
   "source": [
    "# ----- Part II -----\n",
    "\n",
    "# Writing an SQL query \n",
    "query = \"\"\"SELECT title \n",
    "FROM film \n",
    "WHERE length < (SELECT AVG(length)\n",
    "    FROM film AS flm\n",
    "    INNER JOIN inventory AS inv\n",
    "        ON flm.film_id = inv.film_id\n",
    "    WHERE flm.length > (SELECT AVG(length) FROM film)\n",
    "    AND flm.replacement_cost > (SELECT AVG(replacement_cost) FROM film)\n",
    "    AND (inv.store_id = 1)\n",
    "    AND (flm.rating = 'PG' OR flm.rating = 'R'))\"\"\"\n",
    "\n",
    "# Querying the database\n",
    "pd.read_sql_query(query, conn)"
   ]
  }
 ],
 "metadata": {
  "kernelspec": {
   "display_name": "Python 3 (ipykernel)",
   "language": "python",
   "name": "python3"
  },
  "language_info": {
   "codemirror_mode": {
    "name": "ipython",
    "version": 3
   },
   "file_extension": ".py",
   "mimetype": "text/x-python",
   "name": "python",
   "nbconvert_exporter": "python",
   "pygments_lexer": "ipython3",
   "version": "3.9.7"
  }
 },
 "nbformat": 4,
 "nbformat_minor": 5
}
