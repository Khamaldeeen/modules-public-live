{
 "cells": [
  {
   "cell_type": "markdown",
   "id": "20d36f7e",
   "metadata": {},
   "source": [
    "# SQL Workshop: Part II\n",
    "\n",
    "Welcome to the second part of this workshop. Here we will practice and explore more about JOINs. This notebook is structured in a way similar to the previous one and consists of challenges. The challenges will rise in difficulty as you go along. Good luck! \n",
    "\n",
    "For your convenience here is Sakila's ERD:\n",
    "\n",
    "![sakila ERD](./SQLite3_Sakila_ERD.png)"
   ]
  },
  {
   "cell_type": "markdown",
   "id": "60f163ee",
   "metadata": {},
   "source": [
    "### Challenge: Establishing a connection\n",
    "\n",
    "Establish a connection with the Sakila database file called `sqlite-sakila.db`. "
   ]
  },
  {
   "cell_type": "code",
   "execution_count": null,
   "id": "ec8a67ec",
   "metadata": {},
   "outputs": [],
   "source": [
    "# Your code here\n"
   ]
  },
  {
   "cell_type": "code",
   "execution_count": 2,
   "id": "2fd4e992",
   "metadata": {},
   "outputs": [],
   "source": [
    "# Import create_engine from sqlalchemy to connect to the database\n",
    "from sqlalchemy import create_engine\n",
    "\n",
    "# Import pandas\n",
    "import pandas as pd\n",
    "\n",
    "# Create an engine to the database sqlite-sakila.db\n",
    "engine = create_engine(f\"sqlite:///sqlite-sakila.db\")\n",
    "\n",
    "# Establish a connection to the database\n",
    "conn = engine.connect()"
   ]
  },
  {
   "cell_type": "markdown",
   "id": "4fee9438",
   "metadata": {},
   "source": [
    "### Challenge: JOINs I\n",
    "\n",
    "Print out film titles and their inventory IDs. "
   ]
  },
  {
   "cell_type": "code",
   "execution_count": null,
   "id": "9ecc383d",
   "metadata": {},
   "outputs": [],
   "source": [
    "# Your code here\n"
   ]
  },
  {
   "cell_type": "code",
   "execution_count": 4,
   "id": "1b16cfb7",
   "metadata": {},
   "outputs": [
    {
     "data": {
      "text/html": [
       "<div>\n",
       "<style scoped>\n",
       "    .dataframe tbody tr th:only-of-type {\n",
       "        vertical-align: middle;\n",
       "    }\n",
       "\n",
       "    .dataframe tbody tr th {\n",
       "        vertical-align: top;\n",
       "    }\n",
       "\n",
       "    .dataframe thead th {\n",
       "        text-align: right;\n",
       "    }\n",
       "</style>\n",
       "<table border=\"1\" class=\"dataframe\">\n",
       "  <thead>\n",
       "    <tr style=\"text-align: right;\">\n",
       "      <th></th>\n",
       "      <th>title</th>\n",
       "      <th>inventory_id</th>\n",
       "    </tr>\n",
       "  </thead>\n",
       "  <tbody>\n",
       "    <tr>\n",
       "      <th>0</th>\n",
       "      <td>ACADEMY DINOSAUR</td>\n",
       "      <td>1.0</td>\n",
       "    </tr>\n",
       "    <tr>\n",
       "      <th>1</th>\n",
       "      <td>ACADEMY DINOSAUR</td>\n",
       "      <td>2.0</td>\n",
       "    </tr>\n",
       "    <tr>\n",
       "      <th>2</th>\n",
       "      <td>ACADEMY DINOSAUR</td>\n",
       "      <td>3.0</td>\n",
       "    </tr>\n",
       "    <tr>\n",
       "      <th>3</th>\n",
       "      <td>ACADEMY DINOSAUR</td>\n",
       "      <td>4.0</td>\n",
       "    </tr>\n",
       "    <tr>\n",
       "      <th>4</th>\n",
       "      <td>ACADEMY DINOSAUR</td>\n",
       "      <td>5.0</td>\n",
       "    </tr>\n",
       "    <tr>\n",
       "      <th>...</th>\n",
       "      <td>...</td>\n",
       "      <td>...</td>\n",
       "    </tr>\n",
       "    <tr>\n",
       "      <th>4618</th>\n",
       "      <td>ZORRO ARK</td>\n",
       "      <td>4577.0</td>\n",
       "    </tr>\n",
       "    <tr>\n",
       "      <th>4619</th>\n",
       "      <td>ZORRO ARK</td>\n",
       "      <td>4578.0</td>\n",
       "    </tr>\n",
       "    <tr>\n",
       "      <th>4620</th>\n",
       "      <td>ZORRO ARK</td>\n",
       "      <td>4579.0</td>\n",
       "    </tr>\n",
       "    <tr>\n",
       "      <th>4621</th>\n",
       "      <td>ZORRO ARK</td>\n",
       "      <td>4580.0</td>\n",
       "    </tr>\n",
       "    <tr>\n",
       "      <th>4622</th>\n",
       "      <td>ZORRO ARK</td>\n",
       "      <td>4581.0</td>\n",
       "    </tr>\n",
       "  </tbody>\n",
       "</table>\n",
       "<p>4623 rows × 2 columns</p>\n",
       "</div>"
      ],
      "text/plain": [
       "                 title  inventory_id\n",
       "0     ACADEMY DINOSAUR           1.0\n",
       "1     ACADEMY DINOSAUR           2.0\n",
       "2     ACADEMY DINOSAUR           3.0\n",
       "3     ACADEMY DINOSAUR           4.0\n",
       "4     ACADEMY DINOSAUR           5.0\n",
       "...                ...           ...\n",
       "4618         ZORRO ARK        4577.0\n",
       "4619         ZORRO ARK        4578.0\n",
       "4620         ZORRO ARK        4579.0\n",
       "4621         ZORRO ARK        4580.0\n",
       "4622         ZORRO ARK        4581.0\n",
       "\n",
       "[4623 rows x 2 columns]"
      ]
     },
     "execution_count": 4,
     "metadata": {},
     "output_type": "execute_result"
    }
   ],
   "source": [
    "# Writing an SQL query \n",
    "query = \"\"\"SELECT flm.title, inv.inventory_id\n",
    "FROM film AS flm\n",
    "LEFT JOIN inventory AS inv\n",
    "    ON flm.film_id = inv.film_id\"\"\"\n",
    "\n",
    "# Querying the database\n",
    "pd.read_sql_query(query, conn)"
   ]
  },
  {
   "cell_type": "markdown",
   "id": "62a2ea09",
   "metadata": {},
   "source": [
    "### Challenge: JOINs II\n",
    "\n",
    "Print out inventory IDs and the address IDs of the stores they are stored in. "
   ]
  },
  {
   "cell_type": "code",
   "execution_count": null,
   "id": "6b45c95f",
   "metadata": {},
   "outputs": [],
   "source": [
    "# Your code here\n"
   ]
  },
  {
   "cell_type": "code",
   "execution_count": 8,
   "id": "2d595414",
   "metadata": {},
   "outputs": [
    {
     "data": {
      "text/html": [
       "<div>\n",
       "<style scoped>\n",
       "    .dataframe tbody tr th:only-of-type {\n",
       "        vertical-align: middle;\n",
       "    }\n",
       "\n",
       "    .dataframe tbody tr th {\n",
       "        vertical-align: top;\n",
       "    }\n",
       "\n",
       "    .dataframe thead th {\n",
       "        text-align: right;\n",
       "    }\n",
       "</style>\n",
       "<table border=\"1\" class=\"dataframe\">\n",
       "  <thead>\n",
       "    <tr style=\"text-align: right;\">\n",
       "      <th></th>\n",
       "      <th>inventory_id</th>\n",
       "      <th>store_id</th>\n",
       "    </tr>\n",
       "  </thead>\n",
       "  <tbody>\n",
       "    <tr>\n",
       "      <th>0</th>\n",
       "      <td>1</td>\n",
       "      <td>1</td>\n",
       "    </tr>\n",
       "    <tr>\n",
       "      <th>1</th>\n",
       "      <td>2</td>\n",
       "      <td>1</td>\n",
       "    </tr>\n",
       "    <tr>\n",
       "      <th>2</th>\n",
       "      <td>3</td>\n",
       "      <td>1</td>\n",
       "    </tr>\n",
       "    <tr>\n",
       "      <th>3</th>\n",
       "      <td>4</td>\n",
       "      <td>1</td>\n",
       "    </tr>\n",
       "    <tr>\n",
       "      <th>4</th>\n",
       "      <td>5</td>\n",
       "      <td>2</td>\n",
       "    </tr>\n",
       "    <tr>\n",
       "      <th>...</th>\n",
       "      <td>...</td>\n",
       "      <td>...</td>\n",
       "    </tr>\n",
       "    <tr>\n",
       "      <th>4576</th>\n",
       "      <td>4577</td>\n",
       "      <td>1</td>\n",
       "    </tr>\n",
       "    <tr>\n",
       "      <th>4577</th>\n",
       "      <td>4578</td>\n",
       "      <td>2</td>\n",
       "    </tr>\n",
       "    <tr>\n",
       "      <th>4578</th>\n",
       "      <td>4579</td>\n",
       "      <td>2</td>\n",
       "    </tr>\n",
       "    <tr>\n",
       "      <th>4579</th>\n",
       "      <td>4580</td>\n",
       "      <td>2</td>\n",
       "    </tr>\n",
       "    <tr>\n",
       "      <th>4580</th>\n",
       "      <td>4581</td>\n",
       "      <td>2</td>\n",
       "    </tr>\n",
       "  </tbody>\n",
       "</table>\n",
       "<p>4581 rows × 2 columns</p>\n",
       "</div>"
      ],
      "text/plain": [
       "      inventory_id  store_id\n",
       "0                1         1\n",
       "1                2         1\n",
       "2                3         1\n",
       "3                4         1\n",
       "4                5         2\n",
       "...            ...       ...\n",
       "4576          4577         1\n",
       "4577          4578         2\n",
       "4578          4579         2\n",
       "4579          4580         2\n",
       "4580          4581         2\n",
       "\n",
       "[4581 rows x 2 columns]"
      ]
     },
     "execution_count": 8,
     "metadata": {},
     "output_type": "execute_result"
    }
   ],
   "source": [
    "# Writing an SQL query \n",
    "query = \"\"\"SELECT inv.inventory_id, str.store_id\n",
    "FROM inventory AS inv\n",
    "LEFT JOIN store AS str\n",
    "    ON str.store_id = inv.store_id\"\"\"\n",
    "\n",
    "# Querying the database\n",
    "pd.read_sql_query(query, conn)"
   ]
  },
  {
   "cell_type": "markdown",
   "id": "63020bbe",
   "metadata": {},
   "source": [
    "### Challenge: JOINs III\n",
    "\n",
    "Print out all the payment amounts with the first and last names of our staff members who processed them."
   ]
  },
  {
   "cell_type": "code",
   "execution_count": null,
   "id": "a90d4b88",
   "metadata": {},
   "outputs": [],
   "source": [
    "# Your code here\n"
   ]
  },
  {
   "cell_type": "code",
   "execution_count": 10,
   "id": "e1ba1255",
   "metadata": {},
   "outputs": [
    {
     "data": {
      "text/html": [
       "<div>\n",
       "<style scoped>\n",
       "    .dataframe tbody tr th:only-of-type {\n",
       "        vertical-align: middle;\n",
       "    }\n",
       "\n",
       "    .dataframe tbody tr th {\n",
       "        vertical-align: top;\n",
       "    }\n",
       "\n",
       "    .dataframe thead th {\n",
       "        text-align: right;\n",
       "    }\n",
       "</style>\n",
       "<table border=\"1\" class=\"dataframe\">\n",
       "  <thead>\n",
       "    <tr style=\"text-align: right;\">\n",
       "      <th></th>\n",
       "      <th>first_name</th>\n",
       "      <th>last_name</th>\n",
       "      <th>amount</th>\n",
       "    </tr>\n",
       "  </thead>\n",
       "  <tbody>\n",
       "    <tr>\n",
       "      <th>0</th>\n",
       "      <td>Mike</td>\n",
       "      <td>Hillyer</td>\n",
       "      <td>2.99</td>\n",
       "    </tr>\n",
       "    <tr>\n",
       "      <th>1</th>\n",
       "      <td>Mike</td>\n",
       "      <td>Hillyer</td>\n",
       "      <td>0.99</td>\n",
       "    </tr>\n",
       "    <tr>\n",
       "      <th>2</th>\n",
       "      <td>Mike</td>\n",
       "      <td>Hillyer</td>\n",
       "      <td>5.99</td>\n",
       "    </tr>\n",
       "    <tr>\n",
       "      <th>3</th>\n",
       "      <td>Jon</td>\n",
       "      <td>Stephens</td>\n",
       "      <td>0.99</td>\n",
       "    </tr>\n",
       "    <tr>\n",
       "      <th>4</th>\n",
       "      <td>Jon</td>\n",
       "      <td>Stephens</td>\n",
       "      <td>9.99</td>\n",
       "    </tr>\n",
       "    <tr>\n",
       "      <th>...</th>\n",
       "      <td>...</td>\n",
       "      <td>...</td>\n",
       "      <td>...</td>\n",
       "    </tr>\n",
       "    <tr>\n",
       "      <th>16044</th>\n",
       "      <td>Mike</td>\n",
       "      <td>Hillyer</td>\n",
       "      <td>4.99</td>\n",
       "    </tr>\n",
       "    <tr>\n",
       "      <th>16045</th>\n",
       "      <td>Mike</td>\n",
       "      <td>Hillyer</td>\n",
       "      <td>1.99</td>\n",
       "    </tr>\n",
       "    <tr>\n",
       "      <th>16046</th>\n",
       "      <td>Jon</td>\n",
       "      <td>Stephens</td>\n",
       "      <td>8.99</td>\n",
       "    </tr>\n",
       "    <tr>\n",
       "      <th>16047</th>\n",
       "      <td>Jon</td>\n",
       "      <td>Stephens</td>\n",
       "      <td>2.99</td>\n",
       "    </tr>\n",
       "    <tr>\n",
       "      <th>16048</th>\n",
       "      <td>Jon</td>\n",
       "      <td>Stephens</td>\n",
       "      <td>2.99</td>\n",
       "    </tr>\n",
       "  </tbody>\n",
       "</table>\n",
       "<p>16049 rows × 3 columns</p>\n",
       "</div>"
      ],
      "text/plain": [
       "      first_name last_name  amount\n",
       "0           Mike   Hillyer    2.99\n",
       "1           Mike   Hillyer    0.99\n",
       "2           Mike   Hillyer    5.99\n",
       "3            Jon  Stephens    0.99\n",
       "4            Jon  Stephens    9.99\n",
       "...          ...       ...     ...\n",
       "16044       Mike   Hillyer    4.99\n",
       "16045       Mike   Hillyer    1.99\n",
       "16046        Jon  Stephens    8.99\n",
       "16047        Jon  Stephens    2.99\n",
       "16048        Jon  Stephens    2.99\n",
       "\n",
       "[16049 rows x 3 columns]"
      ]
     },
     "execution_count": 10,
     "metadata": {},
     "output_type": "execute_result"
    }
   ],
   "source": [
    "# Writing an SQL query \n",
    "query = \"\"\"SELECT stf.first_name, stf.last_name, pym.amount\n",
    "FROM staff AS stf\n",
    "JOIN payment AS pym\n",
    "    ON stf.staff_id = pym.staff_id\"\"\"\n",
    "\n",
    "# Querying the database\n",
    "pd.read_sql_query(query, conn)"
   ]
  },
  {
   "cell_type": "markdown",
   "id": "2f2d3470",
   "metadata": {},
   "source": [
    "### Challenge: JOINs IV\n",
    "\n",
    "Print out the film title that has an inventory ID of 3456."
   ]
  },
  {
   "cell_type": "code",
   "execution_count": null,
   "id": "8833f24d",
   "metadata": {},
   "outputs": [],
   "source": [
    "# Your code here\n"
   ]
  },
  {
   "cell_type": "code",
   "execution_count": 6,
   "id": "fd412990",
   "metadata": {},
   "outputs": [
    {
     "data": {
      "text/html": [
       "<div>\n",
       "<style scoped>\n",
       "    .dataframe tbody tr th:only-of-type {\n",
       "        vertical-align: middle;\n",
       "    }\n",
       "\n",
       "    .dataframe tbody tr th {\n",
       "        vertical-align: top;\n",
       "    }\n",
       "\n",
       "    .dataframe thead th {\n",
       "        text-align: right;\n",
       "    }\n",
       "</style>\n",
       "<table border=\"1\" class=\"dataframe\">\n",
       "  <thead>\n",
       "    <tr style=\"text-align: right;\">\n",
       "      <th></th>\n",
       "      <th>title</th>\n",
       "      <th>inv_id</th>\n",
       "    </tr>\n",
       "  </thead>\n",
       "  <tbody>\n",
       "    <tr>\n",
       "      <th>0</th>\n",
       "      <td>SAINTS BRIDE</td>\n",
       "      <td>3456</td>\n",
       "    </tr>\n",
       "  </tbody>\n",
       "</table>\n",
       "</div>"
      ],
      "text/plain": [
       "          title  inv_id\n",
       "0  SAINTS BRIDE    3456"
      ]
     },
     "execution_count": 6,
     "metadata": {},
     "output_type": "execute_result"
    }
   ],
   "source": [
    "# Writing an SQL query \n",
    "query = \"\"\"SELECT flm.title AS title, inv.inventory_id AS inv_id\n",
    "FROM film AS flm\n",
    "LEFT JOIN inventory AS inv\n",
    "    ON flm.film_id = inv.film_id\n",
    "WHERE inv_id = 3456\"\"\"\n",
    "\n",
    "# Querying the database\n",
    "pd.read_sql_query(query, conn)"
   ]
  },
  {
   "cell_type": "markdown",
   "id": "6d62cb9f",
   "metadata": {},
   "source": [
    "### Challenge: JOINs V\n",
    "\n",
    "Print out all the inventory IDs of films rated \"PG\"."
   ]
  },
  {
   "cell_type": "code",
   "execution_count": null,
   "id": "197a29aa",
   "metadata": {},
   "outputs": [],
   "source": [
    "# Your code here\n"
   ]
  },
  {
   "cell_type": "code",
   "execution_count": 11,
   "id": "0a688a30",
   "metadata": {},
   "outputs": [
    {
     "data": {
      "text/html": [
       "<div>\n",
       "<style scoped>\n",
       "    .dataframe tbody tr th:only-of-type {\n",
       "        vertical-align: middle;\n",
       "    }\n",
       "\n",
       "    .dataframe tbody tr th {\n",
       "        vertical-align: top;\n",
       "    }\n",
       "\n",
       "    .dataframe thead th {\n",
       "        text-align: right;\n",
       "    }\n",
       "</style>\n",
       "<table border=\"1\" class=\"dataframe\">\n",
       "  <thead>\n",
       "    <tr style=\"text-align: right;\">\n",
       "      <th></th>\n",
       "      <th>title</th>\n",
       "    </tr>\n",
       "  </thead>\n",
       "  <tbody>\n",
       "    <tr>\n",
       "      <th>0</th>\n",
       "      <td>1.0</td>\n",
       "    </tr>\n",
       "    <tr>\n",
       "      <th>1</th>\n",
       "      <td>2.0</td>\n",
       "    </tr>\n",
       "    <tr>\n",
       "      <th>2</th>\n",
       "      <td>3.0</td>\n",
       "    </tr>\n",
       "    <tr>\n",
       "      <th>3</th>\n",
       "      <td>4.0</td>\n",
       "    </tr>\n",
       "    <tr>\n",
       "      <th>4</th>\n",
       "      <td>5.0</td>\n",
       "    </tr>\n",
       "    <tr>\n",
       "      <th>...</th>\n",
       "      <td>...</td>\n",
       "    </tr>\n",
       "    <tr>\n",
       "      <th>930</th>\n",
       "      <td>4538.0</td>\n",
       "    </tr>\n",
       "    <tr>\n",
       "      <th>931</th>\n",
       "      <td>4539.0</td>\n",
       "    </tr>\n",
       "    <tr>\n",
       "      <th>932</th>\n",
       "      <td>4540.0</td>\n",
       "    </tr>\n",
       "    <tr>\n",
       "      <th>933</th>\n",
       "      <td>4541.0</td>\n",
       "    </tr>\n",
       "    <tr>\n",
       "      <th>934</th>\n",
       "      <td>4542.0</td>\n",
       "    </tr>\n",
       "  </tbody>\n",
       "</table>\n",
       "<p>935 rows × 1 columns</p>\n",
       "</div>"
      ],
      "text/plain": [
       "      title\n",
       "0       1.0\n",
       "1       2.0\n",
       "2       3.0\n",
       "3       4.0\n",
       "4       5.0\n",
       "..      ...\n",
       "930  4538.0\n",
       "931  4539.0\n",
       "932  4540.0\n",
       "933  4541.0\n",
       "934  4542.0\n",
       "\n",
       "[935 rows x 1 columns]"
      ]
     },
     "execution_count": 11,
     "metadata": {},
     "output_type": "execute_result"
    }
   ],
   "source": [
    "# Writing an SQL query \n",
    "query = \"\"\"SELECT inv.inventory_id AS title\n",
    "FROM film AS flm\n",
    "LEFT JOIN inventory AS inv\n",
    "    ON flm.film_id = inv.film_id\n",
    "WHERE flm.rating = 'PG'\"\"\"\n",
    "\n",
    "# Querying the database\n",
    "pd.read_sql_query(query, conn)"
   ]
  },
  {
   "cell_type": "markdown",
   "id": "ae7832b7",
   "metadata": {},
   "source": [
    "### Challenge: JOINs VI\n",
    "\n",
    "Find the average payment amount processed by our staff member called Mike Hillyer."
   ]
  },
  {
   "cell_type": "code",
   "execution_count": null,
   "id": "843ce5cf",
   "metadata": {},
   "outputs": [],
   "source": [
    "# Your code here\n"
   ]
  },
  {
   "cell_type": "code",
   "execution_count": 16,
   "id": "ac140d4e",
   "metadata": {},
   "outputs": [
    {
     "data": {
      "text/html": [
       "<div>\n",
       "<style scoped>\n",
       "    .dataframe tbody tr th:only-of-type {\n",
       "        vertical-align: middle;\n",
       "    }\n",
       "\n",
       "    .dataframe tbody tr th {\n",
       "        vertical-align: top;\n",
       "    }\n",
       "\n",
       "    .dataframe thead th {\n",
       "        text-align: right;\n",
       "    }\n",
       "</style>\n",
       "<table border=\"1\" class=\"dataframe\">\n",
       "  <thead>\n",
       "    <tr style=\"text-align: right;\">\n",
       "      <th></th>\n",
       "      <th>mean_pay</th>\n",
       "    </tr>\n",
       "  </thead>\n",
       "  <tbody>\n",
       "    <tr>\n",
       "      <th>0</th>\n",
       "      <td>4.156568</td>\n",
       "    </tr>\n",
       "  </tbody>\n",
       "</table>\n",
       "</div>"
      ],
      "text/plain": [
       "   mean_pay\n",
       "0  4.156568"
      ]
     },
     "execution_count": 16,
     "metadata": {},
     "output_type": "execute_result"
    }
   ],
   "source": [
    "# Writing an SQL query \n",
    "query = \"\"\"SELECT AVG(pym.amount) AS mean_pay\n",
    "FROM staff AS stf\n",
    "LEFT JOIN payment AS pym\n",
    "    ON stf.staff_id = pym.staff_id\n",
    "WHERE stf.last_name = 'Hillyer' AND stf.first_name = 'Mike'\"\"\"\n",
    "\n",
    "# AND stf.first_name = 'Mike' is used to account for the situation where\n",
    "# we might have had several people with the last name Hillyer\n",
    "\n",
    "# Querying the database\n",
    "pd.read_sql_query(query, conn)"
   ]
  },
  {
   "cell_type": "markdown",
   "id": "9c93ecef",
   "metadata": {},
   "source": [
    "### Challenge: JOINs VII\n",
    "\n",
    "Find the average length of the films from our second store (ID = 2) that are rated \"G\"."
   ]
  },
  {
   "cell_type": "code",
   "execution_count": null,
   "id": "fe573e20",
   "metadata": {},
   "outputs": [],
   "source": [
    "# Your code here\n"
   ]
  },
  {
   "cell_type": "code",
   "execution_count": 22,
   "id": "0f5f3d9a",
   "metadata": {},
   "outputs": [
    {
     "data": {
      "text/html": [
       "<div>\n",
       "<style scoped>\n",
       "    .dataframe tbody tr th:only-of-type {\n",
       "        vertical-align: middle;\n",
       "    }\n",
       "\n",
       "    .dataframe tbody tr th {\n",
       "        vertical-align: top;\n",
       "    }\n",
       "\n",
       "    .dataframe thead th {\n",
       "        text-align: right;\n",
       "    }\n",
       "</style>\n",
       "<table border=\"1\" class=\"dataframe\">\n",
       "  <thead>\n",
       "    <tr style=\"text-align: right;\">\n",
       "      <th></th>\n",
       "      <th>mean_length</th>\n",
       "    </tr>\n",
       "  </thead>\n",
       "  <tbody>\n",
       "    <tr>\n",
       "      <th>0</th>\n",
       "      <td>112.7733</td>\n",
       "    </tr>\n",
       "  </tbody>\n",
       "</table>\n",
       "</div>"
      ],
      "text/plain": [
       "   mean_length\n",
       "0     112.7733"
      ]
     },
     "execution_count": 22,
     "metadata": {},
     "output_type": "execute_result"
    }
   ],
   "source": [
    "# Writing an SQL query \n",
    "query = \"\"\"SELECT AVG(flm.length) AS mean_length\n",
    "FROM film AS flm\n",
    "LEFT JOIN inventory AS inv\n",
    "    ON inv.film_id = flm.film_id\n",
    "WHERE inv.store_id = 2 AND flm.rating = 'G'\"\"\"\n",
    "\n",
    "# Querying the database\n",
    "pd.read_sql_query(query, conn)"
   ]
  },
  {
   "cell_type": "markdown",
   "id": "759f90c8",
   "metadata": {},
   "source": [
    "### Challenge: JOINs VIII\n",
    "\n",
    "Pint out the inventory ID of the film with the highest replacement cost among films not rated \"NC-17\", shorter than 2 hours, and released in 2006. "
   ]
  },
  {
   "cell_type": "code",
   "execution_count": null,
   "id": "e3b638a3",
   "metadata": {},
   "outputs": [],
   "source": [
    "# Your code here\n"
   ]
  },
  {
   "cell_type": "code",
   "execution_count": 5,
   "id": "285ad091",
   "metadata": {},
   "outputs": [
    {
     "data": {
      "text/html": [
       "<div>\n",
       "<style scoped>\n",
       "    .dataframe tbody tr th:only-of-type {\n",
       "        vertical-align: middle;\n",
       "    }\n",
       "\n",
       "    .dataframe tbody tr th {\n",
       "        vertical-align: top;\n",
       "    }\n",
       "\n",
       "    .dataframe thead th {\n",
       "        text-align: right;\n",
       "    }\n",
       "</style>\n",
       "<table border=\"1\" class=\"dataframe\">\n",
       "  <thead>\n",
       "    <tr style=\"text-align: right;\">\n",
       "      <th></th>\n",
       "      <th>inventory_id</th>\n",
       "    </tr>\n",
       "  </thead>\n",
       "  <tbody>\n",
       "    <tr>\n",
       "      <th>0</th>\n",
       "      <td>368</td>\n",
       "    </tr>\n",
       "  </tbody>\n",
       "</table>\n",
       "</div>"
      ],
      "text/plain": [
       "   inventory_id\n",
       "0           368"
      ]
     },
     "execution_count": 5,
     "metadata": {},
     "output_type": "execute_result"
    }
   ],
   "source": [
    "# Writing an SQL query \n",
    "query = \"\"\"SELECT inv.inventory_id\n",
    "FROM film AS flm\n",
    "LEFT JOIN inventory AS inv\n",
    "    ON inv.film_id = flm.film_id\n",
    "WHERE flm.rating != 'NC-17' AND (flm.length < 120) AND (flm.release_year = 2006)\n",
    "ORDER BY flm.replacement_cost DESC\n",
    "LIMIT 1\"\"\"\n",
    "\n",
    "# Querying the database\n",
    "pd.read_sql_query(query, conn)"
   ]
  },
  {
   "cell_type": "code",
   "execution_count": null,
   "id": "93ed831d",
   "metadata": {},
   "outputs": [],
   "source": []
  }
 ],
 "metadata": {
  "kernelspec": {
   "display_name": "Python 3 (ipykernel)",
   "language": "python",
   "name": "python3"
  },
  "language_info": {
   "codemirror_mode": {
    "name": "ipython",
    "version": 3
   },
   "file_extension": ".py",
   "mimetype": "text/x-python",
   "name": "python",
   "nbconvert_exporter": "python",
   "pygments_lexer": "ipython3",
   "version": "3.9.7"
  }
 },
 "nbformat": 4,
 "nbformat_minor": 5
}
