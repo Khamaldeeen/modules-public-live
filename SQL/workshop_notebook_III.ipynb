{
 "cells": [
  {
   "cell_type": "markdown",
   "id": "b553ab10",
   "metadata": {},
   "source": [
    "# SQL Workshop: Part III\n",
    "\n",
    "This part contains a set of challenges to help you practice using subqueries in SQLite. It has 3 challenges that will help you explore different applications of subqueries. Good luck! \n",
    "\n",
    "For your convenience here is Sakila's ERD:\n",
    "\n",
    "![sakila ERD](./SQLite3_Sakila_ERD.png)"
   ]
  },
  {
   "cell_type": "markdown",
   "id": "59e8ba18",
   "metadata": {},
   "source": [
    "### Challenge: Establishing a connection\n",
    "\n",
    "Establish a connection with the Sakila database file called `sqlite-sakila.db`."
   ]
  },
  {
   "cell_type": "code",
   "execution_count": null,
   "id": "f558d2d3",
   "metadata": {},
   "outputs": [],
   "source": [
    "# Your code here\n"
   ]
  },
  {
   "cell_type": "markdown",
   "id": "4755952b",
   "metadata": {},
   "source": [
    "### Challenge: Subqueries I\n",
    "\n",
    "Print out titles of films that are longer than a film called \"ACADEMY DINOSAUR\" "
   ]
  },
  {
   "cell_type": "code",
   "execution_count": null,
   "id": "2d1c2b7b",
   "metadata": {},
   "outputs": [],
   "source": [
    "# Your code here\n"
   ]
  },
  {
   "cell_type": "markdown",
   "id": "ac49fa7e",
   "metadata": {},
   "source": [
    "### Challenge: Subqueries II\n",
    "\n",
    "Print out payment IDs of payments that are greater than the average payment."
   ]
  },
  {
   "cell_type": "code",
   "execution_count": null,
   "id": "05a78353",
   "metadata": {},
   "outputs": [],
   "source": [
    "# Your code here\n"
   ]
  },
  {
   "cell_type": "markdown",
   "id": "7803526f",
   "metadata": {},
   "source": [
    "### Challenge: Subqueries III\n",
    "\n",
    "**Without using JOINs** print out the payment IDs processed by Mike Hillyer."
   ]
  },
  {
   "cell_type": "code",
   "execution_count": null,
   "id": "8ef5397d",
   "metadata": {},
   "outputs": [],
   "source": [
    "# Your code here\n"
   ]
  },
  {
   "cell_type": "markdown",
   "id": "5e5b7428",
   "metadata": {},
   "source": [
    "### Challenge: Subqueries IV\n",
    "\n",
    "Find all payments (their IDs and amounts) that were processed by a staff member that processed the payment with an ID 574. "
   ]
  },
  {
   "cell_type": "code",
   "execution_count": null,
   "id": "7e29d975",
   "metadata": {},
   "outputs": [],
   "source": [
    "# Your code here\n"
   ]
  },
  {
   "cell_type": "markdown",
   "id": "69d60390",
   "metadata": {},
   "source": [
    "### Challenge: Subqueries V\n",
    "\n",
    "Among those payments that are higher than the average, find those processed by Mike Hillyer. Print payment IDs and the full name of the staff member to make sure you did it right.   "
   ]
  },
  {
   "cell_type": "code",
   "execution_count": null,
   "id": "48fb8600",
   "metadata": {},
   "outputs": [],
   "source": [
    "# Your code here\n"
   ]
  },
  {
   "cell_type": "markdown",
   "id": "34c995b7",
   "metadata": {},
   "source": [
    "### Challenge: Subqueries VI\n",
    "\n",
    "**Part I**\n",
    "\n",
    "Print out those film titles that are in the store with an ID 1, that are longer the average length, that have a replacement cost higher than average, and that are of rating 'PG' or 'R'.\n",
    "\n",
    "*Hint*: pay attention to the possible duplicates in the final table. You can search for a solution to delete duplicates.\n",
    "\n",
    "**Part II**\n",
    "\n",
    "Find the average duration of films from the table you created in **Part I** and print only the titles of films that are shorter than the average length in that table. Solve this task in one query (without searching for the average in a separate one)."
   ]
  },
  {
   "cell_type": "code",
   "execution_count": null,
   "id": "e79b31e4",
   "metadata": {},
   "outputs": [],
   "source": [
    "# Your code here\n"
   ]
  }
 ],
 "metadata": {
  "kernelspec": {
   "display_name": "Python 3",
   "language": "python",
   "name": "python3"
  },
  "language_info": {
   "codemirror_mode": {
    "name": "ipython",
    "version": 3
   },
   "file_extension": ".py",
   "mimetype": "text/x-python",
   "name": "python",
   "nbconvert_exporter": "python",
   "pygments_lexer": "ipython3",
   "version": "3.8.8"
  }
 },
 "nbformat": 4,
 "nbformat_minor": 5
}
