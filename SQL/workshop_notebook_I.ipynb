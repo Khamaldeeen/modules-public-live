{
 "cells": [
  {
   "cell_type": "markdown",
   "id": "20d36f7e",
   "metadata": {},
   "source": [
    "# SQL Workshop: Part I\n",
    "\n",
    "Welcome to the first hands-on part of your SQL workshop. In this part, we will be practicing what you have learned in the introduction. These challenges increase in complexity, going from easier ones to more difficult as you feel more and more comfortable with SQL. Good luck! \n",
    "\n",
    "For your convenience here is Sakila's ERD:\n",
    "\n",
    "![sakila ERD](./SQLite3_Sakila_ERD.png)"
   ]
  },
  {
   "cell_type": "markdown",
   "id": "60f163ee",
   "metadata": {},
   "source": [
    "### Challenge: Establishing a connection\n",
    "\n",
    "Establish a connection with the Sakila database file called `sqlite-sakila.db`. "
   ]
  },
  {
   "cell_type": "code",
   "execution_count": null,
   "id": "ec8a67ec",
   "metadata": {},
   "outputs": [],
   "source": [
    "# Your code here\n"
   ]
  },
  {
   "cell_type": "markdown",
   "id": "7cf8e9d3",
   "metadata": {},
   "source": [
    "# Selecting columns challenges\n",
    "\n",
    "### Challenge: Selecting columns I\n",
    "\n",
    "Extract a column with film titles from the table called `film`. "
   ]
  },
  {
   "cell_type": "code",
   "execution_count": null,
   "id": "918dc1ef",
   "metadata": {},
   "outputs": [],
   "source": [
    "# Your code here\n"
   ]
  },
  {
   "cell_type": "markdown",
   "id": "89441a7c",
   "metadata": {},
   "source": [
    "### Challenge: Selecting columns II\n",
    "\n",
    "Extract film titles, film durations, and film ratings from the table called `film`. "
   ]
  },
  {
   "cell_type": "code",
   "execution_count": null,
   "id": "976256e8",
   "metadata": {},
   "outputs": [],
   "source": [
    "# Your code here\n"
   ]
  },
  {
   "cell_type": "markdown",
   "id": "73336177",
   "metadata": {},
   "source": [
    "### Challenge: Selecting columns III\n",
    "\n",
    "Extract all columns from the table called `film`. "
   ]
  },
  {
   "cell_type": "code",
   "execution_count": null,
   "id": "da11be42",
   "metadata": {},
   "outputs": [],
   "source": [
    "# Your code here\n"
   ]
  },
  {
   "cell_type": "markdown",
   "id": "1776bd2b",
   "metadata": {},
   "source": [
    "### Challenge: Selecting columns IV\n",
    "\n",
    "Extract all columns from the table called `film`, but print only the first 3 rows. "
   ]
  },
  {
   "cell_type": "code",
   "execution_count": null,
   "id": "d4046174",
   "metadata": {},
   "outputs": [],
   "source": [
    "# Your code here\n"
   ]
  },
  {
   "cell_type": "markdown",
   "id": "caceea58",
   "metadata": {},
   "source": [
    "### Challenge: Selecting columns V\n",
    "\n",
    "Extract all columns from the table called `film`, but print only 3 rows, starting from the 10th row."
   ]
  },
  {
   "cell_type": "code",
   "execution_count": null,
   "id": "c591ea9b",
   "metadata": {},
   "outputs": [],
   "source": [
    "# Your code here\n"
   ]
  },
  {
   "cell_type": "markdown",
   "id": "1ffeddec",
   "metadata": {},
   "source": [
    "# Sorting challenges\n",
    "\n",
    "### Challenge: Sorting I\n",
    "\n",
    "Extract film titles and film durations, but sort the table by film duration. "
   ]
  },
  {
   "cell_type": "code",
   "execution_count": null,
   "id": "3415277a",
   "metadata": {},
   "outputs": [],
   "source": [
    "# Your code here\n"
   ]
  },
  {
   "cell_type": "markdown",
   "id": "f017be74",
   "metadata": {},
   "source": [
    "### Challenge: Sorting II\n",
    "\n",
    "Extract film titles and film durations, but print only the top-5 **shortest** films. "
   ]
  },
  {
   "cell_type": "code",
   "execution_count": null,
   "id": "7de2c6e0",
   "metadata": {},
   "outputs": [],
   "source": [
    "# Your code here\n"
   ]
  },
  {
   "cell_type": "markdown",
   "id": "06ae9ecf",
   "metadata": {},
   "source": [
    "### Challenge: Sorting III\n",
    "\n",
    "Extract film titles and film durations, but print only the top-5 **longest** films. "
   ]
  },
  {
   "cell_type": "code",
   "execution_count": null,
   "id": "60b75d93",
   "metadata": {},
   "outputs": [],
   "source": [
    "# Your code here\n"
   ]
  },
  {
   "cell_type": "markdown",
   "id": "5e2601df",
   "metadata": {},
   "source": [
    "# Filtering challenges\n",
    "\n",
    "### Challenge: Filtering I\n",
    "\n",
    "Extract film titles of films that have a replacement cost higher than 25 dollars. "
   ]
  },
  {
   "cell_type": "code",
   "execution_count": null,
   "id": "0a9e849b",
   "metadata": {},
   "outputs": [],
   "source": [
    "# Your code here\n"
   ]
  },
  {
   "cell_type": "markdown",
   "id": "2c5b1f35",
   "metadata": {},
   "source": [
    "### Challenge: Filtering II\n",
    "\n",
    "Extract film titles of films that have a have a \"PG-13\" rating **or** are longer than 2 hours."
   ]
  },
  {
   "cell_type": "code",
   "execution_count": null,
   "id": "f2748518",
   "metadata": {},
   "outputs": [],
   "source": [
    "# Your code here\n"
   ]
  },
  {
   "cell_type": "markdown",
   "id": "cdfec995",
   "metadata": {},
   "source": [
    "### Challenge: Filtering III\n",
    "\n",
    "Extract film titles of films that have a replacement cost higher than 25 dollars and that are from 1 to 2 hours long. "
   ]
  },
  {
   "cell_type": "code",
   "execution_count": null,
   "id": "f5382873",
   "metadata": {},
   "outputs": [],
   "source": [
    "# Your code here\n"
   ]
  },
  {
   "cell_type": "markdown",
   "id": "215fac44",
   "metadata": {},
   "source": [
    "### Challenge: Filtering IV\n",
    "\n",
    "Extract film titles of films that have a replacement cost **lower** than 10 dollars and that are from **2 to 3** hours long, but also have \"PG\" or \"PG-13\" rating."
   ]
  },
  {
   "cell_type": "code",
   "execution_count": null,
   "id": "dffe37ef",
   "metadata": {},
   "outputs": [],
   "source": [
    "# Your code here\n"
   ]
  },
  {
   "cell_type": "markdown",
   "id": "2708bf7c",
   "metadata": {},
   "source": [
    "### Challenge: Filtering V\n",
    "\n",
    "Extract titles of the 5 longest films that have a replacement cost between 10 and 25 dollars and that were released in 2006, but also have \"R\" or \"PG-13\" rating."
   ]
  },
  {
   "cell_type": "code",
   "execution_count": null,
   "id": "7036363e",
   "metadata": {},
   "outputs": [],
   "source": [
    "# Your code here\n"
   ]
  },
  {
   "cell_type": "markdown",
   "id": "23a5bd32",
   "metadata": {},
   "source": [
    "### Challenge: Filtering VI\n",
    "\n",
    "Find the title of the film with the lowest replacement cost that is:\n",
    "1. longer than 2 hours\n",
    "2. NOT rated \"R\" or \"NC-17\""
   ]
  },
  {
   "cell_type": "code",
   "execution_count": null,
   "id": "80b47959",
   "metadata": {},
   "outputs": [],
   "source": [
    "# Your code here\n"
   ]
  },
  {
   "cell_type": "markdown",
   "id": "dc5df48a",
   "metadata": {},
   "source": [
    "# Challenges with functions\n",
    "\n",
    "### Challenge: Functions I\n",
    "\n",
    "Find the average replacement cost of the films."
   ]
  },
  {
   "cell_type": "code",
   "execution_count": null,
   "id": "3d9ddb90",
   "metadata": {},
   "outputs": [],
   "source": [
    "# Your code here\n"
   ]
  },
  {
   "cell_type": "markdown",
   "id": "8db1c4a5",
   "metadata": {},
   "source": [
    "### Challenge: Functions II\n",
    "\n",
    "Find the average replacement cost of the films that have \"PG\" or \"R\" rating and last longer than 2,5 hours. "
   ]
  },
  {
   "cell_type": "code",
   "execution_count": null,
   "id": "61f05bcf",
   "metadata": {},
   "outputs": [],
   "source": [
    "# Your code here\n"
   ]
  },
  {
   "cell_type": "markdown",
   "id": "67c2fce8",
   "metadata": {},
   "source": [
    "### Challenge: Functions III\n",
    "\n",
    "Find the number of films that have a rental duration between 3 and 5, but also have a replacement cost of more than 15 dollars. "
   ]
  },
  {
   "cell_type": "code",
   "execution_count": null,
   "id": "dd474994",
   "metadata": {},
   "outputs": [],
   "source": [
    "# Your code here\n"
   ]
  },
  {
   "cell_type": "markdown",
   "id": "557a1611",
   "metadata": {},
   "source": [
    "### Challenge: Functions IV\n",
    "\n",
    "**Part I**: Search for films with a \"PG\" rating and print out the number of such films, their maximum, minimum and average length.\n",
    "\n",
    "**Part II**: Find the range of film lengths. You can do it by subtracting the minimum length from the maximum length. Print out maximum, minimum, average length and the length range."
   ]
  },
  {
   "cell_type": "code",
   "execution_count": null,
   "id": "296233d9",
   "metadata": {},
   "outputs": [],
   "source": [
    "# Your code here\n"
   ]
  }
 ],
 "metadata": {
  "kernelspec": {
   "display_name": "Python 3 (ipykernel)",
   "language": "python",
   "name": "python3"
  },
  "language_info": {
   "codemirror_mode": {
    "name": "ipython",
    "version": 3
   },
   "file_extension": ".py",
   "mimetype": "text/x-python",
   "name": "python",
   "nbconvert_exporter": "python",
   "pygments_lexer": "ipython3",
   "version": "3.9.7"
  }
 },
 "nbformat": 4,
 "nbformat_minor": 5
}
